{
  "cells": [
    {
      "cell_type": "markdown",
      "metadata": {
        "id": "view-in-github",
        "colab_type": "text"
      },
      "source": [
        "<a href=\"https://colab.research.google.com/github/JuanZapa7a/Medical-Image-Processing/blob/main/NB4-04%20Biomedical%20Imaging%20and%20Tensorflow_(II).ipynb\" target=\"_parent\"><img src=\"https://colab.research.google.com/assets/colab-badge.svg\" alt=\"Open In Colab\"/></a>"
      ]
    },
    {
      "cell_type": "markdown",
      "metadata": {
        "id": "kMcBkwa39ebW"
      },
      "source": [
        "# Biomedical Imaging and Tensorflow II:\n",
        "# Create a DataSet from TFDS"
      ]
    },
    {
      "cell_type": "markdown",
      "metadata": {
        "id": "Z9KGw_M40cGu"
      },
      "source": [
        "## 1. Introduction\n",
        "The previous lecture a modeled Fashion-MNIST data based on a ***``Keras dataset``*** was used. However, _`Keras does not provide biomedical images datasets for studying and practicing`_. Instead, TensorFlow provides TFDS. In this way, _`we can load data as a` [***`TensorFlow dataset (TFDS)`***](https://www.tensorflow.org/datasets) `and convert it into NumPy arrays for very easy processing`_.\n",
        "\n",
        "For this experiment, we load the _`colorectal_histology dataset`_ instead of Fashion-MNIST. Once the data is loaded and converted to NumPy, the input pipeline phases are the same as in the previous Lecture.\n",
        "\n",
        "### What is Colorectal Histology?\n",
        "\n",
        "Colorectal histology refers to the `microscopic study of tissue samples taken from the colon and rectum`. It is commonly used to diagnose and understand diseases affecting these areas, such as `colorectal cancer, inflammatory bowel disease (IBD), and other disorders`. The process involves examining tissue samples (biopsies) `under a microscope to observe cellular structures`, tissue architecture, and pathological features. **`Histopathologists`** identify abnormalities such as `cancerous cells, polyps, inflammation, or other changes indicative of disease`.\n",
        "\n",
        "### Purpose of Colorectal Histology\n",
        "\n",
        "The `primary goal` of colorectal histology is to **`diagnose diseases`** and **`assess tissue health`**. This method helps doctors determine:\n",
        "- Whether a patient has conditions like **[`colorectal cancer`](https://www.mayoclinic.org/diseases-conditions/colon-cancer/symptoms-causes/syc-20353669)** or **[`Crohn's disease`](https://www.nhs.uk/conditions/crohns-disease/)**.\n",
        "- The **`stage`** and **`severity`** of the disease.\n",
        "- The most appropriate **`treatment strategy`**.\n",
        "\n",
        "By analyzing cell structures and the tissue microenvironment, medical professionals can make informed decisions on patient care.\n",
        "\n",
        "\n",
        "\n",
        "### Deep Learning in Colorectal Histology\n",
        "In colorectal histology, deep learning can be applied to **`automatically detect and classify disease`** from tissue images, providing faster and often more accurate results than traditional human analysis.\n",
        "\n",
        "\n",
        "1. **`Cancer Detection`**: Deep learning models can be trained to identify cancerous cells in colorectal tissue samples. By using large datasets of histological images, these models `can learn to distinguish between normal and abnormal tissue with high accuracy`.\n",
        "   \n",
        "\n",
        "2. **`Pattern Recognition for Disease Classification`**: Deep learning models `can also recognize patterns in histological images to classify various diseases (such as different types of polyps or inflammatory diseases)`. For instance, convolutional neural networks (CNNs) are commonly used for this purpose.\n",
        "   \n",
        "\n",
        "3. **`Quantification of Cellular Features`**: Deep learning algorithms can quantify features such as **`nuclei`** or **`glandular structures`** in histology images. This allows for objective and consistent measurement of `disease progression`, which can be used for both diagnostic purposes and to track the response to treatment.\n",
        "\n",
        "\n",
        "In conclusion, `colorectal histology plays a vital role in diagnosing colorectal diseases, and deep learning is transforming this field by enabling automated and more accurate analysis of tissue samples`. As these technologies evolve, we can expect to see AI systems increasingly assist clinicians in diagnosing and treating colorectal diseases.\n",
        "\n",
        "\n",
        "\n"
      ]
    },
    {
      "cell_type": "markdown",
      "metadata": {
        "id": "aotoWs0CIyhN"
      },
      "source": [
        "### Load Dataset and Create Train and Test Sets."
      ]
    },
    {
      "cell_type": "markdown",
      "metadata": {
        "id": "0nff9bp4IyhN"
      },
      "source": [
        "\n",
        "---\n",
        "**Create a training set as NumPy arrays in a single batch from [`colorectal_histology dataset`](https://www.tensorflow.org/datasets/catalog/colorectal_histology?hl=es):** (Time = 15m.)\n",
        "\n",
        "---\n",
        "\n"
      ]
    },
    {
      "cell_type": "markdown",
      "metadata": {
        "id": "a7YjQ3zQ7CBX"
      },
      "source": [
        "This code uses the _**``TensorFlow Datasets (TFDS) library``**_ to load and convert a dataset of colorectal histology images into NumPy arrays. Here's a explanation of the code:\n",
        "\n",
        "1. **`tfds.load(...)`**: This function loads a specified dataset from the TensorFlow Datasets library.\n",
        "   - **`'colorectal_histology'`**: The name of the dataset to load. This dataset consists of histology images of colorectal tissues.\n",
        "   - **`split='train'`**: This specifies that we want to load the training split of the dataset.\n",
        "   - **`batch_size=-1`**: This argument is used to load the entire dataset as a single batch. Setting `batch_size` to `-1` ensures that all data is loaded into memory at once.\n",
        "   - **`as_supervised=True`**: When set to `True`, the dataset is returned in a tuple format `(image, label)`, making it easier to work with supervised learning tasks.\n",
        "   - **`try_gcs=True`**: This option enables the loading of the dataset from Google Cloud Storage (GCS) if it's available. This can be helpful for faster data access and larger datasets.\n",
        "\n",
        "2. **`tfds.as_numpy(...)`**: This function converts the TensorFlow Dataset into NumPy arrays.\n",
        "   - The output of `tfds.load(...)` is passed into `tfds.as_numpy(...)` to convert the _``TensorFlow tensors into NumPy arrays``_, which are more commonly used in Python and more compatible with many libraries.\n",
        "\n",
        "3. **`image_train, label_train = ...`**: This assigns the resulting NumPy arrays to the variables `image_train` and `label_train`.\n",
        "   - `image_train` will hold the image data from the dataset.\n",
        "   - `label_train` will hold the corresponding labels for the images.\n",
        "\n",
        "The _``training set contains 5000 150 × 150 x 3 images``_. The *3* dimension indicates that the data is a color image. A **grayscale** image is one in which the only colors are shades of gray. That is, the image only contains luminance (or brightness) information and no color information.\n",
        "\n",
        ">**Note**: The `'colorectal_histology'` dataset has only a training split and does not have a separate split for testing.\n"
      ]
    },
    {
      "cell_type": "code",
      "execution_count": null,
      "metadata": {
        "colab": {
          "base_uri": "https://localhost:8080/",
          "height": 150,
          "referenced_widgets": [
            "7f3298209c65410f83872f503c469db6",
            "0530e9cd93184630bf778ddcf268d29e",
            "12632a59f20549148f0e4b2781e29e80",
            "39cd3657913b4b168bf93757ac40d183",
            "30f62475be9644e88cfc35deb8903ca9",
            "ecc9346bd4d74a92b8181001da69e602",
            "2ab5442843a0471291ae0c88bcf38fd4",
            "81d6cdbc482e4044a4d67fbeee49af03",
            "f1b27a9c858749d1a11242533a5c38f7",
            "a063ecf046c4481f9a6653f521e92bea",
            "898ed6697ff74fbeb2d8e1bdb6761ec9",
            "fb19ba45f67441b982242392fe235856",
            "b688ab30a8db4d7797e01809998622cd",
            "ccb578a1482b4de0b1c39e499f94776f",
            "1582d84436564741aaa8e7bd1de425df",
            "3276844568804138bf504279a6bb9f17",
            "c62ac21f40d74246b406348949dccc6a",
            "a32f3a33b2544828b8fc38f48dc474a9",
            "6455a6b407734a558dd75e68314bd0b1",
            "b193f09509f649519026c8a78654bb27",
            "eb0fdc4e37024a6399491c3d368acc25",
            "e245318e8d1e4c56b0dc4b4a57267b4f",
            "eb0c5d1328cb483e8e376657edc2fb3e",
            "fec53ba72ff44c6daea10fa760b82306",
            "36245f65d5fe4c4c9a2d7a4a26807915",
            "8111d749285c4351ba08815afa037c6a",
            "362c72062a1d413ab68b172db3889429",
            "ec2dde6b33e2408a84df31d6331d16d2",
            "dd2a9dbf5e4243ec95540afe8de1a2fe",
            "ba1168c4fe2d4d97b45c37dcba04054b",
            "e6984af845934a6bb49057913232d2f4",
            "35f70e935c2346d6b64bc34a36c4f78a",
            "d956d8980114435da6755f5f5a03e355"
          ]
        },
        "id": "Bd_2U2MN1JTu",
        "outputId": "46752d12-6683-4b91-d92b-08276bebdea0"
      },
      "outputs": [
        {
          "output_type": "stream",
          "name": "stdout",
          "text": [
            "Downloading and preparing dataset 246.14 MiB (download: 246.14 MiB, generated: Unknown size, total: 246.14 MiB) to /root/tensorflow_datasets/colorectal_histology/2.0.0...\n"
          ]
        },
        {
          "output_type": "display_data",
          "data": {
            "text/plain": [
              "Dl Completed...: 0 url [00:00, ? url/s]"
            ],
            "application/vnd.jupyter.widget-view+json": {
              "version_major": 2,
              "version_minor": 0,
              "model_id": "7f3298209c65410f83872f503c469db6"
            }
          },
          "metadata": {}
        },
        {
          "output_type": "display_data",
          "data": {
            "text/plain": [
              "Dl Size...: 0 MiB [00:00, ? MiB/s]"
            ],
            "application/vnd.jupyter.widget-view+json": {
              "version_major": 2,
              "version_minor": 0,
              "model_id": "fb19ba45f67441b982242392fe235856"
            }
          },
          "metadata": {}
        },
        {
          "output_type": "display_data",
          "data": {
            "text/plain": [
              "Extraction completed...: 0 file [00:00, ? file/s]"
            ],
            "application/vnd.jupyter.widget-view+json": {
              "version_major": 2,
              "version_minor": 0,
              "model_id": "eb0c5d1328cb483e8e376657edc2fb3e"
            }
          },
          "metadata": {}
        }
      ],
      "source": [
        "# Install the tensorflow_datasets library quietly (without showing installation messages).\n",
        "# We use '%%time' to measure the execution time of the code.\n",
        "%%time\n",
        "%pip install -q tensorflow_datasets\n",
        "\n",
        "# Import the tensorflow_datasets library, which allows loading TensorFlow datasets.\n",
        "import tensorflow_datasets as tfds\n",
        "\n",
        "# Load the 'colorectal_histology' dataset. This dataset contains histology images of the colon.\n",
        "# Parameters:\n",
        "# - split='train': selects the training set.\n",
        "# - batch_size=-1: returns all data in a single batch, instead of dividing into smaller batches.\n",
        "# - as_supervised=True: returns a tuple of (image, label) instead of a dictionary with additional data.\n",
        "# - try_gcs=True: attempts to use Google Cloud Storage (GCS) if available to load the data.\n",
        "image_train, label_train = tfds.as_numpy(\n",
        "    tfds.load(\n",
        "        'colorectal_histology',\n",
        "        split='train',\n",
        "        batch_size=-1,\n",
        "        as_supervised=True,\n",
        "        try_gcs=True\n",
        "    )\n",
        ")\n",
        "\n",
        "# Check the type of the loaded data (image_train) and its shape (image_train.shape).\n",
        "# This is useful to ensure that the data has been loaded correctly and has the expected format.\n",
        "type(image_train), image_train.shape\n"
      ]
    },
    {
      "cell_type": "markdown",
      "metadata": {
        "id": "c3DQK5FhO9U0"
      },
      "source": [
        "\n",
        "---\n",
        "**Create the corresponding test set:**\n",
        "\n",
        "---\n",
        "\n",
        "Next code produces error.\n",
        "\n",
        "\n",
        "``` python\n",
        "image_test, label_test = tfds.as_numpy(\n",
        "    tfds.load(\n",
        "        'colorectal_histology', split='test',\n",
        "        batch_size=-1, as_supervised=True,\n",
        "        try_gcs=True))\n",
        "type(image_test), image_test.shape\n",
        "```\n",
        "But this code give error because split is not an automatic set in this dataset.\n",
        "\n",
        "```\n",
        "---------------------------------------------------------------------------\n",
        "ValueError                                Traceback (most recent call last)\n",
        "<ipython-input-4-a2a47f7dc17c> in <cell line: 1>()\n",
        "      1 image_test, label_test = tfds.as_numpy(\n",
        "----> 2     tfds.load(\n",
        "      3         'colorectal_histology', split='test',\n",
        "      4         batch_size=-1, as_supervised=True,\n",
        "      5         try_gcs=True))\n",
        "\n",
        "16 frames\n",
        "/usr/local/lib/python3.10/dist-packages/tensorflow_datasets/core/splits.py in _rel_to_abs_instr(rel_instr, split_infos)\n",
        "    778   split = rel_instr.split_name\n",
        "    779   if split not in split_infos:\n",
        "--> 780     raise ValueError(\n",
        "    781         f'Unknown split {split!r}. Should be one of {list(split_infos)}.'\n",
        "    782     )\n",
        "\n",
        "ValueError: Unknown split 'test'. Should be one of ['train'].\n",
        "```\n",
        "We need manually split the dataset.\n"
      ]
    },
    {
      "cell_type": "markdown",
      "metadata": {
        "id": "o6X87dPhIyhP"
      },
      "source": [
        "\n",
        "---\n",
        "**Manually split the dataset**\n",
        "\n",
        "---"
      ]
    },
    {
      "cell_type": "markdown",
      "metadata": {
        "id": "9J5o6EPQsIg7"
      },
      "source": [
        "Adding `with_info=True` to the `tfds.load` function modifies the behavior of the code to also _``return metadata about the dataset``_. Here’s how the updated line of code would look and what each part means:\n",
        "\n",
        "```python\n",
        "(image_train, label_train), info = tfds.as_numpy(\n",
        "    tfds.load(\n",
        "        'colorectal_histology', split='train',\n",
        "        batch_size=-1, as_supervised=True,\n",
        "        with_info=True,\n",
        "        try_gcs=True))\n",
        "```\n",
        "\n"
      ]
    },
    {
      "cell_type": "markdown",
      "source": [
        "We are going to use 20 percent of the train images as test images. ``test_size=0.2``"
      ],
      "metadata": {
        "id": "ZINdI0JNaJev"
      }
    },
    {
      "cell_type": "code",
      "source": [
        "import tensorflow_datasets as tfds\n",
        "import numpy as np\n",
        "from sklearn.model_selection import train_test_split\n",
        "\n",
        "# Load the dataset using as_supervised=True to get (image, label) tuples instead of dictionaries\n",
        "dataset = tfds.load('colorectal_histology', split='train', as_supervised=True)\n",
        "\n",
        "# Convert the dataset to NumPy arrays\n",
        "data = tfds.as_numpy(dataset)\n",
        "\n",
        "# Separate images and labels directly from the tuples in list form\n",
        "images = []\n",
        "labels = []\n",
        "\n",
        "for image, label in data:\n",
        "    images.append(image)\n",
        "    labels.append(label)\n",
        "\n",
        "# Convert lists to numpy arrays\n",
        "images = np.array(images)\n",
        "labels = np.array(labels)\n",
        "\n",
        "# Split the data: 80% for training, 20% for testing\n",
        "image_train, image_test, label_train, label_test = train_test_split(images, labels, test_size=0.2, random_state=42)\n",
        "\n",
        "# Verify the shapes of the training and test sets\n",
        "print(\"Train Images Shape:\", image_train.shape)\n",
        "print(\"Test Images Shape:\", image_test.shape)\n"
      ],
      "metadata": {
        "id": "c5s8HHVpup5x"
      },
      "execution_count": null,
      "outputs": []
    },
    {
      "cell_type": "markdown",
      "metadata": {
        "id": "1R3sXs7cHTXH"
      },
      "source": [
        "### Inspect Train and Test Shapes\n"
      ]
    },
    {
      "cell_type": "markdown",
      "metadata": {
        "id": "EWK3amgAIyhQ"
      },
      "source": [
        "\n",
        "---\n",
        "**Get training shapes:**\n",
        "\n",
        "---"
      ]
    },
    {
      "cell_type": "code",
      "execution_count": null,
      "metadata": {
        "id": "rbhGy_-NHbwy"
      },
      "outputs": [],
      "source": [
        "image_train.shape, label_train.shape"
      ]
    },
    {
      "cell_type": "markdown",
      "metadata": {
        "id": "GbVjqH8cHjAX"
      },
      "source": [
        "---\n",
        "**Get test shapes:**\n",
        "\n",
        "---"
      ]
    },
    {
      "cell_type": "code",
      "execution_count": null,
      "metadata": {
        "id": "yyDTiYOvHo3K"
      },
      "outputs": [],
      "source": [
        "image_test.shape, label_test.shape"
      ]
    },
    {
      "cell_type": "markdown",
      "metadata": {
        "id": "OvZT3rxsIyhR"
      },
      "source": [
        "### Display Some Images"
      ]
    },
    {
      "cell_type": "markdown",
      "metadata": {
        "id": "-PvrYSjqHwP9"
      },
      "source": [
        "---\n",
        "**Display one sample image**\n",
        "\n",
        "---"
      ]
    },
    {
      "cell_type": "markdown",
      "source": [
        "Si lo que quiero es una imagen aleatoria podemos _barajar_ el batch."
      ],
      "metadata": {
        "id": "S1wrWRu_YWBX"
      }
    },
    {
      "cell_type": "code",
      "source": [
        "import tensorflow_datasets as tfds\n",
        "import matplotlib.pyplot as plt\n",
        "\n",
        "# Load the dataset with as_supervised=True to get (image, label) tuples, and shuffle it\n",
        "dataset = tfds.load('colorectal_histology', split='train', as_supervised=True).shuffle(buffer_size=1000)\n",
        "\n",
        "# Take one random example from the shuffled dataset\n",
        "image, label = next(iter(dataset))\n",
        "\n",
        "# Display the image\n",
        "plt.imshow(image)\n",
        "plt.title(f'Label: {label}')\n",
        "plt.axis('off')\n",
        "plt.show()\n"
      ],
      "metadata": {
        "id": "L-bCmhE4vBfU"
      },
      "execution_count": null,
      "outputs": []
    },
    {
      "cell_type": "markdown",
      "source": [
        "If I want the first image"
      ],
      "metadata": {
        "id": "uqvbMgonbngH"
      }
    },
    {
      "cell_type": "code",
      "source": [
        "import tensorflow_datasets as tfds\n",
        "import matplotlib.pyplot as plt\n",
        "\n",
        "# Load the dataset with as_supervised=True to get (image, label) tuples\n",
        "dataset = tfds.load('colorectal_histology', split='train', as_supervised=True)\n",
        "\n",
        "# Take one example from the dataset (the first one)\n",
        "image, label = next(iter(dataset))\n",
        "\n",
        "# Display the image\n",
        "plt.imshow(image)\n",
        "plt.title(f'Label: {label}')\n",
        "plt.axis('off')\n",
        "plt.show()\n"
      ],
      "metadata": {
        "id": "LDNX_Ek9vkmV"
      },
      "execution_count": null,
      "outputs": []
    },
    {
      "cell_type": "markdown",
      "metadata": {
        "id": "uLk3YKa8H-me"
      },
      "source": [
        "**Label: 4** is very confussing. We need take a semantic label.\n",
        "\n",
        "You can load the dataset with `with_info=True` to access the dataset's metadata. In this case `'class names'`.\n",
        "\n",
        "---\n",
        "**Get information about the classes**\n",
        "\n",
        "---\n"
      ]
    },
    {
      "cell_type": "code",
      "execution_count": null,
      "metadata": {
        "id": "oqUPMOldHoVN"
      },
      "outputs": [],
      "source": [
        "import tensorflow_datasets as tfds\n",
        "\n",
        "# Load the dataset with info\n",
        "_, info = tfds.load('colorectal_histology', split='train', with_info=True)\n",
        "\n",
        "# Get the class names\n",
        "classes = info.features['label'].names\n",
        "\n",
        "# Print the class names\n",
        "print(\"Classes:\", classes)\n"
      ]
    },
    {
      "cell_type": "markdown",
      "metadata": {
        "id": "3c1GsocuHGhD"
      },
      "source": [
        "---\n",
        "\n",
        "**Display one image sample and its `semantic` label**\n",
        "\n",
        "---\n",
        "\n"
      ]
    },
    {
      "cell_type": "code",
      "source": [
        "import tensorflow_datasets as tfds\n",
        "import matplotlib.pyplot as plt\n",
        "\n",
        "# Load the dataset with info and as_supervised=True to get (image, label) tuples\n",
        "dataset, info = tfds.load('colorectal_histology', split='train', with_info=True, as_supervised=True)\n",
        "\n",
        "# Get the class names\n",
        "classes = info.features['label'].names\n",
        "\n",
        "# Print the class names\n",
        "print(\"Classes:\", classes)\n",
        "\n",
        "# Display an image from the dataset with its label\n",
        "# Take one example from the dataset\n",
        "image, label = next(iter(dataset))\n",
        "\n",
        "# Show the image with its class name\n",
        "plt.imshow(image)\n",
        "plt.title(f'Label: {classes[label]}')\n",
        "plt.axis('off')\n",
        "plt.show()\n"
      ],
      "metadata": {
        "id": "9ARSIHQwwTTB"
      },
      "execution_count": null,
      "outputs": []
    },
    {
      "cell_type": "markdown",
      "metadata": {
        "id": "iVDIirZ1INKY"
      },
      "source": [
        "\n",
        "---\n",
        "**Display one sample for each class**\n",
        "\n",
        "---\n",
        "\n",
        "To get one image and its corresponding class for each class in a dataset using TensorFlow Datasets (TFDS), you can *`iterate through the dataset and collect one example for each class`*. Here's how you can do it:\n",
        "1. Loads the 'colorectal_histology' dataset along with its metadata.\n",
        "2. Initializes a list to store one example per class.\n",
        "3. Iterates through the dataset, storing one image and its label for each class.\n",
        "4. Once all classes have at least one example, it stops iterating.\n",
        "5. Uses matplotlib to plot the images and display their labels.\n",
        "\n",
        "Make sure to adjust the plotting layout according to the number of classes to avoid any layout issues. The `plt.subplots` call in this example assumes there are an even number of classes and lays them out in two rows. Adjust the number of rows and columns based on your dataset.\n",
        "\n",
        "\n"
      ]
    },
    {
      "source": [
        "import tensorflow_datasets as tfds\n",
        "import matplotlib.pyplot as plt\n",
        "\n",
        "# 1. Load the dataset with info and as_supervised=True to get (image, label) tuples\n",
        "dataset, info = tfds.load('colorectal_histology', split='train', with_info=True, as_supervised=True)\n",
        "\n",
        "# Get the class names\n",
        "classes = info.features['label'].names\n",
        "\n",
        "# 2. Initialize a list to store one example per class (None initially for each (8) class)\n",
        "class_examples = [None] * info.features['label'].num_classes\n",
        "\n",
        "\n",
        "# 3. Iterate through the dataset and collect one example for each class\n",
        "for image, label in dataset:\n",
        "    label_index = label.numpy() # Get the label as an integer index\n",
        "    # If we don't have an example for this class yet, save it\n",
        "    if class_examples[label_index] is None:\n",
        "        class_examples[label_index] = (image, classes[label_index]) # Use indexing to access the class name\n",
        "\n",
        "    # Stop the loop once we have one example for each class\n",
        "    if all(class_examples):\n",
        "        break  # 4. Stop once we have one example per class\n",
        "\n",
        "# 5. Plot the images with their labels\n",
        "num_rows = 2\n",
        "num_cols = len(class_examples) // num_rows\n",
        "fig, axes = plt.subplots(num_rows, num_cols, figsize=(12, 8))\n",
        "\n",
        "for idx, (image, label) in enumerate(class_examples):\n",
        "    row = idx // num_cols\n",
        "    col = idx % num_cols\n",
        "    ax = axes[row, col]\n",
        "    ax.imshow(image)\n",
        "    ax.set_title(f'Label: {label}')\n",
        "    ax.axis('off')\n",
        "\n",
        "plt.tight_layout()\n",
        "plt.show()"
      ],
      "cell_type": "code",
      "metadata": {
        "id": "v3laM8y5ysp0"
      },
      "execution_count": null,
      "outputs": []
    },
    {
      "cell_type": "markdown",
      "metadata": {
        "id": "YPBTvfX_uXvj"
      },
      "source": [
        "## 2. Scale (Resize and Normalize)"
      ]
    },
    {
      "cell_type": "markdown",
      "metadata": {
        "id": "Ied8-hrIIyhS"
      },
      "source": [
        "---\n",
        "**Resize and Normalize (Scale)**\n",
        "\n",
        "---\n",
        "\n",
        "Since NumPy array values are float, _`divide them by 255 to normalize the image pixels (0 to 1) and resize to 64 x 64 pixels`_."
      ]
    },
    {
      "cell_type": "code",
      "execution_count": null,
      "metadata": {
        "id": "11wXU5ne6izT"
      },
      "outputs": [],
      "source": [
        "import tensorflow as tf\n",
        "\n",
        "train_sc = tf.image.resize(image_train, (64, 64)).numpy() / 255.0\n",
        "test_sc = tf.image.resize(image_test, (64, 64)).numpy() / 255.0\n",
        "\n",
        "train_sc[0].shape, test_sc[0].shape\n",
        "\n"
      ]
    },
    {
      "cell_type": "markdown",
      "metadata": {
        "id": "3RkIYGseujpd"
      },
      "source": [
        "---\n",
        "**Verify normalization**\n",
        "\n",
        "---"
      ]
    },
    {
      "cell_type": "markdown",
      "metadata": {
        "id": "rG8ipMAJwB8c"
      },
      "source": [
        "This code will output the _`minimum and maximum values`_ of the scaled training and testing data. If the scaling is correct, the minimum value should be 0.0 (or very close to it), and the maximum value should be 1.0 (or very close to it).\n",
        "\n"
      ]
    },
    {
      "cell_type": "code",
      "execution_count": null,
      "metadata": {
        "id": "pl_jDnf_unE0"
      },
      "outputs": [],
      "source": [
        "# Verify the scaling or normalization\n",
        "print(\"Training data - min:\", np.min(train_sc), \"max:\", np.max(train_sc))\n",
        "print(\"Testing data - min:\", np.min(test_sc), \"max:\", np.max(test_sc))"
      ]
    },
    {
      "cell_type": "markdown",
      "metadata": {
        "id": "3kr2yP1yJgGM"
      },
      "source": [
        "\n",
        "\n",
        "---\n",
        "**Inspect specific values**\n",
        "\n",
        "---"
      ]
    },
    {
      "cell_type": "markdown",
      "metadata": {
        "id": "Pdh71HyFjG09"
      },
      "source": [
        "For a more detailed check, you can also inspect the values of a few specific pixels or entire images."
      ]
    },
    {
      "cell_type": "code",
      "execution_count": null,
      "metadata": {
        "id": "xy60sLPRJjx9"
      },
      "outputs": [],
      "source": [
        "# Check a few pixels in the scaled training data\n",
        "print(\"Sample pixel values from training data:\")\n",
        "print(train_sc[0, 0, 0])  # Pixel value of the first pixel in the first image\n",
        "print(train_sc[0, 0, 1])  # Pixel value of the second pixel in the first image\n",
        "print(train_sc[0, 0, 2])  # Pixel value of the third pixel in the first image\n",
        "\n",
        "# Check a few pixels in the scaled testing data\n",
        "print(\"Sample pixel values from testing data:\")\n",
        "print(test_sc[0, 0, 0])  # Pixel value of the first pixel in the first image\n",
        "print(test_sc[0, 0, 1])  # Pixel value of the second pixel in the first image\n",
        "print(test_sc[0, 0, 2])  # Pixel value of the third pixel in the first image\n"
      ]
    },
    {
      "cell_type": "markdown",
      "metadata": {
        "id": "uqRA00FP2RLk"
      },
      "source": [
        "## 3. Prepare Data for TensorFlow Consumption\n",
        "\n",
        "\n",
        "---\n",
        "**Numpy to Tensor**\n",
        "\n",
        "---\n",
        "\n",
        "Slice NumPy arrays into TensorFlow datasets:"
      ]
    },
    {
      "cell_type": "code",
      "execution_count": null,
      "metadata": {
        "id": "-P1iddN_2YeA"
      },
      "outputs": [],
      "source": [
        "import tensorflow as tf\n",
        "\n",
        "train_crht = tf.data.Dataset.from_tensor_slices(\n",
        "    (train_sc, label_train))\n",
        "test_crht = tf.data.Dataset.from_tensor_slices(\n",
        "    (test_sc, label_test))"
      ]
    },
    {
      "cell_type": "markdown",
      "metadata": {
        "id": "EBnNS22z2dff"
      },
      "source": [
        "---\n",
        "**Inspect the tensorflow dataset**\n",
        "\n",
        "---"
      ]
    },
    {
      "cell_type": "code",
      "execution_count": null,
      "metadata": {
        "id": "g0ML-1mX2g0j"
      },
      "outputs": [],
      "source": [
        "train_crht, test_crht"
      ]
    },
    {
      "cell_type": "markdown",
      "metadata": {
        "id": "XpUVBkCHpjYx"
      },
      "source": [
        "## 4. Build the Consumable Input Pipeline\n",
        "\n",
        "---\n",
        "**Initialize parameters, shuffle training data, and batch and prefetch training and test data:**\n",
        "\n",
        "---"
      ]
    },
    {
      "cell_type": "code",
      "execution_count": null,
      "metadata": {
        "id": "z7CuVKkvpjy6"
      },
      "outputs": [],
      "source": [
        "batch_size = 10  # Set the batch size to 10, which determines how many samples will be processed at once\n",
        "shuffle_size = 10000  # Set the shuffle buffer size to 10,000 to randomize the order of samples within this buffer\n",
        "\n",
        "# Shuffle the training dataset with the specified shuffle buffer size, batch the data,\n",
        "# and prefetch 1 batch at a time to improve efficiency during training\n",
        "train_crhtds = train_crht.shuffle(shuffle_size).batch(batch_size).prefetch(1)\n",
        "\n",
        "# Batch the test dataset with the specified batch size and prefetch 1 batch at a time.\n",
        "# Since this is test data, it doesn’t need shuffling, only batching and prefetching for efficiency\n",
        "test_crhtds = test_crht.batch(batch_size).prefetch(1)\n"
      ]
    },
    {
      "cell_type": "markdown",
      "metadata": {
        "id": "xTH9HrnYqnqo"
      },
      "source": [
        "---\n",
        "\n",
        "**Inspect tensors (normalization)**\n",
        "\n",
        "---"
      ]
    },
    {
      "cell_type": "code",
      "execution_count": null,
      "metadata": {
        "id": "tdnwA8g4qtWh"
      },
      "outputs": [],
      "source": [
        "train_crhtds, test_crhtds"
      ]
    },
    {
      "cell_type": "markdown",
      "metadata": {
        "id": "9sgV6UlN26Ho"
      },
      "source": [
        "### Build the Model\n",
        "Earlier, we imported requisite libraries. Since they are already in memory, we don’t need to import them again (assuming that we are using the same notebook).\n",
        "\n",
        "---\n",
        "\n",
        "**Get tensor shape**\n",
        "\n",
        "---"
      ]
    },
    {
      "cell_type": "code",
      "execution_count": null,
      "metadata": {
        "id": "8i5VKL5VMJHo"
      },
      "outputs": [],
      "source": [
        "np_shape = train_sc[0].shape\n",
        "np_shape"
      ]
    },
    {
      "cell_type": "markdown",
      "metadata": {
        "id": "mz7bQxDgZhlB"
      },
      "source": [
        "---\n",
        "**Create the model**\n",
        "\n",
        "---"
      ]
    },
    {
      "cell_type": "code",
      "execution_count": null,
      "metadata": {
        "id": "N94l8MCEMJEy"
      },
      "outputs": [],
      "source": [
        "import tensorflow as tf\n",
        "from tensorflow.keras.models import Sequential\n",
        "from tensorflow.keras.layers import Flatten, Dense, Input\n",
        "\n",
        "model = Sequential([\n",
        "  Input(shape=np_shape),\n",
        "  Flatten(),\n",
        "  Dense(512, activation='relu'),\n",
        "  Dense(8, activation='softmax')\n",
        "])\n",
        "\n",
        "model = Sequential([\n",
        "  Flatten(input_shape=img_shape),\n",
        "  Dense(128, activation='relu'),\n",
        "  Dropout(0.4),\n",
        "  Dense(10, activation=None)\n",
        "])"
      ]
    },
    {
      "cell_type": "markdown",
      "metadata": {
        "id": "eby9araQyYn-"
      },
      "source": [
        "### Other Models\n",
        "```\n",
        "import tensorflow as tf\n",
        "from tensorflow.keras.models import Sequential\n",
        "from tensorflow.keras.layers import Flatten, Dense, Dropout, BatchNormalization\n",
        "\n",
        "# Define the input shape\n",
        "np_shape = train_sc.shape[1:]\n",
        "\n",
        "# Improved model\n",
        "model = Sequential([\n",
        "    Flatten(input_shape=np_shape),\n",
        "    Dense(1024, activation='relu'),\n",
        "    BatchNormalization(),\n",
        "    Dropout(0.5),\n",
        "    Dense(512, activation='relu'),\n",
        "    BatchNormalization(),\n",
        "    Dropout(0.5),\n",
        "    Dense(256, activation='relu'),\n",
        "    BatchNormalization(),\n",
        "    Dropout(0.5),\n",
        "    Dense(128, activation='relu'),\n",
        "    BatchNormalization(),\n",
        "    Dropout(0.5),\n",
        "    Dense(8, activation='softmax')  # Assuming 8 classes in the dataset\n",
        "])\n",
        "```\n",
        "\n",
        "and other\n",
        "\n",
        "```\n",
        "from tensorflow.keras.layers import Conv2D, MaxPooling2D\n",
        "\n",
        "num_classes = len(classes)\n",
        "\n",
        "model = tf.keras.Sequential([\n",
        "  Conv2D(32, 3, activation='relu',\n",
        "         input_shape=np_shape),\n",
        "  MaxPooling2D(),\n",
        "  Conv2D(32, 3, activation='relu'),\n",
        "  MaxPooling2D(),\n",
        "  Conv2D(32, 3, activation='relu'),\n",
        "  MaxPooling2D(),\n",
        "  Flatten(),\n",
        "  Dense(128, activation='relu'),\n",
        "  Dense(num_classes, activation='softmax')\n",
        "])\n",
        "\n",
        "```"
      ]
    },
    {
      "cell_type": "markdown",
      "metadata": {
        "id": "uIXhXr5ljl4E"
      },
      "source": [
        "These models were seen in later NBs."
      ]
    },
    {
      "cell_type": "markdown",
      "metadata": {
        "id": "HWZP3zn8scTf"
      },
      "source": [
        "## 5. Compile and Train the Model\n",
        "Compile with *`sparse categorical cross-entropy`*. Notice that we **don't** set *`from_logits=True`* because we use *`softmax`* activation in the output layer of the model _``to produce a probability distribution from the logits``_. The **softmax** activation function acts on a vector to increase the difference between the largest component and all others and normalizes the vector to have a sum of 1 so that it can be interpreted as a vector of probabilities. It is used as the last step in classifiers:"
      ]
    },
    {
      "cell_type": "code",
      "execution_count": null,
      "metadata": {
        "id": "q9slrLV7MI7p"
      },
      "outputs": [],
      "source": [
        "from tensorflow.keras.optimizers import Adam\n",
        "\n",
        "\n",
        "model.compile(optimizer = Adam(learning_rate=0.001),\n",
        "              loss='sparse_categorical_crossentropy',\n",
        "              metrics=['accuracy'])"
      ]
    },
    {
      "cell_type": "markdown",
      "metadata": {
        "id": "1kehvZcusuzd"
      },
      "source": [
        "---\n",
        "**Show the model architecture**\n",
        "\n",
        "---"
      ]
    },
    {
      "cell_type": "code",
      "execution_count": null,
      "metadata": {
        "colab": {
          "base_uri": "https://localhost:8080/",
          "height": 225
        },
        "id": "36XhUc5WMI4v",
        "outputId": "f0eb8635-730f-4764-e4b0-9c1bf76efcd8"
      },
      "outputs": [
        {
          "output_type": "display_data",
          "data": {
            "text/plain": [
              "\u001b[1mModel: \"sequential_2\"\u001b[0m\n"
            ],
            "text/html": [
              "<pre style=\"white-space:pre;overflow-x:auto;line-height:normal;font-family:Menlo,'DejaVu Sans Mono',consolas,'Courier New',monospace\"><span style=\"font-weight: bold\">Model: \"sequential_2\"</span>\n",
              "</pre>\n"
            ]
          },
          "metadata": {}
        },
        {
          "output_type": "display_data",
          "data": {
            "text/plain": [
              "┏━━━━━━━━━━━━━━━━━━━━━━━━━━━━━━━━━━━━━━┳━━━━━━━━━━━━━━━━━━━━━━━━━━━━━┳━━━━━━━━━━━━━━━━━┓\n",
              "┃\u001b[1m \u001b[0m\u001b[1mLayer (type)                        \u001b[0m\u001b[1m \u001b[0m┃\u001b[1m \u001b[0m\u001b[1mOutput Shape               \u001b[0m\u001b[1m \u001b[0m┃\u001b[1m \u001b[0m\u001b[1m        Param #\u001b[0m\u001b[1m \u001b[0m┃\n",
              "┡━━━━━━━━━━━━━━━━━━━━━━━━━━━━━━━━━━━━━━╇━━━━━━━━━━━━━━━━━━━━━━━━━━━━━╇━━━━━━━━━━━━━━━━━┩\n",
              "│ flatten_2 (\u001b[38;5;33mFlatten\u001b[0m)                  │ (\u001b[38;5;45mNone\u001b[0m, \u001b[38;5;34m12288\u001b[0m)               │               \u001b[38;5;34m0\u001b[0m │\n",
              "├──────────────────────────────────────┼─────────────────────────────┼─────────────────┤\n",
              "│ dense_5 (\u001b[38;5;33mDense\u001b[0m)                      │ (\u001b[38;5;45mNone\u001b[0m, \u001b[38;5;34m512\u001b[0m)                 │       \u001b[38;5;34m6,291,968\u001b[0m │\n",
              "├──────────────────────────────────────┼─────────────────────────────┼─────────────────┤\n",
              "│ dense_6 (\u001b[38;5;33mDense\u001b[0m)                      │ (\u001b[38;5;45mNone\u001b[0m, \u001b[38;5;34m8\u001b[0m)                   │           \u001b[38;5;34m4,104\u001b[0m │\n",
              "└──────────────────────────────────────┴─────────────────────────────┴─────────────────┘\n"
            ],
            "text/html": [
              "<pre style=\"white-space:pre;overflow-x:auto;line-height:normal;font-family:Menlo,'DejaVu Sans Mono',consolas,'Courier New',monospace\">┏━━━━━━━━━━━━━━━━━━━━━━━━━━━━━━━━━━━━━━┳━━━━━━━━━━━━━━━━━━━━━━━━━━━━━┳━━━━━━━━━━━━━━━━━┓\n",
              "┃<span style=\"font-weight: bold\"> Layer (type)                         </span>┃<span style=\"font-weight: bold\"> Output Shape                </span>┃<span style=\"font-weight: bold\">         Param # </span>┃\n",
              "┡━━━━━━━━━━━━━━━━━━━━━━━━━━━━━━━━━━━━━━╇━━━━━━━━━━━━━━━━━━━━━━━━━━━━━╇━━━━━━━━━━━━━━━━━┩\n",
              "│ flatten_2 (<span style=\"color: #0087ff; text-decoration-color: #0087ff\">Flatten</span>)                  │ (<span style=\"color: #00d7ff; text-decoration-color: #00d7ff\">None</span>, <span style=\"color: #00af00; text-decoration-color: #00af00\">12288</span>)               │               <span style=\"color: #00af00; text-decoration-color: #00af00\">0</span> │\n",
              "├──────────────────────────────────────┼─────────────────────────────┼─────────────────┤\n",
              "│ dense_5 (<span style=\"color: #0087ff; text-decoration-color: #0087ff\">Dense</span>)                      │ (<span style=\"color: #00d7ff; text-decoration-color: #00d7ff\">None</span>, <span style=\"color: #00af00; text-decoration-color: #00af00\">512</span>)                 │       <span style=\"color: #00af00; text-decoration-color: #00af00\">6,291,968</span> │\n",
              "├──────────────────────────────────────┼─────────────────────────────┼─────────────────┤\n",
              "│ dense_6 (<span style=\"color: #0087ff; text-decoration-color: #0087ff\">Dense</span>)                      │ (<span style=\"color: #00d7ff; text-decoration-color: #00d7ff\">None</span>, <span style=\"color: #00af00; text-decoration-color: #00af00\">8</span>)                   │           <span style=\"color: #00af00; text-decoration-color: #00af00\">4,104</span> │\n",
              "└──────────────────────────────────────┴─────────────────────────────┴─────────────────┘\n",
              "</pre>\n"
            ]
          },
          "metadata": {}
        },
        {
          "output_type": "display_data",
          "data": {
            "text/plain": [
              "\u001b[1m Total params: \u001b[0m\u001b[38;5;34m6,296,072\u001b[0m (24.02 MB)\n"
            ],
            "text/html": [
              "<pre style=\"white-space:pre;overflow-x:auto;line-height:normal;font-family:Menlo,'DejaVu Sans Mono',consolas,'Courier New',monospace\"><span style=\"font-weight: bold\"> Total params: </span><span style=\"color: #00af00; text-decoration-color: #00af00\">6,296,072</span> (24.02 MB)\n",
              "</pre>\n"
            ]
          },
          "metadata": {}
        },
        {
          "output_type": "display_data",
          "data": {
            "text/plain": [
              "\u001b[1m Trainable params: \u001b[0m\u001b[38;5;34m6,296,072\u001b[0m (24.02 MB)\n"
            ],
            "text/html": [
              "<pre style=\"white-space:pre;overflow-x:auto;line-height:normal;font-family:Menlo,'DejaVu Sans Mono',consolas,'Courier New',monospace\"><span style=\"font-weight: bold\"> Trainable params: </span><span style=\"color: #00af00; text-decoration-color: #00af00\">6,296,072</span> (24.02 MB)\n",
              "</pre>\n"
            ]
          },
          "metadata": {}
        },
        {
          "output_type": "display_data",
          "data": {
            "text/plain": [
              "\u001b[1m Non-trainable params: \u001b[0m\u001b[38;5;34m0\u001b[0m (0.00 B)\n"
            ],
            "text/html": [
              "<pre style=\"white-space:pre;overflow-x:auto;line-height:normal;font-family:Menlo,'DejaVu Sans Mono',consolas,'Courier New',monospace\"><span style=\"font-weight: bold\"> Non-trainable params: </span><span style=\"color: #00af00; text-decoration-color: #00af00\">0</span> (0.00 B)\n",
              "</pre>\n"
            ]
          },
          "metadata": {}
        }
      ],
      "source": [
        "# Print the model summary\n",
        "model.summary()"
      ]
    },
    {
      "cell_type": "markdown",
      "source": [
        "Plot the model"
      ],
      "metadata": {
        "id": "neQCnAV9hKO-"
      }
    },
    {
      "cell_type": "code",
      "source": [
        "from tensorflow.keras.utils import plot_model\n",
        "\n",
        "# Visualizar el modelo en formato gráfico\n",
        "plot_model(model, to_file='model_structure.png', show_shapes=True, show_layer_names=True, dpi=100)\n"
      ],
      "metadata": {
        "colab": {
          "base_uri": "https://localhost:8080/",
          "height": 478
        },
        "id": "aEeOPrPZhMuC",
        "outputId": "2adc723c-9b90-4f44-f6dc-6d91d12f196d"
      },
      "execution_count": null,
      "outputs": [
        {
          "output_type": "execute_result",
          "data": {
            "image/png": "[encoded data removed]",
            "text/plain": [
              "<IPython.core.display.Image object>"
            ]
          },
          "metadata": {},
          "execution_count": 53
        }
      ]
    },
    {
      "cell_type": "markdown",
      "metadata": {
        "id": "s2lTL4jusjQW"
      },
      "source": [
        "---\n",
        "**Train the model:** This may take a few minutes.\n",
        "\n",
        "---"
      ]
    },
    {
      "cell_type": "code",
      "execution_count": null,
      "metadata": {
        "colab": {
          "base_uri": "https://localhost:8080/"
        },
        "id": "xnTyTQWqMI1q",
        "outputId": "108ba202-79c9-49b2-da3d-240510c8be58"
      },
      "outputs": [
        {
          "output_type": "stream",
          "name": "stdout",
          "text": [
            "Epoch 1/50\n",
            "\u001b[1m400/400\u001b[0m \u001b[32m━━━━━━━━━━━━━━━━━━━━\u001b[0m\u001b[37m\u001b[0m \u001b[1m4s\u001b[0m 6ms/step - accuracy: 0.2572 - loss: 5.2040 - val_accuracy: 0.3550 - val_loss: 1.4570\n",
            "Epoch 2/50\n",
            "\u001b[1m400/400\u001b[0m \u001b[32m━━━━━━━━━━━━━━━━━━━━\u001b[0m\u001b[37m\u001b[0m \u001b[1m1s\u001b[0m 3ms/step - accuracy: 0.4379 - loss: 1.2903 - val_accuracy: 0.4640 - val_loss: 1.1403\n",
            "Epoch 3/50\n",
            "\u001b[1m400/400\u001b[0m \u001b[32m━━━━━━━━━━━━━━━━━━━━\u001b[0m\u001b[37m\u001b[0m \u001b[1m1s\u001b[0m 3ms/step - accuracy: 0.4815 - loss: 1.1428 - val_accuracy: 0.4520 - val_loss: 1.2285\n",
            "Epoch 4/50\n",
            "\u001b[1m400/400\u001b[0m \u001b[32m━━━━━━━━━━━━━━━━━━━━\u001b[0m\u001b[37m\u001b[0m \u001b[1m1s\u001b[0m 3ms/step - accuracy: 0.5161 - loss: 1.1122 - val_accuracy: 0.5250 - val_loss: 1.0902\n",
            "Epoch 5/50\n",
            "\u001b[1m400/400\u001b[0m \u001b[32m━━━━━━━━━━━━━━━━━━━━\u001b[0m\u001b[37m\u001b[0m \u001b[1m1s\u001b[0m 3ms/step - accuracy: 0.5333 - loss: 1.0687 - val_accuracy: 0.4960 - val_loss: 1.1181\n",
            "Epoch 6/50\n",
            "\u001b[1m400/400\u001b[0m \u001b[32m━━━━━━━━━━━━━━━━━━━━\u001b[0m\u001b[37m\u001b[0m \u001b[1m3s\u001b[0m 4ms/step - accuracy: 0.5602 - loss: 0.9979 - val_accuracy: 0.5820 - val_loss: 1.0710\n",
            "Epoch 7/50\n",
            "\u001b[1m400/400\u001b[0m \u001b[32m━━━━━━━━━━━━━━━━━━━━\u001b[0m\u001b[37m\u001b[0m \u001b[1m2s\u001b[0m 3ms/step - accuracy: 0.5563 - loss: 0.9882 - val_accuracy: 0.5080 - val_loss: 1.0902\n",
            "Epoch 8/50\n",
            "\u001b[1m400/400\u001b[0m \u001b[32m━━━━━━━━━━━━━━━━━━━━\u001b[0m\u001b[37m\u001b[0m \u001b[1m1s\u001b[0m 3ms/step - accuracy: 0.5615 - loss: 0.9758 - val_accuracy: 0.4860 - val_loss: 1.1117\n",
            "Epoch 9/50\n",
            "\u001b[1m400/400\u001b[0m \u001b[32m━━━━━━━━━━━━━━━━━━━━\u001b[0m\u001b[37m\u001b[0m \u001b[1m1s\u001b[0m 3ms/step - accuracy: 0.5667 - loss: 0.9617 - val_accuracy: 0.5550 - val_loss: 1.1624\n",
            "Epoch 10/50\n",
            "\u001b[1m400/400\u001b[0m \u001b[32m━━━━━━━━━━━━━━━━━━━━\u001b[0m\u001b[37m\u001b[0m \u001b[1m1s\u001b[0m 3ms/step - accuracy: 0.5694 - loss: 0.9656 - val_accuracy: 0.4780 - val_loss: 1.1690\n",
            "Epoch 11/50\n",
            "\u001b[1m400/400\u001b[0m \u001b[32m━━━━━━━━━━━━━━━━━━━━\u001b[0m\u001b[37m\u001b[0m \u001b[1m1s\u001b[0m 3ms/step - accuracy: 0.5614 - loss: 0.9920 - val_accuracy: 0.4980 - val_loss: 1.1428\n",
            "Epoch 12/50\n",
            "\u001b[1m400/400\u001b[0m \u001b[32m━━━━━━━━━━━━━━━━━━━━\u001b[0m\u001b[37m\u001b[0m \u001b[1m1s\u001b[0m 3ms/step - accuracy: 0.5861 - loss: 0.9437 - val_accuracy: 0.5250 - val_loss: 1.1025\n",
            "Epoch 13/50\n",
            "\u001b[1m400/400\u001b[0m \u001b[32m━━━━━━━━━━━━━━━━━━━━\u001b[0m\u001b[37m\u001b[0m \u001b[1m1s\u001b[0m 3ms/step - accuracy: 0.6104 - loss: 0.8910 - val_accuracy: 0.5840 - val_loss: 1.1367\n",
            "Epoch 14/50\n",
            "\u001b[1m400/400\u001b[0m \u001b[32m━━━━━━━━━━━━━━━━━━━━\u001b[0m\u001b[37m\u001b[0m \u001b[1m1s\u001b[0m 3ms/step - accuracy: 0.6027 - loss: 0.9185 - val_accuracy: 0.4840 - val_loss: 1.0973\n",
            "Epoch 15/50\n",
            "\u001b[1m400/400\u001b[0m \u001b[32m━━━━━━━━━━━━━━━━━━━━\u001b[0m\u001b[37m\u001b[0m \u001b[1m2s\u001b[0m 3ms/step - accuracy: 0.6389 - loss: 0.8592 - val_accuracy: 0.4160 - val_loss: 1.2809\n",
            "Epoch 16/50\n",
            "\u001b[1m400/400\u001b[0m \u001b[32m━━━━━━━━━━━━━━━━━━━━\u001b[0m\u001b[37m\u001b[0m \u001b[1m1s\u001b[0m 3ms/step - accuracy: 0.6327 - loss: 0.8405 - val_accuracy: 0.4960 - val_loss: 1.1831\n",
            "Epoch 17/50\n",
            "\u001b[1m400/400\u001b[0m \u001b[32m━━━━━━━━━━━━━━━━━━━━\u001b[0m\u001b[37m\u001b[0m \u001b[1m1s\u001b[0m 3ms/step - accuracy: 0.6458 - loss: 0.8318 - val_accuracy: 0.6000 - val_loss: 1.0572\n",
            "Epoch 18/50\n",
            "\u001b[1m400/400\u001b[0m \u001b[32m━━━━━━━━━━━━━━━━━━━━\u001b[0m\u001b[37m\u001b[0m \u001b[1m1s\u001b[0m 3ms/step - accuracy: 0.6730 - loss: 0.7617 - val_accuracy: 0.5760 - val_loss: 1.1670\n",
            "Epoch 19/50\n",
            "\u001b[1m400/400\u001b[0m \u001b[32m━━━━━━━━━━━━━━━━━━━━\u001b[0m\u001b[37m\u001b[0m \u001b[1m2s\u001b[0m 3ms/step - accuracy: 0.6681 - loss: 0.7855 - val_accuracy: 0.5810 - val_loss: 1.1804\n",
            "Epoch 20/50\n",
            "\u001b[1m400/400\u001b[0m \u001b[32m━━━━━━━━━━━━━━━━━━━━\u001b[0m\u001b[37m\u001b[0m \u001b[1m1s\u001b[0m 3ms/step - accuracy: 0.6686 - loss: 0.7656 - val_accuracy: 0.5940 - val_loss: 1.1239\n",
            "Epoch 21/50\n",
            "\u001b[1m400/400\u001b[0m \u001b[32m━━━━━━━━━━━━━━━━━━━━\u001b[0m\u001b[37m\u001b[0m \u001b[1m1s\u001b[0m 3ms/step - accuracy: 0.6694 - loss: 0.7369 - val_accuracy: 0.5770 - val_loss: 1.1814\n",
            "Epoch 22/50\n",
            "\u001b[1m400/400\u001b[0m \u001b[32m━━━━━━━━━━━━━━━━━━━━\u001b[0m\u001b[37m\u001b[0m \u001b[1m3s\u001b[0m 4ms/step - accuracy: 0.7203 - loss: 0.6779 - val_accuracy: 0.5480 - val_loss: 1.1460\n",
            "Epoch 23/50\n",
            "\u001b[1m400/400\u001b[0m \u001b[32m━━━━━━━━━━━━━━━━━━━━\u001b[0m\u001b[37m\u001b[0m \u001b[1m2s\u001b[0m 3ms/step - accuracy: 0.6928 - loss: 0.7126 - val_accuracy: 0.4650 - val_loss: 1.3980\n",
            "Epoch 24/50\n",
            "\u001b[1m400/400\u001b[0m \u001b[32m━━━━━━━━━━━━━━━━━━━━\u001b[0m\u001b[37m\u001b[0m \u001b[1m2s\u001b[0m 3ms/step - accuracy: 0.7115 - loss: 0.6750 - val_accuracy: 0.4800 - val_loss: 1.2607\n",
            "Epoch 25/50\n",
            "\u001b[1m400/400\u001b[0m \u001b[32m━━━━━━━━━━━━━━━━━━━━\u001b[0m\u001b[37m\u001b[0m \u001b[1m1s\u001b[0m 3ms/step - accuracy: 0.7043 - loss: 0.6657 - val_accuracy: 0.5690 - val_loss: 1.2215\n",
            "Epoch 26/50\n",
            "\u001b[1m400/400\u001b[0m \u001b[32m━━━━━━━━━━━━━━━━━━━━\u001b[0m\u001b[37m\u001b[0m \u001b[1m1s\u001b[0m 3ms/step - accuracy: 0.7134 - loss: 0.6639 - val_accuracy: 0.4630 - val_loss: 1.4497\n",
            "Epoch 27/50\n",
            "\u001b[1m400/400\u001b[0m \u001b[32m━━━━━━━━━━━━━━━━━━━━\u001b[0m\u001b[37m\u001b[0m \u001b[1m1s\u001b[0m 3ms/step - accuracy: 0.7303 - loss: 0.6168 - val_accuracy: 0.5020 - val_loss: 1.3658\n",
            "Epoch 28/50\n",
            "\u001b[1m400/400\u001b[0m \u001b[32m━━━━━━━━━━━━━━━━━━━━\u001b[0m\u001b[37m\u001b[0m \u001b[1m1s\u001b[0m 3ms/step - accuracy: 0.7283 - loss: 0.6524 - val_accuracy: 0.5490 - val_loss: 1.2184\n",
            "Epoch 29/50\n",
            "\u001b[1m400/400\u001b[0m \u001b[32m━━━━━━━━━━━━━━━━━━━━\u001b[0m\u001b[37m\u001b[0m \u001b[1m1s\u001b[0m 3ms/step - accuracy: 0.7228 - loss: 0.6181 - val_accuracy: 0.5200 - val_loss: 1.2265\n",
            "Epoch 30/50\n",
            "\u001b[1m400/400\u001b[0m \u001b[32m━━━━━━━━━━━━━━━━━━━━\u001b[0m\u001b[37m\u001b[0m \u001b[1m2s\u001b[0m 3ms/step - accuracy: 0.7633 - loss: 0.5593 - val_accuracy: 0.6130 - val_loss: 1.2193\n",
            "Epoch 31/50\n",
            "\u001b[1m400/400\u001b[0m \u001b[32m━━━━━━━━━━━━━━━━━━━━\u001b[0m\u001b[37m\u001b[0m \u001b[1m1s\u001b[0m 3ms/step - accuracy: 0.7817 - loss: 0.5348 - val_accuracy: 0.5540 - val_loss: 1.2779\n",
            "Epoch 32/50\n",
            "\u001b[1m400/400\u001b[0m \u001b[32m━━━━━━━━━━━━━━━━━━━━\u001b[0m\u001b[37m\u001b[0m \u001b[1m1s\u001b[0m 3ms/step - accuracy: 0.7597 - loss: 0.5596 - val_accuracy: 0.5520 - val_loss: 1.2909\n",
            "Epoch 33/50\n",
            "\u001b[1m400/400\u001b[0m \u001b[32m━━━━━━━━━━━━━━━━━━━━\u001b[0m\u001b[37m\u001b[0m \u001b[1m1s\u001b[0m 3ms/step - accuracy: 0.7603 - loss: 0.5413 - val_accuracy: 0.5770 - val_loss: 1.3476\n",
            "Epoch 34/50\n",
            "\u001b[1m400/400\u001b[0m \u001b[32m━━━━━━━━━━━━━━━━━━━━\u001b[0m\u001b[37m\u001b[0m \u001b[1m1s\u001b[0m 3ms/step - accuracy: 0.7660 - loss: 0.5525 - val_accuracy: 0.5810 - val_loss: 1.4501\n",
            "Epoch 35/50\n",
            "\u001b[1m400/400\u001b[0m \u001b[32m━━━━━━━━━━━━━━━━━━━━\u001b[0m\u001b[37m\u001b[0m \u001b[1m1s\u001b[0m 3ms/step - accuracy: 0.7700 - loss: 0.5356 - val_accuracy: 0.5910 - val_loss: 1.3459\n",
            "Epoch 36/50\n",
            "\u001b[1m400/400\u001b[0m \u001b[32m━━━━━━━━━━━━━━━━━━━━\u001b[0m\u001b[37m\u001b[0m \u001b[1m1s\u001b[0m 3ms/step - accuracy: 0.7322 - loss: 0.6056 - val_accuracy: 0.5810 - val_loss: 1.3260\n",
            "Epoch 37/50\n",
            "\u001b[1m400/400\u001b[0m \u001b[32m━━━━━━━━━━━━━━━━━━━━\u001b[0m\u001b[37m\u001b[0m \u001b[1m1s\u001b[0m 3ms/step - accuracy: 0.7813 - loss: 0.5049 - val_accuracy: 0.5310 - val_loss: 1.5768\n",
            "Epoch 38/50\n",
            "\u001b[1m400/400\u001b[0m \u001b[32m━━━━━━━━━━━━━━━━━━━━\u001b[0m\u001b[37m\u001b[0m \u001b[1m2s\u001b[0m 4ms/step - accuracy: 0.8073 - loss: 0.4687 - val_accuracy: 0.5340 - val_loss: 1.5848\n",
            "Epoch 39/50\n",
            "\u001b[1m400/400\u001b[0m \u001b[32m━━━━━━━━━━━━━━━━━━━━\u001b[0m\u001b[37m\u001b[0m \u001b[1m2s\u001b[0m 3ms/step - accuracy: 0.8077 - loss: 0.4617 - val_accuracy: 0.5910 - val_loss: 1.4484\n",
            "Epoch 40/50\n",
            "\u001b[1m400/400\u001b[0m \u001b[32m━━━━━━━━━━━━━━━━━━━━\u001b[0m\u001b[37m\u001b[0m \u001b[1m1s\u001b[0m 3ms/step - accuracy: 0.8012 - loss: 0.4809 - val_accuracy: 0.5560 - val_loss: 1.4581\n",
            "Epoch 41/50\n",
            "\u001b[1m400/400\u001b[0m \u001b[32m━━━━━━━━━━━━━━━━━━━━\u001b[0m\u001b[37m\u001b[0m \u001b[1m1s\u001b[0m 3ms/step - accuracy: 0.7931 - loss: 0.4967 - val_accuracy: 0.5840 - val_loss: 1.5014\n",
            "Epoch 42/50\n",
            "\u001b[1m400/400\u001b[0m \u001b[32m━━━━━━━━━━━━━━━━━━━━\u001b[0m\u001b[37m\u001b[0m \u001b[1m2s\u001b[0m 3ms/step - accuracy: 0.8328 - loss: 0.4230 - val_accuracy: 0.5750 - val_loss: 1.6941\n",
            "Epoch 43/50\n",
            "\u001b[1m400/400\u001b[0m \u001b[32m━━━━━━━━━━━━━━━━━━━━\u001b[0m\u001b[37m\u001b[0m \u001b[1m1s\u001b[0m 3ms/step - accuracy: 0.7865 - loss: 0.4692 - val_accuracy: 0.5660 - val_loss: 1.6380\n",
            "Epoch 44/50\n",
            "\u001b[1m400/400\u001b[0m \u001b[32m━━━━━━━━━━━━━━━━━━━━\u001b[0m\u001b[37m\u001b[0m \u001b[1m1s\u001b[0m 3ms/step - accuracy: 0.7864 - loss: 0.4932 - val_accuracy: 0.5870 - val_loss: 1.4406\n",
            "Epoch 45/50\n",
            "\u001b[1m400/400\u001b[0m \u001b[32m━━━━━━━━━━━━━━━━━━━━\u001b[0m\u001b[37m\u001b[0m \u001b[1m1s\u001b[0m 3ms/step - accuracy: 0.8327 - loss: 0.4120 - val_accuracy: 0.5680 - val_loss: 1.4566\n",
            "Epoch 46/50\n",
            "\u001b[1m400/400\u001b[0m \u001b[32m━━━━━━━━━━━━━━━━━━━━\u001b[0m\u001b[37m\u001b[0m \u001b[1m2s\u001b[0m 4ms/step - accuracy: 0.8105 - loss: 0.4343 - val_accuracy: 0.5620 - val_loss: 1.6951\n",
            "Epoch 47/50\n",
            "\u001b[1m400/400\u001b[0m \u001b[32m━━━━━━━━━━━━━━━━━━━━\u001b[0m\u001b[37m\u001b[0m \u001b[1m2s\u001b[0m 4ms/step - accuracy: 0.7528 - loss: 0.5830 - val_accuracy: 0.5790 - val_loss: 1.4785\n",
            "Epoch 48/50\n",
            "\u001b[1m400/400\u001b[0m \u001b[32m━━━━━━━━━━━━━━━━━━━━\u001b[0m\u001b[37m\u001b[0m \u001b[1m2s\u001b[0m 3ms/step - accuracy: 0.8330 - loss: 0.4023 - val_accuracy: 0.5810 - val_loss: 1.6389\n",
            "Epoch 49/50\n",
            "\u001b[1m400/400\u001b[0m \u001b[32m━━━━━━━━━━━━━━━━━━━━\u001b[0m\u001b[37m\u001b[0m \u001b[1m1s\u001b[0m 3ms/step - accuracy: 0.8063 - loss: 0.4500 - val_accuracy: 0.5620 - val_loss: 1.6670\n",
            "Epoch 50/50\n",
            "\u001b[1m400/400\u001b[0m \u001b[32m━━━━━━━━━━━━━━━━━━━━\u001b[0m\u001b[37m\u001b[0m \u001b[1m1s\u001b[0m 3ms/step - accuracy: 0.8060 - loss: 0.4396 - val_accuracy: 0.5610 - val_loss: 1.9042\n",
            "CPU times: user 1min 6s, sys: 4.48 s, total: 1min 10s\n",
            "Wall time: 1min 18s\n"
          ]
        }
      ],
      "source": [
        "%%time\n",
        "\n",
        "# Train the model\n",
        "epochs = 50\n",
        "history = model.fit(train_crhtds, epochs=epochs, verbose=1,\n",
        "                     validation_data=test_crhtds)"
      ]
    },
    {
      "cell_type": "markdown",
      "metadata": {
        "id": "3BdIGnzFptw1"
      },
      "source": [
        "---\n",
        "**Plots metrics**\n",
        "\n",
        "---"
      ]
    },
    {
      "cell_type": "code",
      "execution_count": null,
      "metadata": {
        "colab": {
          "base_uri": "https://localhost:8080/",
          "height": 564
        },
        "id": "PaAhFJhMDSz7",
        "outputId": "2abe8abb-5a33-46ff-a77b-5e962bf40704"
      },
      "outputs": [
        {
          "output_type": "display_data",
          "data": {
            "text/plain": [
              "<Figure size 1200x600 with 2 Axes>"
            ],
            "image/png": "[encoded data removed]"
          },
          "metadata": {}
        }
      ],
      "source": [
        "import matplotlib.pyplot as plt\n",
        "\n",
        "# Access the metrics stored in history.history\n",
        "loss = history.history['loss']\n",
        "val_loss = history.history['val_loss']\n",
        "accuracy = history.history['accuracy']\n",
        "val_accuracy = history.history['val_accuracy']\n",
        "\n",
        "# Plot the loss\n",
        "plt.figure(figsize=(12, 6))\n",
        "\n",
        "plt.subplot(1, 2, 1)\n",
        "plt.plot(range(epochs), loss, label='Training Loss')\n",
        "plt.plot(range(epochs), val_loss, label='Validation Loss')\n",
        "plt.xlabel('Epochs')\n",
        "plt.ylabel('Loss')\n",
        "plt.title('Training and Validation Loss')\n",
        "plt.legend()\n",
        "\n",
        "# Plot the accuracy\n",
        "plt.subplot(1, 2, 2)\n",
        "plt.plot(range(epochs), accuracy, label='Training Accuracy')\n",
        "plt.plot(range(epochs), val_accuracy, label='Validation Accuracy')\n",
        "plt.xlabel('Epochs')\n",
        "plt.ylabel('Accuracy')\n",
        "plt.title('Training and Validation Accuracy')\n",
        "plt.legend()\n",
        "\n",
        "plt.show()"
      ]
    },
    {
      "cell_type": "markdown",
      "metadata": {
        "id": "Xa5-0T5KE8b0"
      },
      "source": [
        "---\n",
        "**Evaluate**\n",
        "\n",
        "---"
      ]
    },
    {
      "cell_type": "code",
      "execution_count": null,
      "metadata": {
        "colab": {
          "base_uri": "https://localhost:8080/",
          "height": 426
        },
        "id": "cPz78h4TE8b_",
        "outputId": "237840ff-c264-4f23-e499-0e49da6b9793"
      },
      "outputs": [
        {
          "output_type": "stream",
          "name": "stdout",
          "text": [
            "Test Loss: 1.9041694402694702\n",
            "Test Accuracy: 0.5609999895095825\n"
          ]
        },
        {
          "output_type": "display_data",
          "data": {
            "text/plain": [
              "<Figure size 600x400 with 1 Axes>"
            ],
            "image/png": "[encoded data removed]"
          },
          "metadata": {}
        }
      ],
      "source": [
        "import matplotlib.pyplot as plt\n",
        "\n",
        "# Evaluate the model on the test set\n",
        "test_loss, test_accuracy = model.evaluate(test_crhtds, verbose=0)\n",
        "\n",
        "# Print the test loss and accuracy\n",
        "print(\"Test Loss:\", test_loss)\n",
        "print(\"Test Accuracy:\", test_accuracy)\n",
        "\n",
        "# Plot the test data\n",
        "plt.figure(figsize=(6, 4))\n",
        "plt.bar(['Loss', 'Accuracy'], [test_loss, test_accuracy], color=['red', 'blue'])\n",
        "plt.title('Test Loss and Accuracy')\n",
        "plt.ylabel('Value')\n",
        "plt.show()\n"
      ]
    },
    {
      "cell_type": "markdown",
      "metadata": {
        "id": "FwYAna4eFMy4"
      },
      "source": [
        "---\n",
        "**Obtain Confusion Matrix**\n",
        "\n",
        "---"
      ]
    },
    {
      "cell_type": "code",
      "execution_count": null,
      "metadata": {
        "colab": {
          "base_uri": "https://localhost:8080/",
          "height": 581
        },
        "id": "mg37Q-GnFMzD",
        "outputId": "ecb275e9-0b69-4fa1-9d72-efb930f0445e"
      },
      "outputs": [
        {
          "output_type": "stream",
          "name": "stdout",
          "text": [
            "\u001b[1m100/100\u001b[0m \u001b[32m━━━━━━━━━━━━━━━━━━━━\u001b[0m\u001b[37m\u001b[0m \u001b[1m0s\u001b[0m 2ms/step\n",
            "Length of y_true: 1000\n",
            "Length of y_pred_classes: 1000\n",
            "Unique values in y_true: [0 1 2 3 4 5 6 7]\n",
            "Unique values in y_pred_classes: [0 1 2 3 4 5 6 7]\n"
          ]
        },
        {
          "output_type": "display_data",
          "data": {
            "text/plain": [
              "<Figure size 640x480 with 2 Axes>"
            ],
            "image/png": "[encoded data removed]"
          },
          "metadata": {}
        }
      ],
      "source": [
        "import numpy as np\n",
        "import tensorflow as tf\n",
        "from sklearn.metrics import confusion_matrix, ConfusionMatrixDisplay\n",
        "import matplotlib.pyplot as plt\n",
        "\n",
        "# Assuming model and test_fm are already defined and loaded\n",
        "\n",
        "# Make predictions on the test set\n",
        "y_pred = model.predict(test_crhtds)\n",
        "y_pred_classes = np.argmax(y_pred, axis=1)  # Use argmax to get the class with the highest probability\n",
        "\n",
        "# Get true labels\n",
        "y_true = np.concatenate([y.numpy() for x, y in test_crhtds], axis=0)\n",
        "\n",
        "# Print lengths to confirm they match\n",
        "print(\"Length of y_true:\", len(y_true))\n",
        "print(\"Length of y_pred_classes:\", len(y_pred_classes))\n",
        "\n",
        "# Check unique values\n",
        "print(\"Unique values in y_true:\", np.unique(y_true))\n",
        "print(\"Unique values in y_pred_classes:\", np.unique(y_pred_classes))\n",
        "\n",
        "# Define class labels\n",
        "classes = info.features['label'].names\n",
        "\n",
        "# Calculate confusion matrix\n",
        "conf_matrix = confusion_matrix(y_true, y_pred_classes)\n",
        "\n",
        "# Display confusion matrix\n",
        "disp = ConfusionMatrixDisplay(confusion_matrix=conf_matrix,\n",
        "                              display_labels=classes)\n",
        "disp.plot(cmap=plt.cm.Blues)\n",
        "plt.xticks(rotation=90)\n",
        "plt.show()"
      ]
    },
    {
      "cell_type": "markdown",
      "metadata": {
        "id": "dBzufaHFp7Sw"
      },
      "source": [
        "---\n",
        "**Improve the model**\n",
        "\n",
        "---"
      ]
    },
    {
      "cell_type": "markdown",
      "metadata": {
        "id": "mPJyJDaEkfLC"
      },
      "source": [
        "The _**``Batch Normalization``**_ layer is a technique used in deep learning _``to improve the training speed and performance of neural networks``_. It normalizes the inputs to a layer for each mini-batch, which helps reduce internal covariate shift—this refers to changes in the distribution of network activations as the parameters are updated during training.\n",
        "\n",
        "### How it works:\n",
        "When using Batch Normalization, _``each mini-batch of data is normalized by adjusting the activations based on their mean and variance``_:\n",
        "\n",
        "1. **``Normalize activations``**:\n",
        "   For each feature in the batch, _``the layer subtracts the batch mean and divides by the batch standard deviation``_:\n",
        "   $$ \\hat{x}_i = \\frac{x_i - \\mu_{\\text{batch}}}{\\sigma_{\\text{batch}}} $$\n",
        "\n",
        "   Where $ x_i $ is the input, $ \\mu_{\\text{batch}} $ is the mean, and $ \\sigma_{\\text{batch}} $ is the standard deviation calculated from the batch of data.\n",
        "\n",
        "2. **``Scale and shift``**:\n",
        "   After normalization, _``the layer applies two learned parameters, a scale factor $ \\gamma $ and a shift factor $ \\beta $, to allow the network to control the normalized values``_:\n",
        "   $$ y_i = \\gamma \\hat{x}_i + \\beta $$\n",
        "\n",
        "   These parameters are trainable and allow the model to adaptively scale and shift the normalized values.\n",
        "\n",
        "### Benefits:\n",
        "1. _**`Faster convergence`**_:\n",
        "   By reducing the internal covariate shift, Batch Normalization helps the network converge faster during training. This allows you to use higher learning rates, speeding up training.\n",
        "\n",
        "2. _**`Reduces dependency on initialization`**_:\n",
        "   It makes the training less sensitive to the initial weights of the model.\n",
        "\n",
        "3. _**`Acts as a regularizer`**_:\n",
        "   Batch Normalization can reduce the need for other regularization techniques like Dropout because it introduces some noise during training (since it's based on mini-batch statistics).\n",
        "\n",
        "_``It is usually placed after a linear transformation (like a Dense or Conv layer) and before the activation function``_."
      ]
    },
    {
      "cell_type": "code",
      "source": [
        "import tensorflow as tf\n",
        "from tensorflow.keras.models import Sequential\n",
        "from tensorflow.keras.layers import Flatten, Dense, Input, BatchNormalization\n",
        "\n",
        "model = Sequential([\n",
        "  Input(shape=np_shape),\n",
        "  Flatten(),\n",
        "  Dense(512, activation='relu'),\n",
        "  BatchNormalization(),\n",
        "  Dense(256, activation='relu'),\n",
        "  BatchNormalization(),\n",
        "  Dense(8, activation='softmax')\n",
        "])"
      ],
      "metadata": {
        "id": "Zw0-znI83Xdo"
      },
      "execution_count": null,
      "outputs": []
    },
    {
      "cell_type": "markdown",
      "metadata": {
        "id": "5PYGfYG_C2Q1"
      },
      "source": [
        "---\n",
        "**Compile the enhanced model**\n",
        "\n",
        "---"
      ]
    },
    {
      "cell_type": "code",
      "execution_count": null,
      "metadata": {
        "id": "tCyMCjmxFN6Z"
      },
      "outputs": [],
      "source": [
        "from tensorflow.keras.optimizers import Adam\n",
        "\n",
        "model.compile(optimizer=Adam(learning_rate=0.001),\n",
        "              loss='sparse_categorical_crossentropy',\n",
        "              metrics=['accuracy'])"
      ]
    },
    {
      "cell_type": "markdown",
      "metadata": {
        "id": "nddxzuyeC2Q1"
      },
      "source": [
        "---\n",
        "**Train the enhanced model**\n",
        "\n",
        "---"
      ]
    },
    {
      "cell_type": "code",
      "execution_count": null,
      "metadata": {
        "colab": {
          "base_uri": "https://localhost:8080/"
        },
        "id": "W3KJXYKuFFZv",
        "outputId": "fe72695b-4c8a-43db-e595-1335fbb4aeca"
      },
      "outputs": [
        {
          "output_type": "stream",
          "name": "stdout",
          "text": [
            "Epoch 1/50\n",
            "\u001b[1m400/400\u001b[0m \u001b[32m━━━━━━━━━━━━━━━━━━━━\u001b[0m\u001b[37m\u001b[0m \u001b[1m4s\u001b[0m 5ms/step - accuracy: 0.4200 - loss: 1.3866 - val_accuracy: 0.3460 - val_loss: 1.7528\n",
            "Epoch 2/50\n",
            "\u001b[1m400/400\u001b[0m \u001b[32m━━━━━━━━━━━━━━━━━━━━\u001b[0m\u001b[37m\u001b[0m \u001b[1m4s\u001b[0m 3ms/step - accuracy: 0.5037 - loss: 1.1240 - val_accuracy: 0.3750 - val_loss: 1.4146\n",
            "Epoch 3/50\n",
            "\u001b[1m400/400\u001b[0m \u001b[32m━━━━━━━━━━━━━━━━━━━━\u001b[0m\u001b[37m\u001b[0m \u001b[1m3s\u001b[0m 4ms/step - accuracy: 0.5247 - loss: 1.1408 - val_accuracy: 0.4700 - val_loss: 1.0960\n",
            "Epoch 4/50\n",
            "\u001b[1m400/400\u001b[0m \u001b[32m━━━━━━━━━━━━━━━━━━━━\u001b[0m\u001b[37m\u001b[0m \u001b[1m1s\u001b[0m 3ms/step - accuracy: 0.5374 - loss: 1.1056 - val_accuracy: 0.4190 - val_loss: 1.6650\n",
            "Epoch 5/50\n",
            "\u001b[1m400/400\u001b[0m \u001b[32m━━━━━━━━━━━━━━━━━━━━\u001b[0m\u001b[37m\u001b[0m \u001b[1m3s\u001b[0m 3ms/step - accuracy: 0.5656 - loss: 1.0649 - val_accuracy: 0.3820 - val_loss: 1.5907\n",
            "Epoch 6/50\n",
            "\u001b[1m400/400\u001b[0m \u001b[32m━━━━━━━━━━━━━━━━━━━━\u001b[0m\u001b[37m\u001b[0m \u001b[1m3s\u001b[0m 4ms/step - accuracy: 0.5726 - loss: 1.0200 - val_accuracy: 0.4210 - val_loss: 1.3437\n",
            "Epoch 7/50\n",
            "\u001b[1m400/400\u001b[0m \u001b[32m━━━━━━━━━━━━━━━━━━━━\u001b[0m\u001b[37m\u001b[0m \u001b[1m1s\u001b[0m 3ms/step - accuracy: 0.6178 - loss: 0.9240 - val_accuracy: 0.2250 - val_loss: 2.9326\n",
            "Epoch 8/50\n",
            "\u001b[1m400/400\u001b[0m \u001b[32m━━━━━━━━━━━━━━━━━━━━\u001b[0m\u001b[37m\u001b[0m \u001b[1m3s\u001b[0m 4ms/step - accuracy: 0.6565 - loss: 0.8470 - val_accuracy: 0.4620 - val_loss: 1.8589\n",
            "Epoch 9/50\n",
            "\u001b[1m400/400\u001b[0m \u001b[32m━━━━━━━━━━━━━━━━━━━━\u001b[0m\u001b[37m\u001b[0m \u001b[1m2s\u001b[0m 4ms/step - accuracy: 0.6374 - loss: 0.8571 - val_accuracy: 0.4270 - val_loss: 1.8258\n",
            "Epoch 10/50\n",
            "\u001b[1m400/400\u001b[0m \u001b[32m━━━━━━━━━━━━━━━━━━━━\u001b[0m\u001b[37m\u001b[0m \u001b[1m2s\u001b[0m 4ms/step - accuracy: 0.6832 - loss: 0.7597 - val_accuracy: 0.4170 - val_loss: 1.7719\n",
            "Epoch 11/50\n",
            "\u001b[1m400/400\u001b[0m \u001b[32m━━━━━━━━━━━━━━━━━━━━\u001b[0m\u001b[37m\u001b[0m \u001b[1m2s\u001b[0m 3ms/step - accuracy: 0.7131 - loss: 0.7185 - val_accuracy: 0.3460 - val_loss: 3.6072\n",
            "Epoch 12/50\n",
            "\u001b[1m400/400\u001b[0m \u001b[32m━━━━━━━━━━━━━━━━━━━━\u001b[0m\u001b[37m\u001b[0m \u001b[1m1s\u001b[0m 4ms/step - accuracy: 0.7156 - loss: 0.7386 - val_accuracy: 0.2650 - val_loss: 3.2452\n",
            "Epoch 13/50\n",
            "\u001b[1m400/400\u001b[0m \u001b[32m━━━━━━━━━━━━━━━━━━━━\u001b[0m\u001b[37m\u001b[0m \u001b[1m1s\u001b[0m 4ms/step - accuracy: 0.7166 - loss: 0.7035 - val_accuracy: 0.4420 - val_loss: 2.6350\n",
            "Epoch 14/50\n",
            "\u001b[1m400/400\u001b[0m \u001b[32m━━━━━━━━━━━━━━━━━━━━\u001b[0m\u001b[37m\u001b[0m \u001b[1m1s\u001b[0m 3ms/step - accuracy: 0.7377 - loss: 0.6432 - val_accuracy: 0.3940 - val_loss: 2.5569\n",
            "Epoch 15/50\n",
            "\u001b[1m400/400\u001b[0m \u001b[32m━━━━━━━━━━━━━━━━━━━━\u001b[0m\u001b[37m\u001b[0m \u001b[1m4s\u001b[0m 8ms/step - accuracy: 0.7522 - loss: 0.6204 - val_accuracy: 0.2290 - val_loss: 8.1214\n",
            "Epoch 16/50\n",
            "\u001b[1m400/400\u001b[0m \u001b[32m━━━━━━━━━━━━━━━━━━━━\u001b[0m\u001b[37m\u001b[0m \u001b[1m3s\u001b[0m 3ms/step - accuracy: 0.7710 - loss: 0.5620 - val_accuracy: 0.4190 - val_loss: 3.1722\n",
            "Epoch 17/50\n",
            "\u001b[1m400/400\u001b[0m \u001b[32m━━━━━━━━━━━━━━━━━━━━\u001b[0m\u001b[37m\u001b[0m \u001b[1m1s\u001b[0m 3ms/step - accuracy: 0.7842 - loss: 0.5657 - val_accuracy: 0.4300 - val_loss: 2.1501\n",
            "Epoch 18/50\n",
            "\u001b[1m400/400\u001b[0m \u001b[32m━━━━━━━━━━━━━━━━━━━━\u001b[0m\u001b[37m\u001b[0m \u001b[1m2s\u001b[0m 4ms/step - accuracy: 0.7966 - loss: 0.5242 - val_accuracy: 0.4410 - val_loss: 3.0844\n",
            "Epoch 19/50\n",
            "\u001b[1m400/400\u001b[0m \u001b[32m━━━━━━━━━━━━━━━━━━━━\u001b[0m\u001b[37m\u001b[0m \u001b[1m1s\u001b[0m 3ms/step - accuracy: 0.7975 - loss: 0.5047 - val_accuracy: 0.3550 - val_loss: 5.1530\n",
            "Epoch 20/50\n",
            "\u001b[1m400/400\u001b[0m \u001b[32m━━━━━━━━━━━━━━━━━━━━\u001b[0m\u001b[37m\u001b[0m \u001b[1m3s\u001b[0m 4ms/step - accuracy: 0.8040 - loss: 0.5279 - val_accuracy: 0.3750 - val_loss: 3.1812\n",
            "Epoch 21/50\n",
            "\u001b[1m400/400\u001b[0m \u001b[32m━━━━━━━━━━━━━━━━━━━━\u001b[0m\u001b[37m\u001b[0m \u001b[1m2s\u001b[0m 4ms/step - accuracy: 0.7772 - loss: 0.5641 - val_accuracy: 0.5240 - val_loss: 1.9284\n",
            "Epoch 22/50\n",
            "\u001b[1m400/400\u001b[0m \u001b[32m━━━━━━━━━━━━━━━━━━━━\u001b[0m\u001b[37m\u001b[0m \u001b[1m3s\u001b[0m 4ms/step - accuracy: 0.8101 - loss: 0.4893 - val_accuracy: 0.3900 - val_loss: 3.4363\n",
            "Epoch 23/50\n",
            "\u001b[1m400/400\u001b[0m \u001b[32m━━━━━━━━━━━━━━━━━━━━\u001b[0m\u001b[37m\u001b[0m \u001b[1m1s\u001b[0m 4ms/step - accuracy: 0.7819 - loss: 0.5290 - val_accuracy: 0.4820 - val_loss: 2.4161\n",
            "Epoch 24/50\n",
            "\u001b[1m400/400\u001b[0m \u001b[32m━━━━━━━━━━━━━━━━━━━━\u001b[0m\u001b[37m\u001b[0m \u001b[1m1s\u001b[0m 3ms/step - accuracy: 0.8169 - loss: 0.4612 - val_accuracy: 0.4100 - val_loss: 3.2058\n",
            "Epoch 25/50\n",
            "\u001b[1m400/400\u001b[0m \u001b[32m━━━━━━━━━━━━━━━━━━━━\u001b[0m\u001b[37m\u001b[0m \u001b[1m3s\u001b[0m 4ms/step - accuracy: 0.8388 - loss: 0.4272 - val_accuracy: 0.4180 - val_loss: 3.7178\n",
            "Epoch 26/50\n",
            "\u001b[1m400/400\u001b[0m \u001b[32m━━━━━━━━━━━━━━━━━━━━\u001b[0m\u001b[37m\u001b[0m \u001b[1m2s\u001b[0m 4ms/step - accuracy: 0.8062 - loss: 0.4948 - val_accuracy: 0.3150 - val_loss: 3.4660\n",
            "Epoch 27/50\n",
            "\u001b[1m400/400\u001b[0m \u001b[32m━━━━━━━━━━━━━━━━━━━━\u001b[0m\u001b[37m\u001b[0m \u001b[1m2s\u001b[0m 4ms/step - accuracy: 0.8535 - loss: 0.3952 - val_accuracy: 0.4890 - val_loss: 2.2147\n",
            "Epoch 28/50\n",
            "\u001b[1m400/400\u001b[0m \u001b[32m━━━━━━━━━━━━━━━━━━━━\u001b[0m\u001b[37m\u001b[0m \u001b[1m2s\u001b[0m 4ms/step - accuracy: 0.8383 - loss: 0.4005 - val_accuracy: 0.3730 - val_loss: 2.8732\n",
            "Epoch 29/50\n",
            "\u001b[1m400/400\u001b[0m \u001b[32m━━━━━━━━━━━━━━━━━━━━\u001b[0m\u001b[37m\u001b[0m \u001b[1m3s\u001b[0m 4ms/step - accuracy: 0.8439 - loss: 0.3777 - val_accuracy: 0.4480 - val_loss: 3.0000\n",
            "Epoch 30/50\n",
            "\u001b[1m400/400\u001b[0m \u001b[32m━━━━━━━━━━━━━━━━━━━━\u001b[0m\u001b[37m\u001b[0m \u001b[1m2s\u001b[0m 3ms/step - accuracy: 0.8461 - loss: 0.3699 - val_accuracy: 0.4120 - val_loss: 2.9115\n",
            "Epoch 31/50\n",
            "\u001b[1m400/400\u001b[0m \u001b[32m━━━━━━━━━━━━━━━━━━━━\u001b[0m\u001b[37m\u001b[0m \u001b[1m1s\u001b[0m 3ms/step - accuracy: 0.8578 - loss: 0.3713 - val_accuracy: 0.3980 - val_loss: 2.9917\n",
            "Epoch 32/50\n",
            "\u001b[1m400/400\u001b[0m \u001b[32m━━━━━━━━━━━━━━━━━━━━\u001b[0m\u001b[37m\u001b[0m \u001b[1m1s\u001b[0m 4ms/step - accuracy: 0.8617 - loss: 0.3468 - val_accuracy: 0.4710 - val_loss: 2.4137\n",
            "Epoch 33/50\n",
            "\u001b[1m400/400\u001b[0m \u001b[32m━━━━━━━━━━━━━━━━━━━━\u001b[0m\u001b[37m\u001b[0m \u001b[1m2s\u001b[0m 3ms/step - accuracy: 0.8442 - loss: 0.3763 - val_accuracy: 0.4180 - val_loss: 3.4387\n",
            "Epoch 34/50\n",
            "\u001b[1m400/400\u001b[0m \u001b[32m━━━━━━━━━━━━━━━━━━━━\u001b[0m\u001b[37m\u001b[0m \u001b[1m1s\u001b[0m 3ms/step - accuracy: 0.8587 - loss: 0.4074 - val_accuracy: 0.2690 - val_loss: 6.4005\n",
            "Epoch 35/50\n",
            "\u001b[1m400/400\u001b[0m \u001b[32m━━━━━━━━━━━━━━━━━━━━\u001b[0m\u001b[37m\u001b[0m \u001b[1m3s\u001b[0m 4ms/step - accuracy: 0.8517 - loss: 0.3551 - val_accuracy: 0.4690 - val_loss: 3.0079\n",
            "Epoch 36/50\n",
            "\u001b[1m400/400\u001b[0m \u001b[32m━━━━━━━━━━━━━━━━━━━━\u001b[0m\u001b[37m\u001b[0m \u001b[1m1s\u001b[0m 4ms/step - accuracy: 0.8586 - loss: 0.3654 - val_accuracy: 0.4030 - val_loss: 3.5033\n",
            "Epoch 37/50\n",
            "\u001b[1m400/400\u001b[0m \u001b[32m━━━━━━━━━━━━━━━━━━━━\u001b[0m\u001b[37m\u001b[0m \u001b[1m1s\u001b[0m 4ms/step - accuracy: 0.8918 - loss: 0.2946 - val_accuracy: 0.4630 - val_loss: 2.8740\n",
            "Epoch 38/50\n",
            "\u001b[1m400/400\u001b[0m \u001b[32m━━━━━━━━━━━━━━━━━━━━\u001b[0m\u001b[37m\u001b[0m \u001b[1m2s\u001b[0m 3ms/step - accuracy: 0.8667 - loss: 0.3661 - val_accuracy: 0.2910 - val_loss: 4.6101\n",
            "Epoch 39/50\n",
            "\u001b[1m400/400\u001b[0m \u001b[32m━━━━━━━━━━━━━━━━━━━━\u001b[0m\u001b[37m\u001b[0m \u001b[1m1s\u001b[0m 3ms/step - accuracy: 0.8865 - loss: 0.2974 - val_accuracy: 0.3140 - val_loss: 4.2551\n",
            "Epoch 40/50\n",
            "\u001b[1m400/400\u001b[0m \u001b[32m━━━━━━━━━━━━━━━━━━━━\u001b[0m\u001b[37m\u001b[0m \u001b[1m1s\u001b[0m 3ms/step - accuracy: 0.8713 - loss: 0.3437 - val_accuracy: 0.5510 - val_loss: 2.1056\n",
            "Epoch 41/50\n",
            "\u001b[1m400/400\u001b[0m \u001b[32m━━━━━━━━━━━━━━━━━━━━\u001b[0m\u001b[37m\u001b[0m \u001b[1m1s\u001b[0m 3ms/step - accuracy: 0.8856 - loss: 0.2986 - val_accuracy: 0.4730 - val_loss: 2.6033\n",
            "Epoch 42/50\n",
            "\u001b[1m400/400\u001b[0m \u001b[32m━━━━━━━━━━━━━━━━━━━━\u001b[0m\u001b[37m\u001b[0m \u001b[1m2s\u001b[0m 4ms/step - accuracy: 0.8885 - loss: 0.2715 - val_accuracy: 0.4410 - val_loss: 3.4490\n",
            "Epoch 43/50\n",
            "\u001b[1m400/400\u001b[0m \u001b[32m━━━━━━━━━━━━━━━━━━━━\u001b[0m\u001b[37m\u001b[0m \u001b[1m2s\u001b[0m 3ms/step - accuracy: 0.8689 - loss: 0.3133 - val_accuracy: 0.4460 - val_loss: 2.8105\n",
            "Epoch 44/50\n",
            "\u001b[1m400/400\u001b[0m \u001b[32m━━━━━━━━━━━━━━━━━━━━\u001b[0m\u001b[37m\u001b[0m \u001b[1m3s\u001b[0m 3ms/step - accuracy: 0.8727 - loss: 0.3243 - val_accuracy: 0.3600 - val_loss: 119.4346\n",
            "Epoch 45/50\n",
            "\u001b[1m400/400\u001b[0m \u001b[32m━━━━━━━━━━━━━━━━━━━━\u001b[0m\u001b[37m\u001b[0m \u001b[1m3s\u001b[0m 4ms/step - accuracy: 0.8762 - loss: 0.3155 - val_accuracy: 0.2940 - val_loss: 3.5252\n",
            "Epoch 46/50\n",
            "\u001b[1m400/400\u001b[0m \u001b[32m━━━━━━━━━━━━━━━━━━━━\u001b[0m\u001b[37m\u001b[0m \u001b[1m2s\u001b[0m 3ms/step - accuracy: 0.8878 - loss: 0.3107 - val_accuracy: 0.4230 - val_loss: 3.1861\n",
            "Epoch 47/50\n",
            "\u001b[1m400/400\u001b[0m \u001b[32m━━━━━━━━━━━━━━━━━━━━\u001b[0m\u001b[37m\u001b[0m \u001b[1m3s\u001b[0m 4ms/step - accuracy: 0.9097 - loss: 0.2318 - val_accuracy: 0.3430 - val_loss: 3.3762\n",
            "Epoch 48/50\n",
            "\u001b[1m400/400\u001b[0m \u001b[32m━━━━━━━━━━━━━━━━━━━━\u001b[0m\u001b[37m\u001b[0m \u001b[1m1s\u001b[0m 4ms/step - accuracy: 0.8852 - loss: 0.2798 - val_accuracy: 0.4520 - val_loss: 3.8381\n",
            "Epoch 49/50\n",
            "\u001b[1m400/400\u001b[0m \u001b[32m━━━━━━━━━━━━━━━━━━━━\u001b[0m\u001b[37m\u001b[0m \u001b[1m1s\u001b[0m 3ms/step - accuracy: 0.8914 - loss: 0.2734 - val_accuracy: 0.2790 - val_loss: 4.6850\n",
            "Epoch 50/50\n",
            "\u001b[1m400/400\u001b[0m \u001b[32m━━━━━━━━━━━━━━━━━━━━\u001b[0m\u001b[37m\u001b[0m \u001b[1m1s\u001b[0m 3ms/step - accuracy: 0.9057 - loss: 0.2379 - val_accuracy: 0.4200 - val_loss: 2.6440\n"
          ]
        }
      ],
      "source": [
        "epochs = 50\n",
        "history = model.fit(train_crhtds, epochs=epochs, verbose=1,\n",
        "                     validation_data=test_crhtds)"
      ]
    },
    {
      "cell_type": "markdown",
      "metadata": {
        "id": "IqqnLZi0C2Q2"
      },
      "source": [
        "---\n",
        "**Plot the metrics for the enhanced model**\n",
        "\n",
        "---"
      ]
    },
    {
      "cell_type": "code",
      "execution_count": null,
      "metadata": {
        "colab": {
          "base_uri": "https://localhost:8080/",
          "height": 564
        },
        "id": "51jD39BdHYbV",
        "outputId": "ec5e4d55-85a7-4e42-90b9-9bb66cbce44a"
      },
      "outputs": [
        {
          "output_type": "display_data",
          "data": {
            "text/plain": [
              "<Figure size 1200x600 with 2 Axes>"
            ],
            "image/png": "[encoded data removed]"
          },
          "metadata": {}
        }
      ],
      "source": [
        "import matplotlib.pyplot as plt\n",
        "\n",
        "# Access the metrics stored in history.history\n",
        "loss = history.history['loss']\n",
        "val_loss = history.history['val_loss']\n",
        "accuracy = history.history['accuracy']\n",
        "val_accuracy = history.history['val_accuracy']\n",
        "\n",
        "# Plot the loss\n",
        "plt.figure(figsize=(12, 6))\n",
        "\n",
        "plt.subplot(1, 2, 1)\n",
        "plt.plot(range(epochs), loss, label='Training Loss')\n",
        "plt.plot(range(epochs), val_loss, label='Validation Loss')\n",
        "plt.xlabel('Epochs')\n",
        "plt.ylabel('Loss')\n",
        "plt.title('Training and Validation Loss')\n",
        "plt.legend()\n",
        "\n",
        "# Plot the accuracy\n",
        "plt.subplot(1, 2, 2)\n",
        "plt.plot(range(epochs), accuracy, label='Training Accuracy')\n",
        "plt.plot(range(epochs), val_accuracy, label='Validation Accuracy')\n",
        "plt.xlabel('Epochs')\n",
        "plt.ylabel('Accuracy')\n",
        "plt.title('Training and Validation Accuracy')\n",
        "plt.legend()\n",
        "\n",
        "plt.show()"
      ]
    },
    {
      "cell_type": "markdown",
      "metadata": {
        "id": "A_hd5YI1qG0y"
      },
      "source": [
        "## 6. Evaluate the model\n",
        "\n",
        "To evaluate the model with the **test set** and visualize its performance, you can use the `evaluate()` method in Keras _``to compute the loss and metrics on the test data``_. Then, you can plot the results using matplotlib."
      ]
    },
    {
      "cell_type": "markdown",
      "metadata": {
        "id": "0Vve9f3f-tNS"
      },
      "source": [
        "---\n",
        "**Evaluate**\n",
        "\n",
        "---"
      ]
    },
    {
      "cell_type": "markdown",
      "metadata": {
        "id": "q6UgxGKq_AiL"
      },
      "source": [
        "This code snippet will _``evaluate the trained model on the test set``_, print the test loss and accuracy, and then plot them using a bar plot. The red bar represents the test loss, and the blue bar represents the test accuracy. This visualization provides a quick overview of the model's performance on the test data."
      ]
    },
    {
      "cell_type": "code",
      "execution_count": null,
      "metadata": {
        "colab": {
          "base_uri": "https://localhost:8080/",
          "height": 426
        },
        "id": "mpOOKNoKPfj-",
        "outputId": "39a4f61e-793a-450d-d5f1-31b2982bfdba"
      },
      "outputs": [
        {
          "output_type": "stream",
          "name": "stdout",
          "text": [
            "Test Loss: 2.6439828872680664\n",
            "Test Accuracy: 0.41999998688697815\n"
          ]
        },
        {
          "output_type": "display_data",
          "data": {
            "text/plain": [
              "<Figure size 600x400 with 1 Axes>"
            ],
            "image/png": "[encoded data removed]"
          },
          "metadata": {}
        }
      ],
      "source": [
        "import matplotlib.pyplot as plt\n",
        "\n",
        "# Evaluate the model on the test set\n",
        "test_loss, test_accuracy = model.evaluate(test_crhtds, verbose=0)\n",
        "\n",
        "# Print the test loss and accuracy\n",
        "print(\"Test Loss:\", test_loss)\n",
        "print(\"Test Accuracy:\", test_accuracy)\n",
        "\n",
        "# Plot the test data\n",
        "plt.figure(figsize=(6, 4))\n",
        "plt.bar(['Loss', 'Accuracy'], [test_loss, test_accuracy], color=['red', 'blue'])\n",
        "plt.title('Test Loss and Accuracy')\n",
        "plt.ylabel('Value')\n",
        "plt.show()\n"
      ]
    },
    {
      "cell_type": "markdown",
      "metadata": {
        "id": "M-aUXqHyqOPZ"
      },
      "source": [
        "---\n",
        "**Obtain Confusion Matrix**\n",
        "\n",
        "---"
      ]
    },
    {
      "cell_type": "code",
      "execution_count": null,
      "metadata": {
        "colab": {
          "base_uri": "https://localhost:8080/",
          "height": 581
        },
        "id": "4v9dPOTgQDLY",
        "outputId": "5b2daae2-a639-49c0-a749-da83d359bc79"
      },
      "outputs": [
        {
          "output_type": "stream",
          "name": "stdout",
          "text": [
            "\u001b[1m100/100\u001b[0m \u001b[32m━━━━━━━━━━━━━━━━━━━━\u001b[0m\u001b[37m\u001b[0m \u001b[1m0s\u001b[0m 2ms/step\n",
            "Length of y_true: 1000\n",
            "Length of y_pred_classes: 1000\n",
            "Unique values in y_true: [0 1 2 3 4 5 6 7]\n",
            "Unique values in y_pred_classes: [0 1 2 3 4 5 6 7]\n"
          ]
        },
        {
          "output_type": "display_data",
          "data": {
            "text/plain": [
              "<Figure size 640x480 with 2 Axes>"
            ],
            "image/png": "[encoded data removed]"
          },
          "metadata": {}
        }
      ],
      "source": [
        "import numpy as np\n",
        "import tensorflow as tf\n",
        "from sklearn.metrics import confusion_matrix, ConfusionMatrixDisplay\n",
        "import matplotlib.pyplot as plt\n",
        "\n",
        "# Assuming model and test_fm are already defined and loaded\n",
        "\n",
        "# Make predictions on the test set\n",
        "y_pred = model.predict(test_crhtds)\n",
        "y_pred_classes = np.argmax(y_pred, axis=1)  # Use argmax to get the class with the highest probability\n",
        "\n",
        "# Get true labels\n",
        "y_true = np.concatenate([y.numpy() for x, y in test_crhtds], axis=0)\n",
        "\n",
        "# Print lengths to confirm they match\n",
        "print(\"Length of y_true:\", len(y_true))\n",
        "print(\"Length of y_pred_classes:\", len(y_pred_classes))\n",
        "\n",
        "# Check unique values\n",
        "print(\"Unique values in y_true:\", np.unique(y_true))\n",
        "print(\"Unique values in y_pred_classes:\", np.unique(y_pred_classes))\n",
        "\n",
        "# Define class labels\n",
        "classes = info.features['label'].names\n",
        "\n",
        "# Calculate confusion matrix\n",
        "conf_matrix = confusion_matrix(y_true, y_pred_classes)\n",
        "\n",
        "# Display confusion matrix\n",
        "disp = ConfusionMatrixDisplay(confusion_matrix=conf_matrix,\n",
        "                              display_labels=classes)\n",
        "disp.plot(cmap=plt.cm.Blues)\n",
        "plt.xticks(rotation=90)\n",
        "plt.show()"
      ]
    },
    {
      "cell_type": "markdown",
      "metadata": {
        "id": "Jxc0x-f0_N0Y"
      },
      "source": [
        "A confusion matrix provides a comprehensive overview of a model's performance, revealing not only the number of correct and incorrect predictions but also the specific classes that are being confused. This detailed insight can guide further model refinement and tuning."
      ]
    },
    {
      "cell_type": "markdown",
      "metadata": {
        "id": "jDIQntqAYyXf"
      },
      "source": [
        "## `NOTEBOOK PRACTICE 4`\n",
        "\n",
        "---\n",
        "Modify this notebook as necessary to improve the performance of the model you create. Try to use a metric that combines partial metrics to demonstrate that your model classifies better than the baseline model shown in this notebook. You can modify the following aspects:\n",
        "\n",
        "---\n",
        "\n",
        "### Instructions to Improve the Notebook (research these yourself):\n",
        "\n",
        "ChatGPT can be a great ally. Use it to your advantage.\n",
        "\n",
        "1. **Training**: Limit the training to a maximum of 100 epochs.\n",
        "2. **Dataset**: You can adjust the size and batch size of the dataset.\n",
        "3. **Model Layers**: You can use as many layers as you like, but you can only use some or all of the following: flatten, dense, batchnormalization and dropout layers.\n",
        "4. **Optimizer**: You may change the optimizer and the loss function, but not the evaluation metric.\n",
        "5. **Warning**: Be careful not to exceed memory limits for Google Colab.\n",
        "6. **Evaluation**: Create a Confusion Matrix and a Multiclass ROC Curve.\n",
        "\n",
        "Feel free to modify and adapt your NB as needed to suit your learning objectives and preferences.\n",
        "\n",
        "Happy coding!"
      ]
    }
  ],
  "metadata": {
    "accelerator": "GPU",
    "colab": {
      "gpuType": "T4",
      "provenance": [],
      "include_colab_link": true
    },
    "kernelspec": {
      "display_name": "Python 3",
      "name": "python3"
    },
    "language_info": {
      "name": "python"
    },
    "widgets": {
      "application/vnd.jupyter.widget-state+json": {
        "7f3298209c65410f83872f503c469db6": {
          "model_module": "@jupyter-widgets/controls",
          "model_name": "HBoxModel",
          "model_module_version": "1.5.0",
          "state": {
            "_dom_classes": [],
            "_model_module": "@jupyter-widgets/controls",
            "_model_module_version": "1.5.0",
            "_model_name": "HBoxModel",
            "_view_count": null,
            "_view_module": "@jupyter-widgets/controls",
            "_view_module_version": "1.5.0",
            "_view_name": "HBoxView",
            "box_style": "",
            "children": [
              "IPY_MODEL_0530e9cd93184630bf778ddcf268d29e",
              "IPY_MODEL_12632a59f20549148f0e4b2781e29e80",
              "IPY_MODEL_39cd3657913b4b168bf93757ac40d183"
            ],
            "layout": "IPY_MODEL_30f62475be9644e88cfc35deb8903ca9"
          }
        },
        "0530e9cd93184630bf778ddcf268d29e": {
          "model_module": "@jupyter-widgets/controls",
          "model_name": "HTMLModel",
          "model_module_version": "1.5.0",
          "state": {
            "_dom_classes": [],
            "_model_module": "@jupyter-widgets/controls",
            "_model_module_version": "1.5.0",
            "_model_name": "HTMLModel",
            "_view_count": null,
            "_view_module": "@jupyter-widgets/controls",
            "_view_module_version": "1.5.0",
            "_view_name": "HTMLView",
            "description": "",
            "description_tooltip": null,
            "layout": "IPY_MODEL_ecc9346bd4d74a92b8181001da69e602",
            "placeholder": "​",
            "style": "IPY_MODEL_2ab5442843a0471291ae0c88bcf38fd4",
            "value": "Dl Completed...: 100%"
          }
        },
        "12632a59f20549148f0e4b2781e29e80": {
          "model_module": "@jupyter-widgets/controls",
          "model_name": "FloatProgressModel",
          "model_module_version": "1.5.0",
          "state": {
            "_dom_classes": [],
            "_model_module": "@jupyter-widgets/controls",
            "_model_module_version": "1.5.0",
            "_model_name": "FloatProgressModel",
            "_view_count": null,
            "_view_module": "@jupyter-widgets/controls",
            "_view_module_version": "1.5.0",
            "_view_name": "ProgressView",
            "bar_style": "info",
            "description": "",
            "description_tooltip": null,
            "layout": "IPY_MODEL_81d6cdbc482e4044a4d67fbeee49af03",
            "max": 1,
            "min": 0,
            "orientation": "horizontal",
            "style": "IPY_MODEL_f1b27a9c858749d1a11242533a5c38f7",
            "value": 1
          }
        },
        "39cd3657913b4b168bf93757ac40d183": {
          "model_module": "@jupyter-widgets/controls",
          "model_name": "HTMLModel",
          "model_module_version": "1.5.0",
          "state": {
            "_dom_classes": [],
            "_model_module": "@jupyter-widgets/controls",
            "_model_module_version": "1.5.0",
            "_model_name": "HTMLModel",
            "_view_count": null,
            "_view_module": "@jupyter-widgets/controls",
            "_view_module_version": "1.5.0",
            "_view_name": "HTMLView",
            "description": "",
            "description_tooltip": null,
            "layout": "IPY_MODEL_a063ecf046c4481f9a6653f521e92bea",
            "placeholder": "​",
            "style": "IPY_MODEL_898ed6697ff74fbeb2d8e1bdb6761ec9",
            "value": " 1/1 [03:30&lt;00:00, 187.05s/ url]"
          }
        },
        "30f62475be9644e88cfc35deb8903ca9": {
          "model_module": "@jupyter-widgets/base",
          "model_name": "LayoutModel",
          "model_module_version": "1.2.0",
          "state": {
            "_model_module": "@jupyter-widgets/base",
            "_model_module_version": "1.2.0",
            "_model_name": "LayoutModel",
            "_view_count": null,
            "_view_module": "@jupyter-widgets/base",
            "_view_module_version": "1.2.0",
            "_view_name": "LayoutView",
            "align_content": null,
            "align_items": null,
            "align_self": null,
            "border": null,
            "bottom": null,
            "display": null,
            "flex": null,
            "flex_flow": null,
            "grid_area": null,
            "grid_auto_columns": null,
            "grid_auto_flow": null,
            "grid_auto_rows": null,
            "grid_column": null,
            "grid_gap": null,
            "grid_row": null,
            "grid_template_areas": null,
            "grid_template_columns": null,
            "grid_template_rows": null,
            "height": null,
            "justify_content": null,
            "justify_items": null,
            "left": null,
            "margin": null,
            "max_height": null,
            "max_width": null,
            "min_height": null,
            "min_width": null,
            "object_fit": null,
            "object_position": null,
            "order": null,
            "overflow": null,
            "overflow_x": null,
            "overflow_y": null,
            "padding": null,
            "right": null,
            "top": null,
            "visibility": null,
            "width": null
          }
        },
        "ecc9346bd4d74a92b8181001da69e602": {
          "model_module": "@jupyter-widgets/base",
          "model_name": "LayoutModel",
          "model_module_version": "1.2.0",
          "state": {
            "_model_module": "@jupyter-widgets/base",
            "_model_module_version": "1.2.0",
            "_model_name": "LayoutModel",
            "_view_count": null,
            "_view_module": "@jupyter-widgets/base",
            "_view_module_version": "1.2.0",
            "_view_name": "LayoutView",
            "align_content": null,
            "align_items": null,
            "align_self": null,
            "border": null,
            "bottom": null,
            "display": null,
            "flex": null,
            "flex_flow": null,
            "grid_area": null,
            "grid_auto_columns": null,
            "grid_auto_flow": null,
            "grid_auto_rows": null,
            "grid_column": null,
            "grid_gap": null,
            "grid_row": null,
            "grid_template_areas": null,
            "grid_template_columns": null,
            "grid_template_rows": null,
            "height": null,
            "justify_content": null,
            "justify_items": null,
            "left": null,
            "margin": null,
            "max_height": null,
            "max_width": null,
            "min_height": null,
            "min_width": null,
            "object_fit": null,
            "object_position": null,
            "order": null,
            "overflow": null,
            "overflow_x": null,
            "overflow_y": null,
            "padding": null,
            "right": null,
            "top": null,
            "visibility": null,
            "width": null
          }
        },
        "2ab5442843a0471291ae0c88bcf38fd4": {
          "model_module": "@jupyter-widgets/controls",
          "model_name": "DescriptionStyleModel",
          "model_module_version": "1.5.0",
          "state": {
            "_model_module": "@jupyter-widgets/controls",
            "_model_module_version": "1.5.0",
            "_model_name": "DescriptionStyleModel",
            "_view_count": null,
            "_view_module": "@jupyter-widgets/base",
            "_view_module_version": "1.2.0",
            "_view_name": "StyleView",
            "description_width": ""
          }
        },
        "81d6cdbc482e4044a4d67fbeee49af03": {
          "model_module": "@jupyter-widgets/base",
          "model_name": "LayoutModel",
          "model_module_version": "1.2.0",
          "state": {
            "_model_module": "@jupyter-widgets/base",
            "_model_module_version": "1.2.0",
            "_model_name": "LayoutModel",
            "_view_count": null,
            "_view_module": "@jupyter-widgets/base",
            "_view_module_version": "1.2.0",
            "_view_name": "LayoutView",
            "align_content": null,
            "align_items": null,
            "align_self": null,
            "border": null,
            "bottom": null,
            "display": null,
            "flex": null,
            "flex_flow": null,
            "grid_area": null,
            "grid_auto_columns": null,
            "grid_auto_flow": null,
            "grid_auto_rows": null,
            "grid_column": null,
            "grid_gap": null,
            "grid_row": null,
            "grid_template_areas": null,
            "grid_template_columns": null,
            "grid_template_rows": null,
            "height": null,
            "justify_content": null,
            "justify_items": null,
            "left": null,
            "margin": null,
            "max_height": null,
            "max_width": null,
            "min_height": null,
            "min_width": null,
            "object_fit": null,
            "object_position": null,
            "order": null,
            "overflow": null,
            "overflow_x": null,
            "overflow_y": null,
            "padding": null,
            "right": null,
            "top": null,
            "visibility": null,
            "width": "20px"
          }
        },
        "f1b27a9c858749d1a11242533a5c38f7": {
          "model_module": "@jupyter-widgets/controls",
          "model_name": "ProgressStyleModel",
          "model_module_version": "1.5.0",
          "state": {
            "_model_module": "@jupyter-widgets/controls",
            "_model_module_version": "1.5.0",
            "_model_name": "ProgressStyleModel",
            "_view_count": null,
            "_view_module": "@jupyter-widgets/base",
            "_view_module_version": "1.2.0",
            "_view_name": "StyleView",
            "bar_color": null,
            "description_width": ""
          }
        },
        "a063ecf046c4481f9a6653f521e92bea": {
          "model_module": "@jupyter-widgets/base",
          "model_name": "LayoutModel",
          "model_module_version": "1.2.0",
          "state": {
            "_model_module": "@jupyter-widgets/base",
            "_model_module_version": "1.2.0",
            "_model_name": "LayoutModel",
            "_view_count": null,
            "_view_module": "@jupyter-widgets/base",
            "_view_module_version": "1.2.0",
            "_view_name": "LayoutView",
            "align_content": null,
            "align_items": null,
            "align_self": null,
            "border": null,
            "bottom": null,
            "display": null,
            "flex": null,
            "flex_flow": null,
            "grid_area": null,
            "grid_auto_columns": null,
            "grid_auto_flow": null,
            "grid_auto_rows": null,
            "grid_column": null,
            "grid_gap": null,
            "grid_row": null,
            "grid_template_areas": null,
            "grid_template_columns": null,
            "grid_template_rows": null,
            "height": null,
            "justify_content": null,
            "justify_items": null,
            "left": null,
            "margin": null,
            "max_height": null,
            "max_width": null,
            "min_height": null,
            "min_width": null,
            "object_fit": null,
            "object_position": null,
            "order": null,
            "overflow": null,
            "overflow_x": null,
            "overflow_y": null,
            "padding": null,
            "right": null,
            "top": null,
            "visibility": null,
            "width": null
          }
        },
        "898ed6697ff74fbeb2d8e1bdb6761ec9": {
          "model_module": "@jupyter-widgets/controls",
          "model_name": "DescriptionStyleModel",
          "model_module_version": "1.5.0",
          "state": {
            "_model_module": "@jupyter-widgets/controls",
            "_model_module_version": "1.5.0",
            "_model_name": "DescriptionStyleModel",
            "_view_count": null,
            "_view_module": "@jupyter-widgets/base",
            "_view_module_version": "1.2.0",
            "_view_name": "StyleView",
            "description_width": ""
          }
        },
        "fb19ba45f67441b982242392fe235856": {
          "model_module": "@jupyter-widgets/controls",
          "model_name": "HBoxModel",
          "model_module_version": "1.5.0",
          "state": {
            "_dom_classes": [],
            "_model_module": "@jupyter-widgets/controls",
            "_model_module_version": "1.5.0",
            "_model_name": "HBoxModel",
            "_view_count": null,
            "_view_module": "@jupyter-widgets/controls",
            "_view_module_version": "1.5.0",
            "_view_name": "HBoxView",
            "box_style": "",
            "children": [
              "IPY_MODEL_b688ab30a8db4d7797e01809998622cd",
              "IPY_MODEL_ccb578a1482b4de0b1c39e499f94776f",
              "IPY_MODEL_1582d84436564741aaa8e7bd1de425df"
            ],
            "layout": "IPY_MODEL_3276844568804138bf504279a6bb9f17"
          }
        },
        "b688ab30a8db4d7797e01809998622cd": {
          "model_module": "@jupyter-widgets/controls",
          "model_name": "HTMLModel",
          "model_module_version": "1.5.0",
          "state": {
            "_dom_classes": [],
            "_model_module": "@jupyter-widgets/controls",
            "_model_module_version": "1.5.0",
            "_model_name": "HTMLModel",
            "_view_count": null,
            "_view_module": "@jupyter-widgets/controls",
            "_view_module_version": "1.5.0",
            "_view_name": "HTMLView",
            "description": "",
            "description_tooltip": null,
            "layout": "IPY_MODEL_c62ac21f40d74246b406348949dccc6a",
            "placeholder": "​",
            "style": "IPY_MODEL_a32f3a33b2544828b8fc38f48dc474a9",
            "value": "Dl Size...: 100%"
          }
        },
        "ccb578a1482b4de0b1c39e499f94776f": {
          "model_module": "@jupyter-widgets/controls",
          "model_name": "FloatProgressModel",
          "model_module_version": "1.5.0",
          "state": {
            "_dom_classes": [],
            "_model_module": "@jupyter-widgets/controls",
            "_model_module_version": "1.5.0",
            "_model_name": "FloatProgressModel",
            "_view_count": null,
            "_view_module": "@jupyter-widgets/controls",
            "_view_module_version": "1.5.0",
            "_view_name": "ProgressView",
            "bar_style": "info",
            "description": "",
            "description_tooltip": null,
            "layout": "IPY_MODEL_6455a6b407734a558dd75e68314bd0b1",
            "max": 1,
            "min": 0,
            "orientation": "horizontal",
            "style": "IPY_MODEL_b193f09509f649519026c8a78654bb27",
            "value": 1
          }
        },
        "1582d84436564741aaa8e7bd1de425df": {
          "model_module": "@jupyter-widgets/controls",
          "model_name": "HTMLModel",
          "model_module_version": "1.5.0",
          "state": {
            "_dom_classes": [],
            "_model_module": "@jupyter-widgets/controls",
            "_model_module_version": "1.5.0",
            "_model_name": "HTMLModel",
            "_view_count": null,
            "_view_module": "@jupyter-widgets/controls",
            "_view_module_version": "1.5.0",
            "_view_name": "HTMLView",
            "description": "",
            "description_tooltip": null,
            "layout": "IPY_MODEL_eb0fdc4e37024a6399491c3d368acc25",
            "placeholder": "​",
            "style": "IPY_MODEL_e245318e8d1e4c56b0dc4b4a57267b4f",
            "value": " 246/246 [03:30&lt;00:00,  4.00 MiB/s]"
          }
        },
        "3276844568804138bf504279a6bb9f17": {
          "model_module": "@jupyter-widgets/base",
          "model_name": "LayoutModel",
          "model_module_version": "1.2.0",
          "state": {
            "_model_module": "@jupyter-widgets/base",
            "_model_module_version": "1.2.0",
            "_model_name": "LayoutModel",
            "_view_count": null,
            "_view_module": "@jupyter-widgets/base",
            "_view_module_version": "1.2.0",
            "_view_name": "LayoutView",
            "align_content": null,
            "align_items": null,
            "align_self": null,
            "border": null,
            "bottom": null,
            "display": null,
            "flex": null,
            "flex_flow": null,
            "grid_area": null,
            "grid_auto_columns": null,
            "grid_auto_flow": null,
            "grid_auto_rows": null,
            "grid_column": null,
            "grid_gap": null,
            "grid_row": null,
            "grid_template_areas": null,
            "grid_template_columns": null,
            "grid_template_rows": null,
            "height": null,
            "justify_content": null,
            "justify_items": null,
            "left": null,
            "margin": null,
            "max_height": null,
            "max_width": null,
            "min_height": null,
            "min_width": null,
            "object_fit": null,
            "object_position": null,
            "order": null,
            "overflow": null,
            "overflow_x": null,
            "overflow_y": null,
            "padding": null,
            "right": null,
            "top": null,
            "visibility": null,
            "width": null
          }
        },
        "c62ac21f40d74246b406348949dccc6a": {
          "model_module": "@jupyter-widgets/base",
          "model_name": "LayoutModel",
          "model_module_version": "1.2.0",
          "state": {
            "_model_module": "@jupyter-widgets/base",
            "_model_module_version": "1.2.0",
            "_model_name": "LayoutModel",
            "_view_count": null,
            "_view_module": "@jupyter-widgets/base",
            "_view_module_version": "1.2.0",
            "_view_name": "LayoutView",
            "align_content": null,
            "align_items": null,
            "align_self": null,
            "border": null,
            "bottom": null,
            "display": null,
            "flex": null,
            "flex_flow": null,
            "grid_area": null,
            "grid_auto_columns": null,
            "grid_auto_flow": null,
            "grid_auto_rows": null,
            "grid_column": null,
            "grid_gap": null,
            "grid_row": null,
            "grid_template_areas": null,
            "grid_template_columns": null,
            "grid_template_rows": null,
            "height": null,
            "justify_content": null,
            "justify_items": null,
            "left": null,
            "margin": null,
            "max_height": null,
            "max_width": null,
            "min_height": null,
            "min_width": null,
            "object_fit": null,
            "object_position": null,
            "order": null,
            "overflow": null,
            "overflow_x": null,
            "overflow_y": null,
            "padding": null,
            "right": null,
            "top": null,
            "visibility": null,
            "width": null
          }
        },
        "a32f3a33b2544828b8fc38f48dc474a9": {
          "model_module": "@jupyter-widgets/controls",
          "model_name": "DescriptionStyleModel",
          "model_module_version": "1.5.0",
          "state": {
            "_model_module": "@jupyter-widgets/controls",
            "_model_module_version": "1.5.0",
            "_model_name": "DescriptionStyleModel",
            "_view_count": null,
            "_view_module": "@jupyter-widgets/base",
            "_view_module_version": "1.2.0",
            "_view_name": "StyleView",
            "description_width": ""
          }
        },
        "6455a6b407734a558dd75e68314bd0b1": {
          "model_module": "@jupyter-widgets/base",
          "model_name": "LayoutModel",
          "model_module_version": "1.2.0",
          "state": {
            "_model_module": "@jupyter-widgets/base",
            "_model_module_version": "1.2.0",
            "_model_name": "LayoutModel",
            "_view_count": null,
            "_view_module": "@jupyter-widgets/base",
            "_view_module_version": "1.2.0",
            "_view_name": "LayoutView",
            "align_content": null,
            "align_items": null,
            "align_self": null,
            "border": null,
            "bottom": null,
            "display": null,
            "flex": null,
            "flex_flow": null,
            "grid_area": null,
            "grid_auto_columns": null,
            "grid_auto_flow": null,
            "grid_auto_rows": null,
            "grid_column": null,
            "grid_gap": null,
            "grid_row": null,
            "grid_template_areas": null,
            "grid_template_columns": null,
            "grid_template_rows": null,
            "height": null,
            "justify_content": null,
            "justify_items": null,
            "left": null,
            "margin": null,
            "max_height": null,
            "max_width": null,
            "min_height": null,
            "min_width": null,
            "object_fit": null,
            "object_position": null,
            "order": null,
            "overflow": null,
            "overflow_x": null,
            "overflow_y": null,
            "padding": null,
            "right": null,
            "top": null,
            "visibility": null,
            "width": "20px"
          }
        },
        "b193f09509f649519026c8a78654bb27": {
          "model_module": "@jupyter-widgets/controls",
          "model_name": "ProgressStyleModel",
          "model_module_version": "1.5.0",
          "state": {
            "_model_module": "@jupyter-widgets/controls",
            "_model_module_version": "1.5.0",
            "_model_name": "ProgressStyleModel",
            "_view_count": null,
            "_view_module": "@jupyter-widgets/base",
            "_view_module_version": "1.2.0",
            "_view_name": "StyleView",
            "bar_color": null,
            "description_width": ""
          }
        },
        "eb0fdc4e37024a6399491c3d368acc25": {
          "model_module": "@jupyter-widgets/base",
          "model_name": "LayoutModel",
          "model_module_version": "1.2.0",
          "state": {
            "_model_module": "@jupyter-widgets/base",
            "_model_module_version": "1.2.0",
            "_model_name": "LayoutModel",
            "_view_count": null,
            "_view_module": "@jupyter-widgets/base",
            "_view_module_version": "1.2.0",
            "_view_name": "LayoutView",
            "align_content": null,
            "align_items": null,
            "align_self": null,
            "border": null,
            "bottom": null,
            "display": null,
            "flex": null,
            "flex_flow": null,
            "grid_area": null,
            "grid_auto_columns": null,
            "grid_auto_flow": null,
            "grid_auto_rows": null,
            "grid_column": null,
            "grid_gap": null,
            "grid_row": null,
            "grid_template_areas": null,
            "grid_template_columns": null,
            "grid_template_rows": null,
            "height": null,
            "justify_content": null,
            "justify_items": null,
            "left": null,
            "margin": null,
            "max_height": null,
            "max_width": null,
            "min_height": null,
            "min_width": null,
            "object_fit": null,
            "object_position": null,
            "order": null,
            "overflow": null,
            "overflow_x": null,
            "overflow_y": null,
            "padding": null,
            "right": null,
            "top": null,
            "visibility": null,
            "width": null
          }
        },
        "e245318e8d1e4c56b0dc4b4a57267b4f": {
          "model_module": "@jupyter-widgets/controls",
          "model_name": "DescriptionStyleModel",
          "model_module_version": "1.5.0",
          "state": {
            "_model_module": "@jupyter-widgets/controls",
            "_model_module_version": "1.5.0",
            "_model_name": "DescriptionStyleModel",
            "_view_count": null,
            "_view_module": "@jupyter-widgets/base",
            "_view_module_version": "1.2.0",
            "_view_name": "StyleView",
            "description_width": ""
          }
        },
        "eb0c5d1328cb483e8e376657edc2fb3e": {
          "model_module": "@jupyter-widgets/controls",
          "model_name": "HBoxModel",
          "model_module_version": "1.5.0",
          "state": {
            "_dom_classes": [],
            "_model_module": "@jupyter-widgets/controls",
            "_model_module_version": "1.5.0",
            "_model_name": "HBoxModel",
            "_view_count": null,
            "_view_module": "@jupyter-widgets/controls",
            "_view_module_version": "1.5.0",
            "_view_name": "HBoxView",
            "box_style": "",
            "children": [
              "IPY_MODEL_fec53ba72ff44c6daea10fa760b82306",
              "IPY_MODEL_36245f65d5fe4c4c9a2d7a4a26807915",
              "IPY_MODEL_8111d749285c4351ba08815afa037c6a"
            ],
            "layout": "IPY_MODEL_362c72062a1d413ab68b172db3889429"
          }
        },
        "fec53ba72ff44c6daea10fa760b82306": {
          "model_module": "@jupyter-widgets/controls",
          "model_name": "HTMLModel",
          "model_module_version": "1.5.0",
          "state": {
            "_dom_classes": [],
            "_model_module": "@jupyter-widgets/controls",
            "_model_module_version": "1.5.0",
            "_model_name": "HTMLModel",
            "_view_count": null,
            "_view_module": "@jupyter-widgets/controls",
            "_view_module_version": "1.5.0",
            "_view_name": "HTMLView",
            "description": "",
            "description_tooltip": null,
            "layout": "IPY_MODEL_ec2dde6b33e2408a84df31d6331d16d2",
            "placeholder": "​",
            "style": "IPY_MODEL_dd2a9dbf5e4243ec95540afe8de1a2fe",
            "value": "Extraction completed...:  97%"
          }
        },
        "36245f65d5fe4c4c9a2d7a4a26807915": {
          "model_module": "@jupyter-widgets/controls",
          "model_name": "FloatProgressModel",
          "model_module_version": "1.5.0",
          "state": {
            "_dom_classes": [],
            "_model_module": "@jupyter-widgets/controls",
            "_model_module_version": "1.5.0",
            "_model_name": "FloatProgressModel",
            "_view_count": null,
            "_view_module": "@jupyter-widgets/controls",
            "_view_module_version": "1.5.0",
            "_view_name": "ProgressView",
            "bar_style": "info",
            "description": "",
            "description_tooltip": null,
            "layout": "IPY_MODEL_ba1168c4fe2d4d97b45c37dcba04054b",
            "max": 1,
            "min": 0,
            "orientation": "horizontal",
            "style": "IPY_MODEL_e6984af845934a6bb49057913232d2f4",
            "value": 1
          }
        },
        "8111d749285c4351ba08815afa037c6a": {
          "model_module": "@jupyter-widgets/controls",
          "model_name": "HTMLModel",
          "model_module_version": "1.5.0",
          "state": {
            "_dom_classes": [],
            "_model_module": "@jupyter-widgets/controls",
            "_model_module_version": "1.5.0",
            "_model_name": "HTMLModel",
            "_view_count": null,
            "_view_module": "@jupyter-widgets/controls",
            "_view_module_version": "1.5.0",
            "_view_name": "HTMLView",
            "description": "",
            "description_tooltip": null,
            "layout": "IPY_MODEL_35f70e935c2346d6b64bc34a36c4f78a",
            "placeholder": "​",
            "style": "IPY_MODEL_d956d8980114435da6755f5f5a03e355",
            "value": " 4853/5000 [03:30&lt;00:01, 100.01 file/s]"
          }
        },
        "362c72062a1d413ab68b172db3889429": {
          "model_module": "@jupyter-widgets/base",
          "model_name": "LayoutModel",
          "model_module_version": "1.2.0",
          "state": {
            "_model_module": "@jupyter-widgets/base",
            "_model_module_version": "1.2.0",
            "_model_name": "LayoutModel",
            "_view_count": null,
            "_view_module": "@jupyter-widgets/base",
            "_view_module_version": "1.2.0",
            "_view_name": "LayoutView",
            "align_content": null,
            "align_items": null,
            "align_self": null,
            "border": null,
            "bottom": null,
            "display": null,
            "flex": null,
            "flex_flow": null,
            "grid_area": null,
            "grid_auto_columns": null,
            "grid_auto_flow": null,
            "grid_auto_rows": null,
            "grid_column": null,
            "grid_gap": null,
            "grid_row": null,
            "grid_template_areas": null,
            "grid_template_columns": null,
            "grid_template_rows": null,
            "height": null,
            "justify_content": null,
            "justify_items": null,
            "left": null,
            "margin": null,
            "max_height": null,
            "max_width": null,
            "min_height": null,
            "min_width": null,
            "object_fit": null,
            "object_position": null,
            "order": null,
            "overflow": null,
            "overflow_x": null,
            "overflow_y": null,
            "padding": null,
            "right": null,
            "top": null,
            "visibility": null,
            "width": null
          }
        },
        "ec2dde6b33e2408a84df31d6331d16d2": {
          "model_module": "@jupyter-widgets/base",
          "model_name": "LayoutModel",
          "model_module_version": "1.2.0",
          "state": {
            "_model_module": "@jupyter-widgets/base",
            "_model_module_version": "1.2.0",
            "_model_name": "LayoutModel",
            "_view_count": null,
            "_view_module": "@jupyter-widgets/base",
            "_view_module_version": "1.2.0",
            "_view_name": "LayoutView",
            "align_content": null,
            "align_items": null,
            "align_self": null,
            "border": null,
            "bottom": null,
            "display": null,
            "flex": null,
            "flex_flow": null,
            "grid_area": null,
            "grid_auto_columns": null,
            "grid_auto_flow": null,
            "grid_auto_rows": null,
            "grid_column": null,
            "grid_gap": null,
            "grid_row": null,
            "grid_template_areas": null,
            "grid_template_columns": null,
            "grid_template_rows": null,
            "height": null,
            "justify_content": null,
            "justify_items": null,
            "left": null,
            "margin": null,
            "max_height": null,
            "max_width": null,
            "min_height": null,
            "min_width": null,
            "object_fit": null,
            "object_position": null,
            "order": null,
            "overflow": null,
            "overflow_x": null,
            "overflow_y": null,
            "padding": null,
            "right": null,
            "top": null,
            "visibility": null,
            "width": null
          }
        },
        "dd2a9dbf5e4243ec95540afe8de1a2fe": {
          "model_module": "@jupyter-widgets/controls",
          "model_name": "DescriptionStyleModel",
          "model_module_version": "1.5.0",
          "state": {
            "_model_module": "@jupyter-widgets/controls",
            "_model_module_version": "1.5.0",
            "_model_name": "DescriptionStyleModel",
            "_view_count": null,
            "_view_module": "@jupyter-widgets/base",
            "_view_module_version": "1.2.0",
            "_view_name": "StyleView",
            "description_width": ""
          }
        },
        "ba1168c4fe2d4d97b45c37dcba04054b": {
          "model_module": "@jupyter-widgets/base",
          "model_name": "LayoutModel",
          "model_module_version": "1.2.0",
          "state": {
            "_model_module": "@jupyter-widgets/base",
            "_model_module_version": "1.2.0",
            "_model_name": "LayoutModel",
            "_view_count": null,
            "_view_module": "@jupyter-widgets/base",
            "_view_module_version": "1.2.0",
            "_view_name": "LayoutView",
            "align_content": null,
            "align_items": null,
            "align_self": null,
            "border": null,
            "bottom": null,
            "display": null,
            "flex": null,
            "flex_flow": null,
            "grid_area": null,
            "grid_auto_columns": null,
            "grid_auto_flow": null,
            "grid_auto_rows": null,
            "grid_column": null,
            "grid_gap": null,
            "grid_row": null,
            "grid_template_areas": null,
            "grid_template_columns": null,
            "grid_template_rows": null,
            "height": null,
            "justify_content": null,
            "justify_items": null,
            "left": null,
            "margin": null,
            "max_height": null,
            "max_width": null,
            "min_height": null,
            "min_width": null,
            "object_fit": null,
            "object_position": null,
            "order": null,
            "overflow": null,
            "overflow_x": null,
            "overflow_y": null,
            "padding": null,
            "right": null,
            "top": null,
            "visibility": null,
            "width": "20px"
          }
        },
        "e6984af845934a6bb49057913232d2f4": {
          "model_module": "@jupyter-widgets/controls",
          "model_name": "ProgressStyleModel",
          "model_module_version": "1.5.0",
          "state": {
            "_model_module": "@jupyter-widgets/controls",
            "_model_module_version": "1.5.0",
            "_model_name": "ProgressStyleModel",
            "_view_count": null,
            "_view_module": "@jupyter-widgets/base",
            "_view_module_version": "1.2.0",
            "_view_name": "StyleView",
            "bar_color": null,
            "description_width": ""
          }
        },
        "35f70e935c2346d6b64bc34a36c4f78a": {
          "model_module": "@jupyter-widgets/base",
          "model_name": "LayoutModel",
          "model_module_version": "1.2.0",
          "state": {
            "_model_module": "@jupyter-widgets/base",
            "_model_module_version": "1.2.0",
            "_model_name": "LayoutModel",
            "_view_count": null,
            "_view_module": "@jupyter-widgets/base",
            "_view_module_version": "1.2.0",
            "_view_name": "LayoutView",
            "align_content": null,
            "align_items": null,
            "align_self": null,
            "border": null,
            "bottom": null,
            "display": null,
            "flex": null,
            "flex_flow": null,
            "grid_area": null,
            "grid_auto_columns": null,
            "grid_auto_flow": null,
            "grid_auto_rows": null,
            "grid_column": null,
            "grid_gap": null,
            "grid_row": null,
            "grid_template_areas": null,
            "grid_template_columns": null,
            "grid_template_rows": null,
            "height": null,
            "justify_content": null,
            "justify_items": null,
            "left": null,
            "margin": null,
            "max_height": null,
            "max_width": null,
            "min_height": null,
            "min_width": null,
            "object_fit": null,
            "object_position": null,
            "order": null,
            "overflow": null,
            "overflow_x": null,
            "overflow_y": null,
            "padding": null,
            "right": null,
            "top": null,
            "visibility": null,
            "width": null
          }
        },
        "d956d8980114435da6755f5f5a03e355": {
          "model_module": "@jupyter-widgets/controls",
          "model_name": "DescriptionStyleModel",
          "model_module_version": "1.5.0",
          "state": {
            "_model_module": "@jupyter-widgets/controls",
            "_model_module_version": "1.5.0",
            "_model_name": "DescriptionStyleModel",
            "_view_count": null,
            "_view_module": "@jupyter-widgets/base",
            "_view_module_version": "1.2.0",
            "_view_name": "StyleView",
            "description_width": ""
          }
        }
      }
    }
  },
  "nbformat": 4,
  "nbformat_minor": 0
}