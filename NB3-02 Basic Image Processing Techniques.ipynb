{
  "cells": [
    {
      "cell_type": "markdown",
      "metadata": {
        "id": "view-in-github",
        "colab_type": "text"
      },
      "source": [
        "<a href=\"https://colab.research.google.com/github/JuanZapa7a/Medical-Image-Processing/blob/main/NB3-02%20Basic%20Image%20Processing%20Techniques.ipynb\" target=\"_parent\"><img src=\"https://colab.research.google.com/assets/colab-badge.svg\" alt=\"Open In Colab\"/></a>"
      ]
    },
    {
      "cell_type": "markdown",
      "metadata": {
        "id": "5iDBWQXhH-d-"
      },
      "source": [
        "# Lecture 3-3: Image Processing Techniques"
      ]
    },
    {
      "cell_type": "markdown",
      "source": [
        "## 0.- Initialize filesystem and libraries"
      ],
      "metadata": {
        "id": "xs5ByHBDMUW0"
      }
    },
    {
      "cell_type": "code",
      "source": [
        "from google.colab import drive\n",
        "drive.mount('/content/drive')"
      ],
      "metadata": {
        "id": "HAtnUXs3Eahz",
        "colab": {
          "base_uri": "https://localhost:8080/"
        },
        "outputId": "e866054e-ec8d-42d9-814b-cc4c31c37a34"
      },
      "execution_count": null,
      "outputs": [
        {
          "output_type": "stream",
          "name": "stdout",
          "text": [
            "Drive already mounted at /content/drive; to attempt to forcibly remount, call drive.mount(\"/content/drive\", force_remount=True).\n"
          ]
        }
      ]
    },
    {
      "cell_type": "markdown",
      "source": [
        "## 1.- Introduction to Image Processing"
      ],
      "metadata": {
        "id": "Qpj7_l9XTwft"
      }
    },
    {
      "cell_type": "markdown",
      "source": [
        "Classical image processing techniques are the basic **tools and algorithms** used to **analyze and transform** digital images.\n",
        "\n",
        "These methods rely on **mathematical operations** to improve image quality, identify important features, and prepare images for further analysis.\n",
        "\n",
        "Unlike newer methods that use machine learning, classical techniques **don't require large amounts of data** to learn from. They use **specific, well-defined operations** to get results."
      ],
      "metadata": {
        "id": "XyNLNTO0KM_z"
      }
    },
    {
      "cell_type": "markdown",
      "source": [
        "## 2.- Classification of Image Processing Techniques\n"
      ],
      "metadata": {
        "id": "uiI69g_NjLkU"
      }
    },
    {
      "cell_type": "markdown",
      "source": [
        "In classical image processing, techniques can be categorized based on the type of **input** they receive and the type of **output** they generate.\n",
        "\n",
        "Two major categories are **image-to-image** and **image-to-object** transformations."
      ],
      "metadata": {
        "id": "t_CSeSI9nqWL"
      }
    },
    {
      "cell_type": "markdown",
      "source": [
        "### 2.1. Image-to-Image Transformations"
      ],
      "metadata": {
        "id": "2bkoda53T6KE"
      }
    },
    {
      "cell_type": "markdown",
      "source": [
        "Image-to-image transformations are operations that **receive an image as input and produce a modified image as output**.\n",
        "\n",
        "The goal of these techniques is to **enhance, transform, or filter** the original image to make certain features more prominent, reduce noise, or adjust its appearance in some way.\n",
        "\n",
        "These transformations do not extract specific features or objects from the image but instead they focus on **altering the entire image**. The result of these operations is still an **image considered as a set of pixels**, which can be further processed or analyzed using other techniques.\n",
        "\n",
        "These transformations include:\n",
        "\n",
        "* **Affine transformations**: are linear transformations that shift, rotate or scale the image position.\n",
        "\n",
        "* **Intensity transformations**: starting from the histogram, these techniques improve the dynamic range by adjusting the image's brightness or contrast.\n",
        "\n",
        "* **Spatial filters**: consider the neighborhood of each pixel to smooth the image (mean, Gaussian, median filters) or highlight edges (Sobel, Laplacian filters).\n",
        "\n",
        "* **Frequency filters**: uses the Fourier transform to convert the image from the spatial domain to the frequency domain (and vice versa) and apply filters to enhance the image.\n",
        "\n",
        "* **Multiresolution techniques**: based on the Wavelet transform, these algorithms analyze the image at multiple resolutions and decomposes them into different frequency components, allowing selective filtering for noise reduction.\n",
        "\n",
        "* **Morphological operations**: analyze and modify the structure and shape of structures in the image through operations like dilation, erosion, opening, or closing, to prepare the image for object detection."
      ],
      "metadata": {
        "id": "Ad3Cu5shlSxV"
      }
    },
    {
      "cell_type": "markdown",
      "source": [
        "### 2.2. Image-to-Object Transformations"
      ],
      "metadata": {
        "id": "Qr25lO04T-Oe"
      }
    },
    {
      "cell_type": "markdown",
      "source": [
        "In contrast, image-to-object transformations focus on **extracting specific information from the image**, rather than modifying its appearance.\n",
        "\n",
        "These techniques are designed to **identify objects and measure quantitative parameters** within the image.\n",
        "\n",
        "The **output is not an image but a set of features, detected objects, or numerical values** that describe the image in some meaningful way.\n",
        "\n",
        "The techniques in this group are those in the last stages of the image processing workflow:\n",
        "\n",
        "* **Segmentation**: uses techniques based on thresholding, edges, countours, clustering or region growing to detect and delimitate objects in the image.\n",
        "\n",
        "* **Feature extraction**: extract attributes and measurements of the objects in the image (area, perimeter, centroids, corners, key points, ...)."
      ],
      "metadata": {
        "id": "xVEfQbGblWtH"
      }
    },
    {
      "cell_type": "markdown",
      "source": [
        "## 3.- Classical Image Processing Techniques Applied to Medical Imaging"
      ],
      "metadata": {
        "id": "GukOMaW7TrWc"
      }
    },
    {
      "cell_type": "markdown",
      "source": [
        "There is no universal algorithm or sequence of steps that can be applied to medical images. Medical image processing requires **specialized algorithms tailored for each specific task**, due to:\n",
        "\n",
        "* the diverse **nature of medical imaging modalities** (X-ray, CT, MRI, ultrasound, PET, SPECT, ...), how they represent the physiology of the human body, and the artifacts that appear,\n",
        "\n",
        "* the variety of **anatomical structures** (brain, heart, ...),\n",
        "\n",
        "* the different **clinical objectives** (diagnosis, treatment, surgery, ...)\n",
        "\n",
        "Despite this specificity, a typical image analysis workflow for the different modadlities could be the following:"
      ],
      "metadata": {
        "id": "unaH5zw9RMZi"
      }
    },
    {
      "cell_type": "markdown",
      "source": [
        "### 3.1. Radiography (X-ray)"
      ],
      "metadata": {
        "id": "GNK6VhVeUKAO"
      }
    },
    {
      "cell_type": "markdown",
      "source": [
        "1. **Image Enhancement**:\n",
        "\t* Techniques like local histogram equalization are used to improve contrast and visibility of structures.\n",
        "\t* Noise reduction (e.g., Gaussian smoothing) are applied to enhance image clarity.\n",
        "\n",
        "2. **Morphological Operations**:\n",
        "\t* Erosion, dilation, opening, and closing are used to refine the structures in images and remove noise.\n",
        "\n",
        "3. **Segmentation**:\n",
        "  * Thresholding is often used to separate bones from soft tissues based on intensity values.\n",
        "  * Edge detection and contour algorithms are employed to identify and outline the boundaries of specific structures.\n",
        "\n",
        "<img src=\"https://prod-images-static.radiopaedia.org/images/157210/332aa0c67cb2e035e372c7cb3ceca2_big_gallery.jpg\" alt=\"\" width=\"250\">\n",
        "<p style=\"text-align: center;\">\n",
        "Figure 1: Normal frontal chest x-ray. Case courtesy of Frank Gaillard,\n",
        "<a href=\"https://radiopaedia.org/?lang=us\">Radiopaedia.org</a>. From the case <a href=\"https://radiopaedia.org/cases/8090?lang=us\">rID: 8090</a>\n",
        "</p>\n"
      ],
      "metadata": {
        "id": "Dw_R4xgIo4Jy"
      }
    },
    {
      "cell_type": "markdown",
      "source": [
        "### 3.2. Computed Tomography (CT)"
      ],
      "metadata": {
        "id": "Os9FeZYrUMmc"
      }
    },
    {
      "cell_type": "markdown",
      "source": [
        "1. **Image enhancement**:\n",
        "\t* Windowing and leveling adjust grayscale displays to emphasize specific tissues.\n",
        "\t* Noise reduction techniques are used to preserve edges while reducing noise.\n",
        "\n",
        "2. **Multiresolution techniques**:\n",
        "\t* Wavelet transforms enhance edges and fine details at multiple scales.\n",
        "\n",
        "3. **Morphological operations**:\n",
        "\t* Opening and closing operations refine segmented regions to remove noise and smooth boundaries.\n",
        "\n",
        "4. **Segmentation**:\n",
        "\t* The watershed algorithm or other segmentation techniques are applied to separate structures based on intensity gradients.\n",
        "\n",
        "5. **Feature Extraction**:\n",
        "\t* Shape descriptors analyze the shape of anatomical structures, aiding in diagnosing deformities or abnormalities.\n",
        "\n",
        "<img src=\"https://prod-images-static.radiopaedia.org/images/23778587/4d3e5643d4688b982b7cef2b2a2cfa_big_gallery.jpeg\" alt=\"\" width=\"200\">\n",
        "<p style=\"text-align: center;\">\n",
        "Figure 2: Normal CT head. Case courtesy of Yaïr Glick,\n",
        "<a href=\"https://radiopaedia.org/?lang=us\">Radiopaedia.org</a>. From the case <a href=\"https://radiopaedia.org/cases/178062?lang=us\">rID: 178062</a>\n",
        "</p>"
      ],
      "metadata": {
        "id": "tHV26oOkqT_r"
      }
    },
    {
      "cell_type": "markdown",
      "source": [
        "### 3.3. Magnetic Resonance Imaging (MRI)"
      ],
      "metadata": {
        "id": "GyLgjLC7UQGm"
      }
    },
    {
      "cell_type": "markdown",
      "source": [
        "1. **Image Enhancement**:\n",
        "\t* Gamma correction is applied to adjust image brightness and improve tissue visibility.\n",
        "\t* Mean filtering is used to reduce MRI-specific noise while preserving image details.\n",
        "\n",
        "2. **Multiresolution Techniques**:\n",
        "\t* Multi-scale representation of the wavelet transform allows for the detection of abnormalities at different scales by analyzing the image at multiple resolutions.\n",
        "\n",
        "3. **Morphological Operations**:\n",
        "\t* Gradient operations are employed to enhance the edges and contours of anatomical structures.\n",
        "\n",
        "4. **Segmentation**:\n",
        "\t* K-means clustering and similar techniques are used to segment different tissue types, such as gray matter, white matter, and cerebrospinal fluid (CSF) in brain MRIs.\n",
        "\n",
        "5. **Feature Extraction**:\n",
        "\t* Features like shape and boundary definition can be extracted to help distinguish between benign and malignant growths.\n",
        "\n",
        "<img src=\"https://prod-images-static.radiopaedia.org/images/59769324/56b80bf8470b7f18cc4850a5dad51609a4ba754f7cfdbb6dbf63c1613ef39e8a_big_gallery.jpeg\" alt=\"\" width=\"250\">\n",
        "<p style=\"text-align: center;\">\n",
        "Figure 3: Normal MRI brain. Case courtesy of Mohd Radhwan Bin Abidin,\n",
        "<a href=\"https://radiopaedia.org/?lang=us\">Radiopaedia.org</a>. From the case <a href=\"https://radiopaedia.org/cases/153576?lang=us\">rID: 153576</a>\n",
        "</p>"
      ],
      "metadata": {
        "id": "2IbnU0oF1Ced"
      }
    },
    {
      "cell_type": "markdown",
      "source": [
        "### 3.4. Ultrasound"
      ],
      "metadata": {
        "id": "y1OheYJ5UTxL"
      }
    },
    {
      "cell_type": "markdown",
      "source": [
        "1. **Image enhancement**:\n",
        "\t* Speckle reduction techniques (e.g., median filter) are used to reduce inherent ultrasound noise.\n",
        "\t* Contrast enhancement techniques, such as histogram equalization, improve soft tissue visibility.\n",
        "\n",
        "2. **Morphological operations**:\n",
        "\t* Opening, closing, dilation, and erosion operations refine segmented regions, improving the accuracy of the boundaries.\n",
        "\n",
        "3. **Segmentation**:\n",
        "\t* Countour and thresholding methods segment organ boundaries and other structures of interest.\n",
        "\n",
        "<img src=\"https://prod-images-static.radiopaedia.org/images/13638622/10b5e4be645d81fb7701e8a0771732_big_gallery.jpg\" alt=\"\" width=\"250\">\n",
        "<p style=\"text-align: center;\">\n",
        "Figure 4: Normal pancreas ultrasound image. Case courtesy of Matt A. Morgan,\n",
        "<a href=\"https://radiopaedia.org/?lang=us\">Radiopaedia.org</a>. From the case <a href=\"https://radiopaedia.org/cases/37581?lang=us\">rID: 37581</a>\n",
        "</p>\n"
      ],
      "metadata": {
        "id": "lMQNV3Qa1FvL"
      }
    },
    {
      "cell_type": "markdown",
      "source": [
        "### 3.5. Nuclear Imaging (PET/SPECT)"
      ],
      "metadata": {
        "id": "EljJMObrUXAW"
      }
    },
    {
      "cell_type": "markdown",
      "source": [
        "1. **Image enhancement**:\n",
        "\t* Contrast adjustment techniques enhance the visualization of metabolic activity.\n",
        "\t* Filtering reduces noise while preserving significant structures.\n",
        "\n",
        "2. **Morphological operations**:\n",
        "\t* Dilation and erosion operations are used to refine segmented regions, improving the accuracy of the metabolic activity maps.\n",
        "\n",
        "3. **Segmentation**:\n",
        "\t* Thresholding techniques are used to delineate areas of interest with high metabolic activity.\n",
        "\n",
        "<img src=\"https://prod-images-static.radiopaedia.org/images/53185363/703a1c1c4810544cc7467a116e6849_big_gallery.jpeg\" alt=\"Caption\" width=\"300\"><p style=\"text-align: center;\">Figure 5: Normal brain PET. Case courtesy of Craig Hacking, <a href=\"https://radiopaedia.org/?lang=us\">Radiopaedia.org</a>. From the case <a href=\"https://radiopaedia.org/cases/80429?lang=us\">rID: 80429</a></p>"
      ],
      "metadata": {
        "id": "hGXxlBg_1JRa"
      }
    },
    {
      "cell_type": "markdown",
      "source": [
        "## 4.- Limitations of Medical Image Processing Algorithms"
      ],
      "metadata": {
        "id": "8un7V2KTTlzL"
      }
    },
    {
      "cell_type": "markdown",
      "source": [
        "Medical image processing algorithms have several **limitations** that make them unsuitable for a fully automated diagnosis system without the supervision of a qualified medical professional:\n",
        "\n",
        "* **Lack of contextual understanding**: algorithms operate based on the data provided in the image and lack an understanding of the broader clinical context (patient history, symptoms, other diagnostic tests, ...).\n",
        "\n",
        "* **Training data quality**: the accuracy and reliability of algorithms depend on the quality and diversity of the training data, and sometimes these do not cover appropriately the entire exploratory space.\n",
        "\n",
        "* **Variability in imaging techniques**: differences in imaging equipment, settings, and protocols can affect the algorithm's performance. An algorithm trained on images from one type of machine may not perform well on images from another.\n",
        "\n",
        "* **Interpretability**: many advanced algorithms function as “black boxes,” providing little insight into how they reach their conclusions and making it difficult for clinicians to trust and verify the results.\n",
        "\n",
        "* **Certification of algorithms**: newly developed algorithms for analysis are often not implemented on the computers and medical equipment used to generate or evaluate images because such software is typically not certified as part of the clinical routine equipment unless they include well-proven algorithms."
      ],
      "metadata": {
        "id": "_JCCtzbtOUzI"
      }
    },
    {
      "cell_type": "markdown",
      "source": [
        "## 5.- Clinical Scenarios"
      ],
      "metadata": {
        "id": "JAg9YyjCAut-"
      }
    },
    {
      "cell_type": "markdown",
      "source": [
        "Medical image processing algorithms are applied in **several scenarios**, each with specific requirements and workflows:\n",
        "\n",
        "* **Cohort studies**: non-invasive imaging techniques like MRI are used to study patterns or trends in public health on a grand scale. These studies require largely automatic analysis due to the large number of subjects.\n",
        "\n",
        "* **Diagnosis support** (computer-aided detection and diagnosis): single cases are analyzed to assist in medical diagnosis. Analysis often involves user interaction to validate and refine results.\n",
        "\n",
        "* **Treatment planning**: involves pre-treatment analysis in radiology or surgery departments. It consists of a detailed analysis and is specific to the patient.\n",
        "\n",
        "* **Computer-assisted surgery**: this is time-critical. Fast data transfer and analysis are required, and the methods must follow strict time constraints."
      ],
      "metadata": {
        "id": "HLJPmHdK4ea1"
      }
    },
    {
      "cell_type": "markdown",
      "source": [
        "## References"
      ],
      "metadata": {
        "id": "PlSrQB5pa4ZQ"
      }
    },
    {
      "cell_type": "markdown",
      "source": [
        "* Toennies, Klaus D., _Guide to Medical Image Analysis - Methods and Algorithms: Chapter 1 (The Analysis of Medical Images)_. Springer, 2017. 9781447174035\n",
        "\n",
        "* Birkfellner, Wolfgang, _Applied Medical Image Processing - A Basic Course: Chapter 2 (Image Processing in Clinical Practice)_. CRC Press, 2014. 9781466555570"
      ],
      "metadata": {
        "id": "j8UVlyrxOcaA"
      }
    }
  ],
  "metadata": {
    "colab": {
      "provenance": [],
      "toc_visible": true,
      "include_colab_link": true
    },
    "kernelspec": {
      "display_name": "Python 3",
      "name": "python3"
    },
    "language_info": {
      "name": "python"
    }
  },
  "nbformat": 4,
  "nbformat_minor": 0
}