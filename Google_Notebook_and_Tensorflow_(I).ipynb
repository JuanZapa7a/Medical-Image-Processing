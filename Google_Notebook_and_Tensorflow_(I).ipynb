{
  "nbformat": 4,
  "nbformat_minor": 0,
  "metadata": {
    "colab": {
      "provenance": [],
      "gpuType": "T4",
      "toc_visible": true,
      "include_colab_link": true
    },
    "kernelspec": {
      "name": "python3",
      "display_name": "Python 3"
    },
    "language_info": {
      "name": "python"
    },
    "accelerator": "GPU"
  },
  "cells": [
    {
      "cell_type": "markdown",
      "metadata": {
        "id": "view-in-github",
        "colab_type": "text"
      },
      "source": [
        "<a href=\"https://colab.research.google.com/github/JuanZapa7a/Medical-Image-Processing/blob/main/Google_Notebook_and_Tensorflow_(I).ipynb\" target=\"_parent\"><img src=\"https://colab.research.google.com/assets/colab-badge.svg\" alt=\"Open In Colab\"/></a>"
      ]
    },
    {
      "cell_type": "markdown",
      "metadata": {
        "id": "wpUi437FD6LX"
      },
      "source": [
        "# Create a DataSet from Keras\n",
        "## Import the TensorFlow Library\n",
        "\n",
        "**TensorFlow** is an open-source machine learning library developed by Google. It provides a comprehensive ecosystem for building and deploying machine learning models. TensorFlow supports various machine learning tasks such as *neural networks, deep learning, and natural language processing*. It is widely used for both research and production due to its flexibility, scalability, and performance.\n",
        "\n",
        "Key features of TensorFlow:\n",
        "- **Ease of Use**: TensorFlow provides high-level APIs like **Keras** for easy model building and training.\n",
        "- **Flexibility**: It allows for custom model creation and training.\n",
        "- **Scalability**: TensorFlow can run on multiple CPUs, GPUs, and TPUs, and supports distributed training.\n",
        "- **Production-Ready**: TensorFlow Serving and TensorFlow Lite facilitate the deployment of models on servers and mobile devices. TensorFlow Serving is a flexible, high-performance serving system for machine learning models designed for production environments. TensorFlow Lite is a set of tools that enables the running of TensorFlow models on mobile, embedded, and IoT devices.\n",
        "\n",
        "### Resources to Learn More\n",
        "\n",
        "### TensorFlow\n",
        "- **Official TensorFlow Page**:\n",
        "  - [TensorFlow Main Page](https://www.tensorflow.org/)\n",
        "- **TensorFlow Documentation**:\n",
        "  - [TensorFlow Documentation](https://www.tensorflow.org/guide)\n",
        "- **TensorFlow GitHub Repository**:\n",
        "  - [TensorFlow GitHub Repository](https://github.com/tensorflow/tensorflow)\n",
        "- **TensorFlow Tutorials**:\n",
        "  - [TensorFlow Tutorials](https://www.tensorflow.org/tutorials)\n",
        "- **TensorFlow YouTube Channel**:\n",
        "  - [TensorFlow YouTube Channel](https://www.youtube.com/tensorflow)\n",
        "- **TensorFlow Blog**:\n",
        "  - [TensorFlow Blog](https://blog.tensorflow.org/)\n",
        "- **Coursera TensorFlow Courses**:\n",
        "  - [Coursera TensorFlow Courses](https://www.coursera.org/courses?query=tensorflow)\n",
        "\n",
        "### TensorFlow Serving\n",
        "- **Official TensorFlow Serving Page**:\n",
        "  - [TensorFlow Serving Official Page](https://www.tensorflow.org/tfx/guide/serving)\n",
        "- **TensorFlow Serving GitHub Repository**:\n",
        "  - [TensorFlow Serving GitHub Repository](https://github.com/tensorflow/serving)\n",
        "- **TensorFlow Serving Quickstart Guide**:\n",
        "  - [TensorFlow Serving Quickstart Guide](https://www.tensorflow.org/tfx/serving/serving_basic)\n",
        "\n",
        "### TensorFlow Lite\n",
        "- **Official TensorFlow Lite Page**:\n",
        "  - [TensorFlow Lite Official Page](https://www.tensorflow.org/lite)\n",
        "- **TensorFlow Lite Guide**:\n",
        "  - [TensorFlow Lite Guide](https://www.tensorflow.org/lite/guide)\n",
        "- **TensorFlow Lite GitHub Repository**:\n",
        "  - [TensorFlow Lite GitHub Repository](https://github.com/tensorflow/tensorflow/tree/master/tensorflow/lite)\n",
        "\n",
        "\n",
        "These links provide detailed information and guides to get started with TensorFlow  (and TensorFlow Serving and TensorFlow Lite), along with additional resources to explore their features and use cases.\n",
        "\n",
        "These resources should help you gain a deeper understanding of TensorFlow and its capabilities.\n",
        "\n",
        "Before we can do anything in TensorFlow, we must import the appropriate Python library. It is common practice `to alias the TensorFlow library as tf`. So go ahead and execute the import in a new code cell.\n",
        "\n",
        "\n",
        "---\n",
        "**Import TensorFlow library**\n",
        "\n",
        "---"
      ]
    },
    {
      "cell_type": "code",
      "source": [
        "import tensorflow as tf"
      ],
      "metadata": {
        "id": "CvB95-PkBGZZ"
      },
      "execution_count": 46,
      "outputs": []
    },
    {
      "cell_type": "markdown",
      "metadata": {
        "id": "IafxUDkgEZQv"
      },
      "source": [
        "Google Colab frequently updates the types of GPUs they provide, and as of now, they might offer GPUs such as the Tesla K80, T4, P100, or V100, depending on availability and the specific Colab tier you are using (free or Colab Pro).\n",
        "\n",
        "It’s very easy to enable the GPU in a Colab notebook:\n",
        "1. Click **Runtime** in the top-left menu.\n",
        "2. Click **Change runtime type** from the drop-down menu.\n",
        "3. Choose **GPU** from the Hardware accelerator drop-down menu.\n",
        "4. Click **Save**.\n",
        "\n",
        "**Note**: the GPU must be enabled in each notebook, but it only needs to be enabled once per notebook session.\n",
        "\n",
        "\n",
        "Keep in mind that the specific GPU model available can vary and may not always be the Tesla K80. It’s always a good idea to check the current GPU being provided by running the following code in a Colab notebook:\n",
        "\n",
        "```python\n",
        "import tensorflow as tf\n",
        "tf.config.list_physical_devices('GPU')\n",
        "```\n",
        "\n",
        "---\n",
        "**List the available GPU devices**\n",
        "\n",
        "---"
      ]
    },
    {
      "cell_type": "code",
      "metadata": {
        "colab": {
          "base_uri": "https://localhost:8080/"
        },
        "id": "PRLl4g4cFDub",
        "outputId": "5cbf7762-b6af-4167-dbef-664a656a2d1e"
      },
      "source": [
        "tf.config.list_physical_devices('GPU')"
      ],
      "execution_count": 47,
      "outputs": [
        {
          "output_type": "execute_result",
          "data": {
            "text/plain": [
              "[PhysicalDevice(name='/physical_device:GPU:0', device_type='GPU')]"
            ]
          },
          "metadata": {},
          "execution_count": 47
        }
      ]
    },
    {
      "cell_type": "markdown",
      "source": [
        "or"
      ],
      "metadata": {
        "id": "CXBqLss7xFDa"
      }
    },
    {
      "cell_type": "code",
      "source": [
        "tf.__version__, tf.test.gpu_device_name()"
      ],
      "metadata": {
        "colab": {
          "base_uri": "https://localhost:8080/"
        },
        "id": "ShzTx1IEw6ZI",
        "outputId": "5a4a7dd9-1066-46b0-8159-76657889df96"
      },
      "execution_count": 48,
      "outputs": [
        {
          "output_type": "execute_result",
          "data": {
            "text/plain": [
              "('2.15.0', '/device:GPU:0')"
            ]
          },
          "metadata": {},
          "execution_count": 48
        }
      ]
    },
    {
      "cell_type": "markdown",
      "metadata": {
        "id": "0sBp4eLjGKO0"
      },
      "source": [
        "If ‘/device:GPU:0’ is displayed, the GPU is active. If ‘ ’ is displayed, the regular CPU is active.\n",
        "\n",
        "\n",
        "**Tip**: if you get the error NAME ‘TF’ IS NOT DEFINED, re-execute the code to import the tensorFlow library! For some reason, we sometimes have to re-execute the tensorFlow library import in Colab. we don’t know why this is the case.\n",
        "\n",
        "\n",
        "\n",
        "Colab is a wonderful tool to work with TensorFlow. **However, it does have its limitations**. Colab applies dynamic resource provisioning. In order to be able to offer computational resources for free, Colab dynamically adjusts usage limits and hardware availability on the fly. So available resources in Colab vary over time to accommodate fluctuations in demand. In a nutshell, this means that Colab may not always be available for use! One solution is to move to Colab Pro for a small monthly fee. As of this writing, the cost is $9.99/month.\n",
        "\n",
        "**Tip**: For serious tensorFlow users, we recommend moving to Colab pro. It is not free, but it is quite inexpensive. From our experience, it is more powerful than the free version, and it is more readily available. **Anyway, for this course it is no necessary but you must have patience**.\n"
      ]
    },
    {
      "cell_type": "markdown",
      "source": [
        "In TensorFlow, **tensors are the fundamental building blocks used to represent data**. They are similar to NumPy arrays but with additional features to enable efficient computation on GPUs and TPUs, as well as support for automatic differentiation for training neural networks.\n",
        "\n",
        "Here is a quick overview of tensors in TensorFlow:\n",
        "\n",
        "1. **Creating Tensors**:\n",
        "   - Tensors can be created using functions like `tf.constant()`, `tf.Variable()`, and `tf.convert_to_tensor()`.\n",
        "\n",
        "2. **Rank**:\n",
        "   - The rank of a tensor refers to the number of dimensions it has. A scalar has rank 0, a vector has rank 1, a matrix has rank 2, and so on.\n",
        "   - TensorFlow tensors can have any number of dimensions.\n",
        "\n",
        "3. **Shape**:\n",
        "   - The shape of a tensor describes the number of elements along each dimension.\n",
        "   - For example, a tensor with shape (3, 2) has 3 rows and 2 columns.\n",
        "\n",
        "4. **Data Types**:\n",
        "   - TensorFlow tensors can have various data types, such as float32, int32, float64, etc.\n",
        "   - You can specify the data type when creating a tensor, or TensorFlow will infer it based on the input data.\n",
        "\n",
        "5. **Operations on Tensors**:\n",
        "   - TensorFlow provides a wide range of operations for working with tensors, such as addition, multiplication, matrix multiplication, reshaping, slicing, etc.\n",
        "   - These operations can be performed efficiently on both CPU and GPU.\n",
        "\n",
        "6. **Automatic Differentiation**:\n",
        "   - TensorFlow's automatic differentiation capabilities enable you to compute gradients of tensors with respect to other tensors. This is crucial for training neural networks using gradient-based optimization algorithms.\n",
        "   - TensorFlow's `tf.GradientTape` API is commonly used for this purpose.\n",
        "\n",
        "7. **TensorFlow Eager Execution**:\n",
        "   - TensorFlow's eager execution mode allows for immediate evaluation of operations, enabling more intuitive debugging and interactive experimentation.\n",
        "   - With eager execution, you can evaluate TensorFlow operations immediately without needing to build a computational graph beforehand.\n",
        "\n"
      ],
      "metadata": {
        "id": "OeFcQVB3y42-"
      }
    },
    {
      "cell_type": "markdown",
      "source": [
        "---\n",
        "Create and perform operation with tensors\n",
        "\n",
        "---"
      ],
      "metadata": {
        "id": "xdZ85fptzLYQ"
      }
    },
    {
      "cell_type": "code",
      "source": [
        "import tensorflow as tf\n",
        "\n",
        "# Create tensors\n",
        "a = tf.constant([[1, 2], [3, 4]])\n",
        "b = tf.constant([[5, 6], [7, 8]])\n",
        "\n",
        "# Perform operations\n",
        "c = tf.add(a, b)  # Element-wise addition\n",
        "d = tf.matmul(a, b)  # Matrix multiplication\n",
        "\n",
        "print(\"Tensor c (addition):\\n\", c)\n",
        "print(\"Tensor d (matrix multiplication):\\n\", d)"
      ],
      "metadata": {
        "colab": {
          "base_uri": "https://localhost:8080/"
        },
        "id": "PjUECdMCzoh7",
        "outputId": "2d4a8c24-70fd-426d-8306-f38ed3658a7b"
      },
      "execution_count": 49,
      "outputs": [
        {
          "output_type": "stream",
          "name": "stdout",
          "text": [
            "Tensor c (addition):\n",
            " tf.Tensor(\n",
            "[[ 6  8]\n",
            " [10 12]], shape=(2, 2), dtype=int32)\n",
            "Tensor d (matrix multiplication):\n",
            " tf.Tensor(\n",
            "[[19 22]\n",
            " [43 50]], shape=(2, 2), dtype=int32)\n"
          ]
        }
      ]
    },
    {
      "cell_type": "markdown",
      "source": [
        "That was an example of creating and performing operations on tensors in TensorFlow which demonstrates basic tensor creation and operations in TensorFlow.\n",
        "\n",
        "Tensors play a central role in TensorFlow programming, serving as the primary data structure for representing inputs, weights, activations, and outputs in neural networks and other machine learning models.\n",
        "\n",
        "\n",
        "And the equivalent code using NumPy to perform the same operations:"
      ],
      "metadata": {
        "id": "NH-PWGQ2i2dz"
      }
    },
    {
      "cell_type": "code",
      "source": [
        "import numpy as np\n",
        "\n",
        "# Create arrays\n",
        "a = np.array([[1, 2], [3, 4]])\n",
        "b = np.array([[5, 6], [7, 8]])\n",
        "\n",
        "# Perform operations\n",
        "c = np.add(a, b)  # Element-wise addition\n",
        "d = np.matmul(a, b)  # Matrix multiplication\n",
        "\n",
        "print(\"Array c (addition):\\n\", c)\n",
        "print(\"Array d (matrix multiplication):\\n\", d)\n"
      ],
      "metadata": {
        "colab": {
          "base_uri": "https://localhost:8080/"
        },
        "id": "xddq1ycli4Z5",
        "outputId": "1f23e206-d1fb-48e8-9956-a193e1f979cc"
      },
      "execution_count": 50,
      "outputs": [
        {
          "output_type": "stream",
          "name": "stdout",
          "text": [
            "Array c (addition):\n",
            " [[ 6  8]\n",
            " [10 12]]\n",
            "Array d (matrix multiplication):\n",
            " [[19 22]\n",
            " [43 50]]\n"
          ]
        }
      ]
    },
    {
      "cell_type": "markdown",
      "source": [
        " And here is how you can perform element-wise addition and matrix multiplication in NumPy without using the `np.add()` and `np.matmul()` functions:"
      ],
      "metadata": {
        "id": "Cc3YopyijI5f"
      }
    },
    {
      "cell_type": "code",
      "source": [
        "import numpy as np\n",
        "\n",
        "# Create arrays\n",
        "a = np.array([[1, 2], [3, 4]])\n",
        "b = np.array([[5, 6], [7, 8]])\n",
        "\n",
        "# Perform operations\n",
        "c = a + b  # Element-wise addition\n",
        "d = np.dot(a, b)  # Matrix multiplication using dot product\n",
        "\n",
        "print(\"Array c (addition):\\n\", c)\n",
        "print(\"Array d (matrix multiplication):\\n\", d)\n"
      ],
      "metadata": {
        "colab": {
          "base_uri": "https://localhost:8080/"
        },
        "id": "KEBauPi2jPwC",
        "outputId": "dc67cfb1-8338-437c-8521-9eaf78e32767"
      },
      "execution_count": 51,
      "outputs": [
        {
          "output_type": "stream",
          "name": "stdout",
          "text": [
            "Array c (addition):\n",
            " [[ 6  8]\n",
            " [10 12]]\n",
            "Array d (matrix multiplication):\n",
            " [[19 22]\n",
            " [43 50]]\n"
          ]
        }
      ]
    },
    {
      "cell_type": "markdown",
      "source": [
        "And similary with TensorFlow."
      ],
      "metadata": {
        "id": "APC-5Q2-upD_"
      }
    },
    {
      "cell_type": "code",
      "source": [
        "import tensorflow as tf\n",
        "\n",
        "# Create tensors\n",
        "a = tf.constant([[1, 2], [3, 4]])\n",
        "b = tf.constant([[5, 6], [7, 8]])\n",
        "\n",
        "# Perform operations\n",
        "c = a + b  # Element-wise addition\n",
        "d = a @ b  # Matrix multiplication using dot product @\n",
        "\n",
        "print(\"Array c (addition):\\n\", c)\n",
        "print(\"Array d (matrix multiplication):\\n\", d)\n"
      ],
      "metadata": {
        "colab": {
          "base_uri": "https://localhost:8080/"
        },
        "id": "KJpWKilAusiP",
        "outputId": "c821984a-d766-4646-83c6-be1f27d4ac31"
      },
      "execution_count": 52,
      "outputs": [
        {
          "output_type": "stream",
          "name": "stdout",
          "text": [
            "Array c (addition):\n",
            " tf.Tensor(\n",
            "[[ 6  8]\n",
            " [10 12]], shape=(2, 2), dtype=int32)\n",
            "Array d (matrix multiplication):\n",
            " tf.Tensor(\n",
            "[[19 22]\n",
            " [43 50]], shape=(2, 2), dtype=int32)\n"
          ]
        }
      ]
    },
    {
      "cell_type": "markdown",
      "source": [
        "### Similarities between TensorFlow Tensors and NumPy Arrays\n",
        "\n",
        "1. **Data Storage**:\n",
        "   - Both TensorFlow tensors and NumPy arrays store multi-dimensional data.\n",
        "   - They both support a wide range of data types, including integers, floats, and more.\n",
        "\n",
        "2. **Element-wise Operations**:\n",
        "   - Both support element-wise operations like addition, subtraction, multiplication, and division.\n",
        "\n",
        "3. **Indexing and Slicing**:\n",
        "   - You can use indexing and slicing to access and manipulate parts of the data in both TensorFlow tensors and NumPy arrays.\n",
        "\n",
        "4. **Broadcasting**:\n",
        "   - Both TensorFlow and NumPy support broadcasting, which allows you to perform operations on arrays/tensors of different shapes.\n",
        "\n",
        "### Differences between TensorFlow Tensors and NumPy Arrays\n",
        "\n",
        "1. **Library and Ecosystem**:\n",
        "   - **TensorFlow Tensors**: Part of the TensorFlow library, designed primarily for building and training machine learning models.\n",
        "   - **NumPy Arrays**: Part of the NumPy library, a general-purpose library for numerical and scientific computing in Python.\n",
        "\n",
        "2. **Eager vs. Graph Execution**:\n",
        "   - **TensorFlow Tensors**: Can operate in both eager execution mode (imperative programming) and graph execution mode (declarative programming). In graph mode, computations are represented as a data flow graph, allowing for optimization and deployment in various environments.\n",
        "   - **NumPy Arrays**: Operate in eager execution mode only, where operations are executed immediately.\n",
        "\n",
        "3. **Hardware Acceleration**:\n",
        "   - **TensorFlow Tensors**: Can leverage hardware accelerators like GPUs and TPUs for faster computation, which is particularly useful for deep learning tasks.\n",
        "   - **NumPy Arrays**: Primarily use the CPU for computations, though libraries like CuPy can provide GPU support for NumPy-like operations.\n",
        "\n",
        "4. **Autograd (Automatic Differentiation)**:\n",
        "   - **TensorFlow Tensors**: TensorFlow provides built-in support for automatic differentiation, which is essential for training machine learning models using gradient-based optimization algorithms.\n",
        "   - **NumPy Arrays**: Do not have built-in support for automatic differentiation. However, there are libraries like Autograd and JAX that extend NumPy with automatic differentiation capabilities.\n",
        "\n",
        "5. **Interoperability**:\n",
        "   - **TensorFlow Tensors**: Can be easily converted to NumPy arrays using `.numpy()`.\n",
        "   - **NumPy Arrays**: Can be converted to TensorFlow tensors using `tf.convert_to_tensor()`, allowing for seamless interoperability between the two libraries.\n",
        "   \n",
        "This example highlights how similar operations can be performed with both NumPy arrays and TensorFlow tensors, and how to convert between the two.\n",
        "\n",
        "---\n",
        "**Interoperability between NumPy arrays and TensorFlow tensors**\n",
        "\n",
        "---"
      ],
      "metadata": {
        "id": "wqaCGWJBjsSy"
      }
    },
    {
      "cell_type": "code",
      "source": [
        "\n",
        "import numpy as np\n",
        "import tensorflow as tf\n",
        "\n",
        "# Create a NumPy array\n",
        "np_array = np.array([[1, 2], [3, 4]])\n",
        "\n",
        "# Create a TensorFlow tensor from the NumPy array\n",
        "tf_tensor = tf.convert_to_tensor(np_array)\n",
        "\n",
        "# Perform element-wise addition\n",
        "np_result = np_array + np_array\n",
        "tf_result = tf_tensor + tf_tensor\n",
        "\n",
        "# Perform matrix multiplication\n",
        "np_matmul_result = np.dot(np_array, np_array)\n",
        "tf_matmul_result = tf.matmul(tf_tensor, tf_tensor)\n",
        "\n",
        "# Print results\n",
        "print(\"NumPy array addition:\\n\", np_result)\n",
        "print(\"TensorFlow tensor addition:\\n\", tf_result.numpy())  # Use .numpy() to convert tensor to NumPy array\n",
        "\n",
        "print(\"NumPy array matrix multiplication:\\n\", np_matmul_result)\n",
        "print(\"TensorFlow tensor matrix multiplication:\\n\", tf_matmul_result.numpy())  # Use .numpy() to convert tensor to NumPy array"
      ],
      "metadata": {
        "colab": {
          "base_uri": "https://localhost:8080/"
        },
        "id": "AqSJU3G2mYPw",
        "outputId": "4ed93f34-17dc-42a8-c716-bed49a4338e8"
      },
      "execution_count": 53,
      "outputs": [
        {
          "output_type": "stream",
          "name": "stdout",
          "text": [
            "NumPy array addition:\n",
            " [[2 4]\n",
            " [6 8]]\n",
            "TensorFlow tensor addition:\n",
            " [[2 4]\n",
            " [6 8]]\n",
            "NumPy array matrix multiplication:\n",
            " [[ 7 10]\n",
            " [15 22]]\n",
            "TensorFlow tensor matrix multiplication:\n",
            " [[ 7 10]\n",
            " [15 22]]\n"
          ]
        }
      ]
    },
    {
      "cell_type": "markdown",
      "source": [
        "The interest in using tensors in deep learning, particularly in libraries like TensorFlow, stems from several factors that make tensors more suitable than NumPy arrays for this specific type of tasks:\n",
        "\n",
        "1. **Hardware optimization**: TensorFlow is designed to fully leverage accelerated hardware such as GPUs and TPUs. Tensors in TensorFlow are optimized for operations on these devices, allowing for significant acceleration in training and inference of deep learning models.\n",
        "\n",
        "2. **Automatic differentiation capability**: TensorFlow includes built-in functionality for automatically computing gradients (derivatives) during the backpropagation process, crucial for training deep learning models using gradient-based optimization algorithms. This is efficiently done using tensors.\n",
        "\n",
        "3. **Computational graphs**: TensorFlow uses computational graphs to represent operations and relationships between tensors. These graphs enable optimizations such as operation fusion and distribution across different devices, enhancing computational efficiency compared to the typical imperative execution of NumPy.\n",
        "\n",
        "4. **Scalability and deployment**: TensorFlow provides tools for scaling deep learning models and deploying them in a variety of environments, from mobile devices to cloud servers. Tensors in TensorFlow are designed to perform efficiently in these distributed and heterogeneous environments.\n",
        "\n",
        "5. **Integration with other deep learning tools**: TensorFlow is part of a broader ecosystem of deep learning tools, including TensorFlow Serving, TensorFlow Lite, TensorFlow Extended (TFX), etc. Tensors in TensorFlow seamlessly integrate with these tools to facilitate the development, training, and deployment of deep learning models.\n",
        "\n",
        "While NumPy is an excellent library for scientific computing and general data manipulation, its focus is not specifically tailored to the unique demands of deep learning. TensorFlow, with its emphasis on efficiency, scalability, and ease of use in deep learning environments, provides a more suitable platform for building and deploying large-scale deep learning models."
      ],
      "metadata": {
        "id": "JoK265JIn3WH"
      }
    },
    {
      "cell_type": "markdown",
      "source": [
        "# Create a TensorFlow Dataset\n",
        "\n",
        "Datasets often have a tensor-like shape because they are inherently multidimensional data structures, and tensors are well-suited for representing and processing such data, especially in the context of machine learning and deep learning. There are several reasons why datasets are commonly represented as tensors:\n",
        "\n",
        "1. **Multidimensional Data**: Datasets often contain multidimensional data, such as images (2D), videos (3D), time series (2D or higher), and text sequences (2D or higher). Tensors provide a natural way to represent and manipulate such data due to their ability to handle multiple dimensions efficiently.\n",
        "\n",
        "2. **Uniformity**: Using tensors allows for uniformity in data representation across different types of datasets. Regardless of the specific data type (images, text, audio, etc.), tensors provide a consistent way to organize and process the data, simplifying the implementation of machine learning algorithms.\n",
        "\n",
        "3. **Efficient Storage and Processing**: Tensors are highly efficient for storage and processing, especially when dealing with large-scale datasets. Libraries like TensorFlow and PyTorch are optimized for tensor operations, allowing for fast computation on both CPUs and GPUs.\n",
        "\n",
        "4. **Integration with Frameworks**: Many machine learning frameworks, such as TensorFlow and PyTorch, are tensor-based and provide built-in support for tensor operations. Representing datasets as tensors enables seamless integration with these frameworks, simplifying the development and deployment of machine learning models.\n",
        "\n",
        "5. **Compatibility with Hardware Acceleration**: Tensors are compatible with hardware accelerators like GPUs and TPUs, which are commonly used for training deep learning models. Leveraging tensor-based representations enables efficient utilization of these accelerators, leading to faster training and inference times.\n",
        "\n",
        "Overall, representing datasets as tensors offers numerous advantages in terms of efficiency, uniformity, compatibility, and ease of integration with machine learning frameworks, making them a natural choice for handling multidimensional data in machine learning and deep learning tasks.\n",
        "\n",
        "\n",
        "---\n",
        "**Create a dataset of three tensors with six elements each:**\n",
        "\n",
        "---"
      ],
      "metadata": {
        "id": "afZ0AzbGyJBl"
      }
    },
    {
      "cell_type": "code",
      "metadata": {
        "colab": {
          "base_uri": "https://localhost:8080/"
        },
        "id": "wqffuI0oHS3Y",
        "outputId": "e0342c7e-317f-480e-d958-839d24499176"
      },
      "source": [
        "data = [[8, 5, 7, 3, 9, 1],\n",
        "        [0, 3, 1, 8, 5, 7],\n",
        "        [9, 9, 9, 0, 0, 7]]\n",
        "dataset = tf.data.Dataset.from_tensor_slices(data)\n",
        "dataset"
      ],
      "execution_count": 54,
      "outputs": [
        {
          "output_type": "execute_result",
          "data": {
            "text/plain": [
              "<_TensorSliceDataset element_spec=TensorSpec(shape=(6,), dtype=tf.int32, name=None)>"
            ]
          },
          "metadata": {},
          "execution_count": 54
        }
      ]
    },
    {
      "cell_type": "markdown",
      "metadata": {
        "id": "gsLnbyDlHmh_"
      },
      "source": [
        "\n",
        "\n",
        "Create the dataset. Transform it into a `tf.data.Dataset` object with the `from_tensor_slices()` method. The shape of the dataset is (6,), which means that each row contains six scalar values.\n",
        "# Consume the Dataset\n",
        "\n",
        "**Note**: \"Consume the dataset\" is a phrase commonly used in the context of data science and machine learning. It means actively use the data as input to perform a specific task or analysis.\n",
        "\n",
        "\n",
        "---\n",
        "**Iterating over a TensorFlow dataset**: (`iter()` method)\n",
        "\n",
        "---"
      ]
    },
    {
      "cell_type": "code",
      "metadata": {
        "colab": {
          "base_uri": "https://localhost:8080/"
        },
        "outputId": "12ce7b52-42ae-47e2-9a8e-86128a0c488a",
        "id": "7Y7KbX8BDhVY"
      },
      "source": [
        "i= 0\n",
        "it = iter(dataset)\n",
        "print ('row ' + str(i), ':', end=' ')\n",
        "print (next(it).numpy())\n",
        "i += 1\n",
        "print ('row ' + str(i), ':', end=' ')\n",
        "print (next(it).numpy())\n",
        "i += 1\n",
        "print ('row ' + str(i), ':', end=' ')\n",
        "print (next(it).numpy())"
      ],
      "execution_count": 55,
      "outputs": [
        {
          "output_type": "stream",
          "name": "stdout",
          "text": [
            "row 0 : [8 5 7 3 9 1]\n",
            "row 1 : [0 3 1 8 5 7]\n",
            "row 2 : [9 9 9 0 0 7]\n"
          ]
        }
      ]
    },
    {
      "cell_type": "markdown",
      "source": [
        "\n",
        "or in a for loop:"
      ],
      "metadata": {
        "id": "NYZuwhF4ya66"
      }
    },
    {
      "cell_type": "code",
      "source": [
        "# Create the iterator\n",
        "iterator = iter(dataset)\n",
        "\n",
        "# Use a for loop to iterate over the dataset\n",
        "for i, data in enumerate(iterator):\n",
        "    print('row ' + str(i), ':', end=' ')\n",
        "    print(data.numpy())\n"
      ],
      "metadata": {
        "colab": {
          "base_uri": "https://localhost:8080/"
        },
        "id": "MQBZkLgCyGg_",
        "outputId": "2cd02755-6654-4468-95b0-524955e3ea88"
      },
      "execution_count": 56,
      "outputs": [
        {
          "output_type": "stream",
          "name": "stdout",
          "text": [
            "row 0 : [8 5 7 3 9 1]\n",
            "row 1 : [0 3 1 8 5 7]\n",
            "row 2 : [9 9 9 0 0 7]\n"
          ]
        }
      ]
    },
    {
      "cell_type": "markdown",
      "metadata": {
        "id": "nxv6h0eqJIXt"
      },
      "source": [
        "We can create a Python iterator with a `tf.data.Dataset`. Initialize a counter variable. Use the `iter()` method to create an iterator. Consume the iterator with the `next()` method and display the results.\n",
        "\n",
        "Since the `tf.data.Dataset` object is created with `from_tensor_slices()`, it is a Python iterable that can be consumed with a for loop. With TensorFlow datasets, use the `numpy()` method to explicitly convert each tensor to a NumPy array.\n",
        "\n",
        "---\n",
        "**Iterating over a TensorFlow dataset:** (`take()` method)\n",
        "\n",
        "---"
      ]
    },
    {
      "cell_type": "code",
      "metadata": {
        "colab": {
          "base_uri": "https://localhost:8080/"
        },
        "id": "RnCbgyUXJ9K2",
        "outputId": "2f23ac00-d5e8-4e0b-a530-1d1c294ba830"
      },
      "source": [
        "for i, e in enumerate(dataset.take(3)):\n",
        "  print ('row ' + str(i), ':', end=' ')\n",
        "  print (e.numpy())"
      ],
      "execution_count": 57,
      "outputs": [
        {
          "output_type": "stream",
          "name": "stdout",
          "text": [
            "row 0 : [8 5 7 3 9 1]\n",
            "row 1 : [0 3 1 8 5 7]\n",
            "row 2 : [9 9 9 0 0 7]\n"
          ]
        }
      ]
    },
    {
      "cell_type": "markdown",
      "metadata": {
        "id": "Bm1WcsjdKXYO"
      },
      "source": [
        "We add 3 as a parameter in the `take()` method to grab three examples. `take(n)` is used to obtain a new data containing the first n elements of the original dataset."
      ]
    },
    {
      "cell_type": "markdown",
      "metadata": {
        "id": "KipQbr7hK5lH"
      },
      "source": [
        "#Dataset Structure\n",
        "\n",
        "The `element_spec` property of `tf.data.Dataset` allows inspection of the dataset. The property returns a nested structure of the `tf.TypeSpec` object that matches the structure of the element. The nested structure may be a single component, a tuple of components, or a nested tuple of components\n",
        "\n",
        "---\n",
        "**Inspect the dataset:**\n",
        "\n",
        "---"
      ]
    },
    {
      "cell_type": "code",
      "metadata": {
        "colab": {
          "base_uri": "https://localhost:8080/"
        },
        "id": "SbqK6qdTLQnG",
        "outputId": "20075368-07be-4ddd-bb84-542c192bf5b7"
      },
      "source": [
        "dataset.element_spec"
      ],
      "execution_count": 58,
      "outputs": [
        {
          "output_type": "execute_result",
          "data": {
            "text/plain": [
              "TensorSpec(shape=(6,), dtype=tf.int32, name=None)"
            ]
          },
          "metadata": {},
          "execution_count": 58
        }
      ]
    },
    {
      "cell_type": "markdown",
      "metadata": {
        "id": "w5x47cpmLnTv"
      },
      "source": [
        "\n",
        "Shape and datatype are displayed.\n",
        "\n",
        "\n",
        "or alternatively, just display the `tf.data.Dataset` object:\n",
        "\n"
      ]
    },
    {
      "cell_type": "code",
      "metadata": {
        "colab": {
          "base_uri": "https://localhost:8080/"
        },
        "id": "AEZE_P1PLvSo",
        "outputId": "0ddadb8f-89ff-47b7-9a8a-40a681b14428"
      },
      "source": [
        "dataset"
      ],
      "execution_count": 59,
      "outputs": [
        {
          "output_type": "execute_result",
          "data": {
            "text/plain": [
              "<_TensorSliceDataset element_spec=TensorSpec(shape=(6,), dtype=tf.int32, name=None)>"
            ]
          },
          "metadata": {},
          "execution_count": 59
        }
      ]
    },
    {
      "cell_type": "markdown",
      "source": [
        "If all of your input data fits in memory, the simplest way to create a TensorFlow dataset\n",
        "is to convert it to `tf.Tensor` objects with the `from_tensor_slices()` method."
      ],
      "metadata": {
        "id": "dNQt-Ah790B7"
      }
    },
    {
      "cell_type": "markdown",
      "source": [
        "# Create a WorkFlow (pipeline)\n",
        "\n",
        " Now, we are going to build a pipeline.\n",
        "\n",
        "\n",
        "**Note**: Pipeline is a structured and automated workflow to process data and develop 'models' in an efficient and reproducible way.\n",
        "\n",
        "\n",
        "We begin by:\n",
        "1. Loading and inspecting a clean dataset.\n",
        "2. Scaling (Normalize) the dataset.\n",
        "3. Setting the pipeline.\n",
        "4. Building a model.\n",
        "5. Training the model,\n",
        "6. Evaluating the model.\n",
        "\n"
      ],
      "metadata": {
        "id": "m139k3A9-SZX"
      }
    },
    {
      "cell_type": "markdown",
      "metadata": {
        "id": "l1Bd8UisMIv1"
      },
      "source": [
        "## 1. Load and Inspect Data from a Dataset\n",
        "\n",
        "Keras is a python library which is widely used for training deep learning models. One of the common problems in deep learning is finding the proper dataset for developing models. To find available datasets, you can use `tf.keras.datasets` documentation to obtain the list of available constructors, or refer to our [catalog](https://www.tensorflow.org/api_docs/python/tf/keras/datasets).\n",
        "\n",
        "---\n",
        "**Inspect the list of datasets availables from Keras**\n",
        "\n",
        "---"
      ]
    },
    {
      "cell_type": "code",
      "source": [
        "import tensorflow as tf\n",
        "\n",
        "# List all datasets in keras.datasets\n",
        "dataset_list = [attr for attr in dir(tf.keras.datasets) if not attr.startswith(\"__\")]\n",
        "\n",
        "print(\"Available datasets in keras.datasets:\")\n",
        "for dataset in dataset_list:\n",
        "    print(dataset)\n"
      ],
      "metadata": {
        "colab": {
          "base_uri": "https://localhost:8080/"
        },
        "id": "h7E5ZzJp09e-",
        "outputId": "108852dd-19e1-4702-d56d-53de7e4c64d4"
      },
      "execution_count": 60,
      "outputs": [
        {
          "output_type": "stream",
          "name": "stdout",
          "text": [
            "Available datasets in keras.datasets:\n",
            "boston_housing\n",
            "cifar10\n",
            "cifar100\n",
            "fashion_mnist\n",
            "imdb\n",
            "mnist\n",
            "reuters\n"
          ]
        }
      ]
    },
    {
      "cell_type": "markdown",
      "source": [
        "\n",
        "\n",
        "Keras provides a variety of built-in datasets that you can easily access through the `keras.datasets` module. To see a catalog of available datasets in Keras, you can refer to the official Keras documentation or check the source code. Below, a list of some commonly used datasets is provided.\n",
        "\n",
        "### Commonly Used Keras Datasets\n",
        "\n",
        "1. **MNIST**: Handwritten digits dataset.\n",
        "2. **Fashion MNIST**: Fashion items dataset similar to MNIST but with clothing items.\n",
        "3. **CIFAR10**: 60,000 32x32 color images in 10 classes.\n",
        "4. **CIFAR100**: Similar to CIFAR10 but with 100 classes.\n",
        "5. **IMDB**: Movie reviews dataset for sentiment analysis.\n",
        "6. **Reuters**: Reuters newswire topics classification dataset.\n",
        "7. **Boston Housing**: Boston housing prices dataset.\n",
        "\n",
        "To build an input pipeline, we need a dataset. **Unfortunately, Keras does not provide any preprocessed dataset of biomedical images ready to be directly used with machine learning models**. Therefore, before using them, we will use a dataset of non-medical images as an example. Since the focus is on building a TensorFlow consumable pipeline, we work with cleansed datasets.\n",
        "\n",
        "---\n",
        "**Load training and test data in memory form Fashion-MNIST dataset:**\n",
        "\n",
        "---"
      ],
      "metadata": {
        "id": "GGzgLOpM08ds"
      }
    },
    {
      "cell_type": "code",
      "source": [
        "train, test = tf.keras.datasets.fashion_mnist.load_data()"
      ],
      "metadata": {
        "id": "bA9WUDtwZGFG"
      },
      "execution_count": 61,
      "outputs": []
    },
    {
      "cell_type": "markdown",
      "metadata": {
        "id": "dQtpdC7AZMkB"
      },
      "source": [
        "In machine learning, a **dataset is a collection of data points or examples used to train and evaluate machine learning models**. These data points typically consist of **features or inputs** (in our case images) along with corresponding **labels or outputs** (in our case classes).\n",
        "\n",
        "We use *training data to teach the model*. We use *test data to evaluate the model*.\n",
        "\n",
        "\n",
        "\n",
        "Fashion-MNIST is a dataset of [Zalando’s article images](https://github.com/zalandoresearch/fashion-mnist). It contains 60,000 training and 10,000 test examples.\n",
        "\n",
        "The dataset is intended to serve as a direct drop-in replacement of the original MNIST dataset for benchmarking machine learning algorithms. **In our case, it will serve as an excuse to present the workflow necessary to train a neural network on a dataset and evaluate its performance.**\n",
        "\n",
        "---\n",
        "**Inspect the Dataset:**\n",
        "\n",
        "---\n",
        "\n"
      ]
    },
    {
      "cell_type": "code",
      "source": [
        "print(type(train[0]), type(train[1]))\n",
        "print(f'Image Shape = {train[0].shape}')\n",
        "print(f'Label Shape = {train[1].shape}')"
      ],
      "metadata": {
        "colab": {
          "base_uri": "https://localhost:8080/"
        },
        "id": "Ojf7GEaVZELS",
        "outputId": "750e40c8-5adb-4959-ef0d-578fe63a08fd"
      },
      "execution_count": 62,
      "outputs": [
        {
          "output_type": "stream",
          "name": "stdout",
          "text": [
            "<class 'numpy.ndarray'> <class 'numpy.ndarray'>\n",
            "Image Shape = (60000, 28, 28)\n",
            "Label Shape = (60000,)\n"
          ]
        }
      ]
    },
    {
      "cell_type": "markdown",
      "metadata": {
        "id": "fXgyvip6ZZzd"
      },
      "source": [
        "**Training and test sets are tuples** where the first tuple element contains feature images and the second contains corresponding labels. **Both elements (features and labels) are NumPy arrays**.\n",
        "\n",
        "\n",
        "---\n",
        "**Load images and labels into variables:**\n",
        "\n",
        "---\n",
        "\n"
      ]
    },
    {
      "cell_type": "code",
      "metadata": {
        "id": "Xe0M6dl2ZdhG",
        "colab": {
          "base_uri": "https://localhost:8080/"
        },
        "outputId": "825648da-e9de-4c47-ad6d-4106b387ccee"
      },
      "source": [
        "train_img, train_lbl = train\n",
        "test_img, test_lbl = test\n",
        "\n",
        "print(f'Train Image Shape = {train_img.shape}')\n",
        "print(f'Train Label Shape = {train_lbl.shape}')\n",
        "print(f'Test Image Shape  = {test_img.shape}')\n",
        "print(f'Test Label Shape  = {test_lbl.shape}')"
      ],
      "execution_count": 63,
      "outputs": [
        {
          "output_type": "stream",
          "name": "stdout",
          "text": [
            "Train Image Shape = (60000, 28, 28)\n",
            "Train Label Shape = (60000,)\n",
            "Test Image Shape  = (10000, 28, 28)\n",
            "Test Label Shape  = (10000,)\n"
          ]
        }
      ]
    },
    {
      "cell_type": "markdown",
      "metadata": {
        "id": "3Pt1Q1HYZiFE"
      },
      "source": [
        "For example, I want to select from images the number 4000 and inside the pixel (20,12). It is said train[0] (image not label) , [4000] image number, [12] row number, [20] column number for the train datser directly, is:"
      ]
    },
    {
      "cell_type": "code",
      "source": [
        "print(train[0][4000][12][20])"
      ],
      "metadata": {
        "colab": {
          "base_uri": "https://localhost:8080/"
        },
        "id": "iTtmjDNJZD-e",
        "outputId": "119e7354-b666-4f56-ebc4-3ea3ae72c83a"
      },
      "execution_count": 64,
      "outputs": [
        {
          "output_type": "stream",
          "name": "stdout",
          "text": [
            "187\n"
          ]
        }
      ]
    },
    {
      "cell_type": "markdown",
      "source": [
        "or from a variable."
      ],
      "metadata": {
        "id": "70up_hDzDjVW"
      }
    },
    {
      "cell_type": "code",
      "source": [
        "print(train_img[4000][12][20])"
      ],
      "metadata": {
        "colab": {
          "base_uri": "https://localhost:8080/"
        },
        "id": "Dkzm2IbVZtn3",
        "outputId": "c0ce9816-1ff1-4d85-c6d9-b1cb7ad45bcd"
      },
      "execution_count": 65,
      "outputs": [
        {
          "output_type": "stream",
          "name": "stdout",
          "text": [
            "187\n"
          ]
        }
      ]
    },
    {
      "cell_type": "markdown",
      "source": [
        "and the [1] label for [4000] image is:"
      ],
      "metadata": {
        "id": "z_rV9anZZDwz"
      }
    },
    {
      "cell_type": "code",
      "source": [
        "print(train[1][4000])"
      ],
      "metadata": {
        "colab": {
          "base_uri": "https://localhost:8080/"
        },
        "id": "pzpzQfNUZ43Y",
        "outputId": "02712fef-28f5-41b5-914e-5d98ce53cdee"
      },
      "execution_count": 66,
      "outputs": [
        {
          "output_type": "stream",
          "name": "stdout",
          "text": [
            "8\n"
          ]
        }
      ]
    },
    {
      "cell_type": "markdown",
      "source": [
        "or from a variable"
      ],
      "metadata": {
        "id": "OoDUImLrZDuA"
      }
    },
    {
      "cell_type": "code",
      "source": [
        "print(train_lbl[4000])"
      ],
      "metadata": {
        "colab": {
          "base_uri": "https://localhost:8080/"
        },
        "id": "wmfBO9FDZ-pN",
        "outputId": "c9078321-0135-4746-ca5b-a5069afdabd8"
      },
      "execution_count": 67,
      "outputs": [
        {
          "output_type": "stream",
          "name": "stdout",
          "text": [
            "8\n"
          ]
        }
      ]
    },
    {
      "cell_type": "markdown",
      "metadata": {
        "id": "yPytZ4_oaKYh"
      },
      "source": [
        "By separating images and labels from the respective datasets, we can more easily process images and labels as needed.\n",
        "\n",
        "---\n",
        "**Verify shapes:**\n",
        "\n",
        "---\n",
        "\n"
      ]
    },
    {
      "cell_type": "code",
      "metadata": {
        "colab": {
          "base_uri": "https://localhost:8080/"
        },
        "outputId": "7b764641-9904-460a-ef66-47352ccb3284",
        "id": "WUFd06cHaMQj"
      },
      "source": [
        "print ('train:', train_img.shape, train_lbl.shape)\n",
        "print ('test:', test_img.shape, test_lbl.shape)"
      ],
      "execution_count": 68,
      "outputs": [
        {
          "output_type": "stream",
          "name": "stdout",
          "text": [
            "train: (60000, 28, 28) (60000,)\n",
            "test: (10000, 28, 28) (10000,)\n"
          ]
        }
      ]
    },
    {
      "cell_type": "markdown",
      "metadata": {
        "id": "oBdK1y-_aRy3"
      },
      "source": [
        "**Training data** consists of 60,000 28 × 28 feature images and 60,000 labels.\n",
        "\n",
        "**Test data** consists of 10,000 28 × 28 feature images and 10,000 labels.\n",
        "\n",
        "## 2. Scale and Create the tf.data.Dataset\n",
        "\n",
        "ML models tend to work better if the pixels that make up each image are smaller in size (0-1) because in this range any operation is inside range (0-1).\n",
        "\n",
        "\n",
        "---\n",
        "**Inspect train and test**\n",
        "\n",
        "---"
      ]
    },
    {
      "cell_type": "code",
      "source": [
        "type(train), type(test), type(train_img), type(test_img), type(train_lbl), type(test_lbl)\n"
      ],
      "metadata": {
        "colab": {
          "base_uri": "https://localhost:8080/"
        },
        "id": "VZ4KwDE8GMGz",
        "outputId": "a08daadd-4e30-4e6c-d212-aeda787027d6"
      },
      "execution_count": 69,
      "outputs": [
        {
          "output_type": "execute_result",
          "data": {
            "text/plain": [
              "(tuple, tuple, numpy.ndarray, numpy.ndarray, numpy.ndarray, numpy.ndarray)"
            ]
          },
          "metadata": {},
          "execution_count": 69
        }
      ]
    },
    {
      "cell_type": "markdown",
      "source": [
        "Ok. Then, train, test are tuples from numpy arrays. train_img and test_img are numpy arrays. train_lbl and test_lbl are numpy arrays.\n",
        "\n",
        "But we have said that it is better to work with tensors, so we will need to convert them into tensors.\n",
        "\n",
        "But, previously. Can we see now what an image looks like?\n",
        "\n",
        "---\n",
        "**Show image number 100 from train_img**\n",
        "\n",
        "---\n"
      ],
      "metadata": {
        "id": "2asBonFHGwTa"
      }
    },
    {
      "cell_type": "code",
      "source": [
        "# image number 1000\n",
        "train_img[1000]"
      ],
      "metadata": {
        "colab": {
          "base_uri": "https://localhost:8080/",
          "height": 68
        },
        "id": "R9rOx_Q7Hdew",
        "outputId": "ed34efc5-9c65-4483-ad3a-35692fe1de93"
      },
      "execution_count": 70,
      "outputs": [
        {
          "output_type": "execute_result",
          "data": {
            "text/plain": [
              "array([[  0,   0,   0,   0,   0,   0,   0,   0,   0,   0,   0,  97,  84,\n",
              "         97, 110, 108,  87,  97,   0,   0,   0,   0,   0,   0,   0,   0,\n",
              "          0,   0],\n",
              "       [  0,   0,   0,   0,   0,   0,   0,   0,   0,   0,  19, 255, 199,\n",
              "        183, 142, 161, 200, 213,  32,   0,   0,   0,   0,   0,   0,   0,\n",
              "          0,   0],\n",
              "       [  0,   0,   0,   0,   0,   0,   0,   0,   0,   0,  72, 174, 173,\n",
              "        158, 131, 132, 176, 176,  70,   0,   0,   0,   0,   0,   0,   0,\n",
              "          0,   0],\n",
              "       [  0,   0,   0,   0,   0,   0,   0,   0,   0,   0, 142, 180, 163,\n",
              "        120, 180, 126, 139, 168, 122,   0,   0,   0,   0,   0,   0,   0,\n",
              "          0,   0],\n",
              "       [  0,   0,   0,   0,   0,   0,   0,   0,   0,   0, 156, 180, 162,\n",
              "        171, 170, 183, 163, 169, 144,   0,   0,   0,   0,   0,   0,   0,\n",
              "          0,   0],\n",
              "       [  0,   0,   0,   0,   0,   0,   0,   0,   0,   0, 159, 177, 163,\n",
              "        174, 166, 173, 170, 163, 148,   0,   0,   0,   0,   0,   0,   0,\n",
              "          0,   0],\n",
              "       [  0,   0,   0,   0,   0,   0,   0,   0,   0,   0, 160, 182, 160,\n",
              "        168, 175, 167, 157, 168, 139,   0,   0,   0,   0,   0,   0,   0,\n",
              "          0,   0],\n",
              "       [  0,   0,   0,   0,   0,   0,   0,   0,   0,   0, 143, 185, 161,\n",
              "        171, 184, 176, 160, 175, 131,   0,   0,   0,   0,   0,   0,   0,\n",
              "          0,   0],\n",
              "       [  0,   0,   0,   0,   0,   0,   0,   0,   0,   0, 143, 188, 155,\n",
              "        172, 182, 180, 161, 182, 127,   0,   0,   0,   0,   0,   0,   0,\n",
              "          0,   0],\n",
              "       [  0,   0,   0,   0,   0,   0,   0,   0,   0,   0, 127, 170, 168,\n",
              "        175, 211, 191, 163, 184, 113,   0,   0,   0,   0,   0,   0,   0,\n",
              "          0,   0],\n",
              "       [  0,   0,   0,   0,   0,   0,   0,   0,   0,   0,  78, 132, 175,\n",
              "        177, 129, 203, 161, 187, 102,   0,   0,   0,   0,   0,   0,   0,\n",
              "          0,   0],\n",
              "       [  0,   0,   0,   0,   0,   0,   0,   0,   0,   0,  91, 166, 163,\n",
              "        190,  63, 203, 159, 189,  94,   0,   0,   0,   0,   0,   0,   0,\n",
              "          0,   0],\n",
              "       [  0,   0,   0,   0,   0,   0,   0,   0,   0,   0,  98, 126, 166,\n",
              "        192,  65, 198, 167, 193,  84,   0,   0,   0,   0,   0,   0,   0,\n",
              "          0,   0],\n",
              "       [  0,   0,   0,   0,   0,   0,   0,   0,   0,   0,  90, 127, 170,\n",
              "        198,  61, 200, 174, 198,  71,   0,   0,   0,   0,   0,   0,   0,\n",
              "          0,   0],\n",
              "       [  0,   0,   0,   0,   0,   0,   0,   0,   0,   0,  93, 141, 151,\n",
              "        207,  55, 196, 171, 196,  58,   0,   0,   0,   0,   0,   0,   0,\n",
              "          0,   0],\n",
              "       [  0,   0,   0,   0,   0,   0,   0,   0,   0,   0,  88, 137, 136,\n",
              "        210,  54, 198, 173, 199,  46,   0,   0,   0,   0,   0,   0,   0,\n",
              "          0,   0],\n",
              "       [  0,   0,   0,   0,   0,   0,   0,   0,   0,   0,  72, 125, 131,\n",
              "        214,  55, 199, 176, 200,  38,   0,   0,   0,   0,   0,   0,   0,\n",
              "          0,   0],\n",
              "       [  0,   0,   0,   0,   0,   0,   0,   0,   0,   0,  56, 146, 126,\n",
              "        210,  56, 200, 175, 200,  37,   0,   0,   0,   0,   0,   0,   0,\n",
              "          0,   0],\n",
              "       [  0,   0,   0,   0,   0,   0,   0,   0,   0,   0,  40, 237, 171,\n",
              "        195,  64, 199, 174, 203,  36,   0,   0,   0,   0,   0,   0,   0,\n",
              "          0,   0],\n",
              "       [  0,   0,   0,   0,   0,   0,   0,   0,   0,   0,  23, 190, 168,\n",
              "        192,  70, 196, 171, 203,  30,   0,   0,   0,   0,   0,   0,   0,\n",
              "          0,   0],\n",
              "       [  0,   0,   0,   0,   0,   0,   0,   0,   0,   0,  15, 188, 171,\n",
              "        196,  70, 198, 173, 202,  21,   0,   0,   0,   0,   0,   0,   0,\n",
              "          0,   0],\n",
              "       [  0,   0,   0,   0,   0,   0,   0,   0,   0,   0,  11, 187, 172,\n",
              "        197,  71, 199, 174, 203,  15,   0,   0,   0,   0,   0,   0,   0,\n",
              "          0,   0],\n",
              "       [  0,   0,   0,   0,   0,   0,   0,   0,   0,   0,   1, 183, 175,\n",
              "        198,  73, 195, 174, 205,  13,   0,   0,   0,   0,   0,   0,   0,\n",
              "          0,   0],\n",
              "       [  0,   0,   0,   0,   0,   0,   0,   0,   0,   0,   0, 186, 177,\n",
              "        200,  78, 191, 175, 171,   8,   0,   0,   0,   0,   0,   0,   0,\n",
              "          0,   0],\n",
              "       [  0,   0,   0,   0,   0,   0,   0,   0,   0,   0,   0, 181, 177,\n",
              "        198,  78, 189, 176, 166,   4,   0,   0,   0,   0,   0,   0,   0,\n",
              "          0,   0],\n",
              "       [  0,   0,   0,   0,   0,   0,   0,   0,   0,   0,   0, 178, 182,\n",
              "        182, 107, 184, 175, 193,   0,   0,   0,   0,   0,   0,   0,   0,\n",
              "          0,   0],\n",
              "       [  0,   0,   0,   0,   0,   0,   0,   0,   0,   0,   0, 173, 200,\n",
              "        206,  84, 196, 196, 133,   0,   0,   0,   0,   0,   0,   0,   0,\n",
              "          0,   0],\n",
              "       [  0,   0,   0,   0,   0,   0,   0,   0,   0,   0,   0,  68, 207,\n",
              "        182,   0, 175, 195,  34,   0,   0,   0,   0,   0,   0,   0,   0,\n",
              "          0,   0]], dtype=uint8)"
            ],
            "text/html": [
              "<style>\n",
              "      .ndarray_repr .ndarray_raw_data {\n",
              "        display: none;\n",
              "      }\n",
              "      .ndarray_repr.show_array .ndarray_raw_data {\n",
              "        display: block;\n",
              "      }\n",
              "      .ndarray_repr.show_array .ndarray_image_preview {\n",
              "        display: none;\n",
              "      }\n",
              "      </style>\n",
              "      <div id=\"id-7a35624b-736e-4081-8b04-27e68122a91d\" class=\"ndarray_repr\"><pre>ndarray (28, 28) <button style=\"padding: 0 2px;\">show data</button></pre><img src=\"data:image/png;base64,iVBORw0KGgoAAAANSUhEUgAAABwAAAAcCAAAAABXZoBIAAABJElEQVR4nG3Ru04CQRQG4HOZ3WGVxYJIY2gstLIwauEL2PAIVj6VlfEFjL6BiZ2dsdJgYiwxoCwC62auVjIUZ8r/y58zJwchvYt5WYbxxvUqwGTdyWP10t0vBx//iUp4chdny3prtLdCSniW18ND89Ycg9DsQDyqTyfYA6HJHtnV2igJMfOmMPPsV8IpIxcF60ZCYINBoXYSVt8l9zeJfiR8Gmq6bQdeSljuLsp7CCTO1K9MZFuqlrBBlTvS2VxC7nwVxvkgonUzjkS8EFdZWIXIKH6o2rYOMUIU8fxg1oqRRZw+e597D0ZcJbACoihexUVERESxWTtGckBBwshEmcN3KyFYCBDQivcEn1V9G3cSqvVmL/9stx9SsN681KObcbxKwR9KR3gic80pugAAAABJRU5ErkJggg==\" class=\"ndarray_image_preview\" /><pre class=\"ndarray_raw_data\">array([[  0,   0,   0,   0,   0,   0,   0,   0,   0,   0,   0,  97,  84,\n",
              "         97, 110, 108,  87,  97,   0,   0,   0,   0,   0,   0,   0,   0,\n",
              "          0,   0],\n",
              "       [  0,   0,   0,   0,   0,   0,   0,   0,   0,   0,  19, 255, 199,\n",
              "        183, 142, 161, 200, 213,  32,   0,   0,   0,   0,   0,   0,   0,\n",
              "          0,   0],\n",
              "       [  0,   0,   0,   0,   0,   0,   0,   0,   0,   0,  72, 174, 173,\n",
              "        158, 131, 132, 176, 176,  70,   0,   0,   0,   0,   0,   0,   0,\n",
              "          0,   0],\n",
              "       [  0,   0,   0,   0,   0,   0,   0,   0,   0,   0, 142, 180, 163,\n",
              "        120, 180, 126, 139, 168, 122,   0,   0,   0,   0,   0,   0,   0,\n",
              "          0,   0],\n",
              "       [  0,   0,   0,   0,   0,   0,   0,   0,   0,   0, 156, 180, 162,\n",
              "        171, 170, 183, 163, 169, 144,   0,   0,   0,   0,   0,   0,   0,\n",
              "          0,   0],\n",
              "       [  0,   0,   0,   0,   0,   0,   0,   0,   0,   0, 159, 177, 163,\n",
              "        174, 166, 173, 170, 163, 148,   0,   0,   0,   0,   0,   0,   0,\n",
              "          0,   0],\n",
              "       [  0,   0,   0,   0,   0,   0,   0,   0,   0,   0, 160, 182, 160,\n",
              "        168, 175, 167, 157, 168, 139,   0,   0,   0,   0,   0,   0,   0,\n",
              "          0,   0],\n",
              "       [  0,   0,   0,   0,   0,   0,   0,   0,   0,   0, 143, 185, 161,\n",
              "        171, 184, 176, 160, 175, 131,   0,   0,   0,   0,   0,   0,   0,\n",
              "          0,   0],\n",
              "       [  0,   0,   0,   0,   0,   0,   0,   0,   0,   0, 143, 188, 155,\n",
              "        172, 182, 180, 161, 182, 127,   0,   0,   0,   0,   0,   0,   0,\n",
              "          0,   0],\n",
              "       [  0,   0,   0,   0,   0,   0,   0,   0,   0,   0, 127, 170, 168,\n",
              "        175, 211, 191, 163, 184, 113,   0,   0,   0,   0,   0,   0,   0,\n",
              "          0,   0],\n",
              "       [  0,   0,   0,   0,   0,   0,   0,   0,   0,   0,  78, 132, 175,\n",
              "        177, 129, 203, 161, 187, 102,   0,   0,   0,   0,   0,   0,   0,\n",
              "          0,   0],\n",
              "       [  0,   0,   0,   0,   0,   0,   0,   0,   0,   0,  91, 166, 163,\n",
              "        190,  63, 203, 159, 189,  94,   0,   0,   0,   0,   0,   0,   0,\n",
              "          0,   0],\n",
              "       [  0,   0,   0,   0,   0,   0,   0,   0,   0,   0,  98, 126, 166,\n",
              "        192,  65, 198, 167, 193,  84,   0,   0,   0,   0,   0,   0,   0,\n",
              "          0,   0],\n",
              "       [  0,   0,   0,   0,   0,   0,   0,   0,   0,   0,  90, 127, 170,\n",
              "        198,  61, 200, 174, 198,  71,   0,   0,   0,   0,   0,   0,   0,\n",
              "          0,   0],\n",
              "       [  0,   0,   0,   0,   0,   0,   0,   0,   0,   0,  93, 141, 151,\n",
              "        207,  55, 196, 171, 196,  58,   0,   0,   0,   0,   0,   0,   0,\n",
              "          0,   0],\n",
              "       [  0,   0,   0,   0,   0,   0,   0,   0,   0,   0,  88, 137, 136,\n",
              "        210,  54, 198, 173, 199,  46,   0,   0,   0,   0,   0,   0,   0,\n",
              "          0,   0],\n",
              "       [  0,   0,   0,   0,   0,   0,   0,   0,   0,   0,  72, 125, 131,\n",
              "        214,  55, 199, 176, 200,  38,   0,   0,   0,   0,   0,   0,   0,\n",
              "          0,   0],\n",
              "       [  0,   0,   0,   0,   0,   0,   0,   0,   0,   0,  56, 146, 126,\n",
              "        210,  56, 200, 175, 200,  37,   0,   0,   0,   0,   0,   0,   0,\n",
              "          0,   0],\n",
              "       [  0,   0,   0,   0,   0,   0,   0,   0,   0,   0,  40, 237, 171,\n",
              "        195,  64, 199, 174, 203,  36,   0,   0,   0,   0,   0,   0,   0,\n",
              "          0,   0],\n",
              "       [  0,   0,   0,   0,   0,   0,   0,   0,   0,   0,  23, 190, 168,\n",
              "        192,  70, 196, 171, 203,  30,   0,   0,   0,   0,   0,   0,   0,\n",
              "          0,   0],\n",
              "       [  0,   0,   0,   0,   0,   0,   0,   0,   0,   0,  15, 188, 171,\n",
              "        196,  70, 198, 173, 202,  21,   0,   0,   0,   0,   0,   0,   0,\n",
              "          0,   0],\n",
              "       [  0,   0,   0,   0,   0,   0,   0,   0,   0,   0,  11, 187, 172,\n",
              "        197,  71, 199, 174, 203,  15,   0,   0,   0,   0,   0,   0,   0,\n",
              "          0,   0],\n",
              "       [  0,   0,   0,   0,   0,   0,   0,   0,   0,   0,   1, 183, 175,\n",
              "        198,  73, 195, 174, 205,  13,   0,   0,   0,   0,   0,   0,   0,\n",
              "          0,   0],\n",
              "       [  0,   0,   0,   0,   0,   0,   0,   0,   0,   0,   0, 186, 177,\n",
              "        200,  78, 191, 175, 171,   8,   0,   0,   0,   0,   0,   0,   0,\n",
              "          0,   0],\n",
              "       [  0,   0,   0,   0,   0,   0,   0,   0,   0,   0,   0, 181, 177,\n",
              "        198,  78, 189, 176, 166,   4,   0,   0,   0,   0,   0,   0,   0,\n",
              "          0,   0],\n",
              "       [  0,   0,   0,   0,   0,   0,   0,   0,   0,   0,   0, 178, 182,\n",
              "        182, 107, 184, 175, 193,   0,   0,   0,   0,   0,   0,   0,   0,\n",
              "          0,   0],\n",
              "       [  0,   0,   0,   0,   0,   0,   0,   0,   0,   0,   0, 173, 200,\n",
              "        206,  84, 196, 196, 133,   0,   0,   0,   0,   0,   0,   0,   0,\n",
              "          0,   0],\n",
              "       [  0,   0,   0,   0,   0,   0,   0,   0,   0,   0,   0,  68, 207,\n",
              "        182,   0, 175, 195,  34,   0,   0,   0,   0,   0,   0,   0,   0,\n",
              "          0,   0]], dtype=uint8)</pre></div><script>\n",
              "      (() => {\n",
              "      const titles = ['show data', 'hide data'];\n",
              "      let index = 0\n",
              "      document.querySelector('#id-7a35624b-736e-4081-8b04-27e68122a91d button').onclick = (e) => {\n",
              "        document.querySelector('#id-7a35624b-736e-4081-8b04-27e68122a91d').classList.toggle('show_array');\n",
              "        index = (++index) % 2;\n",
              "        document.querySelector('#id-7a35624b-736e-4081-8b04-27e68122a91d button').textContent = titles[index];\n",
              "        e.preventDefault();\n",
              "        e.stopPropagation();\n",
              "      }\n",
              "      })();\n",
              "    </script>"
            ]
          },
          "metadata": {},
          "execution_count": 70
        }
      ]
    },
    {
      "cell_type": "markdown",
      "source": [
        "Image pixel values are typically integers that range from 0 to 255. Get slices of the NumPy arrays in the form of `tf.data.Dataset()` objects with `from_tensor_slices()`. Feature image pixel values are typically integers that range from 0 to 255. To scale, divide feature images by 255 to get pixel values that range from 0 to 1.\n",
        "\n",
        "Scaling images is a critical preprocessing step because deep learning models train faster on smaller images. Moreover, many deep learning model architectures require that images are the same size. But raw images tend to vary in size. labels is not necessary scale because it is the number of classes which is a integer number.\n",
        "\n",
        "\n",
        "---\n",
        "**Scale data (normalize) for efficient processing and create the training (train_ds) and test (test_ds) tf tensors:**\n",
        "\n",
        "---"
      ],
      "metadata": {
        "id": "H0zkHYGLHptb"
      }
    },
    {
      "cell_type": "code",
      "metadata": {
        "id": "qKodiD4zaUVQ"
      },
      "source": [
        "train_image = train_img / 255.0\n",
        "test_image = test_img / 255.0\n",
        "train_ds = tf.data.Dataset.from_tensor_slices(\n",
        "    (train_image, train_lbl))\n",
        "test_ds = tf.data.Dataset.from_tensor_slices(\n",
        "    (test_image, test_lbl))"
      ],
      "execution_count": 71,
      "outputs": []
    },
    {
      "cell_type": "markdown",
      "metadata": {
        "id": "rDj7s8EJaZgs"
      },
      "source": [
        "Now, train_image and test_image is betweeen 0 to 1. Reciprocally train_ds and test_ds is formed with values scaled too.\n",
        "\n"
      ]
    },
    {
      "cell_type": "code",
      "source": [
        "train_image[1000]"
      ],
      "metadata": {
        "colab": {
          "base_uri": "https://localhost:8080/"
        },
        "id": "wpMJLcl0Iw2I",
        "outputId": "aecb7da1-57c6-4fc6-ce7d-ccc8dfb26942"
      },
      "execution_count": 72,
      "outputs": [
        {
          "output_type": "execute_result",
          "data": {
            "text/plain": [
              "array([[0.        , 0.        , 0.        , 0.        , 0.        ,\n",
              "        0.        , 0.        , 0.        , 0.        , 0.        ,\n",
              "        0.        , 0.38039216, 0.32941176, 0.38039216, 0.43137255,\n",
              "        0.42352941, 0.34117647, 0.38039216, 0.        , 0.        ,\n",
              "        0.        , 0.        , 0.        , 0.        , 0.        ,\n",
              "        0.        , 0.        , 0.        ],\n",
              "       [0.        , 0.        , 0.        , 0.        , 0.        ,\n",
              "        0.        , 0.        , 0.        , 0.        , 0.        ,\n",
              "        0.0745098 , 1.        , 0.78039216, 0.71764706, 0.55686275,\n",
              "        0.63137255, 0.78431373, 0.83529412, 0.1254902 , 0.        ,\n",
              "        0.        , 0.        , 0.        , 0.        , 0.        ,\n",
              "        0.        , 0.        , 0.        ],\n",
              "       [0.        , 0.        , 0.        , 0.        , 0.        ,\n",
              "        0.        , 0.        , 0.        , 0.        , 0.        ,\n",
              "        0.28235294, 0.68235294, 0.67843137, 0.61960784, 0.51372549,\n",
              "        0.51764706, 0.69019608, 0.69019608, 0.2745098 , 0.        ,\n",
              "        0.        , 0.        , 0.        , 0.        , 0.        ,\n",
              "        0.        , 0.        , 0.        ],\n",
              "       [0.        , 0.        , 0.        , 0.        , 0.        ,\n",
              "        0.        , 0.        , 0.        , 0.        , 0.        ,\n",
              "        0.55686275, 0.70588235, 0.63921569, 0.47058824, 0.70588235,\n",
              "        0.49411765, 0.54509804, 0.65882353, 0.47843137, 0.        ,\n",
              "        0.        , 0.        , 0.        , 0.        , 0.        ,\n",
              "        0.        , 0.        , 0.        ],\n",
              "       [0.        , 0.        , 0.        , 0.        , 0.        ,\n",
              "        0.        , 0.        , 0.        , 0.        , 0.        ,\n",
              "        0.61176471, 0.70588235, 0.63529412, 0.67058824, 0.66666667,\n",
              "        0.71764706, 0.63921569, 0.6627451 , 0.56470588, 0.        ,\n",
              "        0.        , 0.        , 0.        , 0.        , 0.        ,\n",
              "        0.        , 0.        , 0.        ],\n",
              "       [0.        , 0.        , 0.        , 0.        , 0.        ,\n",
              "        0.        , 0.        , 0.        , 0.        , 0.        ,\n",
              "        0.62352941, 0.69411765, 0.63921569, 0.68235294, 0.65098039,\n",
              "        0.67843137, 0.66666667, 0.63921569, 0.58039216, 0.        ,\n",
              "        0.        , 0.        , 0.        , 0.        , 0.        ,\n",
              "        0.        , 0.        , 0.        ],\n",
              "       [0.        , 0.        , 0.        , 0.        , 0.        ,\n",
              "        0.        , 0.        , 0.        , 0.        , 0.        ,\n",
              "        0.62745098, 0.71372549, 0.62745098, 0.65882353, 0.68627451,\n",
              "        0.65490196, 0.61568627, 0.65882353, 0.54509804, 0.        ,\n",
              "        0.        , 0.        , 0.        , 0.        , 0.        ,\n",
              "        0.        , 0.        , 0.        ],\n",
              "       [0.        , 0.        , 0.        , 0.        , 0.        ,\n",
              "        0.        , 0.        , 0.        , 0.        , 0.        ,\n",
              "        0.56078431, 0.7254902 , 0.63137255, 0.67058824, 0.72156863,\n",
              "        0.69019608, 0.62745098, 0.68627451, 0.51372549, 0.        ,\n",
              "        0.        , 0.        , 0.        , 0.        , 0.        ,\n",
              "        0.        , 0.        , 0.        ],\n",
              "       [0.        , 0.        , 0.        , 0.        , 0.        ,\n",
              "        0.        , 0.        , 0.        , 0.        , 0.        ,\n",
              "        0.56078431, 0.7372549 , 0.60784314, 0.6745098 , 0.71372549,\n",
              "        0.70588235, 0.63137255, 0.71372549, 0.49803922, 0.        ,\n",
              "        0.        , 0.        , 0.        , 0.        , 0.        ,\n",
              "        0.        , 0.        , 0.        ],\n",
              "       [0.        , 0.        , 0.        , 0.        , 0.        ,\n",
              "        0.        , 0.        , 0.        , 0.        , 0.        ,\n",
              "        0.49803922, 0.66666667, 0.65882353, 0.68627451, 0.82745098,\n",
              "        0.74901961, 0.63921569, 0.72156863, 0.44313725, 0.        ,\n",
              "        0.        , 0.        , 0.        , 0.        , 0.        ,\n",
              "        0.        , 0.        , 0.        ],\n",
              "       [0.        , 0.        , 0.        , 0.        , 0.        ,\n",
              "        0.        , 0.        , 0.        , 0.        , 0.        ,\n",
              "        0.30588235, 0.51764706, 0.68627451, 0.69411765, 0.50588235,\n",
              "        0.79607843, 0.63137255, 0.73333333, 0.4       , 0.        ,\n",
              "        0.        , 0.        , 0.        , 0.        , 0.        ,\n",
              "        0.        , 0.        , 0.        ],\n",
              "       [0.        , 0.        , 0.        , 0.        , 0.        ,\n",
              "        0.        , 0.        , 0.        , 0.        , 0.        ,\n",
              "        0.35686275, 0.65098039, 0.63921569, 0.74509804, 0.24705882,\n",
              "        0.79607843, 0.62352941, 0.74117647, 0.36862745, 0.        ,\n",
              "        0.        , 0.        , 0.        , 0.        , 0.        ,\n",
              "        0.        , 0.        , 0.        ],\n",
              "       [0.        , 0.        , 0.        , 0.        , 0.        ,\n",
              "        0.        , 0.        , 0.        , 0.        , 0.        ,\n",
              "        0.38431373, 0.49411765, 0.65098039, 0.75294118, 0.25490196,\n",
              "        0.77647059, 0.65490196, 0.75686275, 0.32941176, 0.        ,\n",
              "        0.        , 0.        , 0.        , 0.        , 0.        ,\n",
              "        0.        , 0.        , 0.        ],\n",
              "       [0.        , 0.        , 0.        , 0.        , 0.        ,\n",
              "        0.        , 0.        , 0.        , 0.        , 0.        ,\n",
              "        0.35294118, 0.49803922, 0.66666667, 0.77647059, 0.23921569,\n",
              "        0.78431373, 0.68235294, 0.77647059, 0.27843137, 0.        ,\n",
              "        0.        , 0.        , 0.        , 0.        , 0.        ,\n",
              "        0.        , 0.        , 0.        ],\n",
              "       [0.        , 0.        , 0.        , 0.        , 0.        ,\n",
              "        0.        , 0.        , 0.        , 0.        , 0.        ,\n",
              "        0.36470588, 0.55294118, 0.59215686, 0.81176471, 0.21568627,\n",
              "        0.76862745, 0.67058824, 0.76862745, 0.22745098, 0.        ,\n",
              "        0.        , 0.        , 0.        , 0.        , 0.        ,\n",
              "        0.        , 0.        , 0.        ],\n",
              "       [0.        , 0.        , 0.        , 0.        , 0.        ,\n",
              "        0.        , 0.        , 0.        , 0.        , 0.        ,\n",
              "        0.34509804, 0.5372549 , 0.53333333, 0.82352941, 0.21176471,\n",
              "        0.77647059, 0.67843137, 0.78039216, 0.18039216, 0.        ,\n",
              "        0.        , 0.        , 0.        , 0.        , 0.        ,\n",
              "        0.        , 0.        , 0.        ],\n",
              "       [0.        , 0.        , 0.        , 0.        , 0.        ,\n",
              "        0.        , 0.        , 0.        , 0.        , 0.        ,\n",
              "        0.28235294, 0.49019608, 0.51372549, 0.83921569, 0.21568627,\n",
              "        0.78039216, 0.69019608, 0.78431373, 0.14901961, 0.        ,\n",
              "        0.        , 0.        , 0.        , 0.        , 0.        ,\n",
              "        0.        , 0.        , 0.        ],\n",
              "       [0.        , 0.        , 0.        , 0.        , 0.        ,\n",
              "        0.        , 0.        , 0.        , 0.        , 0.        ,\n",
              "        0.21960784, 0.57254902, 0.49411765, 0.82352941, 0.21960784,\n",
              "        0.78431373, 0.68627451, 0.78431373, 0.14509804, 0.        ,\n",
              "        0.        , 0.        , 0.        , 0.        , 0.        ,\n",
              "        0.        , 0.        , 0.        ],\n",
              "       [0.        , 0.        , 0.        , 0.        , 0.        ,\n",
              "        0.        , 0.        , 0.        , 0.        , 0.        ,\n",
              "        0.15686275, 0.92941176, 0.67058824, 0.76470588, 0.25098039,\n",
              "        0.78039216, 0.68235294, 0.79607843, 0.14117647, 0.        ,\n",
              "        0.        , 0.        , 0.        , 0.        , 0.        ,\n",
              "        0.        , 0.        , 0.        ],\n",
              "       [0.        , 0.        , 0.        , 0.        , 0.        ,\n",
              "        0.        , 0.        , 0.        , 0.        , 0.        ,\n",
              "        0.09019608, 0.74509804, 0.65882353, 0.75294118, 0.2745098 ,\n",
              "        0.76862745, 0.67058824, 0.79607843, 0.11764706, 0.        ,\n",
              "        0.        , 0.        , 0.        , 0.        , 0.        ,\n",
              "        0.        , 0.        , 0.        ],\n",
              "       [0.        , 0.        , 0.        , 0.        , 0.        ,\n",
              "        0.        , 0.        , 0.        , 0.        , 0.        ,\n",
              "        0.05882353, 0.7372549 , 0.67058824, 0.76862745, 0.2745098 ,\n",
              "        0.77647059, 0.67843137, 0.79215686, 0.08235294, 0.        ,\n",
              "        0.        , 0.        , 0.        , 0.        , 0.        ,\n",
              "        0.        , 0.        , 0.        ],\n",
              "       [0.        , 0.        , 0.        , 0.        , 0.        ,\n",
              "        0.        , 0.        , 0.        , 0.        , 0.        ,\n",
              "        0.04313725, 0.73333333, 0.6745098 , 0.77254902, 0.27843137,\n",
              "        0.78039216, 0.68235294, 0.79607843, 0.05882353, 0.        ,\n",
              "        0.        , 0.        , 0.        , 0.        , 0.        ,\n",
              "        0.        , 0.        , 0.        ],\n",
              "       [0.        , 0.        , 0.        , 0.        , 0.        ,\n",
              "        0.        , 0.        , 0.        , 0.        , 0.        ,\n",
              "        0.00392157, 0.71764706, 0.68627451, 0.77647059, 0.28627451,\n",
              "        0.76470588, 0.68235294, 0.80392157, 0.05098039, 0.        ,\n",
              "        0.        , 0.        , 0.        , 0.        , 0.        ,\n",
              "        0.        , 0.        , 0.        ],\n",
              "       [0.        , 0.        , 0.        , 0.        , 0.        ,\n",
              "        0.        , 0.        , 0.        , 0.        , 0.        ,\n",
              "        0.        , 0.72941176, 0.69411765, 0.78431373, 0.30588235,\n",
              "        0.74901961, 0.68627451, 0.67058824, 0.03137255, 0.        ,\n",
              "        0.        , 0.        , 0.        , 0.        , 0.        ,\n",
              "        0.        , 0.        , 0.        ],\n",
              "       [0.        , 0.        , 0.        , 0.        , 0.        ,\n",
              "        0.        , 0.        , 0.        , 0.        , 0.        ,\n",
              "        0.        , 0.70980392, 0.69411765, 0.77647059, 0.30588235,\n",
              "        0.74117647, 0.69019608, 0.65098039, 0.01568627, 0.        ,\n",
              "        0.        , 0.        , 0.        , 0.        , 0.        ,\n",
              "        0.        , 0.        , 0.        ],\n",
              "       [0.        , 0.        , 0.        , 0.        , 0.        ,\n",
              "        0.        , 0.        , 0.        , 0.        , 0.        ,\n",
              "        0.        , 0.69803922, 0.71372549, 0.71372549, 0.41960784,\n",
              "        0.72156863, 0.68627451, 0.75686275, 0.        , 0.        ,\n",
              "        0.        , 0.        , 0.        , 0.        , 0.        ,\n",
              "        0.        , 0.        , 0.        ],\n",
              "       [0.        , 0.        , 0.        , 0.        , 0.        ,\n",
              "        0.        , 0.        , 0.        , 0.        , 0.        ,\n",
              "        0.        , 0.67843137, 0.78431373, 0.80784314, 0.32941176,\n",
              "        0.76862745, 0.76862745, 0.52156863, 0.        , 0.        ,\n",
              "        0.        , 0.        , 0.        , 0.        , 0.        ,\n",
              "        0.        , 0.        , 0.        ],\n",
              "       [0.        , 0.        , 0.        , 0.        , 0.        ,\n",
              "        0.        , 0.        , 0.        , 0.        , 0.        ,\n",
              "        0.        , 0.26666667, 0.81176471, 0.71372549, 0.        ,\n",
              "        0.68627451, 0.76470588, 0.13333333, 0.        , 0.        ,\n",
              "        0.        , 0.        , 0.        , 0.        , 0.        ,\n",
              "        0.        , 0.        , 0.        ]])"
            ]
          },
          "metadata": {},
          "execution_count": 72
        }
      ]
    },
    {
      "cell_type": "markdown",
      "source": [
        "Now, `train_ds` and `test_ds` is a **tf tensor** thanks a `from_tensor_slice`.\n",
        "\n",
        "\n",
        "---\n",
        "**Inspect train_ds and test_ds tensors:**\n",
        "\n",
        "---"
      ],
      "metadata": {
        "id": "pmJGO-EnI4n_"
      }
    },
    {
      "cell_type": "code",
      "source": [
        "train_ds, test_ds"
      ],
      "metadata": {
        "colab": {
          "base_uri": "https://localhost:8080/"
        },
        "id": "MWzYiTxHacyH",
        "outputId": "af7c0a9b-7c6a-45d7-f054-ff6dd8a948fd"
      },
      "execution_count": 73,
      "outputs": [
        {
          "output_type": "execute_result",
          "data": {
            "text/plain": [
              "(<_TensorSliceDataset element_spec=(TensorSpec(shape=(28, 28), dtype=tf.float64, name=None), TensorSpec(shape=(), dtype=tf.uint8, name=None))>,\n",
              " <_TensorSliceDataset element_spec=(TensorSpec(shape=(28, 28), dtype=tf.float64, name=None), TensorSpec(shape=(), dtype=tf.uint8, name=None))>)"
            ]
          },
          "metadata": {},
          "execution_count": 73
        }
      ]
    },
    {
      "cell_type": "markdown",
      "metadata": {
        "id": "gu8NKhG8aoDw"
      },
      "source": [
        "**Both** datasets are `TensorSliceDataset` objects, which means that they are **iterators**. An **iterator** is an object that contains a countable number of examples that can be traversed with the `next()` or `batch()` method.\n",
        "\n",
        "---\n",
        "**Display the first label from the training set:** `next()`method\n",
        "\n",
        "---\n",
        "\n"
      ]
    },
    {
      "cell_type": "code",
      "metadata": {
        "colab": {
          "base_uri": "https://localhost:8080/"
        },
        "outputId": "b12a51fc-71d0-4cc6-e0b5-fd2c8a6759aa",
        "id": "UThbyh7qaq3r"
      },
      "source": [
        "next(train_ds.as_numpy_iterator())[1]"
      ],
      "execution_count": 74,
      "outputs": [
        {
          "output_type": "execute_result",
          "data": {
            "text/plain": [
              "9"
            ]
          },
          "metadata": {},
          "execution_count": 74
        }
      ]
    },
    {
      "cell_type": "markdown",
      "metadata": {
        "id": "D17EN3wyauVG"
      },
      "source": [
        "`.as_numpy_iterator()`: This method converts the train_ds dataset into an iterator that produces elements as NumPy arrays. This is useful when you want to work with TensorFlow data using NumPy operations or tools.\n",
        "\n",
        "Each example in the training set contains an image matrix and its corresponding label. The `next()` method returns a tuple with the first image matrix and its label in positions 0 and 1 in the tuple respectively.\n",
        "\n",
        "The label of the first element of the training set is 9.\n",
        "\n",
        "---\n",
        "**Display ten labels from the training set:** `batch()` method\n",
        "\n",
        "---\n",
        "\n"
      ]
    },
    {
      "cell_type": "code",
      "metadata": {
        "colab": {
          "base_uri": "https://localhost:8080/"
        },
        "outputId": "68a1c76d-6606-4b44-f39a-6c0f0176b067",
        "id": "BUhqIpl6ayrc"
      },
      "source": [
        "next(train_ds.batch(10).as_numpy_iterator())[1]"
      ],
      "execution_count": 75,
      "outputs": [
        {
          "output_type": "execute_result",
          "data": {
            "text/plain": [
              "array([9, 0, 0, 3, 0, 2, 7, 2, 5, 5], dtype=uint8)"
            ]
          },
          "metadata": {},
          "execution_count": 75
        }
      ]
    },
    {
      "cell_type": "markdown",
      "metadata": {
        "id": "XN54MhEja4L8"
      },
      "source": [
        "The `batch()` method takes n examples from a dataset.\n",
        "\n",
        "---\n",
        "**Display all 60,000 labels from the training set:**\n",
        "\n",
        "---\n",
        "\n"
      ]
    },
    {
      "cell_type": "code",
      "metadata": {
        "colab": {
          "base_uri": "https://localhost:8080/"
        },
        "outputId": "aa25ed3b-adee-4d3b-94ef-edbbc583bc70",
        "id": "IXmfGwAna7PM"
      },
      "source": [
        "labels = next(train_ds.batch(60000).as_numpy_iterator())[1]\n",
        "labels, len(labels)"
      ],
      "execution_count": 76,
      "outputs": [
        {
          "output_type": "execute_result",
          "data": {
            "text/plain": [
              "(array([9, 0, 0, ..., 3, 0, 5], dtype=uint8), 60000)"
            ]
          },
          "metadata": {},
          "execution_count": 76
        }
      ]
    },
    {
      "cell_type": "markdown",
      "metadata": {
        "id": "FifV4-TWbXCf"
      },
      "source": [
        "---\n",
        "**Display the first image from the training set:**\n",
        "\n",
        "---\n",
        "\n"
      ]
    },
    {
      "cell_type": "code",
      "metadata": {
        "colab": {
          "base_uri": "https://localhost:8080/"
        },
        "outputId": "cc3eab05-f6f7-4f18-e12d-b9b855208972",
        "id": "0hTQCM-MbYzP"
      },
      "source": [
        "next(train_ds.as_numpy_iterator())[0]"
      ],
      "execution_count": 77,
      "outputs": [
        {
          "output_type": "execute_result",
          "data": {
            "text/plain": [
              "array([[0.        , 0.        , 0.        , 0.        , 0.        ,\n",
              "        0.        , 0.        , 0.        , 0.        , 0.        ,\n",
              "        0.        , 0.        , 0.        , 0.        , 0.        ,\n",
              "        0.        , 0.        , 0.        , 0.        , 0.        ,\n",
              "        0.        , 0.        , 0.        , 0.        , 0.        ,\n",
              "        0.        , 0.        , 0.        ],\n",
              "       [0.        , 0.        , 0.        , 0.        , 0.        ,\n",
              "        0.        , 0.        , 0.        , 0.        , 0.        ,\n",
              "        0.        , 0.        , 0.        , 0.        , 0.        ,\n",
              "        0.        , 0.        , 0.        , 0.        , 0.        ,\n",
              "        0.        , 0.        , 0.        , 0.        , 0.        ,\n",
              "        0.        , 0.        , 0.        ],\n",
              "       [0.        , 0.        , 0.        , 0.        , 0.        ,\n",
              "        0.        , 0.        , 0.        , 0.        , 0.        ,\n",
              "        0.        , 0.        , 0.        , 0.        , 0.        ,\n",
              "        0.        , 0.        , 0.        , 0.        , 0.        ,\n",
              "        0.        , 0.        , 0.        , 0.        , 0.        ,\n",
              "        0.        , 0.        , 0.        ],\n",
              "       [0.        , 0.        , 0.        , 0.        , 0.        ,\n",
              "        0.        , 0.        , 0.        , 0.        , 0.        ,\n",
              "        0.        , 0.        , 0.00392157, 0.        , 0.        ,\n",
              "        0.05098039, 0.28627451, 0.        , 0.        , 0.00392157,\n",
              "        0.01568627, 0.        , 0.        , 0.        , 0.        ,\n",
              "        0.00392157, 0.00392157, 0.        ],\n",
              "       [0.        , 0.        , 0.        , 0.        , 0.        ,\n",
              "        0.        , 0.        , 0.        , 0.        , 0.        ,\n",
              "        0.        , 0.        , 0.01176471, 0.        , 0.14117647,\n",
              "        0.53333333, 0.49803922, 0.24313725, 0.21176471, 0.        ,\n",
              "        0.        , 0.        , 0.00392157, 0.01176471, 0.01568627,\n",
              "        0.        , 0.        , 0.01176471],\n",
              "       [0.        , 0.        , 0.        , 0.        , 0.        ,\n",
              "        0.        , 0.        , 0.        , 0.        , 0.        ,\n",
              "        0.        , 0.        , 0.02352941, 0.        , 0.4       ,\n",
              "        0.8       , 0.69019608, 0.5254902 , 0.56470588, 0.48235294,\n",
              "        0.09019608, 0.        , 0.        , 0.        , 0.        ,\n",
              "        0.04705882, 0.03921569, 0.        ],\n",
              "       [0.        , 0.        , 0.        , 0.        , 0.        ,\n",
              "        0.        , 0.        , 0.        , 0.        , 0.        ,\n",
              "        0.        , 0.        , 0.        , 0.        , 0.60784314,\n",
              "        0.9254902 , 0.81176471, 0.69803922, 0.41960784, 0.61176471,\n",
              "        0.63137255, 0.42745098, 0.25098039, 0.09019608, 0.30196078,\n",
              "        0.50980392, 0.28235294, 0.05882353],\n",
              "       [0.        , 0.        , 0.        , 0.        , 0.        ,\n",
              "        0.        , 0.        , 0.        , 0.        , 0.        ,\n",
              "        0.        , 0.00392157, 0.        , 0.27058824, 0.81176471,\n",
              "        0.8745098 , 0.85490196, 0.84705882, 0.84705882, 0.63921569,\n",
              "        0.49803922, 0.4745098 , 0.47843137, 0.57254902, 0.55294118,\n",
              "        0.34509804, 0.6745098 , 0.25882353],\n",
              "       [0.        , 0.        , 0.        , 0.        , 0.        ,\n",
              "        0.        , 0.        , 0.        , 0.        , 0.00392157,\n",
              "        0.00392157, 0.00392157, 0.        , 0.78431373, 0.90980392,\n",
              "        0.90980392, 0.91372549, 0.89803922, 0.8745098 , 0.8745098 ,\n",
              "        0.84313725, 0.83529412, 0.64313725, 0.49803922, 0.48235294,\n",
              "        0.76862745, 0.89803922, 0.        ],\n",
              "       [0.        , 0.        , 0.        , 0.        , 0.        ,\n",
              "        0.        , 0.        , 0.        , 0.        , 0.        ,\n",
              "        0.        , 0.        , 0.        , 0.71764706, 0.88235294,\n",
              "        0.84705882, 0.8745098 , 0.89411765, 0.92156863, 0.89019608,\n",
              "        0.87843137, 0.87058824, 0.87843137, 0.86666667, 0.8745098 ,\n",
              "        0.96078431, 0.67843137, 0.        ],\n",
              "       [0.        , 0.        , 0.        , 0.        , 0.        ,\n",
              "        0.        , 0.        , 0.        , 0.        , 0.        ,\n",
              "        0.        , 0.        , 0.        , 0.75686275, 0.89411765,\n",
              "        0.85490196, 0.83529412, 0.77647059, 0.70588235, 0.83137255,\n",
              "        0.82352941, 0.82745098, 0.83529412, 0.8745098 , 0.8627451 ,\n",
              "        0.95294118, 0.79215686, 0.        ],\n",
              "       [0.        , 0.        , 0.        , 0.        , 0.        ,\n",
              "        0.        , 0.        , 0.        , 0.        , 0.00392157,\n",
              "        0.01176471, 0.        , 0.04705882, 0.85882353, 0.8627451 ,\n",
              "        0.83137255, 0.85490196, 0.75294118, 0.6627451 , 0.89019608,\n",
              "        0.81568627, 0.85490196, 0.87843137, 0.83137255, 0.88627451,\n",
              "        0.77254902, 0.81960784, 0.20392157],\n",
              "       [0.        , 0.        , 0.        , 0.        , 0.        ,\n",
              "        0.        , 0.        , 0.        , 0.        , 0.        ,\n",
              "        0.02352941, 0.        , 0.38823529, 0.95686275, 0.87058824,\n",
              "        0.8627451 , 0.85490196, 0.79607843, 0.77647059, 0.86666667,\n",
              "        0.84313725, 0.83529412, 0.87058824, 0.8627451 , 0.96078431,\n",
              "        0.46666667, 0.65490196, 0.21960784],\n",
              "       [0.        , 0.        , 0.        , 0.        , 0.        ,\n",
              "        0.        , 0.        , 0.        , 0.        , 0.01568627,\n",
              "        0.        , 0.        , 0.21568627, 0.9254902 , 0.89411765,\n",
              "        0.90196078, 0.89411765, 0.94117647, 0.90980392, 0.83529412,\n",
              "        0.85490196, 0.8745098 , 0.91764706, 0.85098039, 0.85098039,\n",
              "        0.81960784, 0.36078431, 0.        ],\n",
              "       [0.        , 0.        , 0.00392157, 0.01568627, 0.02352941,\n",
              "        0.02745098, 0.00784314, 0.        , 0.        , 0.        ,\n",
              "        0.        , 0.        , 0.92941176, 0.88627451, 0.85098039,\n",
              "        0.8745098 , 0.87058824, 0.85882353, 0.87058824, 0.86666667,\n",
              "        0.84705882, 0.8745098 , 0.89803922, 0.84313725, 0.85490196,\n",
              "        1.        , 0.30196078, 0.        ],\n",
              "       [0.        , 0.01176471, 0.        , 0.        , 0.        ,\n",
              "        0.        , 0.        , 0.        , 0.        , 0.24313725,\n",
              "        0.56862745, 0.8       , 0.89411765, 0.81176471, 0.83529412,\n",
              "        0.86666667, 0.85490196, 0.81568627, 0.82745098, 0.85490196,\n",
              "        0.87843137, 0.8745098 , 0.85882353, 0.84313725, 0.87843137,\n",
              "        0.95686275, 0.62352941, 0.        ],\n",
              "       [0.        , 0.        , 0.        , 0.        , 0.07058824,\n",
              "        0.17254902, 0.32156863, 0.41960784, 0.74117647, 0.89411765,\n",
              "        0.8627451 , 0.87058824, 0.85098039, 0.88627451, 0.78431373,\n",
              "        0.80392157, 0.82745098, 0.90196078, 0.87843137, 0.91764706,\n",
              "        0.69019608, 0.7372549 , 0.98039216, 0.97254902, 0.91372549,\n",
              "        0.93333333, 0.84313725, 0.        ],\n",
              "       [0.        , 0.22352941, 0.73333333, 0.81568627, 0.87843137,\n",
              "        0.86666667, 0.87843137, 0.81568627, 0.8       , 0.83921569,\n",
              "        0.81568627, 0.81960784, 0.78431373, 0.62352941, 0.96078431,\n",
              "        0.75686275, 0.80784314, 0.8745098 , 1.        , 1.        ,\n",
              "        0.86666667, 0.91764706, 0.86666667, 0.82745098, 0.8627451 ,\n",
              "        0.90980392, 0.96470588, 0.        ],\n",
              "       [0.01176471, 0.79215686, 0.89411765, 0.87843137, 0.86666667,\n",
              "        0.82745098, 0.82745098, 0.83921569, 0.80392157, 0.80392157,\n",
              "        0.80392157, 0.8627451 , 0.94117647, 0.31372549, 0.58823529,\n",
              "        1.        , 0.89803922, 0.86666667, 0.7372549 , 0.60392157,\n",
              "        0.74901961, 0.82352941, 0.8       , 0.81960784, 0.87058824,\n",
              "        0.89411765, 0.88235294, 0.        ],\n",
              "       [0.38431373, 0.91372549, 0.77647059, 0.82352941, 0.87058824,\n",
              "        0.89803922, 0.89803922, 0.91764706, 0.97647059, 0.8627451 ,\n",
              "        0.76078431, 0.84313725, 0.85098039, 0.94509804, 0.25490196,\n",
              "        0.28627451, 0.41568627, 0.45882353, 0.65882353, 0.85882353,\n",
              "        0.86666667, 0.84313725, 0.85098039, 0.8745098 , 0.8745098 ,\n",
              "        0.87843137, 0.89803922, 0.11372549],\n",
              "       [0.29411765, 0.8       , 0.83137255, 0.8       , 0.75686275,\n",
              "        0.80392157, 0.82745098, 0.88235294, 0.84705882, 0.7254902 ,\n",
              "        0.77254902, 0.80784314, 0.77647059, 0.83529412, 0.94117647,\n",
              "        0.76470588, 0.89019608, 0.96078431, 0.9372549 , 0.8745098 ,\n",
              "        0.85490196, 0.83137255, 0.81960784, 0.87058824, 0.8627451 ,\n",
              "        0.86666667, 0.90196078, 0.2627451 ],\n",
              "       [0.18823529, 0.79607843, 0.71764706, 0.76078431, 0.83529412,\n",
              "        0.77254902, 0.7254902 , 0.74509804, 0.76078431, 0.75294118,\n",
              "        0.79215686, 0.83921569, 0.85882353, 0.86666667, 0.8627451 ,\n",
              "        0.9254902 , 0.88235294, 0.84705882, 0.78039216, 0.80784314,\n",
              "        0.72941176, 0.70980392, 0.69411765, 0.6745098 , 0.70980392,\n",
              "        0.80392157, 0.80784314, 0.45098039],\n",
              "       [0.        , 0.47843137, 0.85882353, 0.75686275, 0.70196078,\n",
              "        0.67058824, 0.71764706, 0.76862745, 0.8       , 0.82352941,\n",
              "        0.83529412, 0.81176471, 0.82745098, 0.82352941, 0.78431373,\n",
              "        0.76862745, 0.76078431, 0.74901961, 0.76470588, 0.74901961,\n",
              "        0.77647059, 0.75294118, 0.69019608, 0.61176471, 0.65490196,\n",
              "        0.69411765, 0.82352941, 0.36078431],\n",
              "       [0.        , 0.        , 0.29019608, 0.74117647, 0.83137255,\n",
              "        0.74901961, 0.68627451, 0.6745098 , 0.68627451, 0.70980392,\n",
              "        0.7254902 , 0.7372549 , 0.74117647, 0.7372549 , 0.75686275,\n",
              "        0.77647059, 0.8       , 0.81960784, 0.82352941, 0.82352941,\n",
              "        0.82745098, 0.7372549 , 0.7372549 , 0.76078431, 0.75294118,\n",
              "        0.84705882, 0.66666667, 0.        ],\n",
              "       [0.00784314, 0.        , 0.        , 0.        , 0.25882353,\n",
              "        0.78431373, 0.87058824, 0.92941176, 0.9372549 , 0.94901961,\n",
              "        0.96470588, 0.95294118, 0.95686275, 0.86666667, 0.8627451 ,\n",
              "        0.75686275, 0.74901961, 0.70196078, 0.71372549, 0.71372549,\n",
              "        0.70980392, 0.69019608, 0.65098039, 0.65882353, 0.38823529,\n",
              "        0.22745098, 0.        , 0.        ],\n",
              "       [0.        , 0.        , 0.        , 0.        , 0.        ,\n",
              "        0.        , 0.        , 0.15686275, 0.23921569, 0.17254902,\n",
              "        0.28235294, 0.16078431, 0.1372549 , 0.        , 0.        ,\n",
              "        0.        , 0.        , 0.        , 0.        , 0.        ,\n",
              "        0.        , 0.        , 0.        , 0.        , 0.        ,\n",
              "        0.        , 0.        , 0.        ],\n",
              "       [0.        , 0.        , 0.        , 0.        , 0.        ,\n",
              "        0.        , 0.        , 0.        , 0.        , 0.        ,\n",
              "        0.        , 0.        , 0.        , 0.        , 0.        ,\n",
              "        0.        , 0.        , 0.        , 0.        , 0.        ,\n",
              "        0.        , 0.        , 0.        , 0.        , 0.        ,\n",
              "        0.        , 0.        , 0.        ],\n",
              "       [0.        , 0.        , 0.        , 0.        , 0.        ,\n",
              "        0.        , 0.        , 0.        , 0.        , 0.        ,\n",
              "        0.        , 0.        , 0.        , 0.        , 0.        ,\n",
              "        0.        , 0.        , 0.        , 0.        , 0.        ,\n",
              "        0.        , 0.        , 0.        , 0.        , 0.        ,\n",
              "        0.        , 0.        , 0.        ]])"
            ]
          },
          "metadata": {},
          "execution_count": 77
        }
      ]
    },
    {
      "cell_type": "markdown",
      "metadata": {
        "id": "kZPB8Y18bfQF"
      },
      "source": [
        "---\n",
        "**Verify that the first image is a 28 × 28 matrix:**\n",
        "\n",
        "---\n",
        "\n"
      ]
    },
    {
      "cell_type": "code",
      "metadata": {
        "colab": {
          "base_uri": "https://localhost:8080/"
        },
        "outputId": "51cb2732-eed1-46ad-e9cb-9973d762c8d7",
        "id": "-v46TQOabg9i"
      },
      "source": [
        "arrays = len(next(train_ds.as_numpy_iterator())[0])\n",
        "pixels = len(next(train_ds.as_numpy_iterator())[0][0])\n",
        "arrays, pixels"
      ],
      "execution_count": 78,
      "outputs": [
        {
          "output_type": "execute_result",
          "data": {
            "text/plain": [
              "(28, 28)"
            ]
          },
          "metadata": {},
          "execution_count": 78
        }
      ]
    },
    {
      "cell_type": "markdown",
      "metadata": {
        "id": "rrzcSxW9bjJb"
      },
      "source": [
        "To find dimensions of a matrix (tensor) in Python, the height (or rows) is `len(matrix)`, and the width (or columns) is `len(matrix[0])`.\n",
        "\n",
        "or"
      ]
    },
    {
      "cell_type": "code",
      "metadata": {
        "colab": {
          "base_uri": "https://localhost:8080/"
        },
        "outputId": "dca4e7f7-d185-45d8-d9c8-52a4d9ead3b8",
        "id": "aVUfQzmzbk9X"
      },
      "source": [
        "next(train_ds.take(1).as_numpy_iterator())[0].shape"
      ],
      "execution_count": 79,
      "outputs": [
        {
          "output_type": "execute_result",
          "data": {
            "text/plain": [
              "(28, 28)"
            ]
          },
          "metadata": {},
          "execution_count": 79
        }
      ]
    },
    {
      "cell_type": "markdown",
      "source": [
        "---\n",
        "Display the 6th image from training set\n",
        "\n",
        "---"
      ],
      "metadata": {
        "id": "22naBcD-c-ty"
      }
    },
    {
      "cell_type": "code",
      "source": [
        "# Convert the dataset to an iterator\n",
        "iterator = train_ds.as_numpy_iterator()\n",
        "\n",
        "# Retrieve the 6th element\n",
        "for _ in range(5):  # Skip the first 5 elements\n",
        "    next(iterator)\n",
        "sixth_image, sixth_label = next(iterator)\n",
        "sixth_image, sixth_label"
      ],
      "metadata": {
        "id": "uazQlMXFcdQl",
        "outputId": "c3f53e75-107e-475d-b2c0-d22997bced00",
        "colab": {
          "base_uri": "https://localhost:8080/"
        }
      },
      "execution_count": 80,
      "outputs": [
        {
          "output_type": "execute_result",
          "data": {
            "text/plain": [
              "(array([[0.        , 0.        , 0.        , 0.        , 0.00392157,\n",
              "         0.        , 0.        , 0.        , 0.        , 0.08627451,\n",
              "         0.34509804, 0.7372549 , 0.6745098 , 0.51764706, 0.49019608,\n",
              "         0.55294118, 0.78039216, 0.56078431, 0.03529412, 0.        ,\n",
              "         0.        , 0.        , 0.00392157, 0.        , 0.        ,\n",
              "         0.        , 0.        , 0.        ],\n",
              "        [0.        , 0.        , 0.        , 0.00392157, 0.        ,\n",
              "         0.        , 0.07843137, 0.51372549, 0.78039216, 0.80784314,\n",
              "         0.76862745, 0.79215686, 0.94901961, 1.        , 1.        ,\n",
              "         0.98039216, 0.87058824, 0.77254902, 0.80784314, 0.7372549 ,\n",
              "         0.49411765, 0.06666667, 0.        , 0.        , 0.        ,\n",
              "         0.        , 0.        , 0.        ],\n",
              "        [0.        , 0.        , 0.        , 0.00392157, 0.        ,\n",
              "         0.1372549 , 0.83921569, 0.74901961, 0.71764706, 0.69803922,\n",
              "         0.68627451, 0.65882353, 0.58823529, 0.63529412, 0.62352941,\n",
              "         0.59607843, 0.61960784, 0.70196078, 0.71764706, 0.74117647,\n",
              "         0.76470588, 0.7254902 , 0.32156863, 0.        , 0.        ,\n",
              "         0.        , 0.        , 0.        ],\n",
              "        [0.        , 0.        , 0.        , 0.        , 0.        ,\n",
              "         0.66666667, 0.74509804, 0.6745098 , 0.69411765, 0.69019608,\n",
              "         0.67058824, 0.6627451 , 0.63529412, 0.60784314, 0.58039216,\n",
              "         0.60392157, 0.6627451 , 0.68235294, 0.68627451, 0.68627451,\n",
              "         0.69411765, 0.71764706, 0.7372549 , 0.04705882, 0.        ,\n",
              "         0.        , 0.        , 0.        ],\n",
              "        [0.        , 0.        , 0.        , 0.        , 0.09803922,\n",
              "         0.76078431, 0.70588235, 0.69803922, 0.68235294, 0.72156863,\n",
              "         0.73333333, 0.74117647, 0.73333333, 0.72156863, 0.70980392,\n",
              "         0.74117647, 0.78431373, 0.77254902, 0.75686275, 0.74509804,\n",
              "         0.69803922, 0.68627451, 0.76078431, 0.35294118, 0.        ,\n",
              "         0.        , 0.        , 0.        ],\n",
              "        [0.        , 0.        , 0.        , 0.        , 0.16470588,\n",
              "         0.85490196, 0.74901961, 0.77254902, 0.81568627, 0.8       ,\n",
              "         0.82745098, 0.81960784, 0.82352941, 0.83137255, 0.82745098,\n",
              "         0.83921569, 0.84313725, 0.83529412, 0.83921569, 0.82745098,\n",
              "         0.82745098, 0.74901961, 0.78431373, 0.61960784, 0.        ,\n",
              "         0.        , 0.        , 0.        ],\n",
              "        [0.        , 0.        , 0.        , 0.        , 0.34509804,\n",
              "         0.86666667, 0.84313725, 0.85098039, 0.85882353, 0.82745098,\n",
              "         0.7254902 , 0.58823529, 0.4627451 , 0.41960784, 0.38823529,\n",
              "         0.34509804, 0.3254902 , 0.35294118, 0.52941176, 0.83137255,\n",
              "         0.79607843, 0.81176471, 0.85882353, 0.6627451 , 0.        ,\n",
              "         0.        , 0.        , 0.        ],\n",
              "        [0.        , 0.        , 0.        , 0.        , 0.        ,\n",
              "         0.10588235, 0.4627451 , 0.63529412, 0.15686275, 0.        ,\n",
              "         0.        , 0.        , 0.03921569, 0.0745098 , 0.10980392,\n",
              "         0.15294118, 0.18431373, 0.14117647, 0.        , 0.        ,\n",
              "         0.79607843, 0.90196078, 0.8627451 , 0.79607843, 0.        ,\n",
              "         0.        , 0.        , 0.        ],\n",
              "        [0.        , 0.        , 0.        , 0.        , 0.54117647,\n",
              "         0.53333333, 0.27843137, 0.27058824, 0.21176471, 0.84705882,\n",
              "         0.85098039, 0.79607843, 0.72156863, 0.65882353, 0.63921569,\n",
              "         0.63529412, 0.63921569, 0.69803922, 0.86666667, 0.72941176,\n",
              "         0.14901961, 0.10196078, 0.02745098, 0.        , 0.        ,\n",
              "         0.        , 0.        , 0.        ],\n",
              "        [0.        , 0.        , 0.        , 0.        , 0.2627451 ,\n",
              "         0.5254902 , 0.60392157, 0.87843137, 0.50588235, 0.25882353,\n",
              "         0.31764706, 0.45882353, 0.50588235, 0.50196078, 0.51764706,\n",
              "         0.5372549 , 0.51372549, 0.50588235, 0.3372549 , 0.28627451,\n",
              "         0.61568627, 0.59215686, 0.5254902 , 0.84705882, 0.07058824,\n",
              "         0.        , 0.        , 0.        ],\n",
              "        [0.        , 0.        , 0.        , 0.        , 0.79607843,\n",
              "         0.77647059, 0.6745098 , 0.71764706, 0.80784314, 1.        ,\n",
              "         1.        , 0.98039216, 0.95294118, 0.94117647, 0.9372549 ,\n",
              "         0.92156863, 0.93333333, 0.95686275, 1.        , 0.93333333,\n",
              "         0.72156863, 0.62745098, 0.3372549 , 0.38431373, 0.        ,\n",
              "         0.        , 0.        , 0.        ],\n",
              "        [0.        , 0.        , 0.        , 0.        , 0.47843137,\n",
              "         0.7372549 , 0.87843137, 0.59215686, 0.41176471, 0.49803922,\n",
              "         0.38039216, 0.39215686, 0.41176471, 0.44705882, 0.45882353,\n",
              "         0.45882353, 0.44313725, 0.40392157, 0.38431373, 0.43529412,\n",
              "         0.55686275, 0.99607843, 0.74901961, 1.        , 0.19215686,\n",
              "         0.        , 0.        , 0.        ],\n",
              "        [0.        , 0.        , 0.        , 0.        , 0.63921569,\n",
              "         0.70196078, 0.78431373, 0.37254902, 0.60392157, 0.77647059,\n",
              "         0.77254902, 0.78431373, 0.78431373, 0.77647059, 0.77254902,\n",
              "         0.77647059, 0.78039216, 0.79215686, 0.78431373, 0.69019608,\n",
              "         0.3372549 , 0.80784314, 0.61568627, 0.63529412, 0.03921569,\n",
              "         0.        , 0.        , 0.        ],\n",
              "        [0.        , 0.        , 0.        , 0.        , 0.77254902,\n",
              "         0.78823529, 0.89803922, 0.27843137, 0.56470588, 0.76078431,\n",
              "         0.70980392, 0.71764706, 0.70196078, 0.71372549, 0.70588235,\n",
              "         0.70196078, 0.70588235, 0.74509804, 0.7254902 , 0.77254902,\n",
              "         0.29803922, 0.85882353, 0.7254902 , 0.78823529, 0.13333333,\n",
              "         0.        , 0.        , 0.        ],\n",
              "        [0.        , 0.        , 0.        , 0.        , 0.78039216,\n",
              "         0.75686275, 0.88627451, 0.22745098, 0.60392157, 0.75294118,\n",
              "         0.72156863, 0.73333333, 0.72156863, 0.72941176, 0.72156863,\n",
              "         0.7254902 , 0.71764706, 0.75294118, 0.74901961, 0.78431373,\n",
              "         0.21960784, 0.85882353, 0.79607843, 0.81176471, 0.23529412,\n",
              "         0.        , 0.        , 0.        ],\n",
              "        [0.        , 0.        , 0.        , 0.        , 0.78823529,\n",
              "         0.76078431, 0.87843137, 0.16078431, 0.63921569, 0.74509804,\n",
              "         0.72941176, 0.72941176, 0.72156863, 0.7254902 , 0.71764706,\n",
              "         0.7254902 , 0.69803922, 0.74509804, 0.76078431, 0.79215686,\n",
              "         0.12941176, 0.82745098, 0.78431373, 0.80784314, 0.28627451,\n",
              "         0.        , 0.        , 0.        ],\n",
              "        [0.        , 0.        , 0.        , 0.        , 0.78823529,\n",
              "         0.77254902, 0.87058824, 0.06666667, 0.6745098 , 0.74509804,\n",
              "         0.72941176, 0.73333333, 0.71372549, 0.72941176, 0.7254902 ,\n",
              "         0.73333333, 0.70588235, 0.73333333, 0.75686275, 0.79215686,\n",
              "         0.10196078, 0.83137255, 0.79215686, 0.79607843, 0.29803922,\n",
              "         0.        , 0.        , 0.        ],\n",
              "        [0.        , 0.        , 0.        , 0.        , 0.78431373,\n",
              "         0.77254902, 0.8745098 , 0.        , 0.69411765, 0.74117647,\n",
              "         0.72156863, 0.7254902 , 0.69803922, 0.72156863, 0.71764706,\n",
              "         0.72156863, 0.70588235, 0.71764706, 0.74117647, 0.79607843,\n",
              "         0.1372549 , 0.76862745, 0.79607843, 0.79607843, 0.32941176,\n",
              "         0.        , 0.        , 0.        ],\n",
              "        [0.        , 0.        , 0.        , 0.        , 0.78431373,\n",
              "         0.77254902, 0.8745098 , 0.        , 0.7254902 , 0.73333333,\n",
              "         0.7254902 , 0.73333333, 0.70588235, 0.72156863, 0.71372549,\n",
              "         0.71764706, 0.69803922, 0.71372549, 0.71764706, 0.80392157,\n",
              "         0.17254902, 0.62352941, 0.81176471, 0.78823529, 0.33333333,\n",
              "         0.        , 0.        , 0.        ],\n",
              "        [0.        , 0.        , 0.        , 0.        , 0.73333333,\n",
              "         0.77647059, 0.88235294, 0.        , 0.76078431, 0.7372549 ,\n",
              "         0.72156863, 0.7254902 , 0.70588235, 0.71764706, 0.71764706,\n",
              "         0.72156863, 0.70980392, 0.70980392, 0.69411765, 0.80784314,\n",
              "         0.18039216, 0.50588235, 0.82745098, 0.78431373, 0.34509804,\n",
              "         0.        , 0.        , 0.        ],\n",
              "        [0.        , 0.        , 0.        , 0.02352941, 0.72941176,\n",
              "         0.78431373, 0.82745098, 0.        , 0.78039216, 0.74117647,\n",
              "         0.72156863, 0.72156863, 0.7254902 , 0.71372549, 0.71764706,\n",
              "         0.72156863, 0.7254902 , 0.71372549, 0.68627451, 0.80392157,\n",
              "         0.19607843, 0.38039216, 0.84705882, 0.77254902, 0.36470588,\n",
              "         0.        , 0.        , 0.        ],\n",
              "        [0.        , 0.        , 0.        , 0.01960784, 0.7254902 ,\n",
              "         0.8       , 0.72156863, 0.        , 0.79215686, 0.7372549 ,\n",
              "         0.71372549, 0.71372549, 0.71764706, 0.71764706, 0.72156863,\n",
              "         0.71372549, 0.70588235, 0.71372549, 0.68235294, 0.79215686,\n",
              "         0.24705882, 0.23137255, 0.8627451 , 0.76862745, 0.36862745,\n",
              "         0.        , 0.        , 0.        ],\n",
              "        [0.        , 0.        , 0.        , 0.01960784, 0.72156863,\n",
              "         0.80784314, 0.61568627, 0.        , 0.8       , 0.73333333,\n",
              "         0.73333333, 0.74117647, 0.75294118, 0.74509804, 0.74509804,\n",
              "         0.74901961, 0.74509804, 0.73333333, 0.71764706, 0.79215686,\n",
              "         0.30588235, 0.1372549 , 0.87058824, 0.77254902, 0.37254902,\n",
              "         0.        , 0.        , 0.        ],\n",
              "        [0.        , 0.        , 0.        , 0.01960784, 0.71764706,\n",
              "         0.81568627, 0.49803922, 0.        , 0.77254902, 0.65098039,\n",
              "         0.6       , 0.58431373, 0.58431373, 0.57254902, 0.58039216,\n",
              "         0.58431373, 0.58823529, 0.59215686, 0.61960784, 0.74901961,\n",
              "         0.35294118, 0.03137255, 0.8745098 , 0.76470588, 0.38823529,\n",
              "         0.        , 0.        , 0.        ],\n",
              "        [0.        , 0.        , 0.        , 0.02352941, 0.72156863,\n",
              "         0.81568627, 0.44705882, 0.        , 0.8       , 0.67843137,\n",
              "         0.63137255, 0.70588235, 0.69019608, 0.6745098 , 0.67843137,\n",
              "         0.67843137, 0.68235294, 0.69019608, 0.63529412, 0.79215686,\n",
              "         0.45098039, 0.        , 0.89803922, 0.78039216, 0.41176471,\n",
              "         0.        , 0.        , 0.        ],\n",
              "        [0.        , 0.        , 0.        , 0.03529412, 0.69803922,\n",
              "         0.8       , 0.45098039, 0.        , 0.4745098 , 0.52941176,\n",
              "         0.44705882, 0.45882353, 0.44705882, 0.44705882, 0.45882353,\n",
              "         0.4627451 , 0.46666667, 0.45882353, 0.44313725, 0.57647059,\n",
              "         0.24705882, 0.        , 0.88235294, 0.76862745, 0.41960784,\n",
              "         0.        , 0.        , 0.        ],\n",
              "        [0.        , 0.        , 0.        , 0.07058824, 0.70588235,\n",
              "         0.80784314, 0.51372549, 0.        , 0.        , 0.        ,\n",
              "         0.        , 0.        , 0.        , 0.        , 0.        ,\n",
              "         0.        , 0.        , 0.        , 0.        , 0.        ,\n",
              "         0.        , 0.        , 0.87843137, 0.77254902, 0.48235294,\n",
              "         0.        , 0.        , 0.        ],\n",
              "        [0.        , 0.        , 0.        , 0.        , 0.55294118,\n",
              "         0.59215686, 0.29803922, 0.        , 0.00392157, 0.00392157,\n",
              "         0.        , 0.        , 0.        , 0.        , 0.        ,\n",
              "         0.        , 0.        , 0.        , 0.        , 0.        ,\n",
              "         0.        , 0.        , 0.52156863, 0.65490196, 0.28627451,\n",
              "         0.        , 0.        , 0.        ]]),\n",
              " 2)"
            ]
          },
          "metadata": {},
          "execution_count": 80
        }
      ]
    },
    {
      "cell_type": "markdown",
      "metadata": {
        "id": "vNb0Bml3b9IV"
      },
      "source": [
        "or:"
      ]
    },
    {
      "cell_type": "code",
      "metadata": {
        "colab": {
          "base_uri": "https://localhost:8080/"
        },
        "outputId": "eb7b3a9f-b180-469f-f5bb-cb0e3238951c",
        "id": "FXoBjnxZb9IV"
      },
      "source": [
        "sixth_element = list(train_ds.take(6).as_numpy_iterator())[-1] #take the last element\n",
        "sixth_image, sixth_label = sixth_element\n",
        "sixth_image, sixth_label"
      ],
      "execution_count": 81,
      "outputs": [
        {
          "output_type": "execute_result",
          "data": {
            "text/plain": [
              "(array([[0.        , 0.        , 0.        , 0.        , 0.00392157,\n",
              "         0.        , 0.        , 0.        , 0.        , 0.08627451,\n",
              "         0.34509804, 0.7372549 , 0.6745098 , 0.51764706, 0.49019608,\n",
              "         0.55294118, 0.78039216, 0.56078431, 0.03529412, 0.        ,\n",
              "         0.        , 0.        , 0.00392157, 0.        , 0.        ,\n",
              "         0.        , 0.        , 0.        ],\n",
              "        [0.        , 0.        , 0.        , 0.00392157, 0.        ,\n",
              "         0.        , 0.07843137, 0.51372549, 0.78039216, 0.80784314,\n",
              "         0.76862745, 0.79215686, 0.94901961, 1.        , 1.        ,\n",
              "         0.98039216, 0.87058824, 0.77254902, 0.80784314, 0.7372549 ,\n",
              "         0.49411765, 0.06666667, 0.        , 0.        , 0.        ,\n",
              "         0.        , 0.        , 0.        ],\n",
              "        [0.        , 0.        , 0.        , 0.00392157, 0.        ,\n",
              "         0.1372549 , 0.83921569, 0.74901961, 0.71764706, 0.69803922,\n",
              "         0.68627451, 0.65882353, 0.58823529, 0.63529412, 0.62352941,\n",
              "         0.59607843, 0.61960784, 0.70196078, 0.71764706, 0.74117647,\n",
              "         0.76470588, 0.7254902 , 0.32156863, 0.        , 0.        ,\n",
              "         0.        , 0.        , 0.        ],\n",
              "        [0.        , 0.        , 0.        , 0.        , 0.        ,\n",
              "         0.66666667, 0.74509804, 0.6745098 , 0.69411765, 0.69019608,\n",
              "         0.67058824, 0.6627451 , 0.63529412, 0.60784314, 0.58039216,\n",
              "         0.60392157, 0.6627451 , 0.68235294, 0.68627451, 0.68627451,\n",
              "         0.69411765, 0.71764706, 0.7372549 , 0.04705882, 0.        ,\n",
              "         0.        , 0.        , 0.        ],\n",
              "        [0.        , 0.        , 0.        , 0.        , 0.09803922,\n",
              "         0.76078431, 0.70588235, 0.69803922, 0.68235294, 0.72156863,\n",
              "         0.73333333, 0.74117647, 0.73333333, 0.72156863, 0.70980392,\n",
              "         0.74117647, 0.78431373, 0.77254902, 0.75686275, 0.74509804,\n",
              "         0.69803922, 0.68627451, 0.76078431, 0.35294118, 0.        ,\n",
              "         0.        , 0.        , 0.        ],\n",
              "        [0.        , 0.        , 0.        , 0.        , 0.16470588,\n",
              "         0.85490196, 0.74901961, 0.77254902, 0.81568627, 0.8       ,\n",
              "         0.82745098, 0.81960784, 0.82352941, 0.83137255, 0.82745098,\n",
              "         0.83921569, 0.84313725, 0.83529412, 0.83921569, 0.82745098,\n",
              "         0.82745098, 0.74901961, 0.78431373, 0.61960784, 0.        ,\n",
              "         0.        , 0.        , 0.        ],\n",
              "        [0.        , 0.        , 0.        , 0.        , 0.34509804,\n",
              "         0.86666667, 0.84313725, 0.85098039, 0.85882353, 0.82745098,\n",
              "         0.7254902 , 0.58823529, 0.4627451 , 0.41960784, 0.38823529,\n",
              "         0.34509804, 0.3254902 , 0.35294118, 0.52941176, 0.83137255,\n",
              "         0.79607843, 0.81176471, 0.85882353, 0.6627451 , 0.        ,\n",
              "         0.        , 0.        , 0.        ],\n",
              "        [0.        , 0.        , 0.        , 0.        , 0.        ,\n",
              "         0.10588235, 0.4627451 , 0.63529412, 0.15686275, 0.        ,\n",
              "         0.        , 0.        , 0.03921569, 0.0745098 , 0.10980392,\n",
              "         0.15294118, 0.18431373, 0.14117647, 0.        , 0.        ,\n",
              "         0.79607843, 0.90196078, 0.8627451 , 0.79607843, 0.        ,\n",
              "         0.        , 0.        , 0.        ],\n",
              "        [0.        , 0.        , 0.        , 0.        , 0.54117647,\n",
              "         0.53333333, 0.27843137, 0.27058824, 0.21176471, 0.84705882,\n",
              "         0.85098039, 0.79607843, 0.72156863, 0.65882353, 0.63921569,\n",
              "         0.63529412, 0.63921569, 0.69803922, 0.86666667, 0.72941176,\n",
              "         0.14901961, 0.10196078, 0.02745098, 0.        , 0.        ,\n",
              "         0.        , 0.        , 0.        ],\n",
              "        [0.        , 0.        , 0.        , 0.        , 0.2627451 ,\n",
              "         0.5254902 , 0.60392157, 0.87843137, 0.50588235, 0.25882353,\n",
              "         0.31764706, 0.45882353, 0.50588235, 0.50196078, 0.51764706,\n",
              "         0.5372549 , 0.51372549, 0.50588235, 0.3372549 , 0.28627451,\n",
              "         0.61568627, 0.59215686, 0.5254902 , 0.84705882, 0.07058824,\n",
              "         0.        , 0.        , 0.        ],\n",
              "        [0.        , 0.        , 0.        , 0.        , 0.79607843,\n",
              "         0.77647059, 0.6745098 , 0.71764706, 0.80784314, 1.        ,\n",
              "         1.        , 0.98039216, 0.95294118, 0.94117647, 0.9372549 ,\n",
              "         0.92156863, 0.93333333, 0.95686275, 1.        , 0.93333333,\n",
              "         0.72156863, 0.62745098, 0.3372549 , 0.38431373, 0.        ,\n",
              "         0.        , 0.        , 0.        ],\n",
              "        [0.        , 0.        , 0.        , 0.        , 0.47843137,\n",
              "         0.7372549 , 0.87843137, 0.59215686, 0.41176471, 0.49803922,\n",
              "         0.38039216, 0.39215686, 0.41176471, 0.44705882, 0.45882353,\n",
              "         0.45882353, 0.44313725, 0.40392157, 0.38431373, 0.43529412,\n",
              "         0.55686275, 0.99607843, 0.74901961, 1.        , 0.19215686,\n",
              "         0.        , 0.        , 0.        ],\n",
              "        [0.        , 0.        , 0.        , 0.        , 0.63921569,\n",
              "         0.70196078, 0.78431373, 0.37254902, 0.60392157, 0.77647059,\n",
              "         0.77254902, 0.78431373, 0.78431373, 0.77647059, 0.77254902,\n",
              "         0.77647059, 0.78039216, 0.79215686, 0.78431373, 0.69019608,\n",
              "         0.3372549 , 0.80784314, 0.61568627, 0.63529412, 0.03921569,\n",
              "         0.        , 0.        , 0.        ],\n",
              "        [0.        , 0.        , 0.        , 0.        , 0.77254902,\n",
              "         0.78823529, 0.89803922, 0.27843137, 0.56470588, 0.76078431,\n",
              "         0.70980392, 0.71764706, 0.70196078, 0.71372549, 0.70588235,\n",
              "         0.70196078, 0.70588235, 0.74509804, 0.7254902 , 0.77254902,\n",
              "         0.29803922, 0.85882353, 0.7254902 , 0.78823529, 0.13333333,\n",
              "         0.        , 0.        , 0.        ],\n",
              "        [0.        , 0.        , 0.        , 0.        , 0.78039216,\n",
              "         0.75686275, 0.88627451, 0.22745098, 0.60392157, 0.75294118,\n",
              "         0.72156863, 0.73333333, 0.72156863, 0.72941176, 0.72156863,\n",
              "         0.7254902 , 0.71764706, 0.75294118, 0.74901961, 0.78431373,\n",
              "         0.21960784, 0.85882353, 0.79607843, 0.81176471, 0.23529412,\n",
              "         0.        , 0.        , 0.        ],\n",
              "        [0.        , 0.        , 0.        , 0.        , 0.78823529,\n",
              "         0.76078431, 0.87843137, 0.16078431, 0.63921569, 0.74509804,\n",
              "         0.72941176, 0.72941176, 0.72156863, 0.7254902 , 0.71764706,\n",
              "         0.7254902 , 0.69803922, 0.74509804, 0.76078431, 0.79215686,\n",
              "         0.12941176, 0.82745098, 0.78431373, 0.80784314, 0.28627451,\n",
              "         0.        , 0.        , 0.        ],\n",
              "        [0.        , 0.        , 0.        , 0.        , 0.78823529,\n",
              "         0.77254902, 0.87058824, 0.06666667, 0.6745098 , 0.74509804,\n",
              "         0.72941176, 0.73333333, 0.71372549, 0.72941176, 0.7254902 ,\n",
              "         0.73333333, 0.70588235, 0.73333333, 0.75686275, 0.79215686,\n",
              "         0.10196078, 0.83137255, 0.79215686, 0.79607843, 0.29803922,\n",
              "         0.        , 0.        , 0.        ],\n",
              "        [0.        , 0.        , 0.        , 0.        , 0.78431373,\n",
              "         0.77254902, 0.8745098 , 0.        , 0.69411765, 0.74117647,\n",
              "         0.72156863, 0.7254902 , 0.69803922, 0.72156863, 0.71764706,\n",
              "         0.72156863, 0.70588235, 0.71764706, 0.74117647, 0.79607843,\n",
              "         0.1372549 , 0.76862745, 0.79607843, 0.79607843, 0.32941176,\n",
              "         0.        , 0.        , 0.        ],\n",
              "        [0.        , 0.        , 0.        , 0.        , 0.78431373,\n",
              "         0.77254902, 0.8745098 , 0.        , 0.7254902 , 0.73333333,\n",
              "         0.7254902 , 0.73333333, 0.70588235, 0.72156863, 0.71372549,\n",
              "         0.71764706, 0.69803922, 0.71372549, 0.71764706, 0.80392157,\n",
              "         0.17254902, 0.62352941, 0.81176471, 0.78823529, 0.33333333,\n",
              "         0.        , 0.        , 0.        ],\n",
              "        [0.        , 0.        , 0.        , 0.        , 0.73333333,\n",
              "         0.77647059, 0.88235294, 0.        , 0.76078431, 0.7372549 ,\n",
              "         0.72156863, 0.7254902 , 0.70588235, 0.71764706, 0.71764706,\n",
              "         0.72156863, 0.70980392, 0.70980392, 0.69411765, 0.80784314,\n",
              "         0.18039216, 0.50588235, 0.82745098, 0.78431373, 0.34509804,\n",
              "         0.        , 0.        , 0.        ],\n",
              "        [0.        , 0.        , 0.        , 0.02352941, 0.72941176,\n",
              "         0.78431373, 0.82745098, 0.        , 0.78039216, 0.74117647,\n",
              "         0.72156863, 0.72156863, 0.7254902 , 0.71372549, 0.71764706,\n",
              "         0.72156863, 0.7254902 , 0.71372549, 0.68627451, 0.80392157,\n",
              "         0.19607843, 0.38039216, 0.84705882, 0.77254902, 0.36470588,\n",
              "         0.        , 0.        , 0.        ],\n",
              "        [0.        , 0.        , 0.        , 0.01960784, 0.7254902 ,\n",
              "         0.8       , 0.72156863, 0.        , 0.79215686, 0.7372549 ,\n",
              "         0.71372549, 0.71372549, 0.71764706, 0.71764706, 0.72156863,\n",
              "         0.71372549, 0.70588235, 0.71372549, 0.68235294, 0.79215686,\n",
              "         0.24705882, 0.23137255, 0.8627451 , 0.76862745, 0.36862745,\n",
              "         0.        , 0.        , 0.        ],\n",
              "        [0.        , 0.        , 0.        , 0.01960784, 0.72156863,\n",
              "         0.80784314, 0.61568627, 0.        , 0.8       , 0.73333333,\n",
              "         0.73333333, 0.74117647, 0.75294118, 0.74509804, 0.74509804,\n",
              "         0.74901961, 0.74509804, 0.73333333, 0.71764706, 0.79215686,\n",
              "         0.30588235, 0.1372549 , 0.87058824, 0.77254902, 0.37254902,\n",
              "         0.        , 0.        , 0.        ],\n",
              "        [0.        , 0.        , 0.        , 0.01960784, 0.71764706,\n",
              "         0.81568627, 0.49803922, 0.        , 0.77254902, 0.65098039,\n",
              "         0.6       , 0.58431373, 0.58431373, 0.57254902, 0.58039216,\n",
              "         0.58431373, 0.58823529, 0.59215686, 0.61960784, 0.74901961,\n",
              "         0.35294118, 0.03137255, 0.8745098 , 0.76470588, 0.38823529,\n",
              "         0.        , 0.        , 0.        ],\n",
              "        [0.        , 0.        , 0.        , 0.02352941, 0.72156863,\n",
              "         0.81568627, 0.44705882, 0.        , 0.8       , 0.67843137,\n",
              "         0.63137255, 0.70588235, 0.69019608, 0.6745098 , 0.67843137,\n",
              "         0.67843137, 0.68235294, 0.69019608, 0.63529412, 0.79215686,\n",
              "         0.45098039, 0.        , 0.89803922, 0.78039216, 0.41176471,\n",
              "         0.        , 0.        , 0.        ],\n",
              "        [0.        , 0.        , 0.        , 0.03529412, 0.69803922,\n",
              "         0.8       , 0.45098039, 0.        , 0.4745098 , 0.52941176,\n",
              "         0.44705882, 0.45882353, 0.44705882, 0.44705882, 0.45882353,\n",
              "         0.4627451 , 0.46666667, 0.45882353, 0.44313725, 0.57647059,\n",
              "         0.24705882, 0.        , 0.88235294, 0.76862745, 0.41960784,\n",
              "         0.        , 0.        , 0.        ],\n",
              "        [0.        , 0.        , 0.        , 0.07058824, 0.70588235,\n",
              "         0.80784314, 0.51372549, 0.        , 0.        , 0.        ,\n",
              "         0.        , 0.        , 0.        , 0.        , 0.        ,\n",
              "         0.        , 0.        , 0.        , 0.        , 0.        ,\n",
              "         0.        , 0.        , 0.87843137, 0.77254902, 0.48235294,\n",
              "         0.        , 0.        , 0.        ],\n",
              "        [0.        , 0.        , 0.        , 0.        , 0.55294118,\n",
              "         0.59215686, 0.29803922, 0.        , 0.00392157, 0.00392157,\n",
              "         0.        , 0.        , 0.        , 0.        , 0.        ,\n",
              "         0.        , 0.        , 0.        , 0.        , 0.        ,\n",
              "         0.        , 0.        , 0.52156863, 0.65490196, 0.28627451,\n",
              "         0.        , 0.        , 0.        ]]),\n",
              " 2)"
            ]
          },
          "metadata": {},
          "execution_count": 81
        }
      ]
    },
    {
      "cell_type": "markdown",
      "metadata": {
        "id": "S2f83WolcYMb"
      },
      "source": [
        "The pixels are normalized between 0 and 1.\n",
        "\n",
        "---\n",
        "**Check shapes:**\n",
        "\n",
        "---\n",
        "\n"
      ]
    },
    {
      "cell_type": "code",
      "metadata": {
        "colab": {
          "base_uri": "https://localhost:8080/"
        },
        "outputId": "9fdfefba-aca9-4fa2-eb65-052de2b341c4",
        "id": "3HAidnuXcYMm"
      },
      "source": [
        "for img, lbl in train_ds.take(5):\n",
        "  print ('image shape:', img.shape, end=' ')\n",
        "  print ('label:', lbl.numpy())\n",
        "\n",
        "type(img),type(lbl)"
      ],
      "execution_count": 82,
      "outputs": [
        {
          "output_type": "stream",
          "name": "stdout",
          "text": [
            "image shape: (28, 28) label: 9\n",
            "image shape: (28, 28) label: 0\n",
            "image shape: (28, 28) label: 0\n",
            "image shape: (28, 28) label: 3\n",
            "image shape: (28, 28) label: 0\n"
          ]
        },
        {
          "output_type": "execute_result",
          "data": {
            "text/plain": [
              "(tensorflow.python.framework.ops.EagerTensor,\n",
              " tensorflow.python.framework.ops.EagerTensor)"
            ]
          },
          "metadata": {},
          "execution_count": 82
        }
      ]
    },
    {
      "cell_type": "markdown",
      "metadata": {
        "id": "NjwtqMFMcgNU"
      },
      "source": [
        "Fashion-MNIST images are equally sized. So we don’t have to resize them!\n",
        "\n",
        "---\n",
        "\n",
        "**Check train and test tensors:**\n",
        "\n",
        "---\n"
      ]
    },
    {
      "cell_type": "code",
      "metadata": {
        "colab": {
          "base_uri": "https://localhost:8080/"
        },
        "outputId": "309db9e1-8c04-4505-800a-233c8f87d896",
        "id": "XzP3kp_ScgNk"
      },
      "source": [
        "train_ds, test_ds"
      ],
      "execution_count": 83,
      "outputs": [
        {
          "output_type": "execute_result",
          "data": {
            "text/plain": [
              "(<_TensorSliceDataset element_spec=(TensorSpec(shape=(28, 28), dtype=tf.float64, name=None), TensorSpec(shape=(), dtype=tf.uint8, name=None))>,\n",
              " <_TensorSliceDataset element_spec=(TensorSpec(shape=(28, 28), dtype=tf.float64, name=None), TensorSpec(shape=(), dtype=tf.uint8, name=None))>)"
            ]
          },
          "metadata": {},
          "execution_count": 83
        }
      ]
    },
    {
      "cell_type": "markdown",
      "metadata": {
        "id": "QWaQ0UsGg1V5"
      },
      "source": [
        "All is well.\n",
        "\n",
        "---\n",
        "**Assign a variable to the feature image shape for use in the model:**\n",
        "\n",
        "---\n",
        "\n"
      ]
    },
    {
      "cell_type": "code",
      "metadata": {
        "colab": {
          "base_uri": "https://localhost:8080/"
        },
        "id": "VRKvjC12g6RF",
        "outputId": "2afda098-02c9-4665-b24f-6566727b7094"
      },
      "source": [
        "for img, label in train_ds.take(1):\n",
        "  img.numpy().shape\n",
        "img_shape = img.numpy().shape\n",
        "img_shape"
      ],
      "execution_count": 84,
      "outputs": [
        {
          "output_type": "execute_result",
          "data": {
            "text/plain": [
              "(28, 28)"
            ]
          },
          "metadata": {},
          "execution_count": 84
        }
      ]
    },
    {
      "cell_type": "markdown",
      "metadata": {
        "id": "oDIFsaVnipKs"
      },
      "source": [
        "\n",
        "---\n",
        "**Display an element from the training set:**\n",
        "\n",
        "---\n",
        "\n"
      ]
    },
    {
      "cell_type": "code",
      "metadata": {
        "colab": {
          "base_uri": "https://localhost:8080/",
          "height": 423
        },
        "id": "fA5lI8Aeisc_",
        "outputId": "90f51bc7-3d9e-438c-dbd4-205dadd3c315"
      },
      "source": [
        "import matplotlib.pyplot as plt\n",
        "\n",
        "for img, label in train_ds.take(1):\n",
        "  plt.imshow(img.numpy(), cmap='gray')\n",
        "plt.axis('off')\n",
        "plt.grid(False)\n",
        "print('label=',label.numpy())"
      ],
      "execution_count": 85,
      "outputs": [
        {
          "output_type": "stream",
          "name": "stdout",
          "text": [
            "label= 9\n"
          ]
        },
        {
          "output_type": "display_data",
          "data": {
            "text/plain": [
              "<Figure size 640x480 with 1 Axes>"
            ],
            "image/png": "[encoded data removed]"
          },
          "metadata": {}
        }
      ]
    },
    {
      "cell_type": "markdown",
      "metadata": {
        "id": "AKu6St2QRGxk"
      },
      "source": [
        "or (if you don't want convert to numpy):"
      ]
    },
    {
      "cell_type": "code",
      "metadata": {
        "colab": {
          "base_uri": "https://localhost:8080/",
          "height": 423
        },
        "id": "8cjY_mY1RKMP",
        "outputId": "5d9a432f-eacb-4afb-a8b2-b0b100d4a880"
      },
      "source": [
        "import matplotlib.pyplot as plt\n",
        "\n",
        "for img, label in train_ds.take(1):\n",
        "  plt.imshow(img, cmap='gray')\n",
        "plt.axis('off')\n",
        "plt.grid(False)\n",
        "print('label=',label)\n"
      ],
      "execution_count": 86,
      "outputs": [
        {
          "output_type": "stream",
          "name": "stdout",
          "text": [
            "label= tf.Tensor(9, shape=(), dtype=uint8)\n"
          ]
        },
        {
          "output_type": "display_data",
          "data": {
            "text/plain": [
              "<Figure size 640x480 with 1 Axes>"
            ],
            "image/png": "[encoded data removed]"
          },
          "metadata": {}
        }
      ]
    },
    {
      "cell_type": "markdown",
      "source": [
        "Although Fashion-MNIST images are grayscale and NOT BIOMEDICALS, we can bring them to life with colors using predefined color maps built into the matplotlib library. A **color map** is an array of colors used to map pixel data to actual color values.\n",
        "\n",
        "Peruse the following URL for detailed information about matplotlib color maps:\n",
        "   https://matplotlib.org/3.1.0/tutorials/colors/colormaps.html\n",
        "\n",
        "\n",
        "---\n",
        "**Display the first 9 images with different colormaps**\n",
        "\n",
        "---\n"
      ],
      "metadata": {
        "id": "2-FZgeDNfD16"
      }
    },
    {
      "cell_type": "code",
      "source": [
        "# Display the first 9 images with different colormaps\n",
        "cmaps = ['viridis', 'plasma', 'inferno', 'magma', 'cividis', 'twilight', 'twilight_shifted']\n",
        "plt.figure(figsize=(15, 10))\n",
        "for i, (image, label) in enumerate(train_ds.take(9)):\n",
        "    plt.subplot(3, 3, i + 1)\n",
        "    plt.imshow(image.numpy(), cmap=cmaps[i % len(cmaps)])\n",
        "    plt.title(f'Label: {label}')\n",
        "    plt.axis('off')\n",
        "\n",
        "plt.tight_layout()\n",
        "plt.show()"
      ],
      "metadata": {
        "colab": {
          "base_uri": "https://localhost:8080/",
          "height": 1000
        },
        "id": "rHPzxTp_e3O9",
        "outputId": "67b66adc-8030-45d3-9676-58ba4d1b3780"
      },
      "execution_count": 87,
      "outputs": [
        {
          "output_type": "display_data",
          "data": {
            "text/plain": [
              "<Figure size 1500x1000 with 9 Axes>"
            ],
            "image/png": "[encoded data removed]"
          },
          "metadata": {}
        }
      ]
    },
    {
      "cell_type": "markdown",
      "metadata": {
        "id": "VWUYkartRwSV"
      },
      "source": [
        "\n",
        "From our experience working with [Fashion-MNIST](https://keras.io/api/datasets/fashion_mnist/), we know the corresponding labels ['T-shirt/top', 'Trouser', 'Pullover', 'Dress','Coat', 'Sandal', 'Shirt', 'Sneaker', 'Bag','Ankle boot']:\n",
        "\n",
        "It is preferable to have a semantic label rather than a numerical one (at least for a human).\n",
        "\n",
        "---\n",
        "**Define Class Labels**\n",
        "\n",
        "---"
      ]
    },
    {
      "cell_type": "code",
      "metadata": {
        "id": "OfJsvss3R_CB"
      },
      "source": [
        "class_labels = ['T-shirt/top', 'Trouser', 'Pullover', 'Dress',\n",
        "                'Coat', 'Sandal', 'Shirt', 'Sneaker', 'Bag',\n",
        "                'Ankle boot']"
      ],
      "execution_count": 88,
      "outputs": []
    },
    {
      "cell_type": "markdown",
      "metadata": {
        "id": "GJSW1a0BSJS3"
      },
      "source": [
        "Labels are numerical in the `tf.data.Dataset` that we just loaded, but we can display the corresponding class name with the `class_labels` list we just created.\n",
        "\n",
        "---\n",
        "**Convert a Numerical Label to a Class Label**\n",
        "\n",
        "---"
      ]
    },
    {
      "cell_type": "code",
      "metadata": {
        "colab": {
          "base_uri": "https://localhost:8080/"
        },
        "id": "pESxxJ2BSgMQ",
        "outputId": "9f5a311c-8173-4431-e284-362ef5e1fa3b"
      },
      "source": [
        "for _, label in train_ds.take(1):\n",
        "  print ('numerical label:', label.numpy())\n",
        "  print ('string label:', class_labels[label.numpy()])"
      ],
      "execution_count": 89,
      "outputs": [
        {
          "output_type": "stream",
          "name": "stdout",
          "text": [
            "numerical label: 9\n",
            "string label: Ankle boot\n"
          ]
        }
      ]
    },
    {
      "cell_type": "markdown",
      "metadata": {
        "id": "ylT1Sy2AS3h1"
      },
      "source": [
        "this code takes an example and display the label as a numerical value and string value.\n",
        "\n"
      ]
    },
    {
      "cell_type": "markdown",
      "metadata": {
        "id": "FtQZckmHUyK9"
      },
      "source": [
        "---\n",
        "**Create a function to display a grid of examples**\n",
        "\n",
        "---"
      ]
    },
    {
      "cell_type": "markdown",
      "metadata": {
        "id": "eLM7JY-9U8AK"
      },
      "source": [
        "---\n",
        "**Visualize some examples for train_ds**\n",
        "\n",
        "---\n",
        "\n"
      ]
    },
    {
      "cell_type": "code",
      "source": [
        "rows, cols = 5, 6\n",
        "num = rows * cols\n",
        "images=[]\n",
        "labels=[]\n",
        "\n",
        "\n",
        "for image, label in train_ds.take(num):\n",
        "    images.append(tf.squeeze(image.numpy()))\n",
        "    labels.append(label.numpy())\n",
        "\n",
        "fig, axes = plt.subplots(rows, cols, figsize=(15, 15))\n",
        "for i in range(num):\n",
        "    row, col = divmod(i, cols)\n",
        "    ax = axes[row, col]\n",
        "    ax.imshow(images[i], cmap='twilight',\n",
        "                 interpolation='nearest')\n",
        "    ax.set_title(class_labels[labels[i]])\n",
        "    ax.axis('off')\n",
        "plt.tight_layout()\n",
        "plt.show()\n"
      ],
      "metadata": {
        "id": "Kkx5uez8k2aJ",
        "outputId": "f10f942e-cf0e-4e20-e090-b55b897c3ac1",
        "colab": {
          "base_uri": "https://localhost:8080/",
          "height": 1000
        }
      },
      "execution_count": 90,
      "outputs": [
        {
          "output_type": "display_data",
          "data": {
            "text/plain": [
              "<Figure size 1500x1500 with 30 Axes>"
            ],
            "image/png": "[encoded data removed]"
          },
          "metadata": {}
        }
      ]
    },
    {
      "cell_type": "markdown",
      "source": [
        "Take some images and labels from the training set.\n",
        "\n",
        "Invoke the function. `tf.squeeze` removes dimensions of size 1 from the shape of a tensor.\n",
        "\n",
        "It’s always a good idea to check out the dataset to see if it is as we expect."
      ],
      "metadata": {
        "id": "tJCjqT0eDrtV"
      }
    },
    {
      "cell_type": "markdown",
      "metadata": {
        "id": "FLCIu5gaWN6X"
      },
      "source": [
        "## 3. Setting the Pipeline (WorkFlow)\n",
        "\n",
        "We say `pipeline` because the actual workflow starts when data is actually acquired. We use this terminology to emphasize the importance of transforming the training and test datasets into efficient tensors for TensorFlow model consumption.\n",
        "\n",
        "We see examples that refer to this part as building the input pipeline, but the input pipeline encompasses the entire workflow from raw data to generalized model.\n",
        "\n",
        "## Configure the Dataset for Best Performance\n",
        "Use buffered prefetching and caching to improve I/O performance. Shuffle data to improve model performance.\n",
        "\n",
        "1. **Prefetching** is a function in the tf.data API that overlaps data\n",
        "preprocessing and model execution while training, which reduces the overall training time of a model. To perform this operation, add the `tf.Dataset.prefetch` transformation to the input pipeline.\n",
        "\n",
        "Add the `tf.data.Dataset.cache` transformation to the pipeline to **keep images in memory** after they’re loaded off disk during the first epoch, which ensures that the dataset doesn’t become a bottleneck during training. So caching saves operations (e.g., file opening, data reading) from being executed during each epoch.\n",
        "\n",
        "2. **Shuffling** data serves the purpses of reducing variance (ensuring that a model remains general) and reducing overfitting. An obvious case for shuffling is when data is sorted by class (or target). We shuffle to ensure that the training, test, and validation sets are representative of the overall distribution of the data. To perform this operation, add the `tf.Dataset.shuffle` transformation to the pipeline.\n",
        "\n",
        "3. **Batching**. Training is always performed on batches of training data and labels. Doing so helps the algorithm converge. **Batch** is when all of a dataset is used to compute the gradient during one iteration. **Mini-batch** is when a subset of a dataset is used to compute mthe gradient during one iteration. To perform this operation, add the `tf.Dataset.batch` transformation to the pipeline.\n",
        "\n",
        "The *batch dimension* is typically the first dimension of data tensors. So a tensor of shape [100, 192, 192, 3] contains 100 images of 192 × 192 pixels with three values per pixel (RGB) in each batch. The **RGB color model** is an additive color model in which red, green, and blue lights are added together in various ways to reproduce a broad array of colors.\n",
        "\n",
        "---\n",
        "**Build the input pipeline:**\n",
        "\n",
        "---"
      ]
    },
    {
      "cell_type": "code",
      "metadata": {
        "id": "lx4BVQvjXoOr"
      },
      "source": [
        "BATCH_SIZE = 128\n",
        "SHUFFLE_SIZE = 5000\n",
        "\n",
        "train_f = train_ds.shuffle(SHUFFLE_SIZE).batch(BATCH_SIZE)\n",
        "train_fm = train_f.cache().prefetch(1)\n",
        "test_f = test_ds.batch(BATCH_SIZE)\n",
        "test_fm = test_f.cache().prefetch(1)"
      ],
      "execution_count": 91,
      "outputs": []
    },
    {
      "cell_type": "markdown",
      "metadata": {
        "id": "JXxhuBtuaC3H"
      },
      "source": [
        "*Shuffle training data*. Shuffling randomizes training data, which ensures that each data element is independent from other data elements during each training epoch. Learning models tend to perform best when exposed to independently sampled data.\n",
        "\n",
        "*Batch, cache, and prefetch training and test data*. Adding the `cache() transformation increases performance because data is read and written only once during the first epoch rather than during every epoch. Adding the prefetch(1) transformation is a good idea because it adds efficiency to the batching process. That is, while our training algorithm is working on one batch, TensorFlow is working on the dataset in parallel to get the next batch ready. So this transformation can dramatically improve training performance.\n",
        "\n",
        "Like other `tf.data.Dataset` methods, prefetch operates on the elements of the input dataset. It has no concept of examples vs. batches. So prefetch two examples with examples.prefetch(2) and prefetch two batches with 20 examples per batch with examples.batch(20).prefetch(2).\n",
        "\n",
        "The test (or validation) set is used to demonstrate how well the trained model works on examples it hasn’t seen during training. So it being shuffled is irrelevant`\n",
        "\n",
        "We set batch size and shuffle size based on trial and error experiments. You can experiment by adjusting batch and shuffle sizes.\n",
        "\n",
        "---\n",
        "Inspect tensors:\n",
        "\n",
        "---"
      ]
    },
    {
      "cell_type": "code",
      "metadata": {
        "colab": {
          "base_uri": "https://localhost:8080/"
        },
        "id": "qz89x_hKbRg0",
        "outputId": "7c523e85-2a0c-45fe-ac4c-d79095b2ed8b"
      },
      "source": [
        "train_fm, test_fm\n",
        "print('train batches =',len(train_fm))\n",
        "print(60000/128)\n",
        "print('test batches =',len(test_fm))\n",
        "print(10000/128)"
      ],
      "execution_count": 92,
      "outputs": [
        {
          "output_type": "stream",
          "name": "stdout",
          "text": [
            "train batches = 469\n",
            "468.75\n",
            "test batches = 79\n",
            "78.125\n"
          ]
        }
      ]
    },
    {
      "cell_type": "markdown",
      "metadata": {
        "id": "v3t5I1EqqSW5"
      },
      "source": [
        "---\n",
        "display one image from one batch\n",
        "\n",
        "---"
      ]
    },
    {
      "cell_type": "code",
      "metadata": {
        "colab": {
          "base_uri": "https://localhost:8080/",
          "height": 493
        },
        "id": "5PQsU5f1cax_",
        "outputId": "8ff05715-3010-429d-8dcb-cbf052fde017"
      },
      "source": [
        "for img, label in train_fm.take(1):\n",
        "  print(img.numpy().shape)\n",
        "  print(label.numpy())\n",
        "  plt.imshow(img[127,:,:], cmap='gray')\n",
        "plt.axis('off')\n",
        "plt.grid(False)"
      ],
      "execution_count": 93,
      "outputs": [
        {
          "output_type": "stream",
          "name": "stdout",
          "text": [
            "(128, 28, 28)\n",
            "[8 0 1 8 9 6 3 7 3 3 2 4 4 4 9 8 4 6 7 2 4 6 2 4 8 3 2 4 7 3 0 4 1 2 7 2 2\n",
            " 4 6 0 4 2 7 8 4 6 4 9 1 2 1 5 9 5 1 8 0 1 4 8 9 0 4 6 5 2 2 2 0 2 5 8 1 6\n",
            " 8 6 6 4 7 7 2 2 1 0 1 7 7 3 6 3 6 1 3 3 5 5 8 7 1 9 7 3 7 9 4 1 9 7 0 1 7\n",
            " 7 9 7 9 9 3 4 1 2 2 8 3 4 8 4 5 3]\n"
          ]
        },
        {
          "output_type": "display_data",
          "data": {
            "text/plain": [
              "<Figure size 640x480 with 1 Axes>"
            ],
            "image/png": "[encoded data removed]"
          },
          "metadata": {}
        }
      ]
    },
    {
      "cell_type": "markdown",
      "metadata": {
        "id": "I9K_dCV3qcdi"
      },
      "source": [
        "---\n",
        "**Or all one batch**, for example the last complete batch (number 468)\n",
        "\n",
        "---"
      ]
    },
    {
      "cell_type": "code",
      "metadata": {
        "colab": {
          "base_uri": "https://localhost:8080/",
          "height": 1000
        },
        "id": "KZ9ocSiMlagQ",
        "outputId": "a9ab3a07-9b7b-4d2d-cf3d-c6ca0974e45a"
      },
      "source": [
        "rows, cols = 8, 16\n",
        "num = rows*cols\n",
        "for images, labels in train_fm.take(468):\n",
        "  i=0\n",
        "\n",
        "fig, axes = plt.subplots(rows, cols, figsize=(15, 15))\n",
        "for i in range(num):\n",
        "    row, col = divmod(i, cols)\n",
        "    ax = axes[row, col]\n",
        "    ax.imshow(images[i], cmap='twilight',\n",
        "                 interpolation='nearest')\n",
        "    ax.set_title(class_labels[labels[i]])\n",
        "    ax.axis('off')\n",
        "plt.tight_layout()\n",
        "plt.show()"
      ],
      "execution_count": 95,
      "outputs": [
        {
          "output_type": "display_data",
          "data": {
            "text/plain": [
              "<Figure size 1500x1500 with 128 Axes>"
            ],
            "image/png": "[encoded data removed]"
          },
          "metadata": {}
        }
      ]
    },
    {
      "cell_type": "markdown",
      "metadata": {
        "id": "XH3YlQ0qqqkJ"
      },
      "source": [
        "## 4. Build the Model\n",
        "\n",
        "---\n",
        "**Import requisite libraries:**\n",
        "\n",
        "---"
      ]
    },
    {
      "cell_type": "code",
      "metadata": {
        "id": "F0qgHAqsqvKV"
      },
      "source": [
        "from tensorflow.keras.models import Sequential\n",
        "from tensorflow.keras.layers import Dense, Flatten, Dropout\n",
        "from tensorflow.keras.losses import SparseCategoricalCrossentropy\n",
        "import numpy as np"
      ],
      "execution_count": null,
      "outputs": []
    },
    {
      "cell_type": "markdown",
      "metadata": {
        "id": "K9Qs2uHLsnRG"
      },
      "source": [
        " Imports The `Sequential` class:\n",
        "\n",
        "  - **Functionality**:\n",
        "      - The Sequential class is a way to build a neural network model layer by layer. It is ideal for simple stack of layers where each layer has exactly one input tensor and one output tensor.\n",
        "\n",
        "Imports the `Dense`, `Flatten`, and `Dropout` layers from the `tensorflow.keras.layers` module.\n",
        "\n",
        "  - **Functionality**:\n",
        "        \n",
        "      - **`Dense`**: This is a fully connected layer where each input node is connected to each output node. It is used for implementing densely connected neural network layers.\n",
        "        \n",
        "      - **`Flatten`**: This layer is used to flatten the input, i.e., convert a multi-dimensional input (e.g., 2D matrix) into a single-dimensional array. It is often used as the first layer in a model when the input is an image.\n",
        "        \n",
        "      - **`Dropout`**: This layer is used to prevent overfitting during training by randomly setting a fraction of input units to 0 at each update during training time, which helps prevent overfitting.\n",
        "\n",
        "Imports the `SparseCategoricalCrossentropy` loss function from the `tensorflow.keras.losses` module.\n",
        "    \n",
        "  - **Functionality**:\n",
        "    \n",
        "    - This loss function is used for multi-class classification problems where the target labels are integers. It calculates the cross-entropy loss between the true labels and the predicted labels. The \"sparse\" part means that the labels are provided as integers instead of one-hot encoded vectors.\n",
        "    \n",
        "Imports the NumPy library and assigns it the alias `np`.\n",
        "    \n",
        "  - **Functionality**:\n",
        "    \n",
        "    - NumPy is a fundamental library for scientific computing in Python. It provides support for arrays, matrices, and many mathematical functions to operate on these arrays efficiently. It is widely used in data manipulation and processing.\n",
        "\n"
      ]
    },
    {
      "cell_type": "markdown",
      "source": [
        "---\n",
        "**Ensure reproducibility**\n",
        "\n",
        "---"
      ],
      "metadata": {
        "id": "3JiFBzcnPgBV"
      }
    },
    {
      "cell_type": "code",
      "metadata": {
        "id": "_aiq9Hfvspmc"
      },
      "source": [
        "tf.keras.backend.clear_session()\n",
        "np.random.seed(0)\n",
        "tf.random.set_seed(0)"
      ],
      "execution_count": null,
      "outputs": []
    },
    {
      "cell_type": "markdown",
      "metadata": {
        "id": "0JiBJxLms_5p"
      },
      "source": [
        "We use zero for the seed value, but any number can be substituted.\n",
        "\n",
        "The commands `tf.keras.backend.clear_session()`, `np.random.seed(0)`, and `tf.random.set_seed(0)` are used to ensure reproducibility and manage resources when working with TensorFlow and NumPy.  .\n",
        "\n",
        "1. `tf.keras.backend.clear_session()`: Clears the current Keras session, which helps in managing resources and preventing clutter from old models and layers, especially in environments where multiple models are created (like Jupyter notebooks).\n",
        "2. `np.random.seed(0)`: Sets the seed for NumPy's random number generator to ensure that the sequence of random numbers is reproducible\n",
        "3. `tf.random.set_seed(0)`: Sets the seed for TensorFlow's random number generator to ensure reproducibility of TensorFlow operations that rely on randomness.\n",
        "\n",
        "\n",
        "\n",
        "\n",
        "By using these commands, you ensure that your experiments and model training processes are consistent and reproducible across different runs.\n",
        "\n",
        "\n",
        "**Tip**: Clearing previous models does not reset the current model to its initial state. to reset a model, just rebuild the input pipeline for the model!\n",
        "\n",
        "---\n",
        "**Create the [sequential model](https://keras.io/guides/sequential_model/):**\n",
        "\n",
        "---"
      ]
    },
    {
      "cell_type": "code",
      "metadata": {
        "id": "Tt0VOeistcWw"
      },
      "source": [
        "model_1 = Sequential([\n",
        "  Flatten(input_shape=img_shape),\n",
        "  Dense(128, activation='relu'),\n",
        "  Dropout(0.4),\n",
        "  Dense(10, activation=None)\n",
        "])"
      ],
      "execution_count": null,
      "outputs": []
    },
    {
      "cell_type": "markdown",
      "metadata": {
        "id": "zPHFaw6YtvCX"
      },
      "source": [
        "or"
      ]
    },
    {
      "cell_type": "code",
      "metadata": {
        "id": "hwZT7Oqvtw-2"
      },
      "source": [
        "model = Sequential()\n",
        "model.add(Flatten(input_shape=img_shape))\n",
        "model.add(Dense(128,activation='relu'))\n",
        "model.add(Dropout(0.4))\n",
        "model.add(Dense(10, activation=None))"
      ],
      "execution_count": null,
      "outputs": []
    },
    {
      "cell_type": "markdown",
      "metadata": {
        "id": "cdga4L7Lvx6Y"
      },
      "source": [
        "The basic building block of a neural network is the layer. Layers extract representations from the data fed into them. Hopefully, these representations are meaningful for the problem at hand. Most of deep learning consists of chaining together simple layers. Most layers, such as *Dense*, have parameters that are learned during training.\n",
        "\n",
        "The first layer in this network is a *Flatten* layer, which transforms the format of the images from a two-dimensional array (of 28 by 28 pixels) to a one-dimensional array\n",
        "(of 28 * 28 = 784 pixels). Think of this layer as unstacking rows of pixels in the image and lining them up. This layer has no parameters to learn because it only reformats the data.\n",
        "\n",
        "After the pixels are flattened, the network consists of a sequence of two Dense layers. Dense layers are fully connected neural layers, which means that all the neurons in a layer are connected to all neurons in the next layer.\n",
        "\n",
        "The first Dense layer has 128 nodes (or neurons). We add a *Dropout* layer after the first Dense layer to reduce overfitting. The second (and last) layer returns a logits array with length of 10. **Logits** are the outputs of a layer of neurons before the activation function is applied. Each node contains a score that indicates that the current image belongs to one of the ten classes.\n",
        "\n",
        "**Dropout** is a regularization method that approximates training a large number\n",
        "of neural networks with different architectures in parallel. During training, some number of layer outputs are randomly ignored or “dropped out,” which has the effect of making the layer look like and be treated like a layer with a different number of nodes\n",
        "\n",
        "and connectivity to the prior layer. In effect, each update to a layer during training is performed with a different “view” of the configured layer.\n",
        "\n",
        "---\n",
        "**Inspect the model:**\n",
        "\n",
        "---"
      ]
    },
    {
      "cell_type": "code",
      "metadata": {
        "id": "HE2VsH26wM5i"
      },
      "source": [
        "model_1.summary()\n",
        "model.summary()"
      ],
      "execution_count": null,
      "outputs": []
    },
    {
      "cell_type": "markdown",
      "metadata": {
        "id": "Di10RcTHw983"
      },
      "source": [
        "## 5. Train the Model (compile and fit)\n",
        "Compile the model with `SparseCategoricalCrossentropy` loss. Sparse categorical cross- entropy performs well when classes are mutually exclusive. That is, each sample belongs exactly to one class. An advantage of using sparse categorical cross-entropy is that it saves time in memory as well as computation because it uses a single integer for a class rather than a whole vector.\n",
        "\n",
        "The *from_logits=True* attribute informs the loss function that the output values generated by the model are not normalized. That is, the softmax function has not been applied on them to produce a probability distribution\n",
        "\n",
        "---\n",
        "**Compile:**\n",
        "\n",
        "---"
      ]
    },
    {
      "cell_type": "code",
      "metadata": {
        "id": "v08wEVzcxOx6"
      },
      "source": [
        "model.compile(optimizer='adam',\n",
        "  loss=SparseCategoricalCrossentropy(from_logits=True),\n",
        "  metrics=['accuracy'])"
      ],
      "execution_count": null,
      "outputs": []
    },
    {
      "cell_type": "markdown",
      "metadata": {
        "id": "c4hzXEt70H-V"
      },
      "source": [
        "---\n",
        "**Fit: train and validate**\n",
        "\n",
        "---"
      ]
    },
    {
      "cell_type": "code",
      "metadata": {
        "id": "gsGLomWH0KSb"
      },
      "source": [
        "epochs = 10\n",
        "history = model.fit(train_fm, epochs=epochs,\n",
        "                    verbose=1, validation_data=test_fm)"
      ],
      "execution_count": null,
      "outputs": []
    },
    {
      "cell_type": "markdown",
      "source": [
        "The model is training with ten epochs. The number of epochs is the number of times the learning algorithm works through the entire training dataset. Loss and accuracy are displayed for training and test data. Training loss and accuracy are based on what the model learned during training. Test loss and accuracy are based on new data that the model hasn’t learned upon. So the closer test accuracy is to training accuracy, the more generalizable the model. Of course, we want to have high test accuracy and low test loss."
      ],
      "metadata": {
        "id": "L0J3jd9Az1HE"
      }
    },
    {
      "cell_type": "markdown",
      "source": [
        "To visualize the training history with matplotlib, you can access the training and validation data stored in the history object returned by the `fit()` method in Keras. The history object contains the loss and metric values for each epoch of training.\n",
        "\n",
        "---\n",
        "**Visualize the training and validation loss and accuracy on separate plots using matplotlib:**\n",
        "\n",
        "---"
      ],
      "metadata": {
        "id": "jLgORuyIz950"
      }
    },
    {
      "cell_type": "code",
      "source": [
        "import matplotlib.pyplot as plt\n",
        "\n",
        "# Get the training and validation loss and accuracy from the history\n",
        "train_loss = history.history['loss']\n",
        "train_accuracy = history.history['accuracy']\n",
        "val_loss = history.history['val_loss']\n",
        "val_accuracy = history.history['val_accuracy']\n",
        "epochs = range(1, len(train_loss) + 1)\n",
        "\n",
        "# Plot the loss\n",
        "plt.figure(figsize=(12, 5))\n",
        "plt.subplot(1, 2, 1)\n",
        "plt.plot(epochs, train_loss, 'r', label='Training loss')\n",
        "plt.plot(epochs, val_loss, 'b', label='Validation loss')\n",
        "plt.title('Training and validation loss')\n",
        "plt.xlabel('Epochs')\n",
        "plt.ylabel('Loss')\n",
        "plt.legend()\n",
        "\n",
        "# Plot the accuracy\n",
        "plt.subplot(1, 2, 2)\n",
        "plt.plot(epochs, train_accuracy, 'r', label='Training accuracy')\n",
        "plt.plot(epochs, val_accuracy, 'b', label='Validation accuracy')\n",
        "plt.title('Training and validation accuracy')\n",
        "plt.xlabel('Epochs')\n",
        "plt.ylabel('Accuracy')\n",
        "plt.legend()\n",
        "\n",
        "plt.show()\n"
      ],
      "metadata": {
        "id": "VZxrUWNe0CgJ"
      },
      "execution_count": null,
      "outputs": []
    },
    {
      "cell_type": "markdown",
      "source": [
        "In this code:\n",
        "\n",
        "The loss and accuracy values for both training and validation are extracted from the history object.\n",
        "These values are used to plot the loss and accuracy curves for both training and validation on separate plots.\n",
        "`plt.subplot()` is used to organize the plots into a single figure.\n",
        "These plots allow you to visualize how the loss and accuracy change over epochs for both the training and validation sets. This can help you evaluate the performance and generalization of your model during training."
      ],
      "metadata": {
        "id": "TkQY4mF40Oae"
      }
    },
    {
      "cell_type": "markdown",
      "source": [
        "To evaluate the model with the test set and visualize its performance, you can use the `evaluate()` method in Keras to compute the loss and metrics on the test data. Then, you can plot the results using matplotlib.\n",
        "\n",
        "This code snippet will evaluate the trained model on the test set, print the test loss and accuracy, and then plot them using a bar plot. The red bar represents the test loss, and the blue bar represents the test accuracy. This visualization provides a quick overview of the model's performance on the test data.\n",
        "\n",
        "---\n",
        "**Evaluate:**\n",
        "\n",
        "---"
      ],
      "metadata": {
        "id": "_PkhkRky3YWB"
      }
    },
    {
      "cell_type": "code",
      "source": [
        "import matplotlib.pyplot as plt\n",
        "\n",
        "# Evaluate the model on the test set\n",
        "test_loss, test_accuracy = model.evaluate(test_fm, verbose=0)\n",
        "\n",
        "# Print the test loss and accuracy\n",
        "print(\"Test Loss:\", test_loss)\n",
        "print(\"Test Accuracy:\", test_accuracy)\n",
        "\n",
        "# Plot the test data\n",
        "plt.figure(figsize=(6, 4))\n",
        "plt.bar(['Loss', 'Accuracy'], [test_loss, test_accuracy], color=['red', 'blue'])\n",
        "plt.title('Test Loss and Accuracy')\n",
        "plt.ylabel('Value')\n",
        "plt.show()\n"
      ],
      "metadata": {
        "id": "jP7FBKIJ2Xlf"
      },
      "execution_count": null,
      "outputs": []
    },
    {
      "cell_type": "markdown",
      "source": [
        "A confusion matrix is a table that is often used to describe the performance of a classification model on a set of test data for which the true values are known. The matrix compares the actual target values with the values predicted by the model.\n",
        "\n",
        "Each row of the confusion matrix represents the instances in an actual class, while each column represents the instances in a predicted class. The diagonal elements of the matrix represent the instances that were correctly classified, while off-diagonal elements represent misclassifications.\n",
        "\n",
        "---\n",
        "**Generate a confusion matrix using scikit-learn:**\n",
        "\n",
        "---"
      ],
      "metadata": {
        "id": "CISMCYKa3ktz"
      }
    },
    {
      "cell_type": "code",
      "source": [
        "import numpy as np\n",
        "import tensorflow as tf\n",
        "from sklearn.metrics import confusion_matrix, ConfusionMatrixDisplay\n",
        "import matplotlib.pyplot as plt\n",
        "\n",
        "# Assuming model and test_fm are already defined and loaded\n",
        "\n",
        "# Make predictions on the test set\n",
        "y_pred = model.predict(test_fm)\n",
        "y_pred_classes = np.argmax(y_pred, axis=1)  # Use argmax to get the class with the highest probability\n",
        "\n",
        "# Get true labels\n",
        "y_true = np.concatenate([y.numpy() for x, y in test_fm], axis=0)\n",
        "\n",
        "# Print lengths to confirm they match\n",
        "print(\"Length of y_true:\", len(y_true))\n",
        "print(\"Length of y_pred_classes:\", len(y_pred_classes))\n",
        "\n",
        "# Check unique values\n",
        "print(\"Unique values in y_true:\", np.unique(y_true))\n",
        "print(\"Unique values in y_pred_classes:\", np.unique(y_pred_classes))\n",
        "\n",
        "# Define class labels\n",
        "class_labels = ['T-shirt/top', 'Trouser', 'Pullover', 'Dress', 'Coat',\n",
        "                'Sandal', 'Shirt', 'Sneaker', 'Bag', 'Ankle boot']\n",
        "\n",
        "# Calculate confusion matrix\n",
        "conf_matrix = confusion_matrix(y_true, y_pred_classes)\n",
        "\n",
        "# Display confusion matrix\n",
        "disp = ConfusionMatrixDisplay(confusion_matrix=conf_matrix,\n",
        "                              display_labels=class_labels)\n",
        "disp.plot(cmap=plt.cm.Blues)\n",
        "plt.show()\n"
      ],
      "metadata": {
        "id": "fywFDgszV6ju"
      },
      "execution_count": null,
      "outputs": []
    },
    {
      "cell_type": "markdown",
      "metadata": {
        "id": "Z9KGw_M40cGu"
      },
      "source": [
        "# Load a TensorFlow Dataset as NumPy\n",
        "The previous section modeled Fashion-MNIST data based on a ***Keras dataset***. However, we can load data as a ***TensorFlow dataset (TFDS)*** and convert it into NumPy arrays for very easy processing. We cover TFDS in detail in a later chapter.\n",
        "\n",
        "For this experiment, we load the MNIST dataset instead of Fashion-MNIST. We do this because we work with Fashion-MNIST many times in later chapters. So we just want to expose you to another dataset for practice. Once the data is loaded and converted to NumPy, the input pipeline phases are the same as in the previous section.\n",
        "\n",
        "Create a training set as NumPy arrays in a single batch:"
      ]
    },
    {
      "cell_type": "code",
      "metadata": {
        "id": "Bd_2U2MN1JTu"
      },
      "source": [
        "import tensorflow_datasets as tfds\n",
        "image_train, label_train = tfds.as_numpy(\n",
        "    tfds.load(\n",
        "        'colorectal_histology', split='train',\n",
        "        batch_size=-1, as_supervised=True,\n",
        "        try_gcs=True))\n",
        "type(image_train), image_train.shape"
      ],
      "execution_count": null,
      "outputs": []
    },
    {
      "cell_type": "markdown",
      "metadata": {
        "id": "a7YjQ3zQ7CBX"
      },
      "source": [
        "By using *batch_size=-1*, the full dataset is loaded as a single batch. The *tfds.load()* function loads the dataset. The *tfds.as_numpy()* function converts the dataset to NumPy arrays.\n",
        "\n",
        "The training set contains 5000 150 × 150 images. The *3* dimension indicates that the data is color. A **grayscale** image is one in which the only colors are shades of gray. That is, the image only contains luminance (or brightness) information and no color information.\n",
        "\n",
        "The 'colorectal_histology' dataset has only a training split and does not have a separate split for testing.\n",
        "\n",
        "Create the corresponding test set:\n",
        "\n",
        "``` python\n",
        "image_test, label_test = tfds.as_numpy(\n",
        "    tfds.load(\n",
        "        'mnist', split='test',\n",
        "        batch_size=-1, as_supervised=True,\n",
        "        try_gcs=True))\n",
        "type(image_test), image_test.shape\n",
        "```\n",
        "But this code give error because split is not a automatic set in this dataset. We need manually split the dataset."
      ]
    },
    {
      "cell_type": "code",
      "metadata": {
        "id": "OaXSXpP17UQO"
      },
      "source": [
        "import tensorflow_datasets as tfds\n",
        "import numpy as np\n",
        "from sklearn.model_selection import train_test_split\n",
        "\n",
        "# Load the dataset\n",
        "dataset, info = tfds.load('colorectal_histology', split='train', with_info=True)\n",
        "\n",
        "# to numpy data\n",
        "data = tfds.as_numpy(dataset)\n",
        "\n",
        "# Setting images and labels list\n",
        "images = []\n",
        "labels = []\n",
        "\n",
        "for example in data:\n",
        "    images.append(example['image'])\n",
        "    labels.append(example['label'])\n",
        "\n",
        "# list to numpy arrays\n",
        "images = np.array(images)\n",
        "labels = np.array(labels)\n",
        "\n",
        "# split train in 80% train and 20% test\n",
        "image_train, image_test, label_train, label_test = train_test_split(images, labels, test_size=0.2, random_state=42)\n",
        "\n",
        "# Verify\n",
        "print(\"Train Images Shape:\", image_train.shape)\n",
        "print(\"Test Images Shape:\", image_test.shape)\n",
        "\n"
      ],
      "execution_count": null,
      "outputs": []
    },
    {
      "cell_type": "markdown",
      "metadata": {
        "id": "1R3sXs7cHTXH"
      },
      "source": [
        "## Inspect Shapes and Pixel Intensity\n",
        "Get training shapes:"
      ]
    },
    {
      "cell_type": "code",
      "metadata": {
        "id": "rbhGy_-NHbwy"
      },
      "source": [
        "image_train.shape, label_train.shape"
      ],
      "execution_count": null,
      "outputs": []
    },
    {
      "cell_type": "markdown",
      "metadata": {
        "id": "GbVjqH8cHjAX"
      },
      "source": [
        "\n",
        "Get test shapes:"
      ]
    },
    {
      "cell_type": "code",
      "metadata": {
        "id": "yyDTiYOvHo3K"
      },
      "source": [
        "image_test.shape, label_test.shape"
      ],
      "execution_count": null,
      "outputs": []
    },
    {
      "cell_type": "markdown",
      "source": [
        "We can display an image with its label"
      ],
      "metadata": {
        "id": "-PvrYSjqHwP9"
      }
    },
    {
      "cell_type": "code",
      "source": [
        "import tensorflow_datasets as tfds\n",
        "import matplotlib.pyplot as plt\n",
        "\n",
        "# Load the dataset\n",
        "dataset = tfds.load('colorectal_histology', split='train')\n",
        "\n",
        "# Take one example from the dataset\n",
        "example = next(iter(dataset))\n",
        "\n",
        "# Extract the image and label from the example\n",
        "image, label = example['image'], example['label']\n",
        "\n",
        "# Display the image\n",
        "plt.imshow(image)\n",
        "plt.title(f'Label: {label}')\n",
        "plt.axis('off')\n",
        "plt.show()"
      ],
      "metadata": {
        "id": "WcckDRqdG44s"
      },
      "execution_count": null,
      "outputs": []
    },
    {
      "cell_type": "markdown",
      "source": [
        "To get information about the classes in a dataset using TensorFlow Datasets (TFDS), you can load the dataset with with_info=True to access the dataset's metadata. Here’s how you can do it:"
      ],
      "metadata": {
        "id": "uLk3YKa8H-me"
      }
    },
    {
      "cell_type": "code",
      "source": [
        "import tensorflow_datasets as tfds\n",
        "\n",
        "# Cargar el conjunto de datos con información\n",
        "dataset, info = tfds.load('colorectal_histology', split='train', with_info=True)\n",
        "\n",
        "# Obtener las clases\n",
        "classes = info.features['label'].names\n",
        "\n",
        "# Mostrar las clases\n",
        "print(\"Classes:\", classes)\n"
      ],
      "metadata": {
        "id": "oqUPMOldHoVN"
      },
      "execution_count": null,
      "outputs": []
    },
    {
      "cell_type": "markdown",
      "metadata": {
        "id": "3c1GsocuHGhD"
      },
      "source": [
        "To get information about the classes in a dataset using TensorFlow Datasets (TFDS), you can load the dataset with with_info=True to access the dataset's metadata. Here’s how you can do it:\n",
        "\n",
        "\n",
        "\n",
        "\n"
      ]
    },
    {
      "cell_type": "code",
      "source": [
        "import tensorflow_datasets as tfds\n",
        "import matplotlib.pyplot as plt\n",
        "\n",
        "# Load the dataset with info\n",
        "dataset, info = tfds.load('colorectal_histology', split='train', with_info=True)\n",
        "\n",
        "# Get the class names\n",
        "classes = info.features['label'].names\n",
        "\n",
        "# Print the class names\n",
        "print(\"Classes:\", classes)\n",
        "\n",
        "# Display an image from the dataset with its label\n",
        "# Take one example from the dataset\n",
        "example = next(iter(dataset))\n",
        "\n",
        "# Extract the image and label from the example\n",
        "image, label = example['image'], example['label']\n",
        "\n",
        "# Show the image\n",
        "plt.imshow(image)\n",
        "plt.title(f'Label: {classes[label]}')\n",
        "plt.axis('off')\n",
        "plt.show()\n"
      ],
      "metadata": {
        "id": "wlZh-XEXIXCk"
      },
      "execution_count": null,
      "outputs": []
    },
    {
      "cell_type": "markdown",
      "source": [
        "To get one image and its corresponding class for each class in a dataset using TensorFlow Datasets (TFDS), you can iterate through the dataset and collect one example for each class. Here's how you can do it:\n",
        "1. Loads the 'colorectal_histology' dataset along with its metadata.\n",
        "2. Initializes a dictionary to store one example per class.\n",
        "3. Iterates through the dataset, storing one image and its label for each class.\n",
        "4. Once all classes have at least one example, it stops iterating.\n",
        "5. Uses matplotlib to plot the images and display their labels.\n",
        "\n",
        "Make sure to adjust the plotting layout according to the number of classes to avoid any layout issues. The `plt.subplot` call in this example assumes there are an even number of classes and lays them out in two rows. Adjust the number of rows and columns based on your dataset.\n",
        "\n",
        "\n"
      ],
      "metadata": {
        "id": "iVDIirZ1INKY"
      }
    },
    {
      "cell_type": "code",
      "source": [
        "import tensorflow_datasets as tfds\n",
        "import matplotlib.pyplot as plt\n",
        "\n",
        "# Load the dataset with info\n",
        "dataset, info = tfds.load('colorectal_histology', split='train', with_info=True)\n",
        "\n",
        "# Get the class names\n",
        "classes = info.features['label'].names\n",
        "\n",
        "# Initialize a dictionary to store one example per class\n",
        "class_examples = {class_name: None for class_name in classes}\n",
        "\n",
        "# Iterate through the dataset and collect one example for each class\n",
        "for example in dataset:\n",
        "    image, label = example['image'], example['label'].numpy()\n",
        "    class_name = classes[label]\n",
        "    if class_examples[class_name] is None:\n",
        "        class_examples[class_name] = (image, class_name)\n",
        "    if all(class_examples.values()):\n",
        "        break  # Stop once we have one example per class\n",
        "\n",
        "# Plot the images with their labels\n",
        "plt.figure(figsize=(12, 8))\n",
        "for idx, (class_name, (image, label)) in enumerate(class_examples.items()):\n",
        "    plt.subplot(2, len(classes) // 2, idx + 1)\n",
        "    plt.imshow(image)\n",
        "    plt.title(f'Label: {label}')\n",
        "    plt.axis('off')\n",
        "plt.show()\n"
      ],
      "metadata": {
        "id": "ORPu78VhIiVp"
      },
      "execution_count": null,
      "outputs": []
    },
    {
      "cell_type": "markdown",
      "metadata": {
        "id": "YPBTvfX_uXvj"
      },
      "source": [
        "## Scale\n",
        "Since NumPy array values are float, divide them by 255 to scale the image pixels:"
      ]
    },
    {
      "cell_type": "code",
      "metadata": {
        "id": "x8zYzTfoucxm"
      },
      "source": [
        "train_sc = image_train / 255.0\n",
        "test_sc = image_test / 255.0"
      ],
      "execution_count": null,
      "outputs": []
    },
    {
      "cell_type": "markdown",
      "metadata": {
        "id": "3RkIYGseujpd"
      },
      "source": [
        "Verify that scaling worked:"
      ]
    },
    {
      "cell_type": "code",
      "metadata": {
        "id": "pl_jDnf_unE0"
      },
      "source": [
        "# Verify the scaling\n",
        "print(\"Training data - min:\", np.min(train_sc), \"max:\", np.max(train_sc))\n",
        "print(\"Testing data - min:\", np.min(test_sc), \"max:\", np.max(test_sc))"
      ],
      "execution_count": null,
      "outputs": []
    },
    {
      "cell_type": "markdown",
      "source": [
        "This code will output the minimum and maximum values of the scaled training and testing data. If the scaling is correct, the minimum value should be 0.0 (or very close to it), and the maximum value should be 1.0 (or very close to it).\n",
        "\n",
        "For a more detailed check, you can also inspect the values of a few specific pixels or entire images:"
      ],
      "metadata": {
        "id": "3kr2yP1yJgGM"
      }
    },
    {
      "cell_type": "code",
      "source": [
        "# Check a few pixels in the scaled training data\n",
        "print(\"Sample pixel values from training data:\")\n",
        "print(train_sc[0, 0, 0])  # Pixel value of the first pixel in the first image\n",
        "print(train_sc[0, 0, 1])  # Pixel value of the second pixel in the first image\n",
        "print(train_sc[0, 0, 2])  # Pixel value of the third pixel in the first image\n",
        "\n",
        "# Check a few pixels in the scaled testing data\n",
        "print(\"Sample pixel values from testing data:\")\n",
        "print(test_sc[0, 0, 0])  # Pixel value of the first pixel in the first image\n",
        "print(test_sc[0, 0, 1])  # Pixel value of the second pixel in the first image\n",
        "print(test_sc[0, 0, 2])  # Pixel value of the third pixel in the first image\n"
      ],
      "metadata": {
        "id": "xy60sLPRJjx9"
      },
      "execution_count": null,
      "outputs": []
    },
    {
      "cell_type": "markdown",
      "metadata": {
        "id": "uqRA00FP2RLk"
      },
      "source": [
        "## Prepare Data for TensorFlow Consumption\n",
        "Slice NumPy arrays into TensorFlow datasets:\n"
      ]
    },
    {
      "cell_type": "code",
      "metadata": {
        "id": "-P1iddN_2YeA"
      },
      "source": [
        "train_crht = tf.data.Dataset.from_tensor_slices(\n",
        "    (image_train, label_train))\n",
        "test_crht = tf.data.Dataset.from_tensor_slices(\n",
        "    (image_test, label_test))"
      ],
      "execution_count": null,
      "outputs": []
    },
    {
      "cell_type": "markdown",
      "metadata": {
        "id": "EBnNS22z2dff"
      },
      "source": [
        "Inspect:"
      ]
    },
    {
      "cell_type": "code",
      "metadata": {
        "id": "g0ML-1mX2g0j"
      },
      "source": [
        "train_crht, test_crht"
      ],
      "execution_count": null,
      "outputs": []
    },
    {
      "cell_type": "markdown",
      "metadata": {
        "id": "3sc6J1nv2lX2"
      },
      "source": [
        "## Build the Consumable Input Pipeline\n",
        "Initialize parameters, shuffle training data, and batch and prefetch training and test data:"
      ]
    },
    {
      "cell_type": "code",
      "metadata": {
        "id": "b2NLfik92q9-"
      },
      "source": [
        "BATCH_SIZE = 100\n",
        "SHUFFLE_SIZE = 10000\n",
        "train_crhist = train_crht.shuffle(SHUFFLE_SIZE).\\\n",
        "                         batch(BATCH_SIZE).prefetch(1)\n",
        "test_crhist = train_crht.batch(BATCH_SIZE).prefetch(1)"
      ],
      "execution_count": null,
      "outputs": []
    },
    {
      "cell_type": "markdown",
      "metadata": {
        "id": "3JMvHO6d2u76"
      },
      "source": [
        "Inspect tensors:"
      ]
    },
    {
      "cell_type": "code",
      "metadata": {
        "id": "otZ8GPm82zga"
      },
      "source": [
        "train_crhist, test_crhist"
      ],
      "execution_count": null,
      "outputs": []
    },
    {
      "cell_type": "markdown",
      "metadata": {
        "id": "9sgV6UlN26Ho"
      },
      "source": [
        "## Build the Model\n",
        "Earlier, we imported requisite libraries. Since they are already in memory, we don’t need to import them again (assuming that we are using the same notebook).\n",
        "\n",
        "Get tensor shape:\n"
      ]
    },
    {
      "cell_type": "code",
      "metadata": {
        "id": "vTzkDj802_mI"
      },
      "source": [
        "np_shape = image_test.shape[1:]\n",
        "np_shape"
      ],
      "execution_count": null,
      "outputs": []
    },
    {
      "cell_type": "markdown",
      "metadata": {
        "id": "wqxuFT0p3DF2"
      },
      "source": [
        "Clear previous models and generate a seed for reproducibility of results:"
      ]
    },
    {
      "cell_type": "code",
      "metadata": {
        "id": "fEFA1lV33GRl"
      },
      "source": [
        "np.random.seed(0)\n",
        "tf.random.set_seed(0)\n",
        "tf.keras.backend.clear_session()"
      ],
      "execution_count": null,
      "outputs": []
    },
    {
      "cell_type": "markdown",
      "metadata": {
        "id": "A8UPVIRY3QmB"
      },
      "source": [
        "Create the model:"
      ]
    },
    {
      "cell_type": "code",
      "metadata": {
        "id": "vmd-89WV3Tdm"
      },
      "source": [
        "import tensorflow as tf\n",
        "from tensorflow.keras.models import Sequential\n",
        "from tensorflow.keras.layers import Flatten, Dense\n",
        "\n",
        "model = Sequential([\n",
        "  Flatten(input_shape=np_shape),\n",
        "  Dense(512, activation='relu'),\n",
        "  Dense(8, activation='softmax')\n",
        "])\n"
      ],
      "execution_count": null,
      "outputs": []
    },
    {
      "cell_type": "code",
      "source": [
        "import tensorflow as tf\n",
        "from tensorflow.keras.models import Sequential\n",
        "from tensorflow.keras.layers import Flatten, Dense, Dropout, BatchNormalization\n",
        "\n",
        "# Define the input shape\n",
        "np_shape = train_sc.shape[1:]\n",
        "\n",
        "# Improved model\n",
        "model = Sequential([\n",
        "    Flatten(input_shape=np_shape),\n",
        "    Dense(1024, activation='relu'),\n",
        "    BatchNormalization(),\n",
        "    Dropout(0.5),\n",
        "    Dense(512, activation='relu'),\n",
        "    BatchNormalization(),\n",
        "    Dropout(0.5),\n",
        "    Dense(256, activation='relu'),\n",
        "    BatchNormalization(),\n",
        "    Dropout(0.5),\n",
        "    Dense(128, activation='relu'),\n",
        "    BatchNormalization(),\n",
        "    Dropout(0.5),\n",
        "    Dense(8, activation='softmax')  # Assuming 8 classes in the dataset\n",
        "])\n"
      ],
      "metadata": {
        "id": "5fp6M5zQNRSk"
      },
      "execution_count": null,
      "outputs": []
    },
    {
      "cell_type": "code",
      "source": [],
      "metadata": {
        "id": "6zJUHCXeJbJO"
      },
      "execution_count": null,
      "outputs": []
    },
    {
      "cell_type": "code",
      "metadata": {
        "id": "FkxYixLgJbok"
      },
      "source": [
        "num_classes = len(class_names)\n",
        "\n",
        "model = tf.keras.Sequential([\n",
        "  Conv2D(32, 3, activation='relu',\n",
        "         input_shape=cell_shape),\n",
        "  MaxPooling2D(),\n",
        "  Conv2D(32, 3, activation='relu'),\n",
        "  MaxPooling2D(),\n",
        "  Conv2D(32, 3, activation='relu'),\n",
        "  MaxPooling2D(),\n",
        "  Flatten(),\n",
        "  Dense(128, activation='relu'),\n",
        "  Dense(num_classes, activation='softmax')\n",
        "])"
      ],
      "execution_count": null,
      "outputs": []
    },
    {
      "cell_type": "markdown",
      "metadata": {
        "id": "BSFzTj2f3YEX"
      },
      "source": [
        "## Compile and Train the Model\n",
        "Compile with sparse categorical cross-entropy. Notice that we **don't** set *from_logits=True* because we use *softmax* activation in the output layer of the model to produce a probability distribution from the logits. The **softmax** activation function acts on a vector to increase the difference between the largest component and all others and normalizes the vector to have a sum of 1 so that it can be interpreted as a vector of probabilities. It is used as the last step in classifiers:"
      ]
    },
    {
      "cell_type": "code",
      "metadata": {
        "id": "b__TbfNr3mjl"
      },
      "source": [
        "model.compile(optimizer='adam',\n",
        "              loss='sparse_categorical_crossentropy',\n",
        "              metrics=['accuracy'])"
      ],
      "execution_count": null,
      "outputs": []
    },
    {
      "cell_type": "code",
      "source": [
        "# Print the model summary\n",
        "model.summary()"
      ],
      "metadata": {
        "id": "e8ig55A_NauC"
      },
      "execution_count": null,
      "outputs": []
    },
    {
      "cell_type": "markdown",
      "metadata": {
        "id": "AocQmjlc3spe"
      },
      "source": [
        "Train the model:"
      ]
    },
    {
      "cell_type": "code",
      "metadata": {
        "id": "WoamfON33w-z"
      },
      "source": [
        "epochs = 100\n",
        "history = model.fit(train_crhist, epochs=epochs, verbose=1,\n",
        "                     validation_data=test_crhist)"
      ],
      "execution_count": null,
      "outputs": []
    },
    {
      "cell_type": "code",
      "source": [
        "import matplotlib.pyplot as plt\n",
        "\n",
        "# Get the training and validation loss and accuracy from the history\n",
        "train_loss = history.history['loss']\n",
        "train_accuracy = history.history['accuracy']\n",
        "val_loss = history.history['val_loss']\n",
        "val_accuracy = history.history['val_accuracy']\n",
        "epochs = range(1, len(train_loss) + 1)\n",
        "\n",
        "# Plot the loss\n",
        "plt.figure(figsize=(12, 5))\n",
        "plt.subplot(1, 2, 1)\n",
        "plt.plot(epochs, train_loss, 'r', label='Training loss')\n",
        "plt.plot(epochs, val_loss, 'b', label='Validation loss')\n",
        "plt.title('Training and validation loss')\n",
        "plt.xlabel('Epochs')\n",
        "plt.ylabel('Loss')\n",
        "plt.legend()\n",
        "\n",
        "# Plot the accuracy\n",
        "plt.subplot(1, 2, 2)\n",
        "plt.plot(epochs, train_accuracy, 'r', label='Training accuracy')\n",
        "plt.plot(epochs, val_accuracy, 'b', label='Validation accuracy')\n",
        "plt.title('Training and validation accuracy')\n",
        "plt.xlabel('Epochs')\n",
        "plt.ylabel('Accuracy')\n",
        "plt.legend()\n",
        "\n",
        "plt.show()\n"
      ],
      "metadata": {
        "id": "QBcgeW2oMp53"
      },
      "execution_count": null,
      "outputs": []
    },
    {
      "cell_type": "code",
      "source": [
        "import tensorflow as tf\n",
        "from tensorflow.keras.models import Sequential\n",
        "from tensorflow.keras.layers import Conv2D, MaxPooling2D, Flatten, Dense, Dropout, BatchNormalization\n",
        "\n",
        "# Define the input shape\n",
        "np_shape = train_sc.shape[1:]\n",
        "\n",
        "# CNN model\n",
        "model = Sequential([\n",
        "    Conv2D(32, (3, 3), activation='relu', input_shape=np_shape),\n",
        "    BatchNormalization(),\n",
        "    MaxPooling2D(pool_size=(2, 2)),\n",
        "    Dropout(0.25),\n",
        "\n",
        "    Conv2D(64, (3, 3), activation='relu'),\n",
        "    BatchNormalization(),\n",
        "    MaxPooling2D(pool_size=(2, 2)),\n",
        "    Dropout(0.25),\n",
        "\n",
        "    Conv2D(128, (3, 3), activation='relu'),\n",
        "    BatchNormalization(),\n",
        "    MaxPooling2D(pool_size=(2, 2)),\n",
        "    Dropout(0.25),\n",
        "\n",
        "    Flatten(),\n",
        "    Dense(512, activation='relu'),\n",
        "    BatchNormalization(),\n",
        "    Dropout(0.5),\n",
        "    Dense(8, activation='softmax')  # Assuming 8 classes in the dataset\n",
        "])"
      ],
      "metadata": {
        "id": "ct5lZY3MOlnA"
      },
      "execution_count": null,
      "outputs": []
    },
    {
      "cell_type": "code",
      "source": [
        "model.compile(optimizer='adam',\n",
        "              loss='sparse_categorical_crossentropy',\n",
        "              metrics=['accuracy'])"
      ],
      "metadata": {
        "id": "B85l3JPCOvNf"
      },
      "execution_count": null,
      "outputs": []
    },
    {
      "cell_type": "code",
      "source": [
        "# Print the model summary\n",
        "model.summary()"
      ],
      "metadata": {
        "id": "-n04NOrTOwEX"
      },
      "execution_count": null,
      "outputs": []
    },
    {
      "cell_type": "code",
      "source": [
        "epochs = 100\n",
        "history = model.fit(train_crhist, epochs=epochs, verbose=1,\n",
        "                     validation_data=test_crhist)"
      ],
      "metadata": {
        "id": "ZttT9wZxO5UD"
      },
      "execution_count": null,
      "outputs": []
    },
    {
      "cell_type": "code",
      "source": [
        "import matplotlib.pyplot as plt\n",
        "\n",
        "# Get the training and validation loss and accuracy from the history\n",
        "train_loss = history.history['loss']\n",
        "train_accuracy = history.history['accuracy']\n",
        "val_loss = history.history['val_loss']\n",
        "val_accuracy = history.history['val_accuracy']\n",
        "epochs = range(1, len(train_loss) + 1)\n",
        "\n",
        "# Plot the loss\n",
        "plt.figure(figsize=(12, 5))\n",
        "plt.subplot(1, 2, 1)\n",
        "plt.plot(epochs, train_loss, 'r', label='Training loss')\n",
        "plt.plot(epochs, val_loss, 'b', label='Validation loss')\n",
        "plt.title('Training and validation loss')\n",
        "plt.xlabel('Epochs')\n",
        "plt.ylabel('Loss')\n",
        "plt.legend()\n",
        "\n",
        "# Plot the accuracy\n",
        "plt.subplot(1, 2, 2)\n",
        "plt.plot(epochs, train_accuracy, 'r', label='Training accuracy')\n",
        "plt.plot(epochs, val_accuracy, 'b', label='Validation accuracy')\n",
        "plt.title('Training and validation accuracy')\n",
        "plt.xlabel('Epochs')\n",
        "plt.ylabel('Accuracy')\n",
        "plt.legend()"
      ],
      "metadata": {
        "id": "Cb52BpsXPb4i"
      },
      "execution_count": null,
      "outputs": []
    },
    {
      "cell_type": "markdown",
      "source": [
        "When the validation curves show high variability (sharp peaks and troughs), it suggests that the model may be overfitting or that the validation set may not be representative of the training set. Here are some strategies to smooth out the validation curves and improve your model's generalization:\n",
        "\n",
        "### 1. Data Augmentation\n",
        "Introduce data augmentation to increase the diversity of your training data by applying random transformations such as rotations, flips, and zooms. This can help the model generalize better.\n",
        "\n",
        "```python\n",
        "from tensorflow.keras.preprocessing.image import ImageDataGenerator\n",
        "\n",
        "datagen = ImageDataGenerator(\n",
        "    rotation_range=20,\n",
        "    width_shift_range=0.2,\n",
        "    height_shift_range=0.2,\n",
        "    shear_range=0.2,\n",
        "    zoom_range=0.2,\n",
        "    horizontal_flip=True,\n",
        "    fill_mode='nearest'\n",
        ")\n",
        "\n",
        "datagen.fit(train_sc)\n",
        "```\n",
        "\n",
        "### 2. Increase Training Data\n",
        "If possible, increase the size of your training dataset. More data can help the model learn better and generalize well.\n",
        "\n",
        "### 3. Regularization\n",
        "Add more regularization to your model to prevent overfitting. This can be done by adding dropout layers and/or increasing their dropout rates, and adding L2 regularization to the dense layers.\n",
        "\n",
        "```python\n",
        "import tensorflow as tf\n",
        "from tensorflow.keras.models import Sequential\n",
        "from tensorflow.keras.layers import Conv2D, MaxPooling2D, Flatten, Dense, Dropout, BatchNormalization\n",
        "from tensorflow.keras.regularizers import l2\n",
        "\n",
        "# Define the input shape\n",
        "np_shape = train_sc.shape[1:]\n",
        "\n",
        "# CNN model\n",
        "model = Sequential([\n",
        "    Conv2D(32, (3, 3), activation='relu', input_shape=np_shape, kernel_regularizer=l2(0.001)),\n",
        "    BatchNormalization(),\n",
        "    MaxPooling2D(pool_size=(2, 2)),\n",
        "    Dropout(0.3),\n",
        "\n",
        "    Conv2D(64, (3, 3), activation='relu', kernel_regularizer=l2(0.001)),\n",
        "    BatchNormalization(),\n",
        "    MaxPooling2D(pool_size=(2, 2)),\n",
        "    Dropout(0.3),\n",
        "\n",
        "    Conv2D(128, (3, 3), activation='relu', kernel_regularizer=l2(0.001)),\n",
        "    BatchNormalization(),\n",
        "    MaxPooling2D(pool_size=(2, 2)),\n",
        "    Dropout(0.3),\n",
        "\n",
        "    Flatten(),\n",
        "    Dense(512, activation='relu', kernel_regularizer=l2(0.001)),\n",
        "    BatchNormalization(),\n",
        "    Dropout(0.5),\n",
        "    Dense(8, activation='softmax')\n",
        "])\n",
        "\n",
        "# Compile the model\n",
        "model.compile(optimizer='adam',\n",
        "              loss='sparse_categorical_crossentropy',\n",
        "              metrics=['accuracy'])\n",
        "\n",
        "# Print the model summary\n",
        "model.summary()\n",
        "\n",
        "# Train the model with data augmentation\n",
        "epochs = 50\n",
        "history = model.fit(datagen.flow(train_sc, label_train, batch_size=32),\n",
        "                    epochs=epochs, validation_split=0.2, verbose=1)\n",
        "```\n",
        "\n",
        "### 4. Reduce Learning Rate\n",
        "A high learning rate can cause the model to converge too quickly to a suboptimal solution. Try reducing the learning rate.\n",
        "\n",
        "```python\n",
        "from tensorflow.keras.optimizers import Adam\n",
        "\n",
        "model.compile(optimizer=Adam(learning_rate=0.0001),\n",
        "              loss='sparse_categorical_crossentropy',\n",
        "              metrics=['accuracy'])\n",
        "```\n",
        "\n",
        "### 5. Early Stopping\n",
        "Use early stopping to halt the training process when the validation performance stops improving.\n",
        "\n",
        "```python\n",
        "from tensorflow.keras.callbacks import EarlyStopping\n",
        "\n",
        "early_stopping = EarlyStopping(monitor='val_loss', patience=10, restore_best_weights=True)\n",
        "\n",
        "history = model.fit(datagen.flow(train_sc, label_train, batch_size=32),\n",
        "                    epochs=epochs, validation_split=0.2, verbose=1, callbacks=[early_stopping])\n",
        "```\n",
        "\n",
        "### 6. Stratified Split\n",
        "Ensure the train-validation split is stratified, meaning that each set maintains the same class distribution. This can be done using scikit-learn’s `train_test_split`.\n",
        "\n",
        "```python\n",
        "from sklearn.model_selection import train_test_split\n",
        "\n",
        "train_images, val_images, train_labels, val_labels = train_test_split(train_sc, label_train, test_size=0.2, stratify=label_train)\n",
        "\n",
        "history = model.fit(datagen.flow(train_images, train_labels, batch_size=32),\n",
        "                    epochs=epochs, validation_data=(val_images, val_labels), verbose=1, callbacks=[early_stopping])\n",
        "```\n",
        "\n",
        "### 7. Smoothing the Curves\n",
        "Sometimes, even with these techniques, the validation curves may not be perfectly smooth. You can apply a moving average to smooth out the validation loss and accuracy curves for better visualization.\n",
        "\n",
        "```python\n",
        "def moving_average(data, window_size):\n",
        "    return np.convolve(data, np.ones(window_size) / window_size, mode='valid')\n",
        "\n",
        "val_loss_avg = moving_average(history.history['val_loss'], window_size=5)\n",
        "val_acc_avg = moving_average(history.history['val_accuracy'], window_size=5)\n",
        "\n",
        "plt.plot(val_loss_avg, label='Validation Loss (smoothed)')\n",
        "plt.plot(val_acc_avg, label='Validation Accuracy (smoothed)')\n",
        "plt.legend()\n",
        "plt.show()\n",
        "```\n",
        "\n",
        "These strategies can help in stabilizing the validation performance and improving the overall generalization of your model."
      ],
      "metadata": {
        "id": "jGbAs-UPS-wW"
      }
    }
  ]
}