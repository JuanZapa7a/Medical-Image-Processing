{
 "cells": [
  {
   "cell_type": "markdown",
   "metadata": {},
   "source": [
    "# 1. SETTINGS"
   ]
  },
  {
   "cell_type": "code",
   "execution_count": null,
   "metadata": {},
   "outputs": [],
   "source": [
    "!nvidia-smi"
   ]
  },
  {
   "cell_type": "code",
   "execution_count": null,
   "metadata": {},
   "outputs": [
    {
     "name": "stdout",
     "output_type": "stream",
     "text": [
      "/content\n"
     ]
    }
   ],
   "source": [
    "import os\n",
    "HOME = os.getcwd()\n",
    "print(HOME)\n"
   ]
  },
  {
   "cell_type": "code",
   "execution_count": null,
   "metadata": {},
   "outputs": [
    {
     "name": "stdout",
     "output_type": "stream",
     "text": [
      "Mounted at /content/drive\n"
     ]
    }
   ],
   "source": [
    "from google.colab import drive\n",
    "drive.mount('/content/drive')"
   ]
  },
  {
   "cell_type": "code",
   "execution_count": null,
   "metadata": {},
   "outputs": [
    {
     "name": "stdout",
     "output_type": "stream",
     "text": [
      "Ultralytics YOLOv8.1.45 🚀 Python-3.10.12 torch-2.2.1+cu121 CUDA:0 (Tesla T4, 15102MiB)\n",
      "Setup complete ✅ (2 CPUs, 12.7 GB RAM, 29.1/78.2 GB disk)\n"
     ]
    }
   ],
   "source": [
    "# Pip install method (recommended)\n",
    "\n",
    "!pip install --upgrade pip\n",
    "!pip install torch torchvision torchaudio\n",
    "!pip install roboflow\n",
    "!pip install ultralytics\n",
    "\n",
    "# clear installation output from  !pip\n",
    "from IPython import display\n",
    "display.clear_output()\n",
    "\n",
    "# check package y hardware\n",
    "import ultralytics\n",
    "ultralytics.checks()"
   ]
  },
  {
   "cell_type": "code",
   "execution_count": null,
   "metadata": {},
   "outputs": [],
   "source": [
    "from ultralytics import YOLO"
   ]
  },
  {
   "cell_type": "markdown",
   "metadata": {},
   "source": [
    "# 2. DATASET\n",
    "\n",
    "Create the [dataset](https://docs.ultralytics.com/datasets/classify/) directory (if it doesn't exist), where we are going to save the dataset with which we are going to train yolov8."
   ]
  },
  {
   "cell_type": "code",
   "execution_count": null,
   "metadata": {},
   "outputs": [
    {
     "name": "stdout",
     "output_type": "stream",
     "text": [
      "/content\n"
     ]
    }
   ],
   "source": [
    "import os\n",
    "datasets_dir = os.path.join(HOME, \"datasets\")\n",
    "os.makedirs(datasets_dir, exist_ok=True)\n",
    "print(os.getcwd())"
   ]
  },
  {
   "cell_type": "code",
   "execution_count": null,
   "metadata": {},
   "outputs": [
    {
     "name": "stdout",
     "output_type": "stream",
     "text": [
      "dataset_dir = /content/datasets\n",
      "loading Roboflow workspace...\n",
      "loading Roboflow project...\n"
     ]
    },
    {
     "name": "stderr",
     "output_type": "stream",
     "text": [
      "Downloading Dataset Version Zip in chest-xray-images-3 to folder:: 100%|██████████| 331939/331939 [00:22<00:00, 14953.32it/s]"
     ]
    },
    {
     "name": "stdout",
     "output_type": "stream",
     "text": [
      "\n"
     ]
    },
    {
     "name": "stderr",
     "output_type": "stream",
     "text": [
      "\n",
      "Extracting Dataset Version Zip to chest-xray-images-3 in folder:: 100%|██████████| 9908/9908 [00:01<00:00, 5399.07it/s]\n"
     ]
    }
   ],
   "source": [
    "# Cambiar al directorio creado\n",
    "os.chdir(datasets_dir)\n",
    "print('dataset_dir =', os.getcwd())\n",
    "\n",
    "# importar dataset (snipet roboflow)\n",
    "from roboflow import Roboflow\n",
    "\n",
    "rf = Roboflow(api_key=\"5xvhWbT7GJjHZvn6ukFk\") #use your API key\n",
    "project = rf.workspace(\"universidad-baiw9\").project(\"chest-xray-images\")\n",
    "dataset = project.version(3).download(\"folder\")"
   ]
  }
 ],
 "metadata": {
  "language_info": {
   "name": "python"
  }
 },
 "nbformat": 4,
 "nbformat_minor": 2
}
