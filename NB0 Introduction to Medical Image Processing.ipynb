{
  "cells": [
    {
      "cell_type": "markdown",
      "metadata": {
        "id": "view-in-github",
        "colab_type": "text"
      },
      "source": [
        "<a href=\"https://colab.research.google.com/github/JuanZapa7a/Medical-Image-Processing/blob/main/NB0%20Introduction%20to%20Medical%20Image%20Processing.ipynb\" target=\"_parent\"><img src=\"https://colab.research.google.com/assets/colab-badge.svg\" alt=\"Open In Colab\"/></a>"
      ]
    },
    {
      "cell_type": "markdown",
      "metadata": {
        "id": "5iDBWQXhH-d-"
      },
      "source": [
        "# Introduction to Medical Image Processing"
      ]
    },
    {
      "cell_type": "markdown",
      "source": [
        "**Medical Image Processing** is a field of Biomedical Engineering and Computer Science that **focuses on the analysis, enhancement, and manipulation** of medical images.\n",
        "\n",
        "Its primary goals are to:\n",
        "\n",
        "* **enhance** the **quality** of images\n",
        "* **delineate** the **structures** within the image\n",
        "* **extract** meaningful **information**\n",
        "* **assist** in the **diagnosis** and treatment of diseases"
      ],
      "metadata": {
        "id": "TtoYsCHWn3Xg"
      }
    },
    {
      "cell_type": "markdown",
      "source": [
        "## 0.- Initialize filesystem and libraries"
      ],
      "metadata": {
        "id": "ZFAph747Jehg"
      }
    },
    {
      "cell_type": "code",
      "source": [
        "from google.colab import drive\n",
        "drive.mount('/content/drive')"
      ],
      "metadata": {
        "id": "q2Zdhki_ZrC4"
      },
      "execution_count": null,
      "outputs": []
    },
    {
      "cell_type": "markdown",
      "source": [
        "## 1.- Particularities of Medical Images"
      ],
      "metadata": {
        "id": "ueIRM3kBSsge"
      }
    },
    {
      "cell_type": "markdown",
      "source": [
        "Medical images **differ** from those captured with a photo camera in several aspects:\n",
        "\n",
        "*\t**Specialized equipment and technologies** are required to capture images of internal body structures, such as X-ray machines, MRI scanners, ultrasound devices, and nuclear medicine equipment.\n",
        "  \n",
        "  These **technologies** often **involve complex physical principles**, such as electromagnetic radiation, sound waves, and radioactive tracers.\n",
        "\n",
        "*\tMedical images **provide information about anatomical structures and physiological functions**.\n",
        "\n",
        "  Modalities like X-rays, CT scans, and MRI are used to **visualize anatomical structures**, whereas nuclear medicine reveal information about **functional aspects of organs and tissues**, such as blood flow, glucose metabolism, or neural activity.\n",
        "  \n",
        "  Some techniques offer **information not available through any other procedures**.\n",
        "\n",
        "* Some modalities like X-rays and CT scans **involve exposure to ionizing radiation**, requiring strict safety protocols to minimize risk to patients and healthcare workers.\n",
        "\n",
        "*\tMedical images often **provide multi-dimensional information**.\n",
        "\n",
        "  For instance, CT and MRI can generate **3D images** from multiple **slices**, while ultrasound can offer **real-time dynamic imaging**. This information requires different procedures than 2D images.\n",
        "\n",
        "*\tMedical image acquisition is **subject to strict regulatory standards** to ensure accuracy, safety, and confidentiality."
      ],
      "metadata": {
        "id": "4mK29mIL8xHD"
      }
    },
    {
      "cell_type": "markdown",
      "source": [
        "## 2.- Role of Processing Algorithms"
      ],
      "metadata": {
        "id": "MXgKnpYITD0i"
      }
    },
    {
      "cell_type": "markdown",
      "source": [
        "**Processing algorithms** play an important role in medical imaging by assisting in various stages of analysis, enhancement, and diagnosis. These algorithms can be categorized into:\n",
        "\n",
        "* **Classical image processing algorithms**: are based on mathematical operations and transformations to process images, and include:\n",
        "\n",
        "\t*\t**Preprocessing**: enhance image quality (remove noise, normalize data, etc.)\n",
        "\t*\t**Visualization**: techniques to improve the visual representation of images for better interpretation by radiologists and clinicians.\n",
        "\t*\t**Detection and segmentation**: find and delineate specific structures or regions of interest.\n",
        "\t*\t**Quantification**: measure size, volume, and other attributes.\n",
        "\t*\t**Comparison**: compare current images with previous ones to track changes over time.\n",
        "\t*\t**Feature extraction**: extract meaningful features from images that can be used for further analysis and diagnosis.\n",
        "\t*\t**Classification**: categorize findings or abnormalities based on their characteristics and patterns.\n",
        "\n",
        "* **Deep Learning (DL) / Machine Learning (ML) techniques**: involve training models on large datasets to learn patterns and features that can be used for various tasks, including:\n",
        "\n",
        "\t* Elements of classical image processing algorithms in preprocessing and feature extraction stages before the model training\n",
        "\t*\tAutomated detection\n",
        "\t*\tAdvanced segmentation\n",
        "\t*\tPredictive analysis\n",
        "\t*\tEnhanced classification\n",
        "\n",
        "Image processing algorithms are increasingly being **integrated with other automated systems** to support specific diagnostic tasks, always under the **supervision of a qualified expert**.\n",
        "\n",
        "The **final stage** of a computer-assisted system **involves an expert** (physician, radiologist, etc.), who issues the final report based on their medical knowledge, the images, clinical context, and other medical information (patient history, physical examination, symptoms, laboratory results, etc.).\n",
        "\n",
        "***Processing algorithms are not intended to provide a final diagnosis but to assist physicians or experts in detecting findings that may be difficult to identify by other methods, aiding them in issuing the final report.***\n",
        "\n",
        "\n"
      ],
      "metadata": {
        "id": "ZTTU8YvA9i0g"
      }
    },
    {
      "cell_type": "markdown",
      "source": [
        "## 3.- Software Development Environments for Medical Image Processing"
      ],
      "metadata": {
        "id": "hEvp7VKoTIKi"
      }
    },
    {
      "cell_type": "markdown",
      "source": [
        "The implementation of software algorithms for image processing requires a **programming language** for coding the algorithms and a **development environment** to build, run, and debug the code, as well as **libraries** to provide specialized functions and tools:\n",
        "\n",
        "* **Python**: the preferred programming language for scientific computing.\n",
        "\n",
        "* **Google Colab**: a cloud-based platform for programming in Python without the need to install libraries locally.\n",
        "\n",
        "* **Libraries**:\n",
        "  * **NumPy**: for numerical operations (arrays and matrices).\n",
        "  * **Matplotlib**: for visualization and representation of images and the creation of graphs and plots.\n",
        "  * **OpenCV**: library of image processing and computer vision functions\n",
        "  * ..."
      ],
      "metadata": {
        "id": "Hp7Q_62HJcQ4"
      }
    },
    {
      "cell_type": "markdown",
      "source": [
        "## Bibliography and References"
      ],
      "metadata": {
        "id": "saIBAvBlTq8U"
      }
    },
    {
      "cell_type": "markdown",
      "source": [
        "* Toennies, Klaus D., _Guide to Medical Image Analysis: Methods and Algorithms_. Springer, 2017. 9781447174035\n",
        "\n",
        "* Chityala, Ravishankar, _Image Processing and Acquisition Using Python_. Chapman and Hall/CRC, 2022. 9780367531577\n",
        "\n",
        "* González, Rafael C. _Digital image processing_. Prentice Hall, 2018. 9780132345637\n",
        "\n",
        "* Birkfellner, Wolfgang, _Applied Medical Image Processing: A Basic Course_. CRC Press, 2014. 9781466555570\n",
        "\n",
        "* Fernández Villán, Alberto. _Mastering OpenCV 4 with Python_. Packt. 2019.\n",
        "9781789344912\n",
        "\n",
        "* Suetens, Paul. _Fundamentals of Medical Imaging_. Cambridge University Press, 2009. 9780521519151\n",
        "\n"
      ],
      "metadata": {
        "id": "9beEN3J5Gpgb"
      }
    }
  ],
  "metadata": {
    "colab": {
      "provenance": [],
      "gpuType": "T4",
      "include_colab_link": true
    },
    "kernelspec": {
      "display_name": "Python 3",
      "name": "python3"
    },
    "language_info": {
      "name": "python"
    },
    "accelerator": "GPU"
  },
  "nbformat": 4,
  "nbformat_minor": 0
}