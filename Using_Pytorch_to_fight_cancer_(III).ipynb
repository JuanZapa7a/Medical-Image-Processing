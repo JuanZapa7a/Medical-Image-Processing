{
  "nbformat": 4,
  "nbformat_minor": 0,
  "metadata": {
    "colab": {
      "provenance": [],
      "gpuType": "T4",
      "include_colab_link": true
    },
    "kernelspec": {
      "name": "python3",
      "display_name": "Python 3"
    },
    "language_info": {
      "name": "python"
    },
    "accelerator": "GPU"
  },
  "cells": [
    {
      "cell_type": "markdown",
      "metadata": {
        "id": "view-in-github",
        "colab_type": "text"
      },
      "source": [
        "<a href=\"https://colab.research.google.com/github/JuanZapa7a/Medical-Image-Processing/blob/main/Using_Pytorch_to_fight_cancer_(III).ipynb\" target=\"_parent\"><img src=\"https://colab.research.google.com/assets/colab-badge.svg\" alt=\"Open In Colab\"/></a>"
      ]
    },
    {
      "cell_type": "code",
      "execution_count": 1,
      "metadata": {
        "id": "Z5HFbho9zRFy",
        "outputId": "c2b74a8d-aeb6-41fe-9454-7cee0cb763f1",
        "colab": {
          "base_uri": "https://localhost:8080/"
        }
      },
      "outputs": [
        {
          "output_type": "stream",
          "name": "stdout",
          "text": [
            "Sat May 18 07:25:29 2024       \n",
            "+---------------------------------------------------------------------------------------+\n",
            "| NVIDIA-SMI 535.104.05             Driver Version: 535.104.05   CUDA Version: 12.2     |\n",
            "|-----------------------------------------+----------------------+----------------------+\n",
            "| GPU  Name                 Persistence-M | Bus-Id        Disp.A | Volatile Uncorr. ECC |\n",
            "| Fan  Temp   Perf          Pwr:Usage/Cap |         Memory-Usage | GPU-Util  Compute M. |\n",
            "|                                         |                      |               MIG M. |\n",
            "|=========================================+======================+======================|\n",
            "|   0  Tesla T4                       Off | 00000000:00:04.0 Off |                    0 |\n",
            "| N/A   69C    P8              11W /  70W |      0MiB / 15360MiB |      0%      Default |\n",
            "|                                         |                      |                  N/A |\n",
            "+-----------------------------------------+----------------------+----------------------+\n",
            "                                                                                         \n",
            "+---------------------------------------------------------------------------------------+\n",
            "| Processes:                                                                            |\n",
            "|  GPU   GI   CI        PID   Type   Process name                            GPU Memory |\n",
            "|        ID   ID                                                             Usage      |\n",
            "|=======================================================================================|\n",
            "|  No running processes found                                                           |\n",
            "+---------------------------------------------------------------------------------------+\n"
          ]
        }
      ],
      "source": [
        "!nvidia-smi"
      ]
    },
    {
      "cell_type": "code",
      "source": [
        "import os\n",
        "HOME = os.getcwd()\n",
        "print(HOME)"
      ],
      "metadata": {
        "id": "vu_A6rw500CL",
        "outputId": "93ea0103-5475-4905-ea71-512024d4f287",
        "colab": {
          "base_uri": "https://localhost:8080/"
        }
      },
      "execution_count": 2,
      "outputs": [
        {
          "output_type": "stream",
          "name": "stdout",
          "text": [
            "/content\n"
          ]
        }
      ]
    },
    {
      "cell_type": "code",
      "source": [
        "from google.colab import drive\n",
        "drive.mount('/content/drive')"
      ],
      "metadata": {
        "id": "vxnbZ-Wu1BOd",
        "outputId": "1b3195f0-e80f-4a61-cf42-109e35c84aae",
        "colab": {
          "base_uri": "https://localhost:8080/"
        }
      },
      "execution_count": null,
      "outputs": [
        {
          "output_type": "stream",
          "name": "stdout",
          "text": [
            "Mounted at /content/drive\n"
          ]
        }
      ]
    },
    {
      "cell_type": "code",
      "source": [
        "import os\n",
        "datasets_dir = os.path.join(HOME, \"datasets\")\n",
        "os.makedirs(datasets_dir, exist_ok=True)\n",
        "print(os.getcwd())"
      ],
      "metadata": {
        "id": "DPyP573N1Klc",
        "outputId": "67ee76cb-645e-40ed-806a-e88d98630005",
        "colab": {
          "base_uri": "https://localhost:8080/"
        }
      },
      "execution_count": 4,
      "outputs": [
        {
          "output_type": "stream",
          "name": "stdout",
          "text": [
            "/content\n"
          ]
        }
      ]
    },
    {
      "cell_type": "code",
      "source": [
        "# Change to new datsets folder\n",
        "os.chdir(datasets_dir)\n",
        "print('dataset_dir =', os.getcwd())\n",
        "if  not os.path.isfile('exp0.zip'):\n",
        "  !wget -q https://www.dropbox.com/s/7ir1jixrs1aw55n/exp0.zip\n",
        "!unzip -qq -o exp0.zip"
      ],
      "metadata": {
        "id": "bt4gIsT81Zlq",
        "outputId": "d635ec6b-ea95-48e3-fd49-a9f11965b507",
        "colab": {
          "base_uri": "https://localhost:8080/"
        }
      },
      "execution_count": 5,
      "outputs": [
        {
          "output_type": "stream",
          "name": "stdout",
          "text": [
            "dataset_dir = /content/datasets\n"
          ]
        }
      ]
    },
    {
      "cell_type": "code",
      "source": [
        "import torch\n",
        "import torchvision\n",
        "from torchvision import datasets\n",
        "import torchvision.transforms as transforms\n",
        "from torch.utils.data import DataLoader\n",
        "\n",
        "\n",
        "# 1. Calculate the mean and standard deviation on the training set.\n",
        "# train, validation and test data directory\n",
        "\n",
        "train_dir = \"/content/datasets/exp0/train/\"\n",
        "val_dir  = \"/content/datasets/exp0/test/\"\n",
        "test_dir   = \"/content/datasets/exp0/val/\"\n",
        "\n",
        "# transform to calculate mean and standard desviation\n",
        "transform = transforms.Compose([\n",
        "    transforms.ToTensor()  # transform images to tensor\n",
        "])\n",
        "\n",
        "# Load the ImageFolder dataset and apply the transformation\n",
        "dataset = datasets.ImageFolder(root= train_dir, transform=transform)\n",
        "\n",
        "# it's better to use a loader to retrieve images (tensors)\n",
        "loader = DataLoader(dataset, batch_size=1, shuffle=False)\n",
        "\n",
        "# Initialize variables to store the sum of pixel values and\n",
        "# standard deviation.\n",
        "# These variables are set to floating-point zeros to ensure\n",
        "# accurate calculations.\n",
        "mean_sum = 0.0\n",
        "std_sum = 0.0\n",
        "total_samples = 0\n",
        "\n",
        "# Iterates over the data loader (loader),\n",
        "# calculates the mean and standard deviation across all channels\n",
        "# for each batch(0) and spatial dimensions (height(2) and width(3))\n",
        "for images, _ in loader:\n",
        "    mean_sum += torch.mean(images, dim=[0, 2, 3])\n",
        "    std_sum += torch.std(images, dim=[0, 2, 3])\n",
        "    total_samples += 1\n",
        "\n",
        "mean = mean_sum / total_samples\n",
        "std = std_sum / total_samples\n",
        "\n",
        "print(\"Total train samples:\", total_samples)\n",
        "print(\"Mean:\", mean)\n",
        "print(\"Std:\", std)"
      ],
      "metadata": {
        "id": "bcxFIoZU590E",
        "outputId": "6178ddb7-5fb6-4883-b0b9-1b242ae7b27b",
        "colab": {
          "base_uri": "https://localhost:8080/"
        }
      },
      "execution_count": 6,
      "outputs": [
        {
          "output_type": "stream",
          "name": "stdout",
          "text": [
            "Total train samples: 2700\n",
            "Mean: tensor([0.7513, 0.5535, 0.5788])\n",
            "Std: tensor([0.0921, 0.1196, 0.1349])\n"
          ]
        }
      ]
    },
    {
      "cell_type": "code",
      "source": [
        "# 2. Normalize the training set using these statistics.\n",
        "train_set = datasets.ImageFolder(train_dir,transform = transforms.Compose([\n",
        "    transforms.Resize((64,64)),\n",
        "    transforms.ToTensor(),\n",
        "    transforms.Normalize(mean, std)])\n",
        ")\n",
        "\n",
        "# 3. Normalize the test and validation set using the same statistics\n",
        "# calculated on the training set.\n",
        "val_set = datasets.ImageFolder(val_dir,transform = transforms.Compose([\n",
        "    transforms.Resize((64,64)),\n",
        "    transforms.ToTensor(),\n",
        "    transforms.Normalize(mean, std)])\n",
        ")\n",
        "\n",
        "test_set = datasets.ImageFolder(test_dir,transforms.Compose([\n",
        "    transforms.Resize((64,64)),\n",
        "    transforms.ToTensor(),\n",
        "    transforms.Normalize(mean, std)])\n",
        ")\n",
        "\n",
        "print(f\"Length of Train Data :{len(train_set)}\")\n",
        "print(f\"Length of Validation Data : {len(val_set)}\")\n",
        "print(f\"Length of Test Data : {len(test_set)}\")\n",
        "\n",
        "classes = train_set.classes\n",
        "print('Classes: ', classes)"
      ],
      "metadata": {
        "id": "ee3tpXcn61Ci",
        "outputId": "17bed2b9-5622-4399-e7a4-8a02ee391ace",
        "colab": {
          "base_uri": "https://localhost:8080/"
        }
      },
      "execution_count": 7,
      "outputs": [
        {
          "output_type": "stream",
          "name": "stdout",
          "text": [
            "Length of Train Data :2700\n",
            "Length of Validation Data : 600\n",
            "Length of Test Data : 300\n",
            "Classes:  ['class_0', 'class_1']\n"
          ]
        }
      ]
    },
    {
      "cell_type": "code",
      "source": [
        "def train(dataloader, model, criterion, optimizer):\n",
        "  running_loss, corrects, current = 0, 0, 0\n",
        "  size = len(dataloader.dataset) # number images from dataset\n",
        "  print(f\"Training:\")\n",
        "  model.train() #training mode on\n",
        "  loop = tqdm(train_dataloader) # Initialize a progress bar\n",
        "  for batch, (X, y) in enumerate(loop):\n",
        "    # take data (X) and label (y) from a batch\n",
        "    X, y = X.to(device), y.to(device) # Move the data and labels\n",
        "                                      # to the device (CPU or GPU)\n",
        "\n",
        "    # forward pass\n",
        "    preds = model(X) # Compute predictions\n",
        "    loss = criterion(preds, y) # Compute the loss between predictions and labels\n",
        "\n",
        "    # backpropagation\n",
        "    optimizer.zero_grad()   # zero the gradient buffers\n",
        "    loss.backward()         # compute gradients to backwards\n",
        "    optimizer.step()        # Does the \"update weights\" of model\n",
        "\n",
        "    # Calculate Output Metrics training_loss, training_accuracy\n",
        "\n",
        "    # 1. loss.item() contains the loss of entire mini-batch converted to scalar\n",
        "    running_loss += loss.item() # Accumulate the loss for this batch\n",
        "\n",
        "    # 2. current image (last image in the batch) for progressive bar\n",
        "    current += len(X) # Update the current number of processed images\n",
        "\n",
        "    # 3. From the predictions, I select the index (class) of the one with\n",
        "    # the highest value and compare it with the label (class). The boolean value\n",
        "    # is converted into a float (true becomes 1, false becomes 0), and all are\n",
        "    # summed up. Finally, 'item' converts them into a scalar value.\n",
        "    # This way, 'corrects' reflects the number of correct predictions (accuracy)\n",
        "    corrects += (preds.argmax(1) == y).type(torch.float).sum().item()\n",
        "\n",
        "    # 4. running loss is the sum of our loss. Training loss is a running average\n",
        "    # through batches\n",
        "    training_loss = running_loss/(batch+1)\n",
        "\n",
        "    # 5. Training accuracy = number of corrects predictions/number of processed images\n",
        "    training_accuracy = corrects/current\n",
        "\n",
        "    # Update the progress bar with current epoch, batch, and metrics\n",
        "    loop.set_description(f'[{epoch + 1}/{epochs} epochs, {current:>5d}/{len(train_dataloader.dataset):>5d} data]')\n",
        "    loop.set_postfix(Training_Loss=training_loss, Accuracy=f'{100*corrects/current:>0.1f}%')\n",
        "\n",
        "  return training_loss, training_accuracy"
      ],
      "metadata": {
        "id": "gQKZ1_eb7MOz"
      },
      "execution_count": 8,
      "outputs": []
    },
    {
      "cell_type": "code",
      "source": [
        "def val(dataloader, model, criterion):\n",
        "  size = len(dataloader.dataset) # number images from dataset to evaluate\n",
        "  num_batches = len(dataloader)  # number of batches\n",
        "\n",
        "  # Evaluation (test)) Mode\n",
        "  model.eval()\n",
        "\n",
        "  val_loss, corrects = 0, 0\n",
        "  with torch.no_grad():\n",
        "    for X, y in dataloader:\n",
        "      X, y = X.to(device), y.to(device)\n",
        "\n",
        "      # prediction for a dataset not used in training\n",
        "      # compute prediction error and number of corrects\n",
        "      # through batches\n",
        "      preds = model(X)\n",
        "      val_loss += criterion(preds, y).item()\n",
        "      corrects += (preds.argmax(1) == y).type(torch.float).sum().item()\n",
        "  val_loss /= num_batches\n",
        "  corrects /= size\n",
        "  print(f\"Val: \\n Accuracy: {(100*corrects):>0.1f}%, val_Loss: {val_loss:>8f} \\n\")\n",
        "\n",
        "  return val_loss, corrects"
      ],
      "metadata": {
        "id": "7EwQGti57PTv"
      },
      "execution_count": 9,
      "outputs": []
    },
    {
      "cell_type": "code",
      "source": [
        "from google.colab import files\n",
        "\n",
        "model = files.upload()"
      ],
      "metadata": {
        "id": "q2aqazpX1soX",
        "outputId": "c8a62140-6d2b-44da-fd44-852733a700ef",
        "colab": {
          "base_uri": "https://localhost:8080/",
          "height": 73
        }
      },
      "execution_count": 10,
      "outputs": [
        {
          "output_type": "display_data",
          "data": {
            "text/plain": [
              "<IPython.core.display.HTML object>"
            ],
            "text/html": [
              "\n",
              "     <input type=\"file\" id=\"files-decd9c7a-7a33-45d1-966a-70c76c11bf7b\" name=\"files[]\" multiple disabled\n",
              "        style=\"border:none\" />\n",
              "     <output id=\"result-decd9c7a-7a33-45d1-966a-70c76c11bf7b\">\n",
              "      Upload widget is only available when the cell has been executed in the\n",
              "      current browser session. Please rerun this cell to enable.\n",
              "      </output>\n",
              "      <script>// Copyright 2017 Google LLC\n",
              "//\n",
              "// Licensed under the Apache License, Version 2.0 (the \"License\");\n",
              "// you may not use this file except in compliance with the License.\n",
              "// You may obtain a copy of the License at\n",
              "//\n",
              "//      http://www.apache.org/licenses/LICENSE-2.0\n",
              "//\n",
              "// Unless required by applicable law or agreed to in writing, software\n",
              "// distributed under the License is distributed on an \"AS IS\" BASIS,\n",
              "// WITHOUT WARRANTIES OR CONDITIONS OF ANY KIND, either express or implied.\n",
              "// See the License for the specific language governing permissions and\n",
              "// limitations under the License.\n",
              "\n",
              "/**\n",
              " * @fileoverview Helpers for google.colab Python module.\n",
              " */\n",
              "(function(scope) {\n",
              "function span(text, styleAttributes = {}) {\n",
              "  const element = document.createElement('span');\n",
              "  element.textContent = text;\n",
              "  for (const key of Object.keys(styleAttributes)) {\n",
              "    element.style[key] = styleAttributes[key];\n",
              "  }\n",
              "  return element;\n",
              "}\n",
              "\n",
              "// Max number of bytes which will be uploaded at a time.\n",
              "const MAX_PAYLOAD_SIZE = 100 * 1024;\n",
              "\n",
              "function _uploadFiles(inputId, outputId) {\n",
              "  const steps = uploadFilesStep(inputId, outputId);\n",
              "  const outputElement = document.getElementById(outputId);\n",
              "  // Cache steps on the outputElement to make it available for the next call\n",
              "  // to uploadFilesContinue from Python.\n",
              "  outputElement.steps = steps;\n",
              "\n",
              "  return _uploadFilesContinue(outputId);\n",
              "}\n",
              "\n",
              "// This is roughly an async generator (not supported in the browser yet),\n",
              "// where there are multiple asynchronous steps and the Python side is going\n",
              "// to poll for completion of each step.\n",
              "// This uses a Promise to block the python side on completion of each step,\n",
              "// then passes the result of the previous step as the input to the next step.\n",
              "function _uploadFilesContinue(outputId) {\n",
              "  const outputElement = document.getElementById(outputId);\n",
              "  const steps = outputElement.steps;\n",
              "\n",
              "  const next = steps.next(outputElement.lastPromiseValue);\n",
              "  return Promise.resolve(next.value.promise).then((value) => {\n",
              "    // Cache the last promise value to make it available to the next\n",
              "    // step of the generator.\n",
              "    outputElement.lastPromiseValue = value;\n",
              "    return next.value.response;\n",
              "  });\n",
              "}\n",
              "\n",
              "/**\n",
              " * Generator function which is called between each async step of the upload\n",
              " * process.\n",
              " * @param {string} inputId Element ID of the input file picker element.\n",
              " * @param {string} outputId Element ID of the output display.\n",
              " * @return {!Iterable<!Object>} Iterable of next steps.\n",
              " */\n",
              "function* uploadFilesStep(inputId, outputId) {\n",
              "  const inputElement = document.getElementById(inputId);\n",
              "  inputElement.disabled = false;\n",
              "\n",
              "  const outputElement = document.getElementById(outputId);\n",
              "  outputElement.innerHTML = '';\n",
              "\n",
              "  const pickedPromise = new Promise((resolve) => {\n",
              "    inputElement.addEventListener('change', (e) => {\n",
              "      resolve(e.target.files);\n",
              "    });\n",
              "  });\n",
              "\n",
              "  const cancel = document.createElement('button');\n",
              "  inputElement.parentElement.appendChild(cancel);\n",
              "  cancel.textContent = 'Cancel upload';\n",
              "  const cancelPromise = new Promise((resolve) => {\n",
              "    cancel.onclick = () => {\n",
              "      resolve(null);\n",
              "    };\n",
              "  });\n",
              "\n",
              "  // Wait for the user to pick the files.\n",
              "  const files = yield {\n",
              "    promise: Promise.race([pickedPromise, cancelPromise]),\n",
              "    response: {\n",
              "      action: 'starting',\n",
              "    }\n",
              "  };\n",
              "\n",
              "  cancel.remove();\n",
              "\n",
              "  // Disable the input element since further picks are not allowed.\n",
              "  inputElement.disabled = true;\n",
              "\n",
              "  if (!files) {\n",
              "    return {\n",
              "      response: {\n",
              "        action: 'complete',\n",
              "      }\n",
              "    };\n",
              "  }\n",
              "\n",
              "  for (const file of files) {\n",
              "    const li = document.createElement('li');\n",
              "    li.append(span(file.name, {fontWeight: 'bold'}));\n",
              "    li.append(span(\n",
              "        `(${file.type || 'n/a'}) - ${file.size} bytes, ` +\n",
              "        `last modified: ${\n",
              "            file.lastModifiedDate ? file.lastModifiedDate.toLocaleDateString() :\n",
              "                                    'n/a'} - `));\n",
              "    const percent = span('0% done');\n",
              "    li.appendChild(percent);\n",
              "\n",
              "    outputElement.appendChild(li);\n",
              "\n",
              "    const fileDataPromise = new Promise((resolve) => {\n",
              "      const reader = new FileReader();\n",
              "      reader.onload = (e) => {\n",
              "        resolve(e.target.result);\n",
              "      };\n",
              "      reader.readAsArrayBuffer(file);\n",
              "    });\n",
              "    // Wait for the data to be ready.\n",
              "    let fileData = yield {\n",
              "      promise: fileDataPromise,\n",
              "      response: {\n",
              "        action: 'continue',\n",
              "      }\n",
              "    };\n",
              "\n",
              "    // Use a chunked sending to avoid message size limits. See b/62115660.\n",
              "    let position = 0;\n",
              "    do {\n",
              "      const length = Math.min(fileData.byteLength - position, MAX_PAYLOAD_SIZE);\n",
              "      const chunk = new Uint8Array(fileData, position, length);\n",
              "      position += length;\n",
              "\n",
              "      const base64 = btoa(String.fromCharCode.apply(null, chunk));\n",
              "      yield {\n",
              "        response: {\n",
              "          action: 'append',\n",
              "          file: file.name,\n",
              "          data: base64,\n",
              "        },\n",
              "      };\n",
              "\n",
              "      let percentDone = fileData.byteLength === 0 ?\n",
              "          100 :\n",
              "          Math.round((position / fileData.byteLength) * 100);\n",
              "      percent.textContent = `${percentDone}% done`;\n",
              "\n",
              "    } while (position < fileData.byteLength);\n",
              "  }\n",
              "\n",
              "  // All done.\n",
              "  yield {\n",
              "    response: {\n",
              "      action: 'complete',\n",
              "    }\n",
              "  };\n",
              "}\n",
              "\n",
              "scope.google = scope.google || {};\n",
              "scope.google.colab = scope.google.colab || {};\n",
              "scope.google.colab._files = {\n",
              "  _uploadFiles,\n",
              "  _uploadFilesContinue,\n",
              "};\n",
              "})(self);\n",
              "</script> "
            ]
          },
          "metadata": {}
        },
        {
          "output_type": "stream",
          "name": "stdout",
          "text": [
            "Saving myCNN.pth to myCNN.pth\n"
          ]
        }
      ]
    },
    {
      "cell_type": "markdown",
      "source": [
        "\n",
        "# Early Stopping\n",
        "\n",
        "Early stopping is a technique used in machine learning model training to halt training before the model begins to overfit the training data. This is done by monitoring a metric of interest on the validation set and stopping training when the metric ceases to improve for a certain number of consecutive epochs.\n",
        "\n",
        "You can use the Python standard library os to create a directory named `\"train\"` in the current directory and then save the trained models (pth) in that directory. Here's an example of how to do it:\n"
      ],
      "metadata": {
        "id": "DGh9fvxLP4Qd"
      }
    },
    {
      "cell_type": "code",
      "source": [
        "import torchvision.models as models\n",
        "\n",
        "# Current directory\n",
        "current_dir = os.getcwd()\n",
        "print(current_dir)\n",
        "\n",
        "# Path to the \"train\" directory\n",
        "train_dir = os.path.join(current_dir, 'train')\n",
        "\n",
        "# Check if the \"train\" directory already exists\n",
        "if not os.path.exists(train_dir):\n",
        "    # Create the \"train\" directory if it doesn't exist\n",
        "    os.makedirs(train_dir)\n",
        "\n",
        "# Save the trained model in the \"train\" directory\n",
        "#model_path = os.path.join(train_dir, 'myCNN.pth')\n",
        "#torch.save(model.state_dict(), model_path)"
      ],
      "metadata": {
        "id": "XSjM73nldus8",
        "colab": {
          "base_uri": "https://localhost:8080/"
        },
        "outputId": "3342b053-a094-49fd-bda1-5c3007e277b4"
      },
      "execution_count": 11,
      "outputs": [
        {
          "output_type": "stream",
          "name": "stdout",
          "text": [
            "/content/datasets\n"
          ]
        }
      ]
    },
    {
      "cell_type": "markdown",
      "source": [
        "To create directories named `train1`, `train2`, etc., each time you execute a training loop, you can modify the code to check the number of existing training directories and then create the next directory in sequence. Here's an example of how you could do this:"
      ],
      "metadata": {
        "id": "VarhUBkgtEk3"
      }
    },
    {
      "cell_type": "code",
      "source": [
        "import os\n",
        "\n",
        "def create_train_dir():\n",
        "  \"\"\"\n",
        "  Creates a directory named train within the current directory.\n",
        "  \"\"\"\n",
        "  # Current directory\n",
        "  current_dir = os.getcwd()\n",
        "  print(current_dir)\n",
        "\n",
        "  # Base path to the \"train\" directory\n",
        "  base_train_dir = os.path.join(current_dir, 'train')\n",
        "\n",
        "  # Determine the next training directory name\n",
        "  train_dirs = [d for d in os.listdir(current_dir) if d.startswith('train') and d[5:].isdigit()]\n",
        "  train_dirs.sort(key=lambda x: int(x[5:]) if x[5:].isdigit() else -1)\n",
        "  next_train_num = 1 if not train_dirs else int(train_dirs[-1][5:]) + 1\n",
        "  train_dir = os.path.join(current_dir, f'train{next_train_num}')\n",
        "\n",
        "  # Create the next training directory\n",
        "  os.makedirs(train_dir, exist_ok=True)\n",
        "  print(f\"Training directory: {train_dir}\")\n",
        "  return train_dir"
      ],
      "metadata": {
        "id": "0D82Cm1dpooY"
      },
      "execution_count": 21,
      "outputs": []
    },
    {
      "cell_type": "code",
      "source": [
        "import torch.nn as nn\n",
        "\n",
        "# Large Model\n",
        "class myCNN(nn.Module):\n",
        "    def __init__(self): # defines the constructor method __init__()\n",
        "                        # for the myCNN class. This method is called\n",
        "                        # when an instance of the class is created.\n",
        "        super().__init__() # calls the constructor of the parent class\n",
        "                           # (nn.Module) using Python's super() function.\n",
        "                           # It initializes the parent class, allowing the\n",
        "                           # myCNN class to inherit functionality from nn.Module.\n",
        "\n",
        "        self.network = nn.Sequential(\n",
        "\n",
        "            # Layer 1: Conv2d\n",
        "            # Input: (batch_size, 3, 64, 64)\n",
        "            # Output: (batch_size, 32, 64, 64)\n",
        "            nn.Conv2d(3, 32, kernel_size=3, padding=1),\n",
        "            nn.ReLU(),\n",
        "\n",
        "            # Layer 2: Conv2d\n",
        "            # Input: (batch_size, 32, 64, 64)\n",
        "            # Output: (batch_size, 64, 64, 64)\n",
        "            nn.Conv2d(32, 64, kernel_size=3, stride=1, padding=1),\n",
        "            nn.ReLU(),\n",
        "\n",
        "            # Layer 3: MaxPool2d\n",
        "            # Input: (batch_size, 64, 64, 64)\n",
        "            # Output: (batch_size, 64, 32, 32)\n",
        "            nn.MaxPool2d(2, 2),\n",
        "\n",
        "            # Layer 4: Conv2d\n",
        "            # Input: (batch_size, 64, 32, 32)\n",
        "            # Output: (batch_size, 128, 32, 32)\n",
        "            nn.Conv2d(64, 128, kernel_size=3, stride=1, padding=1),\n",
        "            nn.ReLU(),\n",
        "\n",
        "            # Layer 5: Conv2d\n",
        "            # Input: (batch_size, 128, 32, 32)\n",
        "            # Output: (batch_size, 128, 32, 32)\n",
        "            nn.Conv2d(128, 128, kernel_size=3, stride=1, padding=1),\n",
        "            nn.ReLU(),\n",
        "\n",
        "            # Layer 6: MaxPool2d\n",
        "            # Input: (batch_size, 128, 32, 32)\n",
        "            # Output: (batch_size, 128, 16, 16)\n",
        "            nn.MaxPool2d(2, 2),\n",
        "\n",
        "            # Layer 7: Conv2d\n",
        "            # Input: (batch_size, 128, 16, 16)\n",
        "            # Output: (batch_size, 256, 16, 16)\n",
        "            nn.Conv2d(128, 256, kernel_size=3, stride=1, padding=1),\n",
        "            nn.ReLU(),\n",
        "\n",
        "            # Layer 8: Conv2d\n",
        "            # Input: (batch_size, 256, 16, 16)\n",
        "            # Output: (batch_size, 256, 16, 16)\n",
        "            nn.Conv2d(256, 256, kernel_size=3, stride=1, padding=1),\n",
        "            nn.ReLU(),\n",
        "\n",
        "            # Layer 9: MaxPool2d\n",
        "            # Input: (batch_size, 256, 16, 16)\n",
        "            # Output: (batch_size, 256, 8, 8)\n",
        "            nn.MaxPool2d(2, 2),\n",
        "\n",
        "            # Layer 10: Flatten\n",
        "            # Input: (batch_size, 256, 8, 8)\n",
        "            # Output: (batch_size, 16384)\n",
        "            nn.Flatten(),\n",
        "\n",
        "            # Layer 11: Linear\n",
        "            # Input: (batch_size, 16384)\n",
        "            # Output: (batch_size, 128)\n",
        "            nn.Linear(16384, 128),\n",
        "            nn.ReLU(),\n",
        "\n",
        "            # Layer 12: Linear\n",
        "            # Input: (batch_size, 128)\n",
        "            # Output: (batch_size, 64)\n",
        "            nn.Linear(128, 64),\n",
        "            nn.ReLU(),\n",
        "\n",
        "            # Layer 13: Linear\n",
        "            # Input: (batch_size, 64)\n",
        "            # Output: (batch_size, 2)\n",
        "            nn.Linear(64, 2)\n",
        "        )\n",
        "    # The forward method takes a single argument xb,\n",
        "    # which represents the input data to the neural network.\n",
        "    # Inside the forward method, the input xb is passed through the\n",
        "    # neural network layers defined in self.network. The result of this\n",
        "    # computation is then returned as the output of the forward method.\n",
        "    def forward(self, xb):\n",
        "        return self.network(xb)"
      ],
      "metadata": {
        "id": "_4cAsPmU3RIy"
      },
      "execution_count": 12,
      "outputs": []
    },
    {
      "cell_type": "code",
      "source": [
        "device = \"cuda\" if torch.cuda.is_available() else \"cpu\"\n",
        "print(f\"Using {device} device\")\n",
        "\n",
        "# Create a instance from your model\n",
        "model = myCNN().to(device)\n",
        "if torch.cuda.device_count() > 1:\n",
        "  print(\"Let's use\", torch.cuda.device_count(), \"GPUs!\")\n",
        "  # dim = 0 [30, xxx] -> [10, ...], [10, ...], [10, ...] on 3 GPUs\n",
        "  model = nn.DataParallel(model)\n",
        "\n",
        "print(model)\n",
        "\n",
        "# Load the state to your new instance\n",
        "#model.load_state_dict(torch.load(\"myCNN.pth\"))\n"
      ],
      "metadata": {
        "id": "u3qZE_sHquVW",
        "outputId": "47508f70-ca86-4a47-8336-cf578a3173f7",
        "colab": {
          "base_uri": "https://localhost:8080/"
        }
      },
      "execution_count": 13,
      "outputs": [
        {
          "output_type": "stream",
          "name": "stdout",
          "text": [
            "Using cuda device\n",
            "myCNN(\n",
            "  (network): Sequential(\n",
            "    (0): Conv2d(3, 32, kernel_size=(3, 3), stride=(1, 1), padding=(1, 1))\n",
            "    (1): ReLU()\n",
            "    (2): Conv2d(32, 64, kernel_size=(3, 3), stride=(1, 1), padding=(1, 1))\n",
            "    (3): ReLU()\n",
            "    (4): MaxPool2d(kernel_size=2, stride=2, padding=0, dilation=1, ceil_mode=False)\n",
            "    (5): Conv2d(64, 128, kernel_size=(3, 3), stride=(1, 1), padding=(1, 1))\n",
            "    (6): ReLU()\n",
            "    (7): Conv2d(128, 128, kernel_size=(3, 3), stride=(1, 1), padding=(1, 1))\n",
            "    (8): ReLU()\n",
            "    (9): MaxPool2d(kernel_size=2, stride=2, padding=0, dilation=1, ceil_mode=False)\n",
            "    (10): Conv2d(128, 256, kernel_size=(3, 3), stride=(1, 1), padding=(1, 1))\n",
            "    (11): ReLU()\n",
            "    (12): Conv2d(256, 256, kernel_size=(3, 3), stride=(1, 1), padding=(1, 1))\n",
            "    (13): ReLU()\n",
            "    (14): MaxPool2d(kernel_size=2, stride=2, padding=0, dilation=1, ceil_mode=False)\n",
            "    (15): Flatten(start_dim=1, end_dim=-1)\n",
            "    (16): Linear(in_features=16384, out_features=128, bias=True)\n",
            "    (17): ReLU()\n",
            "    (18): Linear(in_features=128, out_features=64, bias=True)\n",
            "    (19): ReLU()\n",
            "    (20): Linear(in_features=64, out_features=2, bias=True)\n",
            "  )\n",
            ")\n"
          ]
        }
      ]
    },
    {
      "cell_type": "code",
      "source": [
        "# batch size defines how many training or testing samples\n",
        "# to use in a single iteration\n",
        "batch_size = 32\n",
        "# epochs define the number of iterations\n",
        "epochs = 20\n",
        "# num_classes define the number of the class\n",
        "num_classes = len(classes)\n",
        "print(f\"Number of Classes: {num_classes}\")"
      ],
      "metadata": {
        "id": "nlxYAmAy8nBT",
        "outputId": "f57dbc97-83a0-4851-9463-7e47414c709a",
        "colab": {
          "base_uri": "https://localhost:8080/"
        }
      },
      "execution_count": 30,
      "outputs": [
        {
          "output_type": "stream",
          "name": "stdout",
          "text": [
            "Number of Classes: 2\n"
          ]
        }
      ]
    },
    {
      "cell_type": "code",
      "source": [
        "# Create dataloaders object for training/val loop.\n",
        "\n",
        "train_dataloader = DataLoader(\n",
        "  train_set,\n",
        "  batch_size=batch_size,\n",
        "  shuffle=True,\n",
        "  num_workers=2)\n",
        "\n",
        "val_dataloader = DataLoader(\n",
        "  val_set,\n",
        "  batch_size=batch_size,\n",
        "  shuffle=False,\n",
        "  num_workers=2)"
      ],
      "metadata": {
        "id": "xCkMxeHc8XVT"
      },
      "execution_count": 15,
      "outputs": []
    },
    {
      "cell_type": "code",
      "source": [
        "criterion = nn.CrossEntropyLoss()\n",
        "#criterion = nn.BCELoss()\n",
        "#criterion = nn.BCEWithLogitsLoss()\n",
        "# Define your optimizer\n",
        "optimizer = torch.optim.SGD(model.parameters(),\n",
        "                            lr=0.001,\n",
        "                            momentum=0.9,\n",
        "                            weight_decay=0.001 )\n",
        "#optimizer = torch.optim.Adam(model.parameters(), lr=0.001)"
      ],
      "metadata": {
        "id": "OjTqB04G89Iy"
      },
      "execution_count": 16,
      "outputs": []
    },
    {
      "cell_type": "markdown",
      "source": [
        "### [Checkpoints and Early Stopping](https://machinelearningmastery.com/managing-a-pytorch-training-process-with-checkpoints-and-early-stopping/)\n",
        "\n",
        "Application checkpointing is a fault tolerance technique. In this approach, a snapshot of the state of the system is taken in case of system failure. If there is a problem, you can resume from the snapshot. The checkpoint may be used directly or as the starting point for a new run, picking up where it left off. When training deep learning models, the checkpoint captures the weights of the model. These weights can be used to make predictions as-is or as the basis for ongoing training.\n",
        "\n",
        "PyTorch does not provide any function for checkpointing but it has functions for retrieving and restoring weights of a model. So you can implement checkpointing logic with them. Let’s make a checkpoint and a resume function, which simply save weights from a model and load them back:"
      ],
      "metadata": {
        "id": "Ca1eABcNcro6"
      }
    },
    {
      "cell_type": "code",
      "source": [
        "import torch\n",
        "\n",
        "def checkpoint(model, filename):\n",
        "  model_path = os.path.join(train_dir, filename)\n",
        "  torch.save(model.state_dict(), model_path)\n",
        "\n",
        "def resume(model, filename):\n",
        "  model.load_state_dict(torch.load(filename))"
      ],
      "metadata": {
        "id": "iGShmsWTdDfb"
      },
      "execution_count": 17,
      "outputs": []
    },
    {
      "cell_type": "markdown",
      "source": [
        "\n",
        "If you want to add checkpoints to the training loop, you can do it at the end of the outer for-loop, where the model validation with the test set is done.\n",
        "\n",
        "You will see a number of files created in your working directory. This code is going to checkpoint the model fro each epoch. Each of these file is a ZIP file with the pickled model weight. Nothing forbid you to checkpoint inside the inner for-loop but due to the overhead it incurs, it is not a good idea to checkpoint too frequent."
      ],
      "metadata": {
        "id": "QZUhZ7_pHIDw"
      }
    },
    {
      "cell_type": "code",
      "source": [
        "from tqdm import tqdm # progress bar\n",
        "import csv\n",
        "\n",
        "loss_train_history = []\n",
        "accuracy_train_history = []\n",
        "loss_val_history = []\n",
        "accuracy_val_history = []\n",
        "\n",
        "#create directory for training metrics store\n",
        "train_dir = create_train_dir()\n",
        "\n",
        "for epoch in range(epochs):\n",
        "  loss_train,acc_train = train(train_dataloader, model, criterion, optimizer)\n",
        "  loss_train_history.append(loss_train)\n",
        "  accuracy_train_history.append(acc_train)\n",
        "  loss_val,acc_val= val(val_dataloader, model, criterion)\n",
        "  loss_val_history.append(loss_val)\n",
        "  accuracy_val_history.append(acc_val)\n",
        "  checkpoint(model, f\"epoch-{epoch}.pth\")\n",
        "\n",
        "# save metrics in a .CSV file.\n",
        "with open(os.path.join(train_dir,'metrics_myCNN.csv'), 'w', newline='') as csvfile:\n",
        "    writer = csv.writer(csvfile)\n",
        "    writer.writerow(['Epoch', 'Train Loss', 'Train Accuracy', 'Test Loss', 'Test Accuracy'])\n",
        "    for epoch, (train_loss, train_accuracy, val_loss, val_accuracy) in enumerate(zip(loss_train_history, accuracy_train_history, loss_val_history, accuracy_val_history)):\n",
        "        writer.writerow([epoch+1, train_loss, train_accuracy, val_loss, val_accuracy])\n",
        "\n",
        "\n",
        "print(\"Done!. Finished Training\")"
      ],
      "metadata": {
        "colab": {
          "base_uri": "https://localhost:8080/"
        },
        "id": "IJ2ZQOQBQZj_",
        "outputId": "58b8bf5f-60e9-4ea1-cd2e-84b6178ecbcc"
      },
      "execution_count": 31,
      "outputs": [
        {
          "output_type": "stream",
          "name": "stdout",
          "text": [
            "/content/datasets\n",
            "Training directory: /content/datasets/train2\n",
            "Training:\n"
          ]
        },
        {
          "output_type": "stream",
          "name": "stderr",
          "text": [
            "\r  0%|          | 0/85 [00:00<?, ?it/s]/usr/lib/python3.10/multiprocessing/popen_fork.py:66: RuntimeWarning: os.fork() was called. os.fork() is incompatible with multithreaded code, and JAX is multithreaded, so this will likely lead to a deadlock.\n",
            "  self.pid = os.fork()\n",
            "[1/20 epochs,  2700/ 2700 data]:  99%|█████████▉| 84/85 [00:08<00:00, 11.76it/s, Accuracy=58.6%, Training_Loss=0.692]/usr/lib/python3.10/multiprocessing/popen_fork.py:66: RuntimeWarning: os.fork() was called. os.fork() is incompatible with multithreaded code, and JAX is multithreaded, so this will likely lead to a deadlock.\n",
            "  self.pid = os.fork()\n",
            "[1/20 epochs,  2700/ 2700 data]: 100%|██████████| 85/85 [00:08<00:00, 10.35it/s, Accuracy=58.6%, Training_Loss=0.692]\n"
          ]
        },
        {
          "output_type": "stream",
          "name": "stdout",
          "text": [
            "Val: \n",
            " Accuracy: 68.8%, val_Loss: 0.691080 \n",
            "\n",
            "Training:\n"
          ]
        },
        {
          "output_type": "stream",
          "name": "stderr",
          "text": [
            "[2/20 epochs,  2700/ 2700 data]: 100%|██████████| 85/85 [00:09<00:00,  8.95it/s, Accuracy=65.4%, Training_Loss=0.691]\n"
          ]
        },
        {
          "output_type": "stream",
          "name": "stdout",
          "text": [
            "Val: \n",
            " Accuracy: 68.0%, val_Loss: 0.690373 \n",
            "\n",
            "Training:\n"
          ]
        },
        {
          "output_type": "stream",
          "name": "stderr",
          "text": [
            "[3/20 epochs,  2700/ 2700 data]: 100%|██████████| 85/85 [00:09<00:00,  8.61it/s, Accuracy=66.1%, Training_Loss=0.69]\n"
          ]
        },
        {
          "output_type": "stream",
          "name": "stdout",
          "text": [
            "Val: \n",
            " Accuracy: 66.8%, val_Loss: 0.689286 \n",
            "\n",
            "Training:\n"
          ]
        },
        {
          "output_type": "stream",
          "name": "stderr",
          "text": [
            "[4/20 epochs,  2700/ 2700 data]: 100%|██████████| 85/85 [00:10<00:00,  8.40it/s, Accuracy=68.6%, Training_Loss=0.689]\n"
          ]
        },
        {
          "output_type": "stream",
          "name": "stdout",
          "text": [
            "Val: \n",
            " Accuracy: 69.0%, val_Loss: 0.687361 \n",
            "\n",
            "Training:\n"
          ]
        },
        {
          "output_type": "stream",
          "name": "stderr",
          "text": [
            "[5/20 epochs,  2700/ 2700 data]: 100%|██████████| 85/85 [00:09<00:00,  8.81it/s, Accuracy=68.2%, Training_Loss=0.686]\n"
          ]
        },
        {
          "output_type": "stream",
          "name": "stdout",
          "text": [
            "Val: \n",
            " Accuracy: 69.8%, val_Loss: 0.683867 \n",
            "\n",
            "Training:\n"
          ]
        },
        {
          "output_type": "stream",
          "name": "stderr",
          "text": [
            "[6/20 epochs,  2700/ 2700 data]: 100%|██████████| 85/85 [00:08<00:00, 10.19it/s, Accuracy=68.3%, Training_Loss=0.682]\n"
          ]
        },
        {
          "output_type": "stream",
          "name": "stdout",
          "text": [
            "Val: \n",
            " Accuracy: 69.7%, val_Loss: 0.677295 \n",
            "\n",
            "Training:\n"
          ]
        },
        {
          "output_type": "stream",
          "name": "stderr",
          "text": [
            "[7/20 epochs,  2700/ 2700 data]: 100%|██████████| 85/85 [00:08<00:00,  9.90it/s, Accuracy=69.3%, Training_Loss=0.672]\n"
          ]
        },
        {
          "output_type": "stream",
          "name": "stdout",
          "text": [
            "Val: \n",
            " Accuracy: 69.8%, val_Loss: 0.662267 \n",
            "\n",
            "Training:\n"
          ]
        },
        {
          "output_type": "stream",
          "name": "stderr",
          "text": [
            "[8/20 epochs,  2700/ 2700 data]: 100%|██████████| 85/85 [00:09<00:00,  8.68it/s, Accuracy=69.7%, Training_Loss=0.656]\n"
          ]
        },
        {
          "output_type": "stream",
          "name": "stdout",
          "text": [
            "Val: \n",
            " Accuracy: 70.3%, val_Loss: 0.640930 \n",
            "\n",
            "Training:\n"
          ]
        },
        {
          "output_type": "stream",
          "name": "stderr",
          "text": [
            "[9/20 epochs,  2700/ 2700 data]: 100%|██████████| 85/85 [00:09<00:00,  8.71it/s, Accuracy=69.6%, Training_Loss=0.637]\n"
          ]
        },
        {
          "output_type": "stream",
          "name": "stdout",
          "text": [
            "Val: \n",
            " Accuracy: 70.8%, val_Loss: 0.622151 \n",
            "\n",
            "Training:\n"
          ]
        },
        {
          "output_type": "stream",
          "name": "stderr",
          "text": [
            "[10/20 epochs,  2700/ 2700 data]: 100%|██████████| 85/85 [00:09<00:00,  8.61it/s, Accuracy=69.7%, Training_Loss=0.618]\n"
          ]
        },
        {
          "output_type": "stream",
          "name": "stdout",
          "text": [
            "Val: \n",
            " Accuracy: 71.5%, val_Loss: 0.597078 \n",
            "\n",
            "Training:\n"
          ]
        },
        {
          "output_type": "stream",
          "name": "stderr",
          "text": [
            "[11/20 epochs,  2700/ 2700 data]: 100%|██████████| 85/85 [00:08<00:00,  9.83it/s, Accuracy=70.1%, Training_Loss=0.586]\n"
          ]
        },
        {
          "output_type": "stream",
          "name": "stdout",
          "text": [
            "Val: \n",
            " Accuracy: 71.8%, val_Loss: 0.564741 \n",
            "\n",
            "Training:\n"
          ]
        },
        {
          "output_type": "stream",
          "name": "stderr",
          "text": [
            "[12/20 epochs,  2700/ 2700 data]: 100%|██████████| 85/85 [00:08<00:00, 10.13it/s, Accuracy=70.6%, Training_Loss=0.559]\n"
          ]
        },
        {
          "output_type": "stream",
          "name": "stdout",
          "text": [
            "Val: \n",
            " Accuracy: 72.3%, val_Loss: 0.546482 \n",
            "\n",
            "Training:\n"
          ]
        },
        {
          "output_type": "stream",
          "name": "stderr",
          "text": [
            "[13/20 epochs,  2700/ 2700 data]: 100%|██████████| 85/85 [00:09<00:00,  8.70it/s, Accuracy=71.5%, Training_Loss=0.543]\n"
          ]
        },
        {
          "output_type": "stream",
          "name": "stdout",
          "text": [
            "Val: \n",
            " Accuracy: 73.3%, val_Loss: 0.535207 \n",
            "\n",
            "Training:\n"
          ]
        },
        {
          "output_type": "stream",
          "name": "stderr",
          "text": [
            "[14/20 epochs,  2700/ 2700 data]: 100%|██████████| 85/85 [00:09<00:00,  8.64it/s, Accuracy=71.6%, Training_Loss=0.534]\n"
          ]
        },
        {
          "output_type": "stream",
          "name": "stdout",
          "text": [
            "Val: \n",
            " Accuracy: 72.8%, val_Loss: 0.528669 \n",
            "\n",
            "Training:\n"
          ]
        },
        {
          "output_type": "stream",
          "name": "stderr",
          "text": [
            "[15/20 epochs,  2700/ 2700 data]: 100%|██████████| 85/85 [00:09<00:00,  8.67it/s, Accuracy=71.9%, Training_Loss=0.528]\n"
          ]
        },
        {
          "output_type": "stream",
          "name": "stdout",
          "text": [
            "Val: \n",
            " Accuracy: 72.0%, val_Loss: 0.528739 \n",
            "\n",
            "Training:\n"
          ]
        },
        {
          "output_type": "stream",
          "name": "stderr",
          "text": [
            "[16/20 epochs,  2700/ 2700 data]: 100%|██████████| 85/85 [00:08<00:00,  9.48it/s, Accuracy=72.4%, Training_Loss=0.522]\n"
          ]
        },
        {
          "output_type": "stream",
          "name": "stdout",
          "text": [
            "Val: \n",
            " Accuracy: 72.8%, val_Loss: 0.538075 \n",
            "\n",
            "Training:\n"
          ]
        },
        {
          "output_type": "stream",
          "name": "stderr",
          "text": [
            "[17/20 epochs,  2700/ 2700 data]: 100%|██████████| 85/85 [00:08<00:00, 10.30it/s, Accuracy=73.1%, Training_Loss=0.518]\n"
          ]
        },
        {
          "output_type": "stream",
          "name": "stdout",
          "text": [
            "Val: \n",
            " Accuracy: 73.3%, val_Loss: 0.523766 \n",
            "\n",
            "Training:\n"
          ]
        },
        {
          "output_type": "stream",
          "name": "stderr",
          "text": [
            "[18/20 epochs,  2700/ 2700 data]: 100%|██████████| 85/85 [00:10<00:00,  7.96it/s, Accuracy=72.3%, Training_Loss=0.523]\n"
          ]
        },
        {
          "output_type": "stream",
          "name": "stdout",
          "text": [
            "Val: \n",
            " Accuracy: 73.7%, val_Loss: 0.521875 \n",
            "\n",
            "Training:\n"
          ]
        },
        {
          "output_type": "stream",
          "name": "stderr",
          "text": [
            "[19/20 epochs,  2700/ 2700 data]: 100%|██████████| 85/85 [00:09<00:00,  8.89it/s, Accuracy=72.8%, Training_Loss=0.512]\n"
          ]
        },
        {
          "output_type": "stream",
          "name": "stdout",
          "text": [
            "Val: \n",
            " Accuracy: 74.0%, val_Loss: 0.502453 \n",
            "\n",
            "Training:\n"
          ]
        },
        {
          "output_type": "stream",
          "name": "stderr",
          "text": [
            "[20/20 epochs,  2700/ 2700 data]: 100%|██████████| 85/85 [00:09<00:00,  8.85it/s, Accuracy=73.1%, Training_Loss=0.505]\n"
          ]
        },
        {
          "output_type": "stream",
          "name": "stdout",
          "text": [
            "Val: \n",
            " Accuracy: 73.5%, val_Loss: 0.505306 \n",
            "\n",
            "Done!. Finished Training\n"
          ]
        }
      ]
    },
    {
      "cell_type": "markdown",
      "source": [
        "The question is of all model which is the best one? It will be studied forward."
      ],
      "metadata": {
        "id": "qEyKRGREHpar"
      }
    },
    {
      "cell_type": "code",
      "source": [
        "import matplotlib.pyplot as plt\n",
        "\n",
        "fig, ax = plt.subplots()\n",
        "\n",
        "ax.set_title('Training and Val Plots')\n",
        "ax.plot(range(epochs), loss_train_history, label=\"Train Loss\")\n",
        "ax.plot(range(epochs), accuracy_train_history, label=\"Train Accuracy\")\n",
        "ax.plot(range(epochs), loss_val_history, label=\"Val Loss\")\n",
        "ax.plot(range(epochs), accuracy_val_history, label=\"Val Accuracy\")\n",
        "ax.set_xlabel(\"Epochs\")\n",
        "ax.set_ylabel(\"Train\")\n",
        "ax.legend()\n",
        "\n",
        "fig.tight_layout()"
      ],
      "metadata": {
        "outputId": "df4e9261-36ff-4dea-f406-7ab0f107d83d",
        "colab": {
          "base_uri": "https://localhost:8080/",
          "height": 487
        },
        "id": "LAz-KK4EtzSu"
      },
      "execution_count": 32,
      "outputs": [
        {
          "output_type": "display_data",
          "data": {
            "text/plain": [
              "<Figure size 640x480 with 1 Axes>"
            ],
            "image/png": "[encoded data removed]"
          },
          "metadata": {}
        }
      ]
    },
    {
      "cell_type": "markdown",
      "source": [
        "You can use a fault tolerance technique where training resumes from a particular epoch. That is, if the training loop was interrupted in the middle of epoch 3 so the last checkpoint is from epoch 2, setting start_epoch = 3 above will do.\n",
        "\n",
        "This action cannot be simulated in jupyter notebook because we cannot  halt the cell, anyway the code could be this.\n",
        "```python\n",
        "epochs = 10\n",
        "\n",
        "loss_train_history = []\n",
        "accuracy_train_history = []\n",
        "loss_val_history = []\n",
        "accuracy_val_history = []\n",
        "\n",
        "start_epoch = 0\n",
        "if start_epoch > 0:\n",
        "    resume_epoch = start_epoch - 1\n",
        "    resume(model, f\"epoch-{resume_epoch}.pth\")\n",
        "\n",
        "for epoch in range(start_epoch, epochs):\n",
        "  loss_train,acc_train = train(train_dataloader, model, criterion, optimizer)\n",
        "  loss_train_history.append(loss_train)\n",
        "  accuracy_train_history.append(acc_train)\n",
        "  loss_test,acc_test= test(test_dataloader, model, criterion)\n",
        "  loss_test_history.append(loss_test)\n",
        "  accuracy_test_history.append(acc_test)\n",
        "  checkpoint(model, f\"epoch-{epoch}.pth\")\n",
        "\n",
        "# save metrics in a .CSV file.\n",
        "with open('metrics_myCNN_3.csv', 'w', newline='') as csvfile:\n",
        "    writer = csv.writer(csvfile)\n",
        "    writer.writerow(['Epoch', 'Train Loss', 'Train Accuracy', 'Test Loss', 'Test Accuracy'])\n",
        "    for epoch, (train_loss, train_accuracy, test_loss, test_accuracy) in enumerate(zip(loss_train_history, accuracy_train_history, loss_test_history, accuracy_test_history)):\n",
        "        writer.writerow([epoch+1, train_loss, train_accuracy, test_loss, test_accuracy])\n",
        "\n",
        "print(\"Done!. Finished Training\")\n",
        "```\n",
        "\n"
      ],
      "metadata": {
        "id": "aILpbo2QI0NC"
      }
    },
    {
      "cell_type": "markdown",
      "source": [
        "Sometimes, there are states outside of the model and you may want to checkpoint it as well. One particular example is the optimizer, which in cases like SDG or Adam, there are dynamically adjusted momentum. If you restarted your training loop, you may want to restore the momentum at the optimizer as well. It is not difficult to do. The idea is to make your `checkpoint()` function more complicated thanks to `torch.save()` and `torch.load()` function are backed by `pickle`, so you can use it with a list or dict container."
      ],
      "metadata": {
        "id": "h_BLpj5iOHDP"
      }
    },
    {
      "cell_type": "code",
      "source": [
        "def checkpoint(model, filename):\n",
        "    torch.save({\n",
        "    'optimizer': optimizer.state_dict(),\n",
        "    'model': model.state_dict(),\n",
        "}, filename)\n",
        "\n",
        "def resume(model, filename):\n",
        "    model.load_state_dict(torch.load(filename)['model'])\n",
        "    optimizer.load_state_dict(torch.load(filename)['optimizer'])\n"
      ],
      "metadata": {
        "id": "bam1poEBOMo_"
      },
      "execution_count": null,
      "outputs": []
    },
    {
      "cell_type": "code",
      "source": [
        "loss_train_history = []\n",
        "accuracy_train_history = []\n",
        "loss_val_history = []\n",
        "accuracy_val_history = []\n",
        "\n",
        "start_epoch = 0\n",
        "if start_epoch > 0:\n",
        "    resume_epoch = start_epoch - 1\n",
        "    resume(model, f\"epoch-{resume_epoch}.pth\")\n",
        "\n",
        "for epoch in range(start_epoch, epochs):\n",
        "  loss_train,acc_train = train(train_dataloader, model, criterion, optimizer)\n",
        "  loss_train_history.append(loss_train)\n",
        "  accuracy_train_history.append(acc_train)\n",
        "  loss_val,acc_val= val(val_dataloader, model, criterion)\n",
        "  loss_val_history.append(loss_val)\n",
        "  accuracy_val_history.append(acc_val)\n",
        "  checkpoint(model, f\"epoch-{epoch}.pth\")\n",
        "print(\"Done!. Finished Training\")"
      ],
      "metadata": {
        "colab": {
          "base_uri": "https://localhost:8080/"
        },
        "id": "oA1xXu56PyBr",
        "outputId": "62d24213-5a41-4c43-c88a-173a62cf27a1"
      },
      "execution_count": null,
      "outputs": [
        {
          "output_type": "stream",
          "name": "stdout",
          "text": [
            "Training:\n"
          ]
        },
        {
          "output_type": "stream",
          "name": "stderr",
          "text": [
            "[1/10 epochs,  2700/ 2700 data]: 100%|██████████| 85/85 [00:09<00:00,  9.05it/s, Accuracy=69.2%, Training_Loss=0.596]\n"
          ]
        },
        {
          "output_type": "stream",
          "name": "stdout",
          "text": [
            "Val: \n",
            " Accuracy: 71.5%, val_Loss: 0.561650 \n",
            "\n",
            "Training:\n"
          ]
        },
        {
          "output_type": "stream",
          "name": "stderr",
          "text": [
            "[2/10 epochs,  2700/ 2700 data]: 100%|██████████| 85/85 [00:10<00:00,  8.40it/s, Accuracy=70.3%, Training_Loss=0.56]\n"
          ]
        },
        {
          "output_type": "stream",
          "name": "stdout",
          "text": [
            "Val: \n",
            " Accuracy: 71.3%, val_Loss: 0.552163 \n",
            "\n",
            "Training:\n"
          ]
        },
        {
          "output_type": "stream",
          "name": "stderr",
          "text": [
            "[3/10 epochs,  2700/ 2700 data]: 100%|██████████| 85/85 [00:09<00:00,  8.78it/s, Accuracy=70.8%, Training_Loss=0.551]\n"
          ]
        },
        {
          "output_type": "stream",
          "name": "stdout",
          "text": [
            "Val: \n",
            " Accuracy: 72.0%, val_Loss: 0.545932 \n",
            "\n",
            "Training:\n"
          ]
        },
        {
          "output_type": "stream",
          "name": "stderr",
          "text": [
            "[4/10 epochs,  2700/ 2700 data]: 100%|██████████| 85/85 [00:08<00:00, 10.36it/s, Accuracy=71.4%, Training_Loss=0.542]\n"
          ]
        },
        {
          "output_type": "stream",
          "name": "stdout",
          "text": [
            "Val: \n",
            " Accuracy: 71.5%, val_Loss: 0.540443 \n",
            "\n",
            "Training:\n"
          ]
        },
        {
          "output_type": "stream",
          "name": "stderr",
          "text": [
            "[5/10 epochs,  2700/ 2700 data]: 100%|██████████| 85/85 [00:09<00:00,  9.32it/s, Accuracy=71.3%, Training_Loss=0.542]\n"
          ]
        },
        {
          "output_type": "stream",
          "name": "stdout",
          "text": [
            "Val: \n",
            " Accuracy: 71.8%, val_Loss: 0.532877 \n",
            "\n",
            "Training:\n"
          ]
        },
        {
          "output_type": "stream",
          "name": "stderr",
          "text": [
            "[6/10 epochs,  2700/ 2700 data]: 100%|██████████| 85/85 [00:10<00:00,  8.05it/s, Accuracy=71.7%, Training_Loss=0.532]\n"
          ]
        },
        {
          "output_type": "stream",
          "name": "stdout",
          "text": [
            "Val: \n",
            " Accuracy: 71.8%, val_Loss: 0.530000 \n",
            "\n",
            "Training:\n"
          ]
        },
        {
          "output_type": "stream",
          "name": "stderr",
          "text": [
            "[7/10 epochs,  2700/ 2700 data]: 100%|██████████| 85/85 [00:09<00:00,  8.61it/s, Accuracy=72.0%, Training_Loss=0.532]\n"
          ]
        },
        {
          "output_type": "stream",
          "name": "stdout",
          "text": [
            "Val: \n",
            " Accuracy: 71.3%, val_Loss: 0.541959 \n",
            "\n",
            "Training:\n"
          ]
        },
        {
          "output_type": "stream",
          "name": "stderr",
          "text": [
            "[8/10 epochs,  2700/ 2700 data]: 100%|██████████| 85/85 [00:08<00:00, 10.44it/s, Accuracy=71.9%, Training_Loss=0.531]\n"
          ]
        },
        {
          "output_type": "stream",
          "name": "stdout",
          "text": [
            "Val: \n",
            " Accuracy: 73.3%, val_Loss: 0.524159 \n",
            "\n",
            "Training:\n"
          ]
        },
        {
          "output_type": "stream",
          "name": "stderr",
          "text": [
            "[9/10 epochs,  2700/ 2700 data]: 100%|██████████| 85/85 [00:09<00:00,  9.15it/s, Accuracy=72.3%, Training_Loss=0.524]\n"
          ]
        },
        {
          "output_type": "stream",
          "name": "stdout",
          "text": [
            "Val: \n",
            " Accuracy: 72.8%, val_Loss: 0.522132 \n",
            "\n",
            "Training:\n"
          ]
        },
        {
          "output_type": "stream",
          "name": "stderr",
          "text": [
            "[10/10 epochs,  2700/ 2700 data]: 100%|██████████| 85/85 [00:10<00:00,  8.40it/s, Accuracy=72.4%, Training_Loss=0.515]\n"
          ]
        },
        {
          "output_type": "stream",
          "name": "stdout",
          "text": [
            "Val: \n",
            " Accuracy: 73.0%, val_Loss: 0.519167 \n",
            "\n",
            "Done!. Finished Training\n"
          ]
        }
      ]
    },
    {
      "cell_type": "markdown",
      "source": [
        "Checkpointing is not only for fault tolerance. You can also use it to keep your best model. How to define what is the best is `subjective` but considering the score from the test set is a sensible method. Let’s say to keep only the best model ever found.\n",
        "\n",
        "The variable `best_accuracy` is to keep track on the highest validation accuracy (`val_acc`) obtained so far, which is in a percentage range of 0 to 100. Whenever a higher accuracy is observed, the model is checkpointed to the file `best_model.pth`. The best model is restored after the entire training loop, via the `resume()` function which was created before.\n",
        "\n",
        "Afterward, you can make predictions with the model on unseen data. Beware that, if you’re using a different metric for checkpointing, e.g., the cross entropy loss, the better model should come with a lower cross entropy. Thus you should keep track on the lowest cross entropy obtained.\n",
        "\n",
        "\n",
        "The training loop can be modified as follows:"
      ],
      "metadata": {
        "id": "5BW8pqlyQScD"
      }
    },
    {
      "cell_type": "code",
      "source": [
        "best_accuracy = -1\n",
        "\n",
        "\n",
        "loss_train_history = []\n",
        "accuracy_train_history = []\n",
        "loss_val_history = []\n",
        "accuracy_val_history = []\n",
        "\n",
        "start_epoch = 0\n",
        "if start_epoch > 0:\n",
        "    resume_epoch = start_epoch - 1\n",
        "    resume(model, f\"epoch-{resume_epoch}.pth\")\n",
        "\n",
        "for epoch in range(start_epoch, epochs):\n",
        "  loss_train,acc_train = train(train_dataloader, model, criterion, optimizer)\n",
        "  loss_train_history.append(loss_train)\n",
        "  accuracy_train_history.append(acc_train)\n",
        "  loss_val,acc_val= val(val_dataloader, model, criterion)\n",
        "  loss_val_history.append(loss_val)\n",
        "  accuracy_val_history.append(acc_val)\n",
        "  if acc_val > best_accuracy:\n",
        "    best_accuracy = acc_val\n",
        "    checkpoint(model, f\"best_model.pth\")\n",
        "    print(f'best model in epoch:{epoch+1}')\n",
        "print(\"Done!. Finished Training\")"
      ],
      "metadata": {
        "colab": {
          "base_uri": "https://localhost:8080/"
        },
        "id": "L8U62vnuQ4Bh",
        "outputId": "f703623a-936f-499c-d6a0-9977c1040c4a"
      },
      "execution_count": null,
      "outputs": [
        {
          "output_type": "stream",
          "name": "stdout",
          "text": [
            "Training:\n"
          ]
        },
        {
          "output_type": "stream",
          "name": "stderr",
          "text": [
            "[1/5 epochs,  2700/ 2700 data]: 100%|██████████| 85/85 [00:09<00:00,  8.59it/s, Accuracy=73.6%, Training_Loss=0.499]\n"
          ]
        },
        {
          "output_type": "stream",
          "name": "stdout",
          "text": [
            "Val: \n",
            " Accuracy: 74.5%, val_Loss: 0.487413 \n",
            "\n",
            "best model in epoch:1\n",
            "Training:\n"
          ]
        },
        {
          "output_type": "stream",
          "name": "stderr",
          "text": [
            "[2/5 epochs,  2700/ 2700 data]: 100%|██████████| 85/85 [00:10<00:00,  7.97it/s, Accuracy=73.7%, Training_Loss=0.494]\n"
          ]
        },
        {
          "output_type": "stream",
          "name": "stdout",
          "text": [
            "Val: \n",
            " Accuracy: 73.7%, val_Loss: 0.483188 \n",
            "\n",
            "Training:\n"
          ]
        },
        {
          "output_type": "stream",
          "name": "stderr",
          "text": [
            "[3/5 epochs,  2700/ 2700 data]: 100%|██████████| 85/85 [00:09<00:00,  8.93it/s, Accuracy=74.6%, Training_Loss=0.488]\n"
          ]
        },
        {
          "output_type": "stream",
          "name": "stdout",
          "text": [
            "Val: \n",
            " Accuracy: 74.3%, val_Loss: 0.488377 \n",
            "\n",
            "Training:\n"
          ]
        },
        {
          "output_type": "stream",
          "name": "stderr",
          "text": [
            "[4/5 epochs,  2700/ 2700 data]: 100%|██████████| 85/85 [00:08<00:00, 10.31it/s, Accuracy=74.5%, Training_Loss=0.485]\n"
          ]
        },
        {
          "output_type": "stream",
          "name": "stdout",
          "text": [
            "Val: \n",
            " Accuracy: 73.7%, val_Loss: 0.479811 \n",
            "\n",
            "Training:\n"
          ]
        },
        {
          "output_type": "stream",
          "name": "stderr",
          "text": [
            "[5/5 epochs,  2700/ 2700 data]: 100%|██████████| 85/85 [00:09<00:00,  8.61it/s, Accuracy=73.8%, Training_Loss=0.494]\n"
          ]
        },
        {
          "output_type": "stream",
          "name": "stdout",
          "text": [
            "Val: \n",
            " Accuracy: 72.7%, val_Loss: 0.523848 \n",
            "\n",
            "Done!. Finished Training\n"
          ]
        }
      ]
    },
    {
      "cell_type": "markdown",
      "source": [],
      "metadata": {
        "id": "8elYcuFlXhyz"
      }
    },
    {
      "cell_type": "markdown",
      "source": [
        "You can also checkpoint the model per epoch unconditionally together with the best model checkpointing, as you are free to create multiple checkpoint files. Since the code above is the find the best model and make a copy of it, you may usually see a further optimization to the training loop by stopping it early if the hope to see model improvement is slim. This is the early stopping technique that can save time in training.\n",
        "\n",
        "The code above validates the model with test set at the end of each epoch and keeps the best model found into a checkpoint file. The simplest strategy for early stopping is to set up a threshold of\n",
        " epochs. If you didn’t see the model improved over the last\n",
        " epochs, you terminate the training loop in the middle. This can be implemented as follows:"
      ],
      "metadata": {
        "id": "T0SuZj_iZ1dp"
      }
    },
    {
      "cell_type": "code",
      "source": [
        "early_stop_thresh = 5\n",
        "best_accuracy = -1\n",
        "best_epoch = -1\n",
        "\n",
        "\n",
        "loss_train_history = []\n",
        "accuracy_train_history = []\n",
        "loss_val_history = []\n",
        "accuracy_val_history = []\n",
        "\n",
        "\n",
        "for epoch in range(epochs):\n",
        "  loss_train,acc_train = train(train_dataloader, model, criterion, optimizer)\n",
        "  loss_train_history.append(loss_train)\n",
        "  accuracy_train_history.append(acc_train)\n",
        "  loss_test,acc_test= val(val_dataloader, model, criterion)\n",
        "  loss_val_history.append(loss_val)\n",
        "  accuracy_val_history.append(acc_val)\n",
        "  if acc_val > best_accuracy:\n",
        "    best_accuracy = acc_val\n",
        "    best_epoch = epoch+1\n",
        "    checkpoint(model, f\"best_model.pth\")\n",
        "    print(f'best model in epoch={epoch+1} with Accuracy={(100*acc_val):>0.1f}%')\n",
        "  elif epoch - best_epoch >= early_stop_thresh:\n",
        "    print(f\"Early stopped training at epoch {epoch+1} due to {early_stop_thresh} epochs whitout enhacement\")\n",
        "    break  # terminate the training loop\n",
        "print(\"Done!. Finished Training\")"
      ],
      "metadata": {
        "colab": {
          "base_uri": "https://localhost:8080/"
        },
        "id": "_FowZLIjY-_D",
        "outputId": "9f68a452-a947-457a-cdc0-80ec772a645f"
      },
      "execution_count": null,
      "outputs": [
        {
          "output_type": "stream",
          "name": "stdout",
          "text": [
            "Training:\n"
          ]
        },
        {
          "output_type": "stream",
          "name": "stderr",
          "text": [
            "[1/10 epochs,  2700/ 2700 data]: 100%|██████████| 85/85 [00:10<00:00,  8.49it/s, Accuracy=75.2%, Training_Loss=0.477]\n"
          ]
        },
        {
          "output_type": "stream",
          "name": "stdout",
          "text": [
            "Test: \n",
            " Accuracy: 74.2%, val_Loss: 0.484050 \n",
            "\n",
            "best model in epoch=1 with Accuracy=75.2%\n",
            "Training:\n"
          ]
        },
        {
          "output_type": "stream",
          "name": "stderr",
          "text": [
            "[2/10 epochs,  2700/ 2700 data]: 100%|██████████| 85/85 [00:10<00:00,  7.81it/s, Accuracy=75.9%, Training_Loss=0.469]\n"
          ]
        },
        {
          "output_type": "stream",
          "name": "stdout",
          "text": [
            "Test: \n",
            " Accuracy: 76.5%, val_Loss: 0.467156 \n",
            "\n",
            "Training:\n"
          ]
        },
        {
          "output_type": "stream",
          "name": "stderr",
          "text": [
            "[3/10 epochs,  2700/ 2700 data]: 100%|██████████| 85/85 [00:10<00:00,  7.86it/s, Accuracy=75.7%, Training_Loss=0.471]\n"
          ]
        },
        {
          "output_type": "stream",
          "name": "stdout",
          "text": [
            "Test: \n",
            " Accuracy: 77.0%, val_Loss: 0.465733 \n",
            "\n",
            "Training:\n"
          ]
        },
        {
          "output_type": "stream",
          "name": "stderr",
          "text": [
            "[4/10 epochs,  2700/ 2700 data]: 100%|██████████| 85/85 [00:09<00:00,  8.65it/s, Accuracy=75.1%, Training_Loss=0.472]\n"
          ]
        },
        {
          "output_type": "stream",
          "name": "stdout",
          "text": [
            "Test: \n",
            " Accuracy: 75.7%, val_Loss: 0.470965 \n",
            "\n",
            "Training:\n"
          ]
        },
        {
          "output_type": "stream",
          "name": "stderr",
          "text": [
            "[5/10 epochs,  2700/ 2700 data]: 100%|██████████| 85/85 [00:08<00:00,  9.67it/s, Accuracy=75.6%, Training_Loss=0.471]\n"
          ]
        },
        {
          "output_type": "stream",
          "name": "stdout",
          "text": [
            "Test: \n",
            " Accuracy: 76.7%, val_Loss: 0.463271 \n",
            "\n",
            "Training:\n"
          ]
        },
        {
          "output_type": "stream",
          "name": "stderr",
          "text": [
            "[6/10 epochs,  2700/ 2700 data]: 100%|██████████| 85/85 [00:10<00:00,  8.35it/s, Accuracy=76.6%, Training_Loss=0.467]\n"
          ]
        },
        {
          "output_type": "stream",
          "name": "stdout",
          "text": [
            "Test: \n",
            " Accuracy: 76.5%, val_Loss: 0.475570 \n",
            "\n",
            "Training:\n"
          ]
        },
        {
          "output_type": "stream",
          "name": "stderr",
          "text": [
            "[7/10 epochs,  2700/ 2700 data]: 100%|██████████| 85/85 [00:11<00:00,  7.72it/s, Accuracy=75.2%, Training_Loss=0.476]\n"
          ]
        },
        {
          "output_type": "stream",
          "name": "stdout",
          "text": [
            "Test: \n",
            " Accuracy: 75.8%, val_Loss: 0.465537 \n",
            "\n",
            "Early stopped training at epoch 7 due to 5 epochs whitout enhacement\n",
            "Done!. Finished Training\n"
          ]
        }
      ]
    },
    {
      "cell_type": "code",
      "source": [
        "import matplotlib.pyplot as plt\n",
        "\n",
        "fig, ax = plt.subplots()\n",
        "\n",
        "ax.set_title('Training and Val Plots')\n",
        "ax.plot(range(7), loss_train_history, label=\"Train Loss\")\n",
        "ax.plot(range(7), accuracy_train_history, label=\"Train Accuracy\")\n",
        "ax.plot(range(7), loss_val_history, label=\"Val Loss\")\n",
        "ax.plot(range(7), accuracy_val_history, label=\"Val Accuracy\")\n",
        "ax.set_xlabel(\"Epochs\")\n",
        "ax.set_ylabel(\"Train\")\n",
        "ax.legend()\n",
        "\n",
        "fig.tight_layout()"
      ],
      "metadata": {
        "id": "s-rFDprhy4ib",
        "outputId": "b190f6a0-025c-402f-f7b8-4f8d13a0a4a2",
        "colab": {
          "base_uri": "https://localhost:8080/",
          "height": 487
        }
      },
      "execution_count": null,
      "outputs": [
        {
          "output_type": "display_data",
          "data": {
            "text/plain": [
              "<Figure size 640x480 with 1 Axes>"
            ],
            "image/png": "[encoded data removed]"
          },
          "metadata": {}
        }
      ]
    }
  ]
}